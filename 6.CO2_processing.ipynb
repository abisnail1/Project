{
 "cells": [
  {
   "cell_type": "code",
   "execution_count": null,
   "id": "da10159d",
   "metadata": {},
   "outputs": [],
   "source": [
    "# This file is for processing the downloaded CO2 data for imputing\n",
    "\n",
    "# Source: https://gml.noaa.gov/aftp//products/carbontracker/co2/CT2022/molefractions/"
   ]
  },
  {
   "cell_type": "code",
   "execution_count": null,
   "id": "e56e6e53",
   "metadata": {},
   "outputs": [],
   "source": [
    "import netCDF4 as nc\n",
    "import pandas as pd\n",
    "import xarray as xr\n",
    "import os\n",
    "import numpy as np"
   ]
  },
  {
   "cell_type": "code",
   "execution_count": null,
   "id": "702eb1e9",
   "metadata": {},
   "outputs": [],
   "source": [
    "# import site information \n",
    "\n",
    "sites=pd.read_csv('/Users/abigailbase/PROJECT FILES/selected_sites.csv',index_col=0)"
   ]
  },
  {
   "cell_type": "code",
   "execution_count": null,
   "id": "2adab928",
   "metadata": {},
   "outputs": [],
   "source": [
    "# extract lat and lon of all the sites\n",
    "\n",
    "lat_lon=sites[['LAT','LONG']]\n",
    "rename={'LONG':'LON'}"
   ]
  },
  {
   "cell_type": "code",
   "execution_count": null,
   "id": "ca618048",
   "metadata": {},
   "outputs": [],
   "source": [
    "# create bounding box to filter df further \n",
    "\n",
    "min_lat = lat_lon['LAT'].min()\n",
    "max_lat = lat_lon['LAT'].max()\n",
    "min_lon = lat_lon['LON'].min()\n",
    "max_lon = lat_lon['LON'].max()\n",
    "\n",
    "bounding_box = {\n",
    "    'min_lat': min_lat,\n",
    "    'max_lat': max_lat,\n",
    "    'min_lon': min_lon,\n",
    "    'max_lon': max_lon\n",
    "}"
   ]
  },
  {
   "cell_type": "code",
   "execution_count": null,
   "id": "964dd0b9",
   "metadata": {},
   "outputs": [],
   "source": [
    "site_ids=sites.index.to_numpy()"
   ]
  },
  {
   "cell_type": "code",
   "execution_count": null,
   "id": "fa38ca67",
   "metadata": {},
   "outputs": [],
   "source": [
    "# test file before applying to whole directory\n",
    "\n",
    "file_path='/Users/abigailbase/PROJECT FILES/CO2/2014/CT2022.molefrac_components_glb3x2_2014-01-14.nc'"
   ]
  },
  {
   "cell_type": "code",
   "execution_count": null,
   "id": "2c334233",
   "metadata": {},
   "outputs": [],
   "source": [
    "ds=xr.open_dataset(file_path,mode='r')"
   ]
  },
  {
   "cell_type": "code",
   "execution_count": null,
   "id": "ea96c3b5",
   "metadata": {},
   "outputs": [],
   "source": [
    "print(\"Variables in the dataset:\", ds.variables.keys())"
   ]
  },
  {
   "cell_type": "code",
   "execution_count": null,
   "id": "89b743cd",
   "metadata": {},
   "outputs": [],
   "source": [
    "# extract co2\n",
    "\n",
    "co2 = ds['co2']"
   ]
  },
  {
   "cell_type": "code",
   "execution_count": null,
   "id": "8c3e9e24",
   "metadata": {},
   "outputs": [],
   "source": [
    "df = co2.to_dataframe().reset_index() #convert to df"
   ]
  },
  {
   "cell_type": "code",
   "execution_count": null,
   "id": "afadb835",
   "metadata": {},
   "outputs": [],
   "source": [
    "df_lvl2=df[df['level']==2] #filter to level 2 "
   ]
  },
  {
   "cell_type": "code",
   "execution_count": null,
   "id": "5b7ce4c7",
   "metadata": {
    "scrolled": true
   },
   "outputs": [],
   "source": [
    "df_lvl2['time'].unique() #check time values "
   ]
  },
  {
   "cell_type": "code",
   "execution_count": null,
   "id": "d33f7cdf",
   "metadata": {},
   "outputs": [],
   "source": [
    "# filter the data for 13:30 (closest mid day)\n",
    "\n",
    "filtered_df = df_lvl2[(df_lvl2['time'].dt.hour == 13) & (df_lvl2['time'].dt.minute == 30)]\n"
   ]
  },
  {
   "cell_type": "code",
   "execution_count": null,
   "id": "57564961",
   "metadata": {},
   "outputs": [],
   "source": [
    "df_rename={'latitude':'LAT','longitude':'LON'}"
   ]
  },
  {
   "cell_type": "code",
   "execution_count": null,
   "id": "56bb627c",
   "metadata": {},
   "outputs": [],
   "source": [
    "df.rename(columns=df_rename,inplace=True)"
   ]
  },
  {
   "cell_type": "code",
   "execution_count": null,
   "id": "91dd20f4",
   "metadata": {},
   "outputs": [],
   "source": [
    "## filter co2 df by bounding box \n",
    "\n",
    "filtered_df = filtered_df[\n",
    "    (filtered_df['LAT'] >= bounding_box['min_lat']) &\n",
    "    (filtered_df['LAT'] <= bounding_box['max_lat']) &\n",
    "    (filtered_df['LON'] >= bounding_box['min_lon']) &\n",
    "    (filtered_df['LON'] <= bounding_box['max_lon'])\n",
    "]\n",
    "\n"
   ]
  },
  {
   "cell_type": "code",
   "execution_count": null,
   "id": "79c6a2e2",
   "metadata": {},
   "outputs": [],
   "source": [
    "### function for finding closest point\n",
    "\n",
    "def haversine(lat1, lon1, lat2, lon2):\n",
    "    \n",
    "    # convert lat lon from degrees to radians\n",
    "    lat1, lon1, lat2, lon2 = map(np.radians, [lat1, lon1, lat2, lon2])\n",
    "    \n",
    "    # haversine formula\n",
    "    dlat = lat2 - lat1\n",
    "    dlon = lon2 - lon1\n",
    "    a = np.sin(dlat/2.0)**2 + np.cos(lat1) * np.cos(lat2) * np.sin(dlon/2.0)**2\n",
    "    c = 2 * np.arcsin(np.sqrt(a))\n",
    "    r = 6371  # radius of earth in kilometers\n",
    "    return c * r\n",
    "\n",
    "# function to find closest lat/lon\n",
    "def find_closest(df, sites):\n",
    "    closest_points = []\n",
    "    \n",
    "    for i, site_row in sites.iterrows():\n",
    "        site_lat = site_row['LAT']\n",
    "        site_lon = site_row['LON']\n",
    "        \n",
    "        # calculate distances to all points in df\n",
    "        distances = df.apply(lambda row: haversine(site_lat, site_lon, row['LAT'], row['LON']), axis=1)\n",
    "        \n",
    "        # find the index of the closest point\n",
    "        min_index = distances.idxmin()\n",
    "        closest_points.append(df.loc[min_index])\n",
    "    \n",
    "    return pd.DataFrame(closest_points).reset_index(drop=True)\n",
    "\n"
   ]
  },
  {
   "cell_type": "code",
   "execution_count": null,
   "id": "e2dd10df",
   "metadata": {},
   "outputs": [],
   "source": [
    "closest_points_df = find_closest(filtered_df, lat_lon)"
   ]
  },
  {
   "cell_type": "code",
   "execution_count": null,
   "id": "b50f6d6d",
   "metadata": {},
   "outputs": [],
   "source": [
    "closest_points_df['site_id']=site_ids"
   ]
  },
  {
   "cell_type": "code",
   "execution_count": null,
   "id": "5ead36e9",
   "metadata": {},
   "outputs": [],
   "source": [
    "directory = '/Users/abigailbase/PROJECT FILES/CO2/2014/'"
   ]
  },
  {
   "cell_type": "code",
   "execution_count": null,
   "id": "8ceb712b",
   "metadata": {},
   "outputs": [],
   "source": [
    "all_data = []"
   ]
  },
  {
   "cell_type": "code",
   "execution_count": null,
   "id": "47abd1ef",
   "metadata": {},
   "outputs": [],
   "source": [
    "# walk through the directory with the files\n",
    "\n",
    "for root, dirs, files in os.walk(directory):\n",
    "    for file in files:\n",
    "        if file.endswith('.nc'):\n",
    "            file_path = os.path.join(root, file)\n",
    "            ds = xr.open_dataset(file_path, mode='r')\n",
    "            co2 = ds['co2']\n",
    "            df = co2.to_dataframe().reset_index()\n",
    "            df_lvl2 = df[df['level'] == 2]\n",
    "            filtered_df = df_lvl2[(df_lvl2['time'].dt.hour == 13) & (df_lvl2['time'].dt.minute == 30)]\n",
    "            df_rename = {'latitude': 'LAT', 'longitude': 'LON'}\n",
    "            filtered_df.rename(columns=df_rename, inplace=True)\n",
    "            filtered_df = filtered_df[\n",
    "                (filtered_df['LAT'] >= bounding_box['min_lat']) &\n",
    "                (filtered_df['LAT'] <= bounding_box['max_lat']) &\n",
    "                (filtered_df['LON'] >= bounding_box['min_lon']) &\n",
    "                (filtered_df['LON'] <= bounding_box['max_lon'])\n",
    "            ]\n",
    "            closest_points_df = find_closest(filtered_df, lat_lon)\n",
    "            closest_points_df['site_id'] = site_ids\n",
    "            all_data.append(closest_points_df)\n",
    "\n",
    "# concat all dfs\n",
    "final_df = pd.concat(all_data).reset_index(drop=True)\n"
   ]
  },
  {
   "cell_type": "code",
   "execution_count": null,
   "id": "92899548",
   "metadata": {},
   "outputs": [],
   "source": [
    "final_df=final_df.sort_values(by='time')"
   ]
  },
  {
   "cell_type": "code",
   "execution_count": null,
   "id": "de669134",
   "metadata": {},
   "outputs": [],
   "source": [
    "final_df.to_csv('/Users/abigailbase/PROJECT FILES/CO2 CSVs/co2_2014.csv')"
   ]
  }
 ],
 "metadata": {
  "kernelspec": {
   "display_name": "Python 3 (ipykernel)",
   "language": "python",
   "name": "python3"
  },
  "language_info": {
   "codemirror_mode": {
    "name": "ipython",
    "version": 3
   },
   "file_extension": ".py",
   "mimetype": "text/x-python",
   "name": "python",
   "nbconvert_exporter": "python",
   "pygments_lexer": "ipython3",
   "version": "3.11.5"
  }
 },
 "nbformat": 4,
 "nbformat_minor": 5
}
