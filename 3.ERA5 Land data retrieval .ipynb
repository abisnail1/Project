{
 "cells": [
  {
   "cell_type": "code",
   "execution_count": null,
   "id": "472fd38a",
   "metadata": {},
   "outputs": [],
   "source": [
    "# This file contains the code that was ran to retrieve the ERA5-Land data from the Climate Data Store (CDS) API\n",
    "\n",
    "# Link to the data: https://cds.climate.copernicus.eu/cdsapp#!/dataset/reanalysis-era5-land?tab=overview"
   ]
  },
  {
   "cell_type": "code",
   "execution_count": 1,
   "id": "20bb6865",
   "metadata": {},
   "outputs": [],
   "source": [
    "import cdsapi"
   ]
  },
  {
   "cell_type": "code",
   "execution_count": 2,
   "id": "4e56f31b",
   "metadata": {},
   "outputs": [],
   "source": [
    "c=cdsapi.Client()"
   ]
  },
  {
   "cell_type": "code",
   "execution_count": 3,
   "id": "14310699",
   "metadata": {},
   "outputs": [],
   "source": [
    "#AR-Vir\n",
    "\n",
    "latitude = -28.2395\n",
    "longitude = -56.1886\n",
    "bounding_box = [\n",
    "    latitude + 0.01, longitude - 0.01,  # North, West\n",
    "    latitude - 0.01, longitude + 0.01   # South, East\n",
    "]"
   ]
  },
  {
   "cell_type": "code",
   "execution_count": 4,
   "id": "8973f412",
   "metadata": {},
   "outputs": [
    {
     "name": "stderr",
     "output_type": "stream",
     "text": [
      "2024-08-19 18:17:50,546 INFO Request ID is a55d5df9-0cf8-4edc-ac78-6fd0cc9cef98\n",
      "2024-08-19 18:17:50,621 INFO status has been updated to accepted\n",
      "2024-08-19 18:17:52,199 INFO status has been updated to running\n",
      "2024-08-19 18:26:09,206 INFO Creating download object as as_source with files:\n",
      "['data_0.nc']\n",
      "2024-08-19 18:26:09,214 INFO status has been updated to successful\n"
     ]
    },
    {
     "data": {
      "application/vnd.jupyter.widget-view+json": {
       "model_id": "",
       "version_major": 2,
       "version_minor": 0
      },
      "text/plain": [
       "e059f32a60da78b7d5ffad9e1838e51c.nc:   0%|          | 0.00/80.0k [00:00<?, ?B/s]"
      ]
     },
     "metadata": {},
     "output_type": "display_data"
    },
    {
     "data": {
      "text/plain": [
       "'era5_AR-Vir_1.nc'"
      ]
     },
     "execution_count": 4,
     "metadata": {},
     "output_type": "execute_result"
    }
   ],
   "source": [
    "#2009 \n",
    "\n",
    "c.retrieve(\n",
    "    'reanalysis-era5-land',\n",
    "    {\n",
    "        'variable': [\n",
    "            'surface_solar_radiation_downwards'\n",
    "        ],\n",
    "        'year': ['2010','2011','2012'],  # You can change this to the required year(s)\n",
    "        'month': ['01', '02', '03', '04', '05', '06', '07', '08', '09', '10', '11', '12'],  # All months\n",
    "        'day': [\n",
    "            '01', '02', '03', '04', '05', '06', '07',\n",
    "            '08', '09', '10', '11', '12', '13', '14',\n",
    "            '15', '16', '17', '18', '19', '20', '21',\n",
    "            '22', '23', '24', '25', '26', '27', '28',\n",
    "            '29', '30', '31'\n",
    "        ],  # All days\n",
    "        'time': [\n",
    "            '12:00'\n",
    "        ],  # Hourly data\n",
    "        'area': bounding_box,  # Bounding box (North, West, South, East)\n",
    "        'format': 'netcdf'  # The format of the output file\n",
    "    },\n",
    "    'era5_AR-Vir_1.nc'  # The name of the output file\n",
    ")"
   ]
  },
  {
   "cell_type": "code",
   "execution_count": null,
   "id": "a6c7e373",
   "metadata": {},
   "outputs": [],
   "source": [
    "#2010\n",
    "\n",
    "c.retrieve(\n",
    "    'reanalysis-era5-land',\n",
    "    {\n",
    "        'variable': [\n",
    "            '2m_temperature', '2m_dewpoint_temperature', 'surface_pressure', 'surface_solar_radiation_downwards',\n",
    "            'total_precipitation', '10m_u_component_of_wind', '10m_v_component_of_wind',\n",
    "            'temperature_of_soil_layer_1', 'volumetric_soil_water_layer_1'\n",
    "        ],\n",
    "        'year': '2010',  # You can change this to the required year(s)\n",
    "        'month': ['01', '02', '03', '04', '05', '06', '07', '08', '09', '10', '11', '12'],  # All months\n",
    "        'day': [\n",
    "            '01', '02', '03', '04', '05', '06', '07',\n",
    "            '08', '09', '10', '11', '12', '13', '14',\n",
    "            '15', '16', '17', '18', '19', '20', '21',\n",
    "            '22', '23', '24', '25', '26', '27', '28',\n",
    "            '29', '30', '31'\n",
    "        ],  # All days\n",
    "        'time': [\n",
    "            '12:00'\n",
    "        ],  # Hourly data\n",
    "        'area': bounding_box,  # Bounding box (North, West, South, East)\n",
    "        'format': 'netcdf'  # The format of the output file\n",
    "    },\n",
    "    'era5_AR-Vir_2.nc'  # The name of the output file\n",
    ")"
   ]
  },
  {
   "cell_type": "code",
   "execution_count": null,
   "id": "886c9889",
   "metadata": {},
   "outputs": [],
   "source": [
    "#2011\n",
    "\n",
    "c.retrieve(\n",
    "    'reanalysis-era5-land',\n",
    "    {\n",
    "        'variable': [\n",
    "            '2m_temperature', '2m_dewpoint_temperature', 'surface_pressure', 'surface_solar_radiation_downwards',\n",
    "            'total_precipitation', '10m_u_component_of_wind', '10m_v_component_of_wind',\n",
    "            'temperature_of_soil_layer_1', 'volumetric_soil_water_layer_1'\n",
    "        ],\n",
    "        'year': '2011',  # You can change this to the required year(s)\n",
    "        'month': ['01', '02', '03', '04', '05', '06', '07', '08', '09', '10', '11', '12'],  # All months\n",
    "        'day': [\n",
    "            '01', '02', '03', '04', '05', '06', '07',\n",
    "            '08', '09', '10', '11', '12', '13', '14',\n",
    "            '15', '16', '17', '18', '19', '20', '21',\n",
    "            '22', '23', '24', '25', '26', '27', '28',\n",
    "            '29', '30', '31'\n",
    "        ],  # All days\n",
    "        'time': [\n",
    "            '12:00'\n",
    "        ],  # Hourly data\n",
    "        'area': bounding_box,  # Bounding box (North, West, South, East)\n",
    "        'format': 'netcdf'  # The format of the output file\n",
    "    },\n",
    "    'era5_AR-Vir_3.nc'  # The name of the output file\n",
    ")"
   ]
  },
  {
   "cell_type": "code",
   "execution_count": null,
   "id": "d8c9a980",
   "metadata": {},
   "outputs": [],
   "source": [
    "#2012\n",
    "\n",
    "c.retrieve(\n",
    "    'reanalysis-era5-land',\n",
    "    {\n",
    "        'variable': [\n",
    "            '2m_temperature', '2m_dewpoint_temperature', 'surface_pressure', 'surface_solar_radiation_downwards',\n",
    "            'total_precipitation', '10m_u_component_of_wind', '10m_v_component_of_wind',\n",
    "            'temperature_of_soil_layer_1', 'volumetric_soil_water_layer_1'\n",
    "        ],\n",
    "        'year': '2012',  # You can change this to the required year(s)\n",
    "        'month': ['01', '02', '03', '04', '05', '06', '07', '08', '09', '10', '11', '12'],  # All months\n",
    "        'day': [\n",
    "            '01', '02', '03', '04', '05', '06', '07',\n",
    "            '08', '09', '10', '11', '12', '13', '14',\n",
    "            '15', '16', '17', '18', '19', '20', '21',\n",
    "            '22', '23', '24', '25', '26', '27', '28',\n",
    "            '29', '30', '31'\n",
    "        ],  # All days\n",
    "        'time': [\n",
    "            '12:00'\n",
    "        ],  # Hourly data\n",
    "        'area': bounding_box,  # Bounding box (North, West, South, East)\n",
    "        'format': 'netcdf'  # The format of the output file\n",
    "    },\n",
    "    'era5_AR-Vir_4.nc'  # The name of the output file\n",
    ")"
   ]
  },
  {
   "cell_type": "code",
   "execution_count": null,
   "id": "47553a4e",
   "metadata": {},
   "outputs": [],
   "source": [
    "#2013\n",
    "\n",
    "c.retrieve(\n",
    "    'reanalysis-era5-land',\n",
    "    {\n",
    "        'variable': [\n",
    "            '2m_temperature', '2m_dewpoint_temperature', 'surface_pressure', 'surface_solar_radiation_downwards',\n",
    "            'total_precipitation', '10m_u_component_of_wind', '10m_v_component_of_wind',\n",
    "            'temperature_of_soil_layer_1', 'volumetric_soil_water_layer_1'\n",
    "        ],\n",
    "        'year': '2013',  # You can change this to the required year(s)\n",
    "        'month': ['01', '02', '03', '04', '05', '06', '07', '08', '09', '10', '11', '12'],  # All months\n",
    "        'day': [\n",
    "            '01', '02', '03', '04', '05', '06', '07',\n",
    "            '08', '09', '10', '11', '12', '13', '14',\n",
    "            '15', '16', '17', '18', '19', '20', '21',\n",
    "            '22', '23', '24', '25', '26', '27', '28',\n",
    "            '29', '30', '31'\n",
    "        ],  # All days\n",
    "        'time': [\n",
    "            '12:00'\n",
    "        ],  # Hourly data\n",
    "        'area': bounding_box,  # Bounding box (North, West, South, East)\n",
    "        'format': 'netcdf'  # The format of the output file\n",
    "    },\n",
    "    'era5_AR-Vir_5.nc'  # The name of the output file\n",
    ")"
   ]
  },
  {
   "cell_type": "code",
   "execution_count": null,
   "id": "a1767330",
   "metadata": {},
   "outputs": [],
   "source": [
    "#2014\n",
    "\n",
    "c.retrieve(\n",
    "    'reanalysis-era5-land',\n",
    "    {\n",
    "        'variable': [\n",
    "            '2m_temperature', '2m_dewpoint_temperature', 'surface_pressure', 'surface_solar_radiation_downwards',\n",
    "            'total_precipitation', '10m_u_component_of_wind', '10m_v_component_of_wind',\n",
    "            'temperature_of_soil_layer_1', 'volumetric_soil_water_layer_1'\n",
    "        ],\n",
    "        'year': '2014',  # You can change this to the required year(s)\n",
    "        'month': ['01', '02', '03', '04', '05', '06', '07', '08', '09', '10', '11', '12'],  # All months\n",
    "        'day': [\n",
    "            '01', '02', '03', '04', '05', '06', '07',\n",
    "            '08', '09', '10', '11', '12', '13', '14',\n",
    "            '15', '16', '17', '18', '19', '20', '21',\n",
    "            '22', '23', '24', '25', '26', '27', '28',\n",
    "            '29', '30', '31'\n",
    "        ],  # All days\n",
    "        'time': [\n",
    "            '12:00'\n",
    "        ],  # Hourly data\n",
    "        'area': bounding_box,  # Bounding box (North, West, South, East)\n",
    "        'format': 'netcdf'  # The format of the output file\n",
    "    },\n",
    "    'era5_AR-Vir_6.nc'  # The name of the output file\n",
    ")"
   ]
  },
  {
   "cell_type": "code",
   "execution_count": 5,
   "id": "7aac6bc2",
   "metadata": {},
   "outputs": [],
   "source": [
    "### AU-Dry\n",
    "\n",
    "latitude = -15.2588\n",
    "longitude = 132.3706\n",
    "bounding_box = [\n",
    "    latitude + 0.01, longitude - 0.01,  # North, West\n",
    "    latitude - 0.01, longitude + 0.01   # South, East\n",
    "]"
   ]
  },
  {
   "cell_type": "code",
   "execution_count": 6,
   "id": "f43cce34",
   "metadata": {},
   "outputs": [
    {
     "name": "stderr",
     "output_type": "stream",
     "text": [
      "2024-08-19 18:28:47,716 INFO Request ID is 22e9f21e-d6aa-42fd-bf23-da0e13881941\n",
      "2024-08-19 18:28:47,822 INFO status has been updated to accepted\n",
      "2024-08-19 18:28:49,467 INFO status has been updated to running\n",
      "2024-08-19 18:46:31,553 INFO Creating download object as as_source with files:\n",
      "['data_0.nc']\n",
      "2024-08-19 18:46:31,567 INFO status has been updated to successful\n"
     ]
    },
    {
     "data": {
      "application/vnd.jupyter.widget-view+json": {
       "model_id": "",
       "version_major": 2,
       "version_minor": 0
      },
      "text/plain": [
       "6cc628a2a0faa6ebc31f1194e07b4889.nc:   0%|          | 0.00/120k [00:00<?, ?B/s]"
      ]
     },
     "metadata": {},
     "output_type": "display_data"
    },
    {
     "data": {
      "text/plain": [
       "'era5_AU-Dry_1.nc'"
      ]
     },
     "execution_count": 6,
     "metadata": {},
     "output_type": "execute_result"
    }
   ],
   "source": [
    "c.retrieve(\n",
    "    'reanalysis-era5-land',\n",
    "    {\n",
    "        'variable': [\n",
    "            'surface_solar_radiation_downwards'],\n",
    "        'year': ['2010','2011','2012','2013','2014'],  # You can change this to the required year(s)\n",
    "        'month': ['01', '02', '03', '04', '05', '06', '07', '08', '09', '10', '11', '12'],  # All months\n",
    "        'day': [\n",
    "            '01', '02', '03', '04', '05', '06', '07',\n",
    "            '08', '09', '10', '11', '12', '13', '14',\n",
    "            '15', '16', '17', '18', '19', '20', '21',\n",
    "            '22', '23', '24', '25', '26', '27', '28',\n",
    "            '29', '30', '31'\n",
    "        ],  # All days\n",
    "        'time': [\n",
    "            '12:00'\n",
    "        ],  # Hourly data\n",
    "        'area': bounding_box,  # Bounding box (North, West, South, East)\n",
    "        'format': 'netcdf'  # The format of the output file\n",
    "    },\n",
    "    'era5_AU-Dry_1.nc'  # The name of the output file\n",
    ")"
   ]
  },
  {
   "cell_type": "code",
   "execution_count": 7,
   "id": "8b2116c6",
   "metadata": {},
   "outputs": [],
   "source": [
    "###BE-Vie \n",
    "\n",
    "latitude = 50.3049\n",
    "longitude = 5.9981\n",
    "bounding_box = [\n",
    "    latitude + 0.01, longitude - 0.01,  # North, West\n",
    "    latitude - 0.01, longitude + 0.01   # South, East\n",
    "]"
   ]
  },
  {
   "cell_type": "code",
   "execution_count": 8,
   "id": "a1fb84a3",
   "metadata": {},
   "outputs": [
    {
     "name": "stderr",
     "output_type": "stream",
     "text": [
      "2024-08-19 18:49:55,252 INFO Request ID is 3680b1c0-b6c0-4f70-a774-dba005283cfc\n",
      "2024-08-19 18:49:55,331 INFO status has been updated to accepted\n",
      "2024-08-19 18:49:56,896 INFO status has been updated to running\n",
      "2024-08-19 19:04:14,417 INFO Creating download object as as_source with files:\n",
      "['data_0.nc']\n",
      "2024-08-19 19:04:14,429 INFO status has been updated to successful\n"
     ]
    },
    {
     "data": {
      "application/vnd.jupyter.widget-view+json": {
       "model_id": "",
       "version_major": 2,
       "version_minor": 0
      },
      "text/plain": [
       "eef4bbca747f68c1c23f68db6ad77feb.nc:   0%|          | 0.00/132k [00:00<?, ?B/s]"
      ]
     },
     "metadata": {},
     "output_type": "display_data"
    },
    {
     "data": {
      "text/plain": [
       "'era5_BE-Vie_1.nc'"
      ]
     },
     "execution_count": 8,
     "metadata": {},
     "output_type": "execute_result"
    }
   ],
   "source": [
    "c.retrieve(\n",
    "    'reanalysis-era5-land',\n",
    "    {\n",
    "        'variable': [\n",
    "            'surface_solar_radiation_downwards'],\n",
    "        'year': ['2010','2011','2012','2013','2014'],  # You can change this to the required year(s)\n",
    "        'month': ['01', '02', '03', '04', '05', '06', '07', '08', '09', '10', '11', '12'],  # All months\n",
    "        'day': [\n",
    "            '01', '02', '03', '04', '05', '06', '07',\n",
    "            '08', '09', '10', '11', '12', '13', '14',\n",
    "            '15', '16', '17', '18', '19', '20', '21',\n",
    "            '22', '23', '24', '25', '26', '27', '28',\n",
    "            '29', '30', '31'\n",
    "        ],  # All days\n",
    "        'time': [\n",
    "            '12:00'\n",
    "        ],  # Hourly data\n",
    "        'area': bounding_box,  # Bounding box (North, West, South, East)\n",
    "        'format': 'netcdf'  # The format of the output file\n",
    "    },\n",
    "    'era5_BE-Vie_1.nc'  # The name of the output file\n",
    ")"
   ]
  },
  {
   "cell_type": "code",
   "execution_count": 9,
   "id": "40b10121",
   "metadata": {},
   "outputs": [],
   "source": [
    "### CA-TP1\n",
    "\n",
    "latitude = 42.6609\n",
    "longitude = -80.5595\n",
    "bounding_box = [\n",
    "    latitude + 0.01, longitude - 0.01,  # North, West\n",
    "    latitude - 0.01, longitude + 0.01   # South, East\n",
    "]"
   ]
  },
  {
   "cell_type": "code",
   "execution_count": 10,
   "id": "a2cb3a07",
   "metadata": {},
   "outputs": [
    {
     "name": "stderr",
     "output_type": "stream",
     "text": [
      "2024-08-19 19:15:54,547 INFO Request ID is deaea953-a58e-44ce-ad7b-f0a70e9cdd1f\n",
      "2024-08-19 19:15:54,624 INFO status has been updated to accepted\n",
      "2024-08-19 19:15:56,204 INFO status has been updated to running\n",
      "2024-08-19 19:28:13,266 INFO Creating download object as as_source with files:\n",
      "['data_0.nc']\n",
      "2024-08-19 19:28:13,275 INFO status has been updated to successful\n"
     ]
    },
    {
     "data": {
      "application/vnd.jupyter.widget-view+json": {
       "model_id": "",
       "version_major": 2,
       "version_minor": 0
      },
      "text/plain": [
       "ee0f075c9e0465006a62a72d140a07b6.nc:   0%|          | 0.00/132k [00:00<?, ?B/s]"
      ]
     },
     "metadata": {},
     "output_type": "display_data"
    },
    {
     "data": {
      "text/plain": [
       "'era5_CA-TP1_1.nc'"
      ]
     },
     "execution_count": 10,
     "metadata": {},
     "output_type": "execute_result"
    }
   ],
   "source": [
    "c.retrieve(\n",
    "    'reanalysis-era5-land',\n",
    "    {\n",
    "        'variable': [\n",
    "            'surface_solar_radiation_downwards'],\n",
    "        'year': ['2010','2011','2012','2013','2014'],  # You can change this to the required year(s)\n",
    "        'month': ['01', '02', '03', '04', '05', '06', '07', '08', '09', '10', '11', '12'],  # All months\n",
    "        'day': [\n",
    "            '01', '02', '03', '04', '05', '06', '07',\n",
    "            '08', '09', '10', '11', '12', '13', '14',\n",
    "            '15', '16', '17', '18', '19', '20', '21',\n",
    "            '22', '23', '24', '25', '26', '27', '28',\n",
    "            '29', '30', '31'\n",
    "        ],  # All days\n",
    "        'time': [\n",
    "            '12:00'\n",
    "        ],  # Hourly data\n",
    "        'area': bounding_box,  # Bounding box (North, West, South, East)\n",
    "        'format': 'netcdf'  # The format of the output file\n",
    "    },\n",
    "    'era5_CA-TP1_1.nc'  # The name of the output file\n",
    ")"
   ]
  },
  {
   "cell_type": "code",
   "execution_count": 11,
   "id": "186e80bb",
   "metadata": {},
   "outputs": [],
   "source": [
    "### CH-Cha\n",
    "\n",
    "latitude = 47.2102\n",
    "longitude = 8.4104\n",
    "bounding_box = [\n",
    "    latitude + 0.01, longitude - 0.01,  # North, West\n",
    "    latitude - 0.01, longitude + 0.01   # South, East\n",
    "]"
   ]
  },
  {
   "cell_type": "code",
   "execution_count": 12,
   "id": "30a90a64",
   "metadata": {},
   "outputs": [
    {
     "name": "stderr",
     "output_type": "stream",
     "text": [
      "2024-08-19 19:30:40,219 INFO Request ID is 32bc74a0-3236-4a69-9af5-5383a285f18a\n",
      "2024-08-19 19:30:40,295 INFO status has been updated to accepted\n",
      "2024-08-19 19:30:41,858 INFO status has been updated to running\n",
      "2024-08-19 19:40:58,578 INFO Creating download object as as_source with files:\n",
      "['data_0.nc']\n",
      "2024-08-19 19:40:58,586 INFO status has been updated to successful\n"
     ]
    },
    {
     "data": {
      "application/vnd.jupyter.widget-view+json": {
       "model_id": "",
       "version_major": 2,
       "version_minor": 0
      },
      "text/plain": [
       "31b4d63fe8d2d0c93ce6f3356175624d.nc:   0%|          | 0.00/132k [00:00<?, ?B/s]"
      ]
     },
     "metadata": {},
     "output_type": "display_data"
    },
    {
     "data": {
      "text/plain": [
       "'era5_CH-Cha_1.nc'"
      ]
     },
     "execution_count": 12,
     "metadata": {},
     "output_type": "execute_result"
    }
   ],
   "source": [
    "c.retrieve(\n",
    "    'reanalysis-era5-land',\n",
    "    {\n",
    "        'variable': [\n",
    "            'surface_solar_radiation_downwards'],\n",
    "        'year': ['2010','2011','2012','2013','2014'],  # You can change this to the required year(s)\n",
    "        'month': ['01', '02', '03', '04', '05', '06', '07', '08', '09', '10', '11', '12'],  # All months\n",
    "        'day': [\n",
    "            '01', '02', '03', '04', '05', '06', '07',\n",
    "            '08', '09', '10', '11', '12', '13', '14',\n",
    "            '15', '16', '17', '18', '19', '20', '21',\n",
    "            '22', '23', '24', '25', '26', '27', '28',\n",
    "            '29', '30', '31'\n",
    "        ],  # All days\n",
    "        'time': [\n",
    "            '12:00'\n",
    "        ],  # Hourly data\n",
    "        'area': bounding_box,  # Bounding box (North, West, South, East)\n",
    "        'format': 'netcdf'  # The format of the output file\n",
    "    },\n",
    "    'era5_CH-Cha_1.nc'  # The name of the output file\n",
    ")"
   ]
  },
  {
   "cell_type": "code",
   "execution_count": 13,
   "id": "8c438854",
   "metadata": {},
   "outputs": [],
   "source": [
    "### DE-Gri\n",
    "\n",
    "latitude = 50.9500\n",
    "longitude = 13.5126\n",
    "bounding_box = [\n",
    "    latitude + 0.01, longitude - 0.01,  # North, West\n",
    "    latitude - 0.01, longitude + 0.01   # South, East\n",
    "]"
   ]
  },
  {
   "cell_type": "code",
   "execution_count": 14,
   "id": "dd8ec0df",
   "metadata": {},
   "outputs": [
    {
     "name": "stderr",
     "output_type": "stream",
     "text": [
      "2024-08-19 19:47:07,291 INFO Request ID is 43578cac-cf1f-4e02-8eb4-a3e6768315f3\n",
      "2024-08-19 19:47:07,354 INFO status has been updated to accepted\n",
      "2024-08-19 19:47:08,949 INFO status has been updated to running\n",
      "2024-08-19 19:57:26,161 INFO Creating download object as as_source with files:\n",
      "['data_0.nc']\n",
      "2024-08-19 19:57:26,169 INFO status has been updated to successful\n"
     ]
    },
    {
     "data": {
      "application/vnd.jupyter.widget-view+json": {
       "model_id": "",
       "version_major": 2,
       "version_minor": 0
      },
      "text/plain": [
       "aca93d5b0c3a5efdf3f3273e66c56784.nc:   0%|          | 0.00/125k [00:00<?, ?B/s]"
      ]
     },
     "metadata": {},
     "output_type": "display_data"
    },
    {
     "data": {
      "text/plain": [
       "'era5_DE-Gri_1.nc'"
      ]
     },
     "execution_count": 14,
     "metadata": {},
     "output_type": "execute_result"
    }
   ],
   "source": [
    "c.retrieve(\n",
    "    'reanalysis-era5-land',\n",
    "    {\n",
    "        'variable': [\n",
    "            'surface_solar_radiation_downwards'],\n",
    "        'year': ['2010','2011','2012','2013','2014'],  # You can change this to the required year(s)\n",
    "        'month': ['01', '02', '03', '04', '05', '06', '07', '08', '09', '10', '11', '12'],  # All months\n",
    "        'day': [\n",
    "            '01', '02', '03', '04', '05', '06', '07',\n",
    "            '08', '09', '10', '11', '12', '13', '14',\n",
    "            '15', '16', '17', '18', '19', '20', '21',\n",
    "            '22', '23', '24', '25', '26', '27', '28',\n",
    "            '29', '30', '31'\n",
    "        ],  # All days\n",
    "        'time': [\n",
    "            '12:00'\n",
    "        ],  # Hourly data\n",
    "        'area': bounding_box,  # Bounding box (North, West, South, East)\n",
    "        'format': 'netcdf'  # The format of the output file\n",
    "    },\n",
    "    'era5_DE-Gri_1.nc'  # The name of the output file\n",
    ")"
   ]
  },
  {
   "cell_type": "code",
   "execution_count": 15,
   "id": "0521eaea",
   "metadata": {},
   "outputs": [],
   "source": [
    "### FR-Pue\n",
    "\n",
    "\n",
    "latitude = 43.7413\n",
    "longitude = 3.5957\n",
    "bounding_box = [\n",
    "    latitude + 0.01, longitude - 0.01,  # North, West\n",
    "    latitude - 0.01, longitude + 0.01   # South, East\n",
    "]\n",
    "\n"
   ]
  },
  {
   "cell_type": "code",
   "execution_count": 16,
   "id": "1da5e1e3",
   "metadata": {},
   "outputs": [
    {
     "name": "stderr",
     "output_type": "stream",
     "text": [
      "2024-08-19 20:06:54,712 INFO Request ID is 2703290c-6561-464c-83ba-640bb81b2069\n",
      "2024-08-19 20:06:54,786 INFO status has been updated to accepted\n",
      "2024-08-19 20:06:56,346 INFO status has been updated to running\n",
      "2024-08-19 20:19:13,259 INFO Creating download object as as_source with files:\n",
      "['data_0.nc']\n",
      "2024-08-19 20:19:13,268 INFO status has been updated to successful\n"
     ]
    },
    {
     "data": {
      "application/vnd.jupyter.widget-view+json": {
       "model_id": "",
       "version_major": 2,
       "version_minor": 0
      },
      "text/plain": [
       "37447ed9a78653644aaeb3d9c09e4813.nc:   0%|          | 0.00/132k [00:00<?, ?B/s]"
      ]
     },
     "metadata": {},
     "output_type": "display_data"
    },
    {
     "data": {
      "text/plain": [
       "'era5_FR-Pue_1.nc'"
      ]
     },
     "execution_count": 16,
     "metadata": {},
     "output_type": "execute_result"
    }
   ],
   "source": [
    "c.retrieve(\n",
    "    'reanalysis-era5-land',\n",
    "    {\n",
    "        'variable': [\n",
    "            'surface_solar_radiation_downwards'],\n",
    "        'year': ['2010','2011','2012','2013','2014'],  # You can change this to the required year(s)\n",
    "        'month': ['01', '02', '03', '04', '05', '06', '07', '08', '09', '10', '11', '12'],  # All months\n",
    "        'day': [\n",
    "            '01', '02', '03', '04', '05', '06', '07',\n",
    "            '08', '09', '10', '11', '12', '13', '14',\n",
    "            '15', '16', '17', '18', '19', '20', '21',\n",
    "            '22', '23', '24', '25', '26', '27', '28',\n",
    "            '29', '30', '31'\n",
    "        ],  # All days\n",
    "        'time': [\n",
    "            '12:00'\n",
    "        ],  # Hourly data\n",
    "        'area': bounding_box,  # Bounding box (North, West, South, East)\n",
    "        'format': 'netcdf'  # The format of the output file\n",
    "    },\n",
    "    'era5_FR-Pue_1.nc'  # The name of the output file\n",
    ")"
   ]
  },
  {
   "cell_type": "code",
   "execution_count": 17,
   "id": "6f2eb0ff",
   "metadata": {},
   "outputs": [],
   "source": [
    "### GF-Guy\n",
    "\n",
    "latitude = 5.2788\n",
    "longitude = -52.9249\n",
    "bounding_box = [\n",
    "    latitude + 0.01, longitude - 0.01,  # North, West\n",
    "    latitude - 0.01, longitude + 0.01   # South, East\n",
    "]\n"
   ]
  },
  {
   "cell_type": "code",
   "execution_count": 18,
   "id": "bc852199",
   "metadata": {},
   "outputs": [
    {
     "name": "stderr",
     "output_type": "stream",
     "text": [
      "2024-08-19 20:19:14,261 INFO Request ID is 432cf791-8ecf-4f34-ac27-ad85aa561c3c\n",
      "2024-08-19 20:19:14,358 INFO status has been updated to accepted\n",
      "2024-08-19 20:19:15,932 INFO status has been updated to running\n",
      "2024-08-19 20:29:32,701 INFO Creating download object as as_source with files:\n",
      "['data_0.nc']\n",
      "2024-08-19 20:29:32,705 INFO status has been updated to successful\n"
     ]
    },
    {
     "data": {
      "application/vnd.jupyter.widget-view+json": {
       "model_id": "",
       "version_major": 2,
       "version_minor": 0
      },
      "text/plain": [
       "cc57e5f9a3a4fb35fa5aefa00473fc1.nc:   0%|          | 0.00/121k [00:00<?, ?B/s]"
      ]
     },
     "metadata": {},
     "output_type": "display_data"
    },
    {
     "data": {
      "text/plain": [
       "'era5_GF-Guy_1.nc'"
      ]
     },
     "execution_count": 18,
     "metadata": {},
     "output_type": "execute_result"
    }
   ],
   "source": [
    "c.retrieve(\n",
    "    'reanalysis-era5-land',\n",
    "    {\n",
    "        'variable': [\n",
    "            'surface_solar_radiation_downwards'],\n",
    "        'year': ['2010','2011','2012','2013','2014'],  # You can change this to the required year(s)\n",
    "        'month': ['01', '02', '03', '04', '05', '06', '07', '08', '09', '10', '11', '12'],  # All months\n",
    "        'day': [\n",
    "            '01', '02', '03', '04', '05', '06', '07',\n",
    "            '08', '09', '10', '11', '12', '13', '14',\n",
    "            '15', '16', '17', '18', '19', '20', '21',\n",
    "            '22', '23', '24', '25', '26', '27', '28',\n",
    "            '29', '30', '31'\n",
    "        ],  # All days\n",
    "        'time': [\n",
    "            '12:00'\n",
    "        ],  # Hourly data\n",
    "        'area': bounding_box,  # Bounding box (North, West, South, East)\n",
    "        'format': 'netcdf'  # The format of the output file\n",
    "    },\n",
    "    'era5_GF-Guy_1.nc'  # The name of the output file\n",
    ")"
   ]
  },
  {
   "cell_type": "code",
   "execution_count": 19,
   "id": "a62438bc",
   "metadata": {},
   "outputs": [],
   "source": [
    "### IT-Col\n",
    "\n",
    "latitude = 41.8494\n",
    "longitude = 13.5881\n",
    "bounding_box = [\n",
    "    latitude + 0.01, longitude - 0.01,  # North, West\n",
    "    latitude - 0.01, longitude + 0.01   # South, East\n",
    "]"
   ]
  },
  {
   "cell_type": "code",
   "execution_count": 20,
   "id": "9fdba35a",
   "metadata": {},
   "outputs": [
    {
     "name": "stderr",
     "output_type": "stream",
     "text": [
      "2024-08-19 20:29:33,641 INFO Request ID is d77258c3-d299-4817-95b8-9b873a763a6a\n",
      "2024-08-19 20:29:33,722 INFO status has been updated to accepted\n",
      "2024-08-19 20:29:35,293 INFO status has been updated to running\n",
      "2024-08-19 20:41:52,256 INFO Creating download object as as_source with files:\n",
      "['data_0.nc']\n",
      "2024-08-19 20:41:52,264 INFO status has been updated to successful\n"
     ]
    },
    {
     "data": {
      "application/vnd.jupyter.widget-view+json": {
       "model_id": "",
       "version_major": 2,
       "version_minor": 0
      },
      "text/plain": [
       "e986e6583316f3b37cc0229d6ae143b0.nc:   0%|          | 0.00/121k [00:00<?, ?B/s]"
      ]
     },
     "metadata": {},
     "output_type": "display_data"
    },
    {
     "data": {
      "text/plain": [
       "'era5_IT-Col_1.nc'"
      ]
     },
     "execution_count": 20,
     "metadata": {},
     "output_type": "execute_result"
    }
   ],
   "source": [
    "c.retrieve(\n",
    "    'reanalysis-era5-land',\n",
    "    {\n",
    "        'variable': [\n",
    "            'surface_solar_radiation_downwards'],\n",
    "        'year': ['2010','2011','2012','2013','2014'],  # You can change this to the required year(s)\n",
    "        'month': ['01', '02', '03', '04', '05', '06', '07', '08', '09', '10', '11', '12'],  # All months\n",
    "        'day': [\n",
    "            '01', '02', '03', '04', '05', '06', '07',\n",
    "            '08', '09', '10', '11', '12', '13', '14',\n",
    "            '15', '16', '17', '18', '19', '20', '21',\n",
    "            '22', '23', '24', '25', '26', '27', '28',\n",
    "            '29', '30', '31'\n",
    "        ],  # All days\n",
    "        'time': [\n",
    "            '12:00'\n",
    "        ],  # Hourly data\n",
    "        'area': bounding_box,  # Bounding box (North, West, South, East)\n",
    "        'format': 'netcdf'  # The format of the output file\n",
    "    },\n",
    "    'era5_IT-Col_1.nc'  # The name of the output file\n",
    ")"
   ]
  },
  {
   "cell_type": "code",
   "execution_count": 21,
   "id": "e6ff1900",
   "metadata": {},
   "outputs": [],
   "source": [
    "### NL-Loo\n",
    "\n",
    "latitude = 52.1666\n",
    "longitude = 5.7436\n",
    "bounding_box = [\n",
    "    latitude + 0.01, longitude - 0.01,  # North, West\n",
    "    latitude - 0.01, longitude + 0.01   # South, East\n",
    "]"
   ]
  },
  {
   "cell_type": "code",
   "execution_count": 22,
   "id": "d2a7e470",
   "metadata": {},
   "outputs": [
    {
     "name": "stderr",
     "output_type": "stream",
     "text": [
      "2024-08-19 20:41:53,190 INFO Request ID is d725ce5c-90ea-4a45-9955-34ec6f35790a\n",
      "2024-08-19 20:41:53,262 INFO status has been updated to accepted\n",
      "2024-08-19 20:41:54,836 INFO status has been updated to running\n",
      "2024-08-19 20:52:11,577 INFO Creating download object as as_source with files:\n",
      "['data_0.nc']\n",
      "2024-08-19 20:52:11,582 INFO status has been updated to successful\n"
     ]
    },
    {
     "data": {
      "application/vnd.jupyter.widget-view+json": {
       "model_id": "",
       "version_major": 2,
       "version_minor": 0
      },
      "text/plain": [
       "224af6cc2a0b5b381539838328ab2f56.nc:   0%|          | 0.00/132k [00:00<?, ?B/s]"
      ]
     },
     "metadata": {},
     "output_type": "display_data"
    },
    {
     "data": {
      "text/plain": [
       "'era5_NL-Loo_1.nc'"
      ]
     },
     "execution_count": 22,
     "metadata": {},
     "output_type": "execute_result"
    }
   ],
   "source": [
    "c.retrieve(\n",
    "    'reanalysis-era5-land',\n",
    "    {\n",
    "        'variable': [\n",
    "            'surface_solar_radiation_downwards'],\n",
    "        'year': ['2010','2011','2012','2013','2014'],  # You can change this to the required year(s)\n",
    "        'month': ['01', '02', '03', '04', '05', '06', '07', '08', '09', '10', '11', '12'],  # All months\n",
    "        'day': [\n",
    "            '01', '02', '03', '04', '05', '06', '07',\n",
    "            '08', '09', '10', '11', '12', '13', '14',\n",
    "            '15', '16', '17', '18', '19', '20', '21',\n",
    "            '22', '23', '24', '25', '26', '27', '28',\n",
    "            '29', '30', '31'\n",
    "        ],  # All days\n",
    "        'time': [\n",
    "            '12:00'\n",
    "        ],  # Hourly data\n",
    "        'area': bounding_box,  # Bounding box (North, West, South, East)\n",
    "        'format': 'netcdf'  # The format of the output file\n",
    "    },\n",
    "    'era5_NL-Loo_1.nc'  # The name of the output file\n",
    ")"
   ]
  },
  {
   "cell_type": "code",
   "execution_count": 23,
   "id": "1f7d8014",
   "metadata": {},
   "outputs": [],
   "source": [
    "### RU-Cok\n",
    "\n",
    "latitude = 70.8291\n",
    "longitude = 147.4943\n",
    "bounding_box = [\n",
    "    latitude + 0.01, longitude - 0.01,  # North, West\n",
    "    latitude - 0.01, longitude + 0.01   # South, East\n",
    "]"
   ]
  },
  {
   "cell_type": "code",
   "execution_count": 24,
   "id": "e010cc1a",
   "metadata": {},
   "outputs": [
    {
     "name": "stderr",
     "output_type": "stream",
     "text": [
      "2024-08-19 20:52:12,585 INFO Request ID is d4d6cd71-e289-4e9b-8f88-7ef5a6ffa9de\n",
      "2024-08-19 20:52:12,637 INFO status has been updated to accepted\n",
      "2024-08-19 20:52:14,207 INFO status has been updated to running\n",
      "2024-08-19 21:02:30,922 INFO Creating download object as as_source with files:\n",
      "['data_0.nc']\n",
      "2024-08-19 21:02:30,926 INFO status has been updated to successful\n"
     ]
    },
    {
     "data": {
      "application/vnd.jupyter.widget-view+json": {
       "model_id": "",
       "version_major": 2,
       "version_minor": 0
      },
      "text/plain": [
       "faa15c1b28d869465abc24ddac702591.nc:   0%|          | 0.00/132k [00:00<?, ?B/s]"
      ]
     },
     "metadata": {},
     "output_type": "display_data"
    },
    {
     "data": {
      "text/plain": [
       "'era5_RU-Cok_1.nc'"
      ]
     },
     "execution_count": 24,
     "metadata": {},
     "output_type": "execute_result"
    }
   ],
   "source": [
    "c.retrieve(\n",
    "    'reanalysis-era5-land',\n",
    "    {\n",
    "        'variable': [\n",
    "            'surface_solar_radiation_downwards'],\n",
    "        'year': ['2010','2011','2012','2013','2014'],  # You can change this to the required year(s)\n",
    "        'month': ['01', '02', '03', '04', '05', '06', '07', '08', '09', '10', '11', '12'],  # All months\n",
    "        'day': [\n",
    "            '01', '02', '03', '04', '05', '06', '07',\n",
    "            '08', '09', '10', '11', '12', '13', '14',\n",
    "            '15', '16', '17', '18', '19', '20', '21',\n",
    "            '22', '23', '24', '25', '26', '27', '28',\n",
    "            '29', '30', '31'\n",
    "        ],  # All days\n",
    "        'time': [\n",
    "            '12:00'\n",
    "        ],  # Hourly data\n",
    "        'area': bounding_box,  # Bounding box (North, West, South, East)\n",
    "        'format': 'netcdf'  # The format of the output file\n",
    "    },\n",
    "    'era5_RU-Cok_1.nc'  # The name of the output file\n",
    ")"
   ]
  },
  {
   "cell_type": "code",
   "execution_count": 25,
   "id": "5e5fc9c5",
   "metadata": {},
   "outputs": [],
   "source": [
    "### RU-Fyo\n",
    "\n",
    "latitude = 56.4615\n",
    "longitude = 32.9221\n",
    "bounding_box = [\n",
    "    latitude + 0.01, longitude - 0.01,  # North, West\n",
    "    latitude - 0.01, longitude + 0.01   # South, East\n",
    "]"
   ]
  },
  {
   "cell_type": "code",
   "execution_count": 26,
   "id": "d4ca9ad0",
   "metadata": {},
   "outputs": [
    {
     "name": "stderr",
     "output_type": "stream",
     "text": [
      "2024-08-19 21:02:32,173 INFO Request ID is 0b257320-2d50-45da-8a51-fe41a4dc83ce\n",
      "2024-08-19 21:02:32,248 INFO status has been updated to accepted\n",
      "2024-08-19 21:02:33,822 INFO status has been updated to running\n",
      "2024-08-19 21:12:50,524 INFO Creating download object as as_source with files:\n",
      "['data_0.nc']\n",
      "2024-08-19 21:12:50,533 INFO status has been updated to successful\n"
     ]
    },
    {
     "data": {
      "application/vnd.jupyter.widget-view+json": {
       "model_id": "",
       "version_major": 2,
       "version_minor": 0
      },
      "text/plain": [
       "6ac8c805b309102df75d2be3aef0898d.nc:   0%|          | 0.00/132k [00:00<?, ?B/s]"
      ]
     },
     "metadata": {},
     "output_type": "display_data"
    },
    {
     "data": {
      "text/plain": [
       "'era5_RU-Fyo_1.nc'"
      ]
     },
     "execution_count": 26,
     "metadata": {},
     "output_type": "execute_result"
    }
   ],
   "source": [
    "c.retrieve(\n",
    "    'reanalysis-era5-land',\n",
    "    {\n",
    "        'variable': [\n",
    "            'surface_solar_radiation_downwards'],\n",
    "        'year': ['2010','2011','2012','2013','2014'],  # You can change this to the required year(s)\n",
    "        'month': ['01', '02', '03', '04', '05', '06', '07', '08', '09', '10', '11', '12'],  # All months\n",
    "        'day': [\n",
    "            '01', '02', '03', '04', '05', '06', '07',\n",
    "            '08', '09', '10', '11', '12', '13', '14',\n",
    "            '15', '16', '17', '18', '19', '20', '21',\n",
    "            '22', '23', '24', '25', '26', '27', '28',\n",
    "            '29', '30', '31'\n",
    "        ],  # All days\n",
    "        'time': [\n",
    "            '12:00'\n",
    "        ],  # Hourly data\n",
    "        'area': bounding_box,  # Bounding box (North, West, South, East)\n",
    "        'format': 'netcdf'  # The format of the output file\n",
    "    },\n",
    "    'era5_RU-Fyo_1.nc'  # The name of the output file\n",
    ")"
   ]
  },
  {
   "cell_type": "code",
   "execution_count": 27,
   "id": "d7beee0a",
   "metadata": {},
   "outputs": [],
   "source": [
    "### US-PFa\n",
    "\n",
    "latitude = 45.9459\n",
    "longitude = -90.2723\n",
    "bounding_box = [\n",
    "    latitude + 0.01, longitude - 0.01,  # North, West\n",
    "    latitude - 0.01, longitude + 0.01   # South, East\n",
    "]"
   ]
  },
  {
   "cell_type": "code",
   "execution_count": 28,
   "id": "02c325d1",
   "metadata": {},
   "outputs": [
    {
     "name": "stderr",
     "output_type": "stream",
     "text": [
      "2024-08-19 21:12:51,471 INFO Request ID is 85e9a7ba-1595-4b50-a512-d92a2ed172d8\n",
      "2024-08-19 21:12:51,544 INFO status has been updated to accepted\n",
      "2024-08-19 21:12:53,114 INFO status has been updated to running\n",
      "2024-08-19 21:23:10,687 INFO Creating download object as as_source with files:\n",
      "['data_0.nc']\n",
      "2024-08-19 21:23:10,698 INFO status has been updated to successful\n"
     ]
    },
    {
     "data": {
      "application/vnd.jupyter.widget-view+json": {
       "model_id": "",
       "version_major": 2,
       "version_minor": 0
      },
      "text/plain": [
       "9c0df1f77ad4984305ca026fb732ffa5.nc:   0%|          | 0.00/128k [00:00<?, ?B/s]"
      ]
     },
     "metadata": {},
     "output_type": "display_data"
    },
    {
     "data": {
      "text/plain": [
       "'era5_US-PFa_1.nc'"
      ]
     },
     "execution_count": 28,
     "metadata": {},
     "output_type": "execute_result"
    }
   ],
   "source": [
    "c.retrieve(\n",
    "    'reanalysis-era5-land',\n",
    "    {\n",
    "        'variable': [\n",
    "            'surface_solar_radiation_downwards'],\n",
    "        'year': ['2010','2011','2012','2013','2014'],  # You can change this to the required year(s)\n",
    "        'month': ['01', '02', '03', '04', '05', '06', '07', '08', '09', '10', '11', '12'],  # All months\n",
    "        'day': [\n",
    "            '01', '02', '03', '04', '05', '06', '07',\n",
    "            '08', '09', '10', '11', '12', '13', '14',\n",
    "            '15', '16', '17', '18', '19', '20', '21',\n",
    "            '22', '23', '24', '25', '26', '27', '28',\n",
    "            '29', '30', '31'\n",
    "        ],  # All days\n",
    "        'time': [\n",
    "            '12:00'\n",
    "        ],  # Hourly data\n",
    "        'area': bounding_box,  # Bounding box (North, West, South, East)\n",
    "        'format': 'netcdf'  # The format of the output file\n",
    "    },\n",
    "    'era5_US-PFa_1.nc'  # The name of the output file\n",
    ")"
   ]
  },
  {
   "cell_type": "code",
   "execution_count": 29,
   "id": "d79a58d9",
   "metadata": {},
   "outputs": [],
   "source": [
    "### US-Var\n",
    "\n",
    "latitude = 38.4133\n",
    "longitude = -120.9508\n",
    "bounding_box = [\n",
    "    latitude + 0.01, longitude - 0.01,  # North, West\n",
    "    latitude - 0.01, longitude + 0.01   # South, East\n",
    "]"
   ]
  },
  {
   "cell_type": "code",
   "execution_count": 30,
   "id": "c9dc87f1",
   "metadata": {},
   "outputs": [
    {
     "name": "stderr",
     "output_type": "stream",
     "text": [
      "2024-08-19 21:23:12,030 INFO Request ID is eb5bf628-8129-422f-b218-350c9ce0ce42\n",
      "2024-08-19 21:23:12,162 INFO status has been updated to accepted\n",
      "2024-08-19 21:23:13,753 INFO status has been updated to running\n",
      "2024-08-19 21:31:30,968 INFO Creating download object as as_source with files:\n",
      "['data_0.nc']\n",
      "2024-08-19 21:31:30,972 INFO status has been updated to successful\n"
     ]
    },
    {
     "data": {
      "application/vnd.jupyter.widget-view+json": {
       "model_id": "",
       "version_major": 2,
       "version_minor": 0
      },
      "text/plain": [
       "60e9d5ad35ea7f8b4d0ebdf18ff5e9b9.nc:   0%|          | 0.00/121k [00:00<?, ?B/s]"
      ]
     },
     "metadata": {},
     "output_type": "display_data"
    },
    {
     "data": {
      "text/plain": [
       "'era5_US-Var_1.nc'"
      ]
     },
     "execution_count": 30,
     "metadata": {},
     "output_type": "execute_result"
    }
   ],
   "source": [
    "c.retrieve(\n",
    "    'reanalysis-era5-land',\n",
    "    {\n",
    "        'variable': [\n",
    "            'surface_solar_radiation_downwards'],\n",
    "        'year': ['2010','2011','2012','2013','2014'],  # You can change this to the required year(s)\n",
    "        'month': ['01', '02', '03', '04', '05', '06', '07', '08', '09', '10', '11', '12'],  # All months\n",
    "        'day': [\n",
    "            '01', '02', '03', '04', '05', '06', '07',\n",
    "            '08', '09', '10', '11', '12', '13', '14',\n",
    "            '15', '16', '17', '18', '19', '20', '21',\n",
    "            '22', '23', '24', '25', '26', '27', '28',\n",
    "            '29', '30', '31'\n",
    "        ],  # All days\n",
    "        'time': [\n",
    "            '12:00'\n",
    "        ],  # Hourly data\n",
    "        'area': bounding_box,  # Bounding box (North, West, South, East)\n",
    "        'format': 'netcdf'  # The format of the output file\n",
    "    },\n",
    "    'era5_US-Var_1.nc'  # The name of the output file\n",
    ")"
   ]
  },
  {
   "cell_type": "code",
   "execution_count": 31,
   "id": "199ad458",
   "metadata": {},
   "outputs": [],
   "source": [
    "### ZA-Kru\n",
    "\n",
    "latitude = -25.0197\n",
    "longitude = 31.4969\n",
    "bounding_box = [\n",
    "    latitude + 0.01, longitude - 0.01,  # North, West\n",
    "    latitude - 0.01, longitude + 0.01   # South, East\n",
    "]"
   ]
  },
  {
   "cell_type": "code",
   "execution_count": 33,
   "id": "a3099dda",
   "metadata": {},
   "outputs": [
    {
     "name": "stderr",
     "output_type": "stream",
     "text": [
      "2024-08-19 21:39:52,544 INFO Request ID is 584ddb27-7f19-408b-ad37-b6e370de7b48\n",
      "2024-08-19 21:39:52,621 INFO status has been updated to accepted\n",
      "2024-08-19 21:39:54,244 INFO status has been updated to successful\n"
     ]
    },
    {
     "data": {
      "application/vnd.jupyter.widget-view+json": {
       "model_id": "",
       "version_major": 2,
       "version_minor": 0
      },
      "text/plain": [
       "f1d7efb7a062b0a00d38fc174b08f709.nc:   0%|          | 0.00/121k [00:00<?, ?B/s]"
      ]
     },
     "metadata": {},
     "output_type": "display_data"
    },
    {
     "data": {
      "text/plain": [
       "'era5_ZA-Kru_1.nc'"
      ]
     },
     "execution_count": 33,
     "metadata": {},
     "output_type": "execute_result"
    }
   ],
   "source": [
    "c.retrieve(\n",
    "    'reanalysis-era5-land',\n",
    "    {\n",
    "        'variable': [\n",
    "            'surface_solar_radiation_downwards'],\n",
    "        'year': ['2010','2011','2012','2013','2014'],  # You can change this to the required year(s)\n",
    "        'month': ['01', '02', '03', '04', '05', '06', '07', '08', '09', '10', '11', '12'],  # All months\n",
    "        'day': [\n",
    "            '01', '02', '03', '04', '05', '06', '07',\n",
    "            '08', '09', '10', '11', '12', '13', '14',\n",
    "            '15', '16', '17', '18', '19', '20', '21',\n",
    "            '22', '23', '24', '25', '26', '27', '28',\n",
    "            '29', '30', '31'\n",
    "        ],  # All days\n",
    "        'time': [\n",
    "            '12:00'\n",
    "        ],  # Hourly data\n",
    "        'area': bounding_box,  # Bounding box (North, West, South, East)\n",
    "        'format': 'netcdf'  # The format of the output file\n",
    "    },\n",
    "    'era5_ZA-Kru_1.nc'  # The name of the output file\n",
    ")"
   ]
  }
 ],
 "metadata": {
  "kernelspec": {
   "display_name": "Python 3 (ipykernel)",
   "language": "python",
   "name": "python3"
  },
  "language_info": {
   "codemirror_mode": {
    "name": "ipython",
    "version": 3
   },
   "file_extension": ".py",
   "mimetype": "text/x-python",
   "name": "python",
   "nbconvert_exporter": "python",
   "pygments_lexer": "ipython3",
   "version": "3.11.5"
  }
 },
 "nbformat": 4,
 "nbformat_minor": 5
}
