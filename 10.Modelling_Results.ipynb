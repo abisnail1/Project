{
 "cells": [
  {
   "cell_type": "code",
   "execution_count": null,
   "id": "fc790d6b",
   "metadata": {},
   "outputs": [],
   "source": [
    "# Going to be training 3 seperate machine learning models and \n",
    "# testing their ability to accuratly predict GPP when compared\n",
    "# with the p-model. \n",
    "\n",
    "# models:\n",
    "\n",
    "### 1. LightGBM\n",
    "### 2. Random Forest \n",
    "\n",
    "# models will be evaluated on two metrics:\n",
    "\n",
    "### 1. Their ability to predict accuratly for 2014. Are they able\n",
    "### to replicate the seasonality observed in the FLUXNET GPP?\n",
    "\n",
    "### 2. Their ability to generalise to a new unseen location: US-Var"
   ]
  },
  {
   "cell_type": "code",
   "execution_count": null,
   "id": "4af90588",
   "metadata": {},
   "outputs": [],
   "source": [
    "import pandas as pd\n",
    "import numpy as np\n",
    "import seaborn as sns\n",
    "import matplotlib.pyplot as plt\n",
    "import matplotlib.dates as mdates\n",
    "from tqdm import tqdm\n",
    "from scipy import stats\n",
    "from numpy import mean \n",
    "\n",
    "# LightGBM\n",
    "\n",
    "import lightgbm as lgb\n",
    "from lightgbm import LGBMRegressor\n",
    "\n",
    "# P-model\n",
    "from pyrealm import pmodel\n",
    "\n",
    "# Random Forest \n",
    "from sklearn.ensemble import RandomForestRegressor\n",
    "\n",
    "\n",
    "# sklearn evaluation metrics\n",
    "from sklearn.metrics import (mean_squared_error, mean_absolute_error, r2_score, \n",
    "                             confusion_matrix, f1_score, ConfusionMatrixDisplay)\n",
    "from sklearn.model_selection import (train_test_split, GridSearchCV, RandomizedSearchCV, \n",
    "                                     cross_val_predict, RepeatedStratifiedKFold, \n",
    "                                     KFold, RepeatedKFold, cross_val_score)\n",
    "\n",
    "# Bayesian Optimization\n",
    "from skopt import gp_minimize, BayesSearchCV\n",
    "from skopt.space import Real, Integer, Categorical\n",
    "from bayes_opt import BayesianOptimization\n"
   ]
  },
  {
   "cell_type": "code",
   "execution_count": null,
   "id": "50e855b3",
   "metadata": {},
   "outputs": [],
   "source": [
    "# import the data \n",
    "\n",
    "# train is the data from 2010-2013\n",
    "\n",
    "train=pd.read_csv('/Users/abigailbase/PROJECT FILES/FINAL DFs/Modelling dfs/training.csv',index_col=0)\n",
    "\n",
    "# test is data from 2014 only\n",
    "\n",
    "test=pd.read_csv('/Users/abigailbase/PROJECT FILES/FINAL DFs/Modelling dfs/test.csv',index_col=0)\n",
    "\n",
    "# generalisation validation is the US-Var data\n",
    "\n",
    "us_var=pd.read_csv('/Users/abigailbase/PROJECT FILES/FINAL DFs/Modelling dfs/US_Var_Validation.csv',index_col=0)\n"
   ]
  },
  {
   "cell_type": "code",
   "execution_count": null,
   "id": "8c9ce446",
   "metadata": {},
   "outputs": [],
   "source": [
    "# function for assigning seasons\n",
    "\n",
    "def assign_season(row):\n",
    "    hemisphere = row['hemisphere']\n",
    "    month = row['MONTH']\n",
    "    \n",
    "    if hemisphere == 'NH':\n",
    "        if month in [12, 1, 2]:  # December, January, February\n",
    "            return 'Winter'\n",
    "        elif month in [3, 4, 5]:  # March, April, May\n",
    "            return 'Spring'\n",
    "        elif month in [6, 7, 8]:  # June, July, August\n",
    "            return 'Summer'\n",
    "        elif month in [9, 10, 11]:  # September, October, November\n",
    "            return 'Autumn'\n",
    "    elif hemisphere == 'SH':\n",
    "        if month in [12, 1, 2]:  # December, January, February\n",
    "            return 'Summer'\n",
    "        elif month in [3, 4, 5]:  # March, April, May\n",
    "            return 'Autumn'\n",
    "        elif month in [6, 7, 8]:  # June, July, August\n",
    "            return 'Winter'\n",
    "        elif month in [9, 10, 11]:  # September, October, November\n",
    "            return 'Spring'\n",
    "    \n",
    "    return None  \n"
   ]
  },
  {
   "cell_type": "code",
   "execution_count": null,
   "id": "a0b71d80",
   "metadata": {},
   "outputs": [],
   "source": [
    "# apply function to assign seasons\n",
    "\n",
    "train['season'] = train.apply(assign_season, axis=1)\n",
    "test['season'] = test.apply(assign_season, axis=1)\n",
    "us_var['season'] = us_var.apply(assign_season, axis=1)"
   ]
  },
  {
   "cell_type": "code",
   "execution_count": null,
   "id": "372cc803",
   "metadata": {},
   "outputs": [],
   "source": [
    "# encode seasons\n",
    "train=pd.get_dummies(train, columns=['season'],dtype=int)\n",
    "test=pd.get_dummies(test, columns=['season'],dtype=int)\n",
    "us_var=pd.get_dummies(us_var, columns=['season'],dtype=int)"
   ]
  },
  {
   "cell_type": "code",
   "execution_count": null,
   "id": "0684b13e",
   "metadata": {},
   "outputs": [],
   "source": [
    "# variables to remove\n",
    "\n",
    "to_drop=['SITE_ID','date','IGBP','hemisphere','NDVI_point','PPT_log','DAY','WS_F']"
   ]
  },
  {
   "cell_type": "code",
   "execution_count": null,
   "id": "71ae7d15",
   "metadata": {},
   "outputs": [],
   "source": [
    "# drop unnessasary cols from the dfs\n",
    "\n",
    "train=train.drop(columns=to_drop)\n",
    "test=test.drop(columns=to_drop)\n",
    "us_var=us_var.drop(columns=to_drop)"
   ]
  },
  {
   "cell_type": "code",
   "execution_count": null,
   "id": "4bb3bfee",
   "metadata": {},
   "outputs": [],
   "source": [
    "# seperate out the target and predictive vars from test and train\n",
    "\n",
    "#train\n",
    "\n",
    "train_x=train.drop(columns=['GPP_DT_VUT_REF'])\n",
    "train_y=train[['GPP_DT_VUT_REF']]"
   ]
  },
  {
   "cell_type": "code",
   "execution_count": null,
   "id": "18479d42",
   "metadata": {},
   "outputs": [],
   "source": [
    "#test\n",
    "\n",
    "test_x=test.drop(columns=['GPP_DT_VUT_REF'])\n",
    "test_y=test[['GPP_DT_VUT_REF']]"
   ]
  },
  {
   "cell_type": "code",
   "execution_count": null,
   "id": "939ed49a",
   "metadata": {
    "scrolled": true
   },
   "outputs": [],
   "source": [
    "# limit the period of us-var\n",
    "\n",
    "us_var = us_var[us_var['YEAR'].isin([2012, 2013, 2014])]\n"
   ]
  },
  {
   "cell_type": "code",
   "execution_count": null,
   "id": "9e61cf2e",
   "metadata": {},
   "outputs": [],
   "source": [
    "# seperate us-var into predictive and target vars\n",
    "\n",
    "us_var_x=us_var.drop(columns=['GPP_DT_VUT_REF'])\n",
    "us_var_y=us_var[['GPP_DT_VUT_REF']]"
   ]
  },
  {
   "cell_type": "code",
   "execution_count": null,
   "id": "4f50c826",
   "metadata": {},
   "outputs": [],
   "source": [
    "##########################################################################"
   ]
  },
  {
   "cell_type": "code",
   "execution_count": null,
   "id": "040b069d",
   "metadata": {},
   "outputs": [],
   "source": [
    "#LightGBM"
   ]
  },
  {
   "cell_type": "code",
   "execution_count": null,
   "id": "d7f8ea82",
   "metadata": {},
   "outputs": [],
   "source": [
    "param_bounds = {\n",
    "    'num_leaves': (31, 100),\n",
    "    'learning_rate': (0.01, 0.15),\n",
    "    'n_estimators': (100, 500),\n",
    "    'max_depth': (-1, 30),\n",
    "    'min_child_samples': (50, 150),\n",
    "    'subsample': (0.6, 1.0),\n",
    "    'colsample_bytree': (0.6, 1.0),\n",
    "    'lambda_l1': (0.0, 0.5),\n",
    "    'lambda_l2': (0.0, 0.5)\n",
    "}\n"
   ]
  },
  {
   "cell_type": "code",
   "execution_count": null,
   "id": "eb01552a",
   "metadata": {},
   "outputs": [],
   "source": [
    "### initialise the model\n",
    "\n",
    "lgb_model = lgb.LGBMRegressor(boosting_type='gbdt', objective='regression', metric='mae', verbosity=-1)\n"
   ]
  },
  {
   "cell_type": "code",
   "execution_count": null,
   "id": "b9aaa881",
   "metadata": {},
   "outputs": [],
   "source": [
    "# optimize LightGBM with Bayesian optimisation "
   ]
  },
  {
   "cell_type": "code",
   "execution_count": null,
   "id": "3219b345",
   "metadata": {},
   "outputs": [],
   "source": [
    "\n",
    "def objective_lgb(num_leaves, learning_rate, n_estimators, max_depth, min_child_samples, subsample, colsample_bytree, lambda_l1, lambda_l2):\n",
    "    \n",
    "    \n",
    "    model = lgb.LGBMRegressor(\n",
    "        boosting_type='gbdt', \n",
    "        num_leaves=int(num_leaves),\n",
    "        learning_rate=float(learning_rate),\n",
    "        n_estimators=int(n_estimators),\n",
    "        max_depth=int(max_depth),\n",
    "        min_child_samples=int(min_child_samples),\n",
    "        subsample=float(subsample),\n",
    "        colsample_bytree=float(colsample_bytree),\n",
    "        reg_alpha=float(lambda_l1),  \n",
    "        reg_lambda=float(lambda_l2), \n",
    "        objective='regression',\n",
    "        metric='mae',\n",
    "        verbosity=-1\n",
    "    )\n",
    "    \n",
    "   \n",
    "    cv_score = -1.0 * cross_val_score(model, train_x, train_y, cv=10, scoring=\"neg_mean_squared_error\").mean()\n",
    "\n",
    "    return cv_score\n"
   ]
  },
  {
   "cell_type": "code",
   "execution_count": null,
   "id": "b9008bc2",
   "metadata": {},
   "outputs": [],
   "source": [
    "optimizer = BayesianOptimization(\n",
    "    f=objective_lgb,  \n",
    "    pbounds=param_bounds, \n",
    "    random_state=42\n",
    ")\n",
    "\n",
    "optimizer.maximize(init_points=10, n_iter=30)\n"
   ]
  },
  {
   "cell_type": "code",
   "execution_count": null,
   "id": "944fb9a9",
   "metadata": {},
   "outputs": [],
   "source": [
    "# train the model on training data\n",
    "\n",
    "best_gbm = lgb.LGBMRegressor(\n",
    "    boosting_type='gbdt',  \n",
    "    num_leaves=int(best_params['num_leaves']),\n",
    "    learning_rate=float(best_params['learning_rate']),\n",
    "    n_estimators=int(best_params['n_estimators']),\n",
    "    max_depth=int(best_params['max_depth']),\n",
    "    min_child_samples=int(best_params['min_child_samples']),\n",
    "    subsample=float(best_params['subsample']),\n",
    "    colsample_bytree=float(best_params['colsample_bytree']),\n",
    "    reg_alpha=float(best_params['lambda_l1']),\n",
    "    reg_lambda=float(best_params['lambda_l2']),\n",
    "    objective='regression',  \n",
    "    metric='mae', \n",
    "    verbosity=-1  \n",
    ")\n",
    "\n",
    "\n",
    "best_gbm.fit(train_x, train_y)\n"
   ]
  },
  {
   "cell_type": "code",
   "execution_count": null,
   "id": "b0d4378a",
   "metadata": {},
   "outputs": [],
   "source": [
    "best_params = optimizer.max['params']\n",
    "print(f\"Best Parameters: {best_params}\")"
   ]
  },
  {
   "cell_type": "code",
   "execution_count": null,
   "id": "35a4ce6b",
   "metadata": {},
   "outputs": [],
   "source": [
    "### 10-fold cross validation on training data\n",
    "\n",
    "kf = KFold(n_splits=10, shuffle=True, random_state=333)"
   ]
  },
  {
   "cell_type": "code",
   "execution_count": null,
   "id": "ce6447fe",
   "metadata": {},
   "outputs": [],
   "source": [
    "train_cv_preds = cross_val_predict(best_gbm, train_x, train_y, cv=kf) #30 seconds\n"
   ]
  },
  {
   "cell_type": "code",
   "execution_count": null,
   "id": "2cd8ad36",
   "metadata": {},
   "outputs": [],
   "source": [
    "### evaluate the performance on training data\n",
    "\n",
    "train_cv_r2 = r2_score(train_y, train_cv_preds)\n",
    "train_cv_rmse = np.sqrt(mean_squared_error(train_y, train_cv_preds))\n",
    "train_cv_mae = mean_absolute_error(train_y, train_cv_preds)\n",
    "\n",
    "\n",
    "print(f\"Cross-Validation R² Score on Training Data: {train_cv_r2}\") #0.90\n",
    "print(f\"Cross-Validation RMSE on Training Data: {train_cv_rmse}\") # 1.24\n",
    "print(f\"Cross-Validation MAE on Training Data: {train_cv_mae}\") #0.83\n",
    "\n"
   ]
  },
  {
   "cell_type": "code",
   "execution_count": null,
   "id": "63693126",
   "metadata": {},
   "outputs": [],
   "source": [
    "### evaluate on test data"
   ]
  },
  {
   "cell_type": "code",
   "execution_count": null,
   "id": "5abd6a38",
   "metadata": {},
   "outputs": [],
   "source": [
    "LGB_preds = best_gbm.predict(test_x)\n"
   ]
  },
  {
   "cell_type": "code",
   "execution_count": null,
   "id": "6f286e45",
   "metadata": {},
   "outputs": [],
   "source": [
    "test_r2 = r2_score(test_y, LGB_preds)\n",
    "test_rmse = np.sqrt(mean_squared_error(test_y, LGB_preds))\n",
    "test_mae = mean_absolute_error(test_y, LGB_preds)\n",
    "\n",
    "\n",
    "print(f\"Final R² Score on Test Data: {test_r2}\") #0.77\n",
    "print(f\"RMSE on Test Data: {test_rmse}\") #1.99\n",
    "print(f\"MAE on Test Data: {test_mae}\") #1.41\n",
    "\n"
   ]
  },
  {
   "cell_type": "code",
   "execution_count": null,
   "id": "54b428b7",
   "metadata": {},
   "outputs": [],
   "source": [
    "##############################################################"
   ]
  },
  {
   "cell_type": "code",
   "execution_count": null,
   "id": "20f80d06",
   "metadata": {},
   "outputs": [],
   "source": [
    "# Random Forest "
   ]
  },
  {
   "cell_type": "code",
   "execution_count": null,
   "id": "4d2a8d93",
   "metadata": {},
   "outputs": [],
   "source": [
    "# Bayesian optimisation"
   ]
  },
  {
   "cell_type": "code",
   "execution_count": null,
   "id": "b426cc5c",
   "metadata": {},
   "outputs": [],
   "source": [
    "def objective(n_estimators, max_depth, min_samples_split, max_features):\n",
    "    model = RandomForestRegressor(n_estimators=int(n_estimators),\n",
    "                                  max_depth=int(max_depth),\n",
    "                                  min_samples_split=int(min_samples_split),\n",
    "                                  max_features=min(max_features, 1.0),\n",
    "                                  random_state=2)\n",
    "    \n",
    "    return -1.0 * cross_val_score(model, train_x, train_y, cv=10, scoring=\"neg_mean_squared_error\").mean()"
   ]
  },
  {
   "cell_type": "code",
   "execution_count": null,
   "id": "a8bcf760",
   "metadata": {},
   "outputs": [],
   "source": [
    "# Bounds for hyperparameters\n",
    "param_bounds = {\n",
    "    'n_estimators': (50, 1000),\n",
    "    'max_depth': (5, 100),\n",
    "    'min_samples_split': (2, 50),\n",
    "    'max_features': (0.1, 0.999)\n",
    "}"
   ]
  },
  {
   "cell_type": "code",
   "execution_count": null,
   "id": "58d16651",
   "metadata": {
    "scrolled": false
   },
   "outputs": [],
   "source": [
    "optimizer = BayesianOptimization(\n",
    "    f=objective, \n",
    "    pbounds=param_bounds, \n",
    "    random_state=50\n",
    ")\n",
    "\n",
    "optimizer.maximize(init_points=10, n_iter=30)"
   ]
  },
  {
   "cell_type": "code",
   "execution_count": null,
   "id": "cfd06efa",
   "metadata": {},
   "outputs": [],
   "source": [
    "best_params = optimizer.max['params']\n",
    "best_params"
   ]
  },
  {
   "cell_type": "code",
   "execution_count": null,
   "id": "2e5037d3",
   "metadata": {},
   "outputs": [],
   "source": [
    "best_params_formatted = {\n",
    "    'n_estimators': int(best_params['n_estimators']),\n",
    "    'max_depth': int(best_params['max_depth']),\n",
    "    'min_samples_split': int(best_params['min_samples_split']),\n",
    "    'max_features': best_params['max_features']\n",
    "}\n",
    "best_params_formatted"
   ]
  },
  {
   "cell_type": "code",
   "execution_count": null,
   "id": "2bafc4fc",
   "metadata": {},
   "outputs": [],
   "source": [
    "final_model = RandomForestRegressor(n_estimators=619,\n",
    "                                   max_depth=40,\n",
    "                                   min_samples_split=37,\n",
    "                                   max_features=37,\n",
    "                                   random_state=42)"
   ]
  },
  {
   "cell_type": "code",
   "execution_count": null,
   "id": "5646b70f",
   "metadata": {},
   "outputs": [],
   "source": [
    "final_model.fit(train_x, train_y)\n"
   ]
  },
  {
   "cell_type": "code",
   "execution_count": null,
   "id": "d3ae25a7",
   "metadata": {},
   "outputs": [],
   "source": [
    "### 10-fold cross validation on training data\n",
    "\n",
    "kf = KFold(n_splits=10, shuffle=True, random_state=333)"
   ]
  },
  {
   "cell_type": "code",
   "execution_count": null,
   "id": "273ab534",
   "metadata": {},
   "outputs": [],
   "source": [
    "train_cv_preds = cross_val_predict(final_model, train_x, train_y, cv=kf) #30 seconds\n"
   ]
  },
  {
   "cell_type": "code",
   "execution_count": null,
   "id": "58e58104",
   "metadata": {},
   "outputs": [],
   "source": [
    "### evaluate the performance on training data\n",
    "\n",
    "train_cv_r2 = r2_score(train_y, train_cv_preds)\n",
    "train_cv_rmse = np.sqrt(mean_squared_error(train_y, train_cv_preds))\n",
    "train_cv_mae = mean_absolute_error(train_y, train_cv_preds)\n",
    "\n",
    "print(f\"Cross-Validation R² Score on Training Data: {train_cv_r2}\") #0.89\n",
    "print(f\"Cross-Validation RMSE on Training Data: {train_cv_rmse}\") # 1.29\n",
    "print(f\"Cross-Validation MAE on Training Data: {train_cv_mae}\") #0.82"
   ]
  },
  {
   "cell_type": "code",
   "execution_count": null,
   "id": "e35b8158",
   "metadata": {},
   "outputs": [],
   "source": [
    "### evaluate on test data"
   ]
  },
  {
   "cell_type": "code",
   "execution_count": null,
   "id": "ce6fdf25",
   "metadata": {},
   "outputs": [],
   "source": [
    "RF_preds = final_model.predict(test_x)\n"
   ]
  },
  {
   "cell_type": "code",
   "execution_count": null,
   "id": "a85f18fe",
   "metadata": {},
   "outputs": [],
   "source": [
    "test_r2 = r2_score(test_y, RF_preds)\n",
    "test_rmse = np.sqrt(mean_squared_error(test_y, RF_preds))\n",
    "test_mae = mean_absolute_error(test_y, RF_preds)\n",
    "\n",
    "\n",
    "print(f\"Final R² Score on Test Data: {test_r2}\") #0.78\n",
    "print(f\"RMSE on Test Data: {test_rmse}\") #1.93\n",
    "print(f\"MAE on Test Data: {test_mae}\") #1.39\n",
    "\n"
   ]
  },
  {
   "cell_type": "code",
   "execution_count": null,
   "id": "b5433768",
   "metadata": {},
   "outputs": [],
   "source": [
    "# RUN THE P-MODEL"
   ]
  },
  {
   "cell_type": "code",
   "execution_count": null,
   "id": "df6cf887",
   "metadata": {},
   "outputs": [],
   "source": [
    "# reverse log of the vpd \n",
    "\n",
    "vpd_original = np.exp(test_x['VPD_log'])\n"
   ]
  },
  {
   "cell_type": "code",
   "execution_count": null,
   "id": "136c757f",
   "metadata": {},
   "outputs": [],
   "source": [
    "env = pmodel.PModelEnvironment(\n",
    "    tc=test_x['TA_F'].to_numpy(),  # temp in deg C\n",
    "    patm=(test_x['PA_F'].to_numpy() * 1000),  # converted to Pa from kPa\n",
    "    vpd=(vpd_original.to_numpy() * 100),  # converted to Pa from hPa\n",
    "    co2=test_x['CO2_F_MDS'].to_numpy()  # CO2 concentration (ppm)\n",
    ")\n",
    "\n",
    "model = pmodel.PModel(env, method_optchi='prentice14')\n",
    "\n",
    "model.estimate_productivity(\n",
    "    fapar=test_x['fapar_y'].to_numpy(),  \n",
    "    ppfd=test_x['PPFD_IN_y'].to_numpy()  \n",
    ")\n",
    "\n",
    "p_preds = model.gpp\n"
   ]
  },
  {
   "cell_type": "code",
   "execution_count": null,
   "id": "467a5479",
   "metadata": {},
   "outputs": [],
   "source": [
    "model.summ"
   ]
  },
  {
   "cell_type": "code",
   "execution_count": null,
   "id": "791adc3c",
   "metadata": {},
   "outputs": [],
   "source": [
    "model.optchi.summarize()\n"
   ]
  },
  {
   "cell_type": "code",
   "execution_count": null,
   "id": "c949c5fa",
   "metadata": {},
   "outputs": [],
   "source": [
    "plt.figure(figsize=(8, 6))  \n",
    "\n",
    "plt.hist(p_preds, bins=30, edgecolor='black', color='skyblue')  # Create the histogram\n",
    "\n",
    "# Add labels and title\n",
    "plt.xlabel('Predicted GPP')\n",
    "plt.ylabel('Frequency')\n",
    "plt.title('Histogram of Predicted GPP (p_preds)')\n",
    "\n",
    "# Show the plot\n",
    "plt.show()"
   ]
  },
  {
   "cell_type": "code",
   "execution_count": null,
   "id": "93a98187",
   "metadata": {},
   "outputs": [],
   "source": [
    "p_preds= pd.DataFrame(p_preds, columns=['GPP'])  \n"
   ]
  },
  {
   "cell_type": "code",
   "execution_count": null,
   "id": "ba267d61",
   "metadata": {},
   "outputs": [],
   "source": [
    "# compare results"
   ]
  },
  {
   "cell_type": "code",
   "execution_count": null,
   "id": "0e1fa433",
   "metadata": {},
   "outputs": [],
   "source": [
    "# LGB_preds = LGB test prediction\n",
    "# p_preds = p mod test predcition \n",
    "# RF_preds = RF \n",
    "# test_y = fluxnet gpp measurements"
   ]
  },
  {
   "cell_type": "code",
   "execution_count": null,
   "id": "cedc8540",
   "metadata": {},
   "outputs": [],
   "source": [
    "test_date=test['date'] #add date col "
   ]
  },
  {
   "cell_type": "code",
   "execution_count": null,
   "id": "0f186caa",
   "metadata": {},
   "outputs": [],
   "source": [
    "test_igbp=pd.DataFrame(test['IGBP']) "
   ]
  },
  {
   "cell_type": "code",
   "execution_count": null,
   "id": "2be841e0",
   "metadata": {},
   "outputs": [],
   "source": [
    "test_results = pd.concat([test_date,test_igbp,test_y],axis=1)"
   ]
  },
  {
   "cell_type": "code",
   "execution_count": null,
   "id": "07b387c1",
   "metadata": {},
   "outputs": [],
   "source": [
    "test_results['GBM_preds']=LGB_preds"
   ]
  },
  {
   "cell_type": "code",
   "execution_count": null,
   "id": "3cb94454",
   "metadata": {},
   "outputs": [],
   "source": [
    "test_results['RF_preds']=RF_preds"
   ]
  },
  {
   "cell_type": "code",
   "execution_count": null,
   "id": "c87e7e54",
   "metadata": {},
   "outputs": [],
   "source": [
    "test_results['p_preds']=p_preds"
   ]
  },
  {
   "cell_type": "code",
   "execution_count": null,
   "id": "501a08a4",
   "metadata": {},
   "outputs": [],
   "source": [
    "## plots of predicted vs observed results with line \n",
    "\n",
    "plt.figure(figsize=(10, 8))\n",
    "sns.scatterplot(data=test_results, \n",
    "                x='GPP_DT_VUT_REF',   \n",
    "                y='GBM_preds',       \n",
    "                hue='IGBP',          \n",
    "                style='IGBP',        \n",
    "                s=70,                \n",
    "                palette='Set2')        \n",
    "\n",
    "\n",
    "slope, intercept = np.polyfit(test_results['GPP_DT_VUT_REF'], test_results['GBM_preds'], 1)\n",
    "regression_line = slope * test_results['GPP_DT_VUT_REF'] + intercept\n",
    "\n",
    "plt.plot(test_results['GPP_DT_VUT_REF'], regression_line, color='black', linewidth=1.5, label='_nolegend_')\n",
    "\n",
    "\n",
    "\n",
    "r2 = r2_score(test_results['GPP_DT_VUT_REF'], test_results['GBM_preds'])\n",
    "rmse = np.sqrt(mean_squared_error(test_results['GPP_DT_VUT_REF'], test_results['GBM_preds']))\n",
    "mae = mean_absolute_error(test_results['GPP_DT_VUT_REF'], test_results['GBM_preds'])\n",
    "\n",
    "\n",
    "\n",
    "plt.xlabel('FLUXNET GPP (gC m$^{-2}$ d$^{-1}$)',fontsize=14)\n",
    "plt.ylabel('LightGBM Predicted GPP (gC m$^{-2}$ d$^{-1}$)',fontsize=14)\n",
    "plt.title('LightGBM',fontweight='bold',fontsize=14)\n",
    "\n",
    "plt.text(19, 1, f'$R^2 = {r2:.2f}$', fontsize=13)\n",
    "plt.text(19, 2, f'RMSE = {rmse:.2f}', fontsize=13)\n",
    "plt.text(19, 3, f'MAE = {mae:.2f}', fontsize=13)\n",
    "plt.legend(fontsize=13,loc='upper left')\n",
    "\n",
    "plt.show()"
   ]
  },
  {
   "cell_type": "code",
   "execution_count": null,
   "id": "93dc304b",
   "metadata": {},
   "outputs": [],
   "source": [
    "plt.figure(figsize=(10, 8))\n",
    "sns.scatterplot(data=test_results, \n",
    "                x='GPP_DT_VUT_REF',   \n",
    "                y='RF_preds',        \n",
    "                hue='IGBP',          \n",
    "                style='IGBP',        \n",
    "                s=70,                \n",
    "                palette='Set2')      \n",
    "\n",
    "\n",
    "slope, intercept = np.polyfit(test_results['GPP_DT_VUT_REF'], test_results['RF_preds'], 1)\n",
    "regression_line = slope * test_results['GPP_DT_VUT_REF'] + intercept\n",
    "\n",
    "plt.plot(test_results['GPP_DT_VUT_REF'], regression_line, color='black', linewidth=1.5, label='_nolegend_')\n",
    "\n",
    "\n",
    "\n",
    "r2 = r2_score(test_results['GPP_DT_VUT_REF'], test_results['RF_preds'])\n",
    "rmse = np.sqrt(mean_squared_error(test_results['GPP_DT_VUT_REF'], test_results['RF_preds']))\n",
    "mae = mean_absolute_error(test_results['GPP_DT_VUT_REF'], test_results['RF_preds'])\n",
    "\n",
    "\n",
    "\n",
    "plt.xlabel('FLUXNET GPP (gC m$^{-2}$ d$^{-1}$)',fontsize=14)\n",
    "plt.ylabel('RF Predicted GPP (gC m$^{-2}$ d$^{-1}$)',fontsize=14)\n",
    "plt.title('Random Forest',fontweight='bold',fontsize=14)\n",
    "\n",
    "plt.text(19, 1, f'$R^2 = {r2:.2f}$', fontsize=13)\n",
    "plt.text(19, 2, f'RMSE = {rmse:.2f}', fontsize=13)\n",
    "plt.text(19, 3, f'MAE = {mae:.2f}', fontsize=13)\n",
    "plt.legend(fontsize=13,loc='upper left')\n",
    "\n",
    "\n",
    "plt.show()"
   ]
  },
  {
   "cell_type": "code",
   "execution_count": null,
   "id": "2c7f4020",
   "metadata": {
    "scrolled": false
   },
   "outputs": [],
   "source": [
    "plt.figure(figsize=(10, 8))\n",
    "sns.scatterplot(data=test_results, \n",
    "                x='GPP_DT_VUT_REF',  \n",
    "                y='p_preds',        \n",
    "                hue='IGBP',         \n",
    "                style='IGBP',       \n",
    "                s=70,               \n",
    "                palette='Set2')     \n",
    "\n",
    "\n",
    "slope, intercept = np.polyfit(test_results['GPP_DT_VUT_REF'], test_results['p_preds'], 1)\n",
    "regression_line = slope * test_results['GPP_DT_VUT_REF'] + intercept\n",
    "\n",
    "plt.plot(test_results['GPP_DT_VUT_REF'], regression_line, color='black', linewidth=1.5, label='_nolegend_')\n",
    "\n",
    "\n",
    "\n",
    "r2 = r2_score(test_results['GPP_DT_VUT_REF'], test_results['p_preds'])\n",
    "rmse = np.sqrt(mean_squared_error(test_results['GPP_DT_VUT_REF'], test_results['p_preds']))\n",
    "mae = mean_absolute_error(test_results['GPP_DT_VUT_REF'], test_results['p_preds'])\n",
    "\n",
    "\n",
    "\n",
    "plt.xlabel('FLUXNET GPP (gC m$^{-2}$ d$^{-1}$)',fontsize=14)\n",
    "plt.ylabel('P-model Predicted GPP (gC m$^{-2}$ d$^{-1}$)',fontsize=14)\n",
    "plt.title('P-model',fontweight='bold',fontsize=14)\n",
    "\n",
    "plt.text(19, 40, f'$R^2 = {r2:.2f}$', fontsize=13)\n",
    "plt.text(19, 30, f'RMSE = {rmse:.2f}', fontsize=13)\n",
    "plt.text(19, 20, f'MAE = {mae:.2f}', fontsize=13)\n",
    "plt.legend(fontsize=13,loc='upper left')\n",
    "\n",
    "plt.show()"
   ]
  },
  {
   "cell_type": "code",
   "execution_count": null,
   "id": "b0326d6e",
   "metadata": {},
   "outputs": [],
   "source": [
    "test_results['hemisphere']=test['hemisphere']"
   ]
  },
  {
   "cell_type": "code",
   "execution_count": null,
   "id": "c72b1243",
   "metadata": {},
   "outputs": [],
   "source": [
    "# R2 by IGBP\n",
    "\n",
    "\n",
    "r2_per_igbp_gbm = test_results.groupby('IGBP').apply(\n",
    "    lambda group: r2_score(group['GPP_DT_VUT_REF'], group['GBM_preds'])\n",
    ").reset_index().rename(columns={0: 'R²'})\n",
    "\n",
    "print(\"R² for each IGBP type (LightGBM):\")\n",
    "print(r2_per_igbp_gbm)\n",
    "\n"
   ]
  },
  {
   "cell_type": "code",
   "execution_count": null,
   "id": "036557f7",
   "metadata": {
    "scrolled": true
   },
   "outputs": [],
   "source": [
    "r2_per_igbp_rf = test_results.groupby('IGBP').apply(\n",
    "    lambda group: r2_score(group['GPP_DT_VUT_REF'], group['RF_preds'])\n",
    ").reset_index().rename(columns={0: 'R²'})\n",
    "\n",
    "print(\"R² for each IGBP type (RF):\")\n",
    "print(r2_per_igbp_rf)\n",
    "\n"
   ]
  },
  {
   "cell_type": "code",
   "execution_count": null,
   "id": "07604983",
   "metadata": {},
   "outputs": [],
   "source": [
    "# combine LightGBM and Random Forest by IGBP\n",
    "r2_igbp_combined = pd.DataFrame({\n",
    "    'IGBP': r2_per_igbp_gbm['IGBP'], \n",
    "    'LightGBM': r2_per_igbp_gbm['R²'], \n",
    "    'RF': r2_per_igbp_rf['R²']  \n",
    "})\n",
    "\n",
    "# reshape the df \n",
    "r2_igbp_combined_melted = r2_igbp_combined.melt(id_vars='IGBP', var_name='Model', value_name='R²')\n",
    "\n",
    "print(r2_igbp_combined_melted)"
   ]
  },
  {
   "cell_type": "code",
   "execution_count": null,
   "id": "7f202447",
   "metadata": {},
   "outputs": [],
   "source": [
    "# R2 by IGBP\n",
    "\n",
    "colors={'LightGBM':'red','RF':'blue'}\n",
    "\n",
    "plt.figure(figsize=(12, 6))\n",
    "ax=sns.barplot(x='IGBP', y='R²', hue='Model', data=r2_igbp_combined_melted, \n",
    "            palette=colors ,alpha=0.8,edgecolor='black')\n",
    "\n",
    "plt.xlabel('IGBP Type', fontsize=14)\n",
    "plt.ylabel('R² score', fontsize=14)\n",
    "plt.xticks(rotation=0)  \n",
    "plt.legend( fontsize=14)\n",
    "\n",
    "\n",
    "for p in ax.patches:\n",
    "    height = p.get_height()  \n",
    "    if height > 0.01:  \n",
    "        ax.text(\n",
    "            p.get_x() + p.get_width() / 2.,  \n",
    "            height + 0.01,  \n",
    "            f'{height:.2f}', \n",
    "            ha=\"center\", \n",
    "            fontsize=11 \n",
    "        )\n",
    "\n",
    "\n",
    "plt.tight_layout()\n",
    "plt.show()\n"
   ]
  },
  {
   "cell_type": "code",
   "execution_count": null,
   "id": "820a4406",
   "metadata": {},
   "outputs": [],
   "source": [
    "## seperate results by hemisphere\n",
    "\n",
    "test_results_NH=test_results[test_results['hemisphere']=='NH']\n",
    "test_results_SH=test_results[test_results['hemisphere']=='SH']"
   ]
  },
  {
   "cell_type": "code",
   "execution_count": null,
   "id": "0a69701f",
   "metadata": {},
   "outputs": [],
   "source": [
    "# plot the time series (NH)\n",
    "\n",
    "plt.figure(figsize=(12, 6))\n",
    "\n",
    "plt.plot(test_results_NH['date'], test_results_NH['GPP_DT_VUT_REF'], \n",
    "         label='FLUXNET', \n",
    "         color='gray', linewidth=1)\n",
    "\n",
    "plt.plot(test_results_NH['date'], test_results_NH['GBM_preds'], \n",
    "         label='LightGBM ', color='red', linestyle='--')\n",
    "\n",
    "plt.plot(test_results_NH['date'], test_results_NH['RF_preds'], \n",
    "         label='RF', color='blue', linestyle=':',\n",
    "        alpha=1)\n",
    "\n",
    "plt.xlabel('Date', fontsize=14)\n",
    "plt.ylabel('GPP (gC m$^{-2}$ d$^{-1}$)', fontsize=14)\n",
    "\n",
    "plt.legend(loc='best', fontsize=12)\n",
    "\n",
    "plt.grid(True, which='both', linestyle='--', linewidth=0.5)\n",
    "\n",
    "\n",
    "plt.title('',\n",
    "         fontsize=16,\n",
    "         fontweight='bold')\n",
    "plt.tight_layout()\n",
    "plt.show()"
   ]
  },
  {
   "cell_type": "code",
   "execution_count": null,
   "id": "6277cd7e",
   "metadata": {},
   "outputs": [],
   "source": [
    "# plot the time series (SH)\n",
    "\n",
    "plt.figure(figsize=(12, 6))\n",
    "\n",
    "plt.plot(test_results_SH['date'], test_results_SH['GPP_DT_VUT_REF'], \n",
    "         label='FLUXNET', \n",
    "         color='gray', linewidth=1)\n",
    "\n",
    "plt.plot(test_results_SH['date'], test_results_SH['GBM_preds'], \n",
    "         label='LightGBM ', color='red', linestyle='--')\n",
    "\n",
    "plt.plot(test_results_SH['date'], test_results_SH['RF_preds'], \n",
    "         label='RF', color='blue', linestyle=':',\n",
    "        alpha=1)\n",
    "\n",
    "plt.xlabel('Date', fontsize=14)\n",
    "plt.ylabel('GPP (gC m$^{-2}$ d$^{-1}$)', fontsize=14)\n",
    "\n",
    "plt.legend(loc='best', fontsize=12)\n",
    "\n",
    "plt.grid(True, which='both', linestyle='--', linewidth=0.5)\n",
    "\n",
    "\n",
    "plt.title('',\n",
    "         fontsize=16,\n",
    "         fontweight='bold')\n",
    "plt.tight_layout()\n",
    "plt.show()"
   ]
  },
  {
   "cell_type": "code",
   "execution_count": null,
   "id": "be1c939b",
   "metadata": {},
   "outputs": [],
   "source": [
    "print(\"MAX LIGHTGBM PROD:\",test_results['GBM_preds'].max())\n",
    "print(\"MAX RF PROD:\",test_results['RF_preds'].max())\n",
    "print(\"MAX OBSERVED PROD:\",test_results['GPP_DT_VUT_REF'].max())\n"
   ]
  },
  {
   "cell_type": "code",
   "execution_count": null,
   "id": "0155d486",
   "metadata": {},
   "outputs": [],
   "source": [
    "test_results['LAT']=test['LAT']"
   ]
  },
  {
   "cell_type": "code",
   "execution_count": null,
   "id": "a98a0df5",
   "metadata": {},
   "outputs": [],
   "source": [
    "test_results['LONG']=test['LONG']"
   ]
  },
  {
   "cell_type": "code",
   "execution_count": null,
   "id": "c5e6be80",
   "metadata": {},
   "outputs": [],
   "source": [
    "lat_dist=test_results.copy()"
   ]
  },
  {
   "cell_type": "code",
   "execution_count": null,
   "id": "af65f77d",
   "metadata": {},
   "outputs": [],
   "source": [
    "### latitudinal distribution of predictions\n",
    "\n",
    "lat_dist['latitude_bin'] = pd.cut(lat_dist['LAT'], bins=np.arange(-90, 91, 10), labels=np.arange(-85, 90, 10))\n"
   ]
  },
  {
   "cell_type": "code",
   "execution_count": null,
   "id": "4fdc9e94",
   "metadata": {},
   "outputs": [],
   "source": [
    "bins = [-90, -10, 0, 40, 45, 50, 55, 90]\n",
    "lat_dist['latitude_bin'] = pd.cut(\n",
    "    lat_dist['LAT'], \n",
    "    bins=bins, \n",
    "    labels=[\n",
    "        \"90°S-10°S\", \n",
    "        \"10°S-0°\", \n",
    "        \"0°-40°N\", \n",
    "        \"40°N-45°N\", \n",
    "        \"45°N-50°N\", \n",
    "        \"50°N-55°N\", \n",
    "        \"55°N-90°N\"\n",
    "    ]\n",
    ")"
   ]
  },
  {
   "cell_type": "code",
   "execution_count": null,
   "id": "77428c74",
   "metadata": {
    "scrolled": true
   },
   "outputs": [],
   "source": [
    "latitudinal_distribution_obs = lat_dist.groupby('latitude_bin')['GPP_DT_VUT_REF'].mean()\n"
   ]
  },
  {
   "cell_type": "code",
   "execution_count": null,
   "id": "9ff2bda7",
   "metadata": {},
   "outputs": [],
   "source": [
    "latitudinal_distribution_GBM = lat_dist.groupby('latitude_bin')['GBM_preds'].mean()\n"
   ]
  },
  {
   "cell_type": "code",
   "execution_count": null,
   "id": "844d40a4",
   "metadata": {},
   "outputs": [],
   "source": [
    "latitudinal_distribution_RF = lat_dist.groupby('latitude_bin')['RF_preds'].mean()\n"
   ]
  },
  {
   "cell_type": "code",
   "execution_count": null,
   "id": "452668c4",
   "metadata": {},
   "outputs": [],
   "source": [
    "latitudinal_distribution_obs=latitudinal_distribution_obs.reset_index()"
   ]
  },
  {
   "cell_type": "code",
   "execution_count": null,
   "id": "1589db57",
   "metadata": {},
   "outputs": [],
   "source": [
    "latitudinal_distribution_obs"
   ]
  },
  {
   "cell_type": "code",
   "execution_count": null,
   "id": "9df91a5b",
   "metadata": {},
   "outputs": [],
   "source": [
    "latitudinal_distribution_obs=latitudinal_distribution_obs.dropna()"
   ]
  },
  {
   "cell_type": "code",
   "execution_count": null,
   "id": "01079b8c",
   "metadata": {},
   "outputs": [],
   "source": [
    "latitudinal_distribution_GBM=latitudinal_distribution_GBM.reset_index()"
   ]
  },
  {
   "cell_type": "code",
   "execution_count": null,
   "id": "ffd7ade3",
   "metadata": {},
   "outputs": [],
   "source": [
    "latitudinal_distribution_GBM=latitudinal_distribution_GBM.dropna()"
   ]
  },
  {
   "cell_type": "code",
   "execution_count": null,
   "id": "6899ac46",
   "metadata": {},
   "outputs": [],
   "source": [
    "latitudinal_distribution_RF=latitudinal_distribution_RF.reset_index()"
   ]
  },
  {
   "cell_type": "code",
   "execution_count": null,
   "id": "4ccaed14",
   "metadata": {},
   "outputs": [],
   "source": [
    "latitudinal_distribution_RF=latitudinal_distribution_RF.dropna()"
   ]
  },
  {
   "cell_type": "code",
   "execution_count": null,
   "id": "034a0fa0",
   "metadata": {},
   "outputs": [],
   "source": [
    "combined_latitudinal_df = latitudinal_distribution_obs.merge(latitudinal_distribution_GBM, on='latitude_bin').merge(latitudinal_distribution_RF, on='latitude_bin')\n"
   ]
  },
  {
   "cell_type": "code",
   "execution_count": null,
   "id": "400b22d1",
   "metadata": {},
   "outputs": [],
   "source": [
    "combined_latitudinal_df"
   ]
  },
  {
   "cell_type": "code",
   "execution_count": null,
   "id": "4869522e",
   "metadata": {},
   "outputs": [],
   "source": [
    "colors = ['#cce7ff',  \n",
    "          '#66c2a4',  \n",
    "          '#41ae76',  \n",
    "          '#238b45',  \n",
    "          '#99d8c9'] "
   ]
  },
  {
   "cell_type": "code",
   "execution_count": null,
   "id": "794f4865",
   "metadata": {
    "scrolled": false
   },
   "outputs": [],
   "source": [
    "plt.figure(figsize=(6, 8))\n",
    "\n",
    "plt.plot(combined_latitudinal_df['GPP_DT_VUT_REF'], combined_latitudinal_df['latitude_bin'], \n",
    "         label='FLUXNET', linestyle='-', color='gray',alpha=0.7)\n",
    "\n",
    "plt.plot(combined_latitudinal_df['GBM_preds'], combined_latitudinal_df['latitude_bin'], \n",
    "         label='LightGBM', marker='s', linestyle='--', color='red')\n",
    "\n",
    "plt.plot(combined_latitudinal_df['RF_preds'], combined_latitudinal_df['latitude_bin'], \n",
    "         label='RF', marker='o', linestyle=':', color='blue')\n",
    "\n",
    "for i in range(len(combined_latitudinal_df['latitude_bin'])):\n",
    "    if i < len(combined_latitudinal_df['latitude_bin']) - 1:\n",
    "        plt.fill_betweenx(\n",
    "            [combined_latitudinal_df['latitude_bin'].iloc[i], combined_latitudinal_df['latitude_bin'].iloc[i + 1]],  # Between bins\n",
    "            combined_latitudinal_df[['GPP_DT_VUT_REF', 'GBM_preds', 'RF_preds']].min().min(),  # Starting X value\n",
    "            combined_latitudinal_df[['GPP_DT_VUT_REF', 'GBM_preds', 'RF_preds']].max().max(),  # Ending X value\n",
    "            color=colors[i % len(colors)],  \n",
    "            alpha=0.2  \n",
    "        )\n",
    "\n",
    "\n",
    "plt.xlabel('Average GPP (gC m$^{-2}$ d$^{-1}$)')\n",
    "plt.ylabel('Latitude',fontsize=14)\n",
    "plt.legend()"
   ]
  },
  {
   "cell_type": "code",
   "execution_count": null,
   "id": "4472f6a1",
   "metadata": {},
   "outputs": [],
   "source": [
    "### SHAP feature importance "
   ]
  },
  {
   "cell_type": "code",
   "execution_count": null,
   "id": "21587e45",
   "metadata": {},
   "outputs": [],
   "source": [
    "#  SHAP explainer for LightGBM\n",
    "explainer_best_estimator = shap.Explainer(best_gbm)\n",
    "shap_values_best_estimator = explainer_best_estimator(test_x) "
   ]
  },
  {
   "cell_type": "code",
   "execution_count": null,
   "id": "c0390221",
   "metadata": {},
   "outputs": [],
   "source": [
    "#  SHAP explainer for RF\n",
    "explainer_final_model = shap.Explainer(final_model)\n",
    "shap_values_final_model = explainer_final_model(test_x)  \n"
   ]
  },
  {
   "cell_type": "code",
   "execution_count": null,
   "id": "889919ca",
   "metadata": {},
   "outputs": [],
   "source": [
    "shap_vals_lightgbm = np.mean(np.abs(shap_values_best_estimator.values), axis=0)\n",
    "shap_vals_rf = np.mean(np.abs(shap_values_final_model.values), axis=0)\n"
   ]
  },
  {
   "cell_type": "code",
   "execution_count": null,
   "id": "5854fada",
   "metadata": {},
   "outputs": [],
   "source": [
    "features = test_x.columns\n"
   ]
  },
  {
   "cell_type": "code",
   "execution_count": null,
   "id": "6f65c12b",
   "metadata": {},
   "outputs": [],
   "source": [
    "shap_df = pd.DataFrame({\n",
    "    'Features': features,\n",
    "    'LightGBM': shap_vals_lightgbm,\n",
    "    'RandomForest': shap_vals_rf\n",
    "})\n"
   ]
  },
  {
   "cell_type": "code",
   "execution_count": null,
   "id": "a5b72cd8",
   "metadata": {},
   "outputs": [],
   "source": [
    "shap_df = shap_df.sort_values(by='LightGBM', ascending=True)\n"
   ]
  },
  {
   "cell_type": "code",
   "execution_count": null,
   "id": "939784c5",
   "metadata": {},
   "outputs": [],
   "source": [
    "rename={'PPFD_IN_y':'PPFD_IN',\n",
    "        'fapar_y':'fAPAR',\n",
    "        'NIRv_y':'NIRv',\n",
    "        'Daily_Averaged_SIF_y':'Daily_Averaged_SIF'}"
   ]
  },
  {
   "cell_type": "code",
   "execution_count": null,
   "id": "9375db35",
   "metadata": {},
   "outputs": [],
   "source": [
    "shap_df['Features'] = shap_df['Features'].replace(rename)\n"
   ]
  },
  {
   "cell_type": "code",
   "execution_count": null,
   "id": "077b7745",
   "metadata": {},
   "outputs": [],
   "source": [
    "satellite_features = ['NIRv', 'Daily_Averaged_SIF', 'fAPAR']\n"
   ]
  },
  {
   "cell_type": "code",
   "execution_count": null,
   "id": "115ec538",
   "metadata": {},
   "outputs": [],
   "source": [
    "shap_df_lightgbm = shap_df[['Features', 'LightGBM']].copy()\n",
    "shap_df_rf = shap_df[['Features', 'RandomForest']].copy()\n"
   ]
  },
  {
   "cell_type": "code",
   "execution_count": null,
   "id": "1851535e",
   "metadata": {},
   "outputs": [],
   "source": [
    "shap_df_lightgbm = shap_df_lightgbm.sort_values(by='LightGBM', ascending=True)\n"
   ]
  },
  {
   "cell_type": "code",
   "execution_count": null,
   "id": "c57461a9",
   "metadata": {},
   "outputs": [],
   "source": [
    "shap_df_rf = shap_df_rf.sort_values(by='RandomForest', ascending=True)\n"
   ]
  },
  {
   "cell_type": "code",
   "execution_count": null,
   "id": "ebe6621a",
   "metadata": {},
   "outputs": [],
   "source": [
    "# SHAP plots\n",
    "\n",
    "fig, (ax1, ax2) = plt.subplots(nrows=1, ncols=2, figsize=(14, 8), sharex=True)\n",
    "\n",
    "index_lightgbm = np.arange(len(shap_df_lightgbm['Features']))\n",
    "index_rf = np.arange(len(shap_df_rf['Features']))\n",
    "\n",
    "ax1.barh(index_lightgbm, shap_df_lightgbm['LightGBM'], color='red', alpha=0.7,\n",
    "        edgecolor='black')\n",
    "ax1.set_yticks(index_lightgbm)\n",
    "\n",
    "y_labels_lightgbm = shap_df_lightgbm['Features']\n",
    "colors_lightgbm = ['red' if label in satellite_features else 'black' for label in y_labels_lightgbm]\n",
    "\n",
    "ax1.set_yticklabels(y_labels_lightgbm, fontsize=13)\n",
    "for tick_label, color in zip(ax1.get_yticklabels(), colors_lightgbm):\n",
    "    tick_label.set_color(color)\n",
    "\n",
    "ax1.set_xlabel('Mean |SHAP value|', fontsize=14)\n",
    "ax1.set_ylabel('Features', fontsize=14)\n",
    "ax1.set_title('LightGBM',fontweight='bold')\n",
    "\n",
    "ax2.barh(index_rf, shap_df_rf['RandomForest'], color='blue', alpha=0.7, hatch='//',\n",
    "        edgecolor='black')\n",
    "ax2.set_yticks(index_rf)\n",
    "\n",
    "ax2.yaxis.tick_right()\n",
    "\n",
    "y_labels_rf = shap_df_rf['Features']\n",
    "colors_rf = ['red' if label in satellite_features else 'black' for label in y_labels_rf]\n",
    "\n",
    "\n",
    "ax2.set_yticklabels(y_labels_rf, fontsize=12)\n",
    "for tick_label, color in zip(ax2.get_yticklabels(), colors_rf):\n",
    "    tick_label.set_color(color)\n",
    "\n",
    "ax2.set_xlabel('Mean |SHAP value|', fontsize=13)\n",
    "ax2.set_ylabel('', fontsize=13)\n",
    "ax2.set_title('Random Forest',fontweight='bold')\n",
    "\n",
    "plt.tight_layout()\n",
    "plt.show()"
   ]
  },
  {
   "cell_type": "code",
   "execution_count": null,
   "id": "fbdc9b0c",
   "metadata": {},
   "outputs": [],
   "source": [
    "# US-ME GENERALISABILITY"
   ]
  },
  {
   "cell_type": "code",
   "execution_count": null,
   "id": "3cc7f78b",
   "metadata": {},
   "outputs": [],
   "source": [
    "# predict with LightGBM"
   ]
  },
  {
   "cell_type": "code",
   "execution_count": null,
   "id": "a8cad2e3",
   "metadata": {},
   "outputs": [],
   "source": [
    "us_LGB_preds = best_gbm.predict(us_var_x)"
   ]
  },
  {
   "cell_type": "code",
   "execution_count": null,
   "id": "52380e30",
   "metadata": {},
   "outputs": [],
   "source": [
    "us_LGB_r2 = r2_score(us_var_y, us_LGB_preds)\n",
    "us_LGB_rmse = np.sqrt(mean_squared_error(us_var_y, us_LGB_preds))\n",
    "us_LGB_mae = mean_absolute_error(us_var_y, us_LGB_preds)\n",
    "\n",
    "print(f\"Final R² Score on us_var Data (Random Forest): {us_LGB_r2}\") # -1.81\n",
    "print(f\"RMSE on us_var Data (Random Forest): {us_LGB_rmse}\") # 4.32\n",
    "print(f\"MAE on us_var Data (Random Forest): {us_LGB_mae}\") #  3.72"
   ]
  },
  {
   "cell_type": "code",
   "execution_count": null,
   "id": "d672abf7",
   "metadata": {},
   "outputs": [],
   "source": [
    "# predict with RF"
   ]
  },
  {
   "cell_type": "code",
   "execution_count": null,
   "id": "c68d4613",
   "metadata": {},
   "outputs": [],
   "source": [
    "us_RF_preds = final_model.predict(us_var_x)"
   ]
  },
  {
   "cell_type": "code",
   "execution_count": null,
   "id": "ca70fc78",
   "metadata": {
    "scrolled": true
   },
   "outputs": [],
   "source": [
    "us_RF_r2 = r2_score(us_var_y, us_RF_preds)\n",
    "us_RF_rmse = np.sqrt(mean_squared_error(us_var_y, us_RF_preds))\n",
    "us_RF_mae = mean_absolute_error(us_var_y, us_RF_preds)\n",
    "\n",
    "print(f\"Final R² Score on us_var Data (Random Forest): {us_RF_r2}\") # -4.317\n",
    "print(f\"RMSE on us_var Data (Random Forest): {us_RF_rmse}\") # 5.94\n",
    "print(f\"MAE on us_var Data (Random Forest): {us_RF_mae}\") #  5.11"
   ]
  },
  {
   "cell_type": "code",
   "execution_count": null,
   "id": "8cdf2124",
   "metadata": {},
   "outputs": [],
   "source": [
    "#p-model prediction "
   ]
  },
  {
   "cell_type": "code",
   "execution_count": null,
   "id": "d8dd231a",
   "metadata": {},
   "outputs": [],
   "source": [
    "vpd_original = np.exp(us_var_x['VPD_log'])\n"
   ]
  },
  {
   "cell_type": "code",
   "execution_count": null,
   "id": "c1113350",
   "metadata": {},
   "outputs": [],
   "source": [
    "env = pmodel.PModelEnvironment(\n",
    "    tc=us_var_x['TA_F'].to_numpy(),  # temp in deg C\n",
    "    patm=(us_var_x['PA_F'].to_numpy() * 1000),  # converted to Pa from kPa\n",
    "    vpd=(vpd_original.to_numpy() * 100),  # converted to Pa from hPa\n",
    "    co2=us_var_x['CO2_F_MDS'].to_numpy()  # CO2 concentration (ppm)\n",
    ")\n",
    "\n",
    "model = pmodel.PModel(env, method_optchi='prentice14')\n",
    "\n",
    "model.estimate_productivity(\n",
    "    fapar=us_var_x['fapar_y'].to_numpy(),  \n",
    "    ppfd=us_var_x['PPFD_IN_y'].to_numpy()  \n",
    ")\n",
    "\n",
    "us_p_preds = model.gpp"
   ]
  },
  {
   "cell_type": "code",
   "execution_count": null,
   "id": "04d7096d",
   "metadata": {},
   "outputs": [],
   "source": [
    "us_p_r2 = r2_score(us_var_y, us_p_preds)\n",
    "us_p_rmse = np.sqrt(mean_squared_error(us_var_y, us_p_preds))\n",
    "us_p_mae = mean_absolute_error(us_var_y, us_p_preds)\n",
    "\n",
    "print(f\"Final R² Score on us_var Data (Random Forest): {us_p_r2}\") # -0.06\n",
    "print(f\"RMSE on us_var Data (Random Forest): {us_p_rmse}\") # 2.66\n",
    "print(f\"MAE on us_var Data (Random Forest): {us_p_mae}\") #  1.56"
   ]
  },
  {
   "cell_type": "code",
   "execution_count": null,
   "id": "9e7fe59b",
   "metadata": {},
   "outputs": [],
   "source": [
    "# US-Var results DF"
   ]
  },
  {
   "cell_type": "code",
   "execution_count": null,
   "id": "81df0409",
   "metadata": {},
   "outputs": [],
   "source": [
    "us_results=us_var_y.copy()"
   ]
  },
  {
   "cell_type": "code",
   "execution_count": null,
   "id": "ebb4e669",
   "metadata": {},
   "outputs": [],
   "source": [
    "us_results['date']=us_var['date']"
   ]
  },
  {
   "cell_type": "code",
   "execution_count": null,
   "id": "4373a19e",
   "metadata": {},
   "outputs": [],
   "source": [
    "us_results['p_preds']=us_p_preds"
   ]
  },
  {
   "cell_type": "code",
   "execution_count": null,
   "id": "2ec39311",
   "metadata": {},
   "outputs": [],
   "source": [
    "us_results['GBM_preds']=us_LGB_preds"
   ]
  },
  {
   "cell_type": "code",
   "execution_count": null,
   "id": "e6defb00",
   "metadata": {},
   "outputs": [],
   "source": [
    "us_results['RF_preds']=us_RF_preds"
   ]
  },
  {
   "cell_type": "code",
   "execution_count": null,
   "id": "0b3b833a",
   "metadata": {
    "scrolled": true
   },
   "outputs": [],
   "source": [
    "# scatter plots of predicted vs obseerved vals for US-Var"
   ]
  },
  {
   "cell_type": "code",
   "execution_count": null,
   "id": "25c74e63",
   "metadata": {},
   "outputs": [],
   "source": [
    "#LightGBM\n",
    "\n",
    "plt.figure(figsize=(10, 8))\n",
    "sns.scatterplot(data=us_results, \n",
    "                x='GPP_DT_VUT_REF',   \n",
    "                y='GBM_preds',        \n",
    "                s=50,\n",
    "               color='black')        \n",
    "\n",
    "\n",
    "# add regression line\n",
    "slope, intercept = np.polyfit(us_results['GPP_DT_VUT_REF'], us_results['GBM_preds'], 1)\n",
    "regression_line = slope * us_results['GPP_DT_VUT_REF'] + intercept\n",
    "\n",
    "# Plot the regression line\n",
    "plt.plot(us_results['GPP_DT_VUT_REF'], regression_line, color='red', linewidth=1.5, label='_nolegend_')\n",
    "\n",
    "\n",
    "# add metrics\n",
    "\n",
    "r2 = r2_score(us_results['GPP_DT_VUT_REF'], us_results['GBM_preds'])\n",
    "rmse = np.sqrt(mean_squared_error(us_results['GPP_DT_VUT_REF'], us_results['GBM_preds']))\n",
    "mae = mean_absolute_error(us_results['GPP_DT_VUT_REF'], us_results['GBM_preds'])\n",
    "\n",
    "\n",
    "\n",
    "# Add labels and title\n",
    "plt.xlabel('FLUXNET GPP (gC m$^{-2}$ d$^{-1}$)',fontsize=14)\n",
    "plt.ylabel('Predicted GPP (gC m$^{-2}$ d$^{-1}$)',fontsize=14)\n",
    "plt.title('LightGBM',fontweight='bold',fontsize=14)\n",
    "\n",
    "# Add R², RMSE, and MAE as annotations\n",
    "plt.text(10, 1, f'$R^2 = {r2:.2f}$', fontsize=13)\n",
    "plt.text(10, 2, f'RMSE = {rmse:.2f}', fontsize=13)\n",
    "plt.text(10, 3, f'MAE = {mae:.2f}', fontsize=13)\n",
    "\n",
    "# Show the plot\n",
    "plt.show()"
   ]
  },
  {
   "cell_type": "code",
   "execution_count": null,
   "id": "2b3b76ee",
   "metadata": {},
   "outputs": [],
   "source": [
    "# RF\n",
    "\n",
    "plt.figure(figsize=(10, 8))\n",
    "sns.scatterplot(data=us_results, \n",
    "                x='GPP_DT_VUT_REF',  \n",
    "                y='RF_preds',        \n",
    "                s=50,\n",
    "               color='black')       \n",
    "\n",
    "\n",
    "# add regression line\n",
    "slope, intercept = np.polyfit(us_results['GPP_DT_VUT_REF'], us_results['RF_preds'], 1)\n",
    "regression_line = slope * us_results['GPP_DT_VUT_REF'] + intercept\n",
    "\n",
    "# Plot the regression line\n",
    "plt.plot(us_results['GPP_DT_VUT_REF'], regression_line, color='red', linewidth=1.5, label='_nolegend_')\n",
    "\n",
    "\n",
    "# add metrics\n",
    "\n",
    "r2 = r2_score(us_results['GPP_DT_VUT_REF'], us_results['RF_preds'])\n",
    "rmse = np.sqrt(mean_squared_error(us_results['GPP_DT_VUT_REF'], us_results['RF_preds']))\n",
    "mae = mean_absolute_error(us_results['GPP_DT_VUT_REF'], us_results['RF_preds'])\n",
    "\n",
    "\n",
    "\n",
    "# Add labels and title\n",
    "plt.xlabel('FLUXNET GPP (gC m$^{-2}$ d$^{-1}$)',fontsize=14)\n",
    "plt.ylabel('Predicted GPP (gC m$^{-2}$ d$^{-1}$)',fontsize=14)\n",
    "plt.title('RF',fontweight='bold',fontsize=14)\n",
    "\n",
    "# Add R², RMSE, and MAE as annotations\n",
    "plt.text(10, 1, f'$R^2 = {r2:.2f}$', fontsize=13)\n",
    "plt.text(10, 2, f'RMSE = {rmse:.2f}', fontsize=13)\n",
    "plt.text(10, 3, f'MAE = {mae:.2f}', fontsize=13)\n",
    "\n",
    "# Show the plot\n",
    "plt.show()"
   ]
  },
  {
   "cell_type": "code",
   "execution_count": null,
   "id": "78b47849",
   "metadata": {
    "scrolled": false
   },
   "outputs": [],
   "source": [
    "# P-model\n",
    "\n",
    "plt.figure(figsize=(10, 8))\n",
    "sns.scatterplot(data=us_results, \n",
    "                x='GPP_DT_VUT_REF',  \n",
    "                y='p_preds',        \n",
    "                s=50,\n",
    "               color='black')        \n",
    "\n",
    "\n",
    "# add regression line\n",
    "slope, intercept = np.polyfit(us_results['GPP_DT_VUT_REF'], us_results['p_preds'], 1)\n",
    "regression_line = slope * us_results['GPP_DT_VUT_REF'] + intercept\n",
    "\n",
    "# Plot the regression line\n",
    "plt.plot(us_results['GPP_DT_VUT_REF'], regression_line, color='red', linewidth=1.5, label='_nolegend_')\n",
    "\n",
    "\n",
    "# add metrics\n",
    "\n",
    "r2 = r2_score(us_results['GPP_DT_VUT_REF'], us_results['p_preds'])\n",
    "rmse = np.sqrt(mean_squared_error(us_results['GPP_DT_VUT_REF'], us_results['p_preds']))\n",
    "mae = mean_absolute_error(us_results['GPP_DT_VUT_REF'], us_results['p_preds'])\n",
    "\n",
    "\n",
    "\n",
    "# Add labels and title\n",
    "plt.xlabel('FLUXNET GPP (gC m$^{-2}$ d$^{-1}$)',fontsize=14)\n",
    "plt.ylabel('Predicted GPP (gC m$^{-2}$ d$^{-1}$)',fontsize=14)\n",
    "plt.title('P-model',fontweight='bold',fontsize=14)\n",
    "\n",
    "# Add R², RMSE, and MAE as annotations\n",
    "plt.text(10, 9, f'$R^2 = {r2:.2f}$', fontsize=13)\n",
    "plt.text(10, 10, f'RMSE = {rmse:.2f}', fontsize=13)\n",
    "plt.text(10, 11, f'MAE = {mae:.2f}', fontsize=13)\n",
    "\n",
    "# Show the plot\n",
    "plt.show()"
   ]
  },
  {
   "cell_type": "code",
   "execution_count": null,
   "id": "c275b088",
   "metadata": {},
   "outputs": [],
   "source": [
    "us_ts=us_results.copy()"
   ]
  },
  {
   "cell_type": "code",
   "execution_count": null,
   "id": "9bbbf532",
   "metadata": {},
   "outputs": [],
   "source": [
    "us_ts.reset_index(inplace=True)"
   ]
  },
  {
   "cell_type": "code",
   "execution_count": null,
   "id": "9084c24a",
   "metadata": {},
   "outputs": [],
   "source": [
    "us_ts['date']=pd.to_datetime(us_ts['date'])"
   ]
  },
  {
   "cell_type": "code",
   "execution_count": null,
   "id": "888c0d80",
   "metadata": {},
   "outputs": [],
   "source": [
    "us_ts=us_ts.set_index('date')"
   ]
  },
  {
   "cell_type": "code",
   "execution_count": null,
   "id": "e416a77b",
   "metadata": {},
   "outputs": [],
   "source": [
    "columns_to_plot = ['p_preds', 'GPP_DT_VUT_REF', 'GBM_preds', 'RF_preds']\n"
   ]
  },
  {
   "cell_type": "code",
   "execution_count": null,
   "id": "34e7e5bf",
   "metadata": {
    "scrolled": false
   },
   "outputs": [],
   "source": [
    "# US-Var time series\n",
    "plt.figure(figsize=(14, 8))\n",
    "\n",
    "\n",
    "plt.plot(us_ts.index, us_ts['p_preds'], label='P-model', color='green', \n",
    "         linestyle=':', linewidth=1.5,alpha=0.7)\n",
    "\n",
    "\n",
    "plt.plot(us_ts.index, us_ts['GBM_preds'], label='LightGBM', color='red', \n",
    "         linestyle=':', linewidth=1.5,alpha=0.7)\n",
    "\n",
    "plt.plot(us_ts.index, us_ts['RF_preds'], label='RF', color='blue', \n",
    "         linestyle=':', linewidth=1.5,alpha=0.7)\n",
    "\n",
    "\n",
    "\n",
    "plt.plot(us_ts.index, us_ts['GPP_DT_VUT_REF'], label='FLUXNET GPP', \n",
    "         color='gray', linestyle='-', linewidth=3)\n",
    "\n",
    "\n",
    "plt.xlabel('Date', fontsize=14)\n",
    "plt.ylabel('GPP (gC m$^{-2}$ d$^{-1}$)', fontsize=14)\n",
    "\n",
    "plt.gca().xaxis.set_major_locator(mdates.MonthLocator(interval=6))  \n",
    "plt.gca().xaxis.set_major_formatter(mdates.DateFormatter('%Y-%m'))  \n",
    "\n",
    "plt.xticks(rotation=0)\n",
    "\n",
    "plt.grid(True)\n",
    "plt.legend(loc='upper right', fontsize=12)\n",
    "\n",
    "plt.tight_layout()\n",
    "\n",
    "plt.show()"
   ]
  }
 ],
 "metadata": {
  "kernelspec": {
   "display_name": "Python 3 (ipykernel)",
   "language": "python",
   "name": "python3"
  },
  "language_info": {
   "codemirror_mode": {
    "name": "ipython",
    "version": 3
   },
   "file_extension": ".py",
   "mimetype": "text/x-python",
   "name": "python",
   "nbconvert_exporter": "python",
   "pygments_lexer": "ipython3",
   "version": "3.11.5"
  }
 },
 "nbformat": 4,
 "nbformat_minor": 5
}
