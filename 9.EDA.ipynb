{
 "cells": [
  {
   "cell_type": "code",
   "execution_count": null,
   "id": "342c310b",
   "metadata": {},
   "outputs": [],
   "source": [
    "# This file contains the code neccessary for the EDA"
   ]
  },
  {
   "cell_type": "code",
   "execution_count": null,
   "id": "61565346",
   "metadata": {},
   "outputs": [],
   "source": [
    "import pandas as pd\n",
    "import matplotlib.pyplot as plt\n",
    "import seaborn as sns\n",
    "import numpy as np\n",
    "from pyrealm import pmodel\n",
    "from matplotlib.patches import Patch\n",
    "from sklearn.covariance import EllipticEnvelope\n",
    "from sklearn.preprocessing import MinMaxScaler\n",
    "from scipy import stats\n",
    "from sklearn.impute import KNNImputer\n",
    "from matplotlib.font_manager import FontProperties\n",
    "from matplotlib import font_manager\n",
    "\n"
   ]
  },
  {
   "cell_type": "code",
   "execution_count": null,
   "id": "3be757b8",
   "metadata": {},
   "outputs": [],
   "source": [
    "### import the df from file 8.Data_imputation\n",
    "\n",
    "df=pd.read_csv('/Users/abigailbase/PROJECT FILES/FINAL DFs/FINAL_FINAL_DF.csv',index_col=0)"
   ]
  },
  {
   "cell_type": "code",
   "execution_count": null,
   "id": "997a2a55",
   "metadata": {},
   "outputs": [],
   "source": [
    "df=df.drop(columns='NEE_VUT_REF') #drop NEE as not needed"
   ]
  },
  {
   "cell_type": "code",
   "execution_count": null,
   "id": "8522e67b",
   "metadata": {},
   "outputs": [],
   "source": [
    "df=df.reset_index() #reset index"
   ]
  },
  {
   "cell_type": "code",
   "execution_count": null,
   "id": "57dadf07",
   "metadata": {},
   "outputs": [],
   "source": [
    "df.shape #27210"
   ]
  },
  {
   "cell_type": "code",
   "execution_count": null,
   "id": "32405b81",
   "metadata": {},
   "outputs": [],
   "source": [
    "#import sif data from file 7.SIF\n",
    "\n",
    "sif=pd.read_csv('/Users/abigailbase/PROJECT FILES/SIF/sif_df.csv',index_col=0)"
   ]
  },
  {
   "cell_type": "code",
   "execution_count": null,
   "id": "b219bade",
   "metadata": {},
   "outputs": [],
   "source": [
    "sif_rename={'Delta_Time':'date','site_id':'SITE_ID'} #dictionary for renaming"
   ]
  },
  {
   "cell_type": "code",
   "execution_count": null,
   "id": "d5b05659",
   "metadata": {},
   "outputs": [],
   "source": [
    "sif.rename(columns=sif_rename,inplace=True) #rename for easier merging "
   ]
  },
  {
   "cell_type": "code",
   "execution_count": null,
   "id": "4db81b55",
   "metadata": {},
   "outputs": [],
   "source": [
    "# check the data types of date col to make sure they are the same before setting index\n",
    "\n",
    "print(df['date'].dtypes)\n",
    "print(sif['date'].dtypes)"
   ]
  },
  {
   "cell_type": "code",
   "execution_count": null,
   "id": "57dda8de",
   "metadata": {},
   "outputs": [],
   "source": [
    "#set index of df and sif to be 'date' and 'SITE_ID' for merging \n",
    "\n",
    "df=df.set_index(['date','SITE_ID']) \n",
    "sif=sif.set_index(['date','SITE_ID'])\n"
   ]
  },
  {
   "cell_type": "code",
   "execution_count": null,
   "id": "2ccd2209",
   "metadata": {},
   "outputs": [],
   "source": [
    "sif.shape #27210,5"
   ]
  },
  {
   "cell_type": "code",
   "execution_count": null,
   "id": "00e1400d",
   "metadata": {},
   "outputs": [],
   "source": [
    "df.shape #27210,18 - same row dimensions, ready to merge"
   ]
  },
  {
   "cell_type": "code",
   "execution_count": null,
   "id": "9b844e75",
   "metadata": {},
   "outputs": [],
   "source": [
    "# import NDVI from 5.HDF process"
   ]
  },
  {
   "cell_type": "code",
   "execution_count": null,
   "id": "c2d68f57",
   "metadata": {},
   "outputs": [],
   "source": [
    "ndvi=pd.read_csv('/Users/abigailbase/PROJECT FILES/FINAL DFs/NDVI.csv',index_col=0)"
   ]
  },
  {
   "cell_type": "code",
   "execution_count": null,
   "id": "8de14a19",
   "metadata": {},
   "outputs": [],
   "source": [
    "# scale for NDVI is 0.0001"
   ]
  },
  {
   "cell_type": "code",
   "execution_count": null,
   "id": "57858bb3",
   "metadata": {},
   "outputs": [],
   "source": [
    "ndvi.reset_index(inplace=True)"
   ]
  },
  {
   "cell_type": "code",
   "execution_count": null,
   "id": "b90a9cbb",
   "metadata": {},
   "outputs": [],
   "source": [
    "ndvi_rename={'index':'date','site_id':'SITE_ID'}"
   ]
  },
  {
   "cell_type": "code",
   "execution_count": null,
   "id": "49c7a645",
   "metadata": {},
   "outputs": [],
   "source": [
    "ndvi.rename(columns=ndvi_rename,inplace=True) #rename for easier merging "
   ]
  },
  {
   "cell_type": "code",
   "execution_count": null,
   "id": "b336a576",
   "metadata": {},
   "outputs": [],
   "source": [
    "# check datatype of date\n",
    "\n",
    "print(ndvi['date'].dtypes)"
   ]
  },
  {
   "cell_type": "code",
   "execution_count": null,
   "id": "3f2379ef",
   "metadata": {},
   "outputs": [],
   "source": [
    "ndvi=ndvi.set_index(['date','SITE_ID'])\n"
   ]
  },
  {
   "cell_type": "code",
   "execution_count": null,
   "id": "0c192494",
   "metadata": {},
   "outputs": [],
   "source": [
    "ndvi['NDVI_point']=ndvi['NDVI_point']*0.0001"
   ]
  },
  {
   "cell_type": "code",
   "execution_count": null,
   "id": "822f51b0",
   "metadata": {
    "scrolled": true
   },
   "outputs": [],
   "source": [
    "### merge sif and df on the common index\n",
    "\n",
    "df_merged=pd.merge(df,sif,left_index=True,right_index=True)"
   ]
  },
  {
   "cell_type": "code",
   "execution_count": null,
   "id": "d025599e",
   "metadata": {},
   "outputs": [],
   "source": [
    "# now merge the df_merged and ndvi \n",
    "\n",
    "df_merged = pd.merge(df_merged, ndvi, left_index=True, right_index=True)\n"
   ]
  },
  {
   "cell_type": "code",
   "execution_count": null,
   "id": "fa17de85",
   "metadata": {
    "scrolled": true
   },
   "outputs": [],
   "source": [
    "df_merged.isna().sum() #FULL DF, missing values are 5442 for gpp"
   ]
  },
  {
   "cell_type": "code",
   "execution_count": null,
   "id": "c30f1726",
   "metadata": {},
   "outputs": [],
   "source": [
    "### there are 5442 missing GPP values. As previously established these are for AR-Vir,RU-Cok, ZU-Kru GPP \n",
    "### values which will be calculated using the P-Model to maitain temporal resolution of the full ds"
   ]
  },
  {
   "cell_type": "code",
   "execution_count": null,
   "id": "85d6def4",
   "metadata": {},
   "outputs": [],
   "source": [
    "sif_uncertainty=df_merged[['Daily_Averaged_SIF','SIF_Uncertainty','Cloud_Fraction']]\n",
    "\n",
    "#will be used for further analysis later.\n"
   ]
  },
  {
   "cell_type": "code",
   "execution_count": null,
   "id": "58711f48",
   "metadata": {},
   "outputs": [],
   "source": [
    "sif_drop=['SIF_Uncertainty','Cloud_Fraction'] #drop these from the analysis for now "
   ]
  },
  {
   "cell_type": "code",
   "execution_count": null,
   "id": "21270415",
   "metadata": {},
   "outputs": [],
   "source": [
    "df_merged=df_merged.drop(columns=sif_drop)"
   ]
  },
  {
   "cell_type": "code",
   "execution_count": null,
   "id": "a31b717b",
   "metadata": {},
   "outputs": [],
   "source": [
    "### drop the additional latitude and longitude\n",
    "\n",
    "df_merged=df_merged.drop(columns=['Latitude','Longitude'])"
   ]
  },
  {
   "cell_type": "code",
   "execution_count": null,
   "id": "a478c067",
   "metadata": {},
   "outputs": [],
   "source": [
    "# fAPAR cacluation \n",
    "\n",
    "\n",
    "# 1.24*NDVI-0.168\n",
    "\n",
    "df_merged['fapar'] = (1.24 * df_merged['NDVI_point'] - 0.168).clip(0, 1)\n"
   ]
  },
  {
   "cell_type": "code",
   "execution_count": null,
   "id": "cde054a7",
   "metadata": {},
   "outputs": [],
   "source": [
    "min_value = df_merged['fapar'].min() \n",
    "max_value = df_merged['fapar'].max()\n",
    "\n",
    "print(f\"Minimum value of fAPAR: {min_value}\") #0\n",
    "print(f\"Maximum value of fAPAR: {max_value}\") #1"
   ]
  },
  {
   "cell_type": "code",
   "execution_count": null,
   "id": "c6200da5",
   "metadata": {},
   "outputs": [],
   "source": [
    "heatmap_df=df_merged.drop(columns=['IGBP','hemisphere',\n",
    "                                   'DAY','MONTH','YEAR',\n",
    "                                   'LAT','LONG',\n",
    "                                   'NDVI_point','NDVI'])"
   ]
  },
  {
   "cell_type": "code",
   "execution_count": null,
   "id": "cf96cb63",
   "metadata": {},
   "outputs": [],
   "source": [
    "heatmap_labs = {\n",
    "    'TA_F': 'Temperature (°C)',\n",
    "    'PA_F': 'Surface Pressure (kPa)',\n",
    "    'VPD_F': 'VPD (hPa)',\n",
    "    'P_F': 'Precipitation (mm)',\n",
    "    'WS_F': 'WS (m s$^{-1}$)',\n",
    "    'PPFD_IN': 'PPFD (µmol Photon m$^{-2}$ s$^{-1}$)',\n",
    "    'CO2_F_MDS': 'CO$_2$ MF (µmol CO$_2$ mol$^{-1}$)',\n",
    "    'TS_F_MDS_1': 'Soil Temperature (°C)',\n",
    "    'SWC_F_MDS_1': 'SWC (%)',\n",
    "    'GPP_DT_VUT_REF': 'GPP (µmol CO$_2$ m$^{-2}$ s$^{-1}$)',\n",
    "    'Daily_Averaged_SIF': 'SIF (mW m$^{-2}$ nm$^{-1}$ sr$^{-1}$)',\n",
    "    'fapar': 'fAPAR',\n",
    "    'NIRv': 'NIRv'\n",
    "}\n"
   ]
  },
  {
   "cell_type": "code",
   "execution_count": null,
   "id": "269d6a7e",
   "metadata": {},
   "outputs": [],
   "source": [
    "### heatmap \n",
    "\n",
    "corr_matrix = heatmap_df.corr()\n",
    "\n",
    "# Rename the columns and rows of the correlation matrix using the custom labels\n",
    "corr_matrix = corr_matrix.rename(columns=heatmap_labs, index=heatmap_labs)\n",
    "\n",
    "# Create the clustermap with custom labels\n",
    "sns.clustermap(corr_matrix, cmap='coolwarm', annot=True, fmt=\".2f\", linewidths=0.5, \n",
    "               dendrogram_ratio=(0.1, 0.2), figsize=(12, 8))\n",
    "\n",
    "plt.show()"
   ]
  },
  {
   "cell_type": "code",
   "execution_count": null,
   "id": "5c14da09",
   "metadata": {},
   "outputs": [],
   "source": [
    "df_merged=df_merged.reset_index() #reset index to extract site_id and date"
   ]
  },
  {
   "cell_type": "code",
   "execution_count": null,
   "id": "a21ec942",
   "metadata": {},
   "outputs": [],
   "source": [
    "sites=df_merged['SITE_ID'].unique() #unique site ids"
   ]
  },
  {
   "cell_type": "code",
   "execution_count": null,
   "id": "4db1f535",
   "metadata": {},
   "outputs": [],
   "source": [
    "# seperate sites out based on site ID\n",
    "\n",
    "AR_Vir=df_merged[df_merged['SITE_ID']=='AR-Vir']#1\n",
    "AU_Dry=df_merged[df_merged['SITE_ID']=='AU-Dry']#2\n",
    "BE_Vie=df_merged[df_merged['SITE_ID']=='BE-Vie']#3\n",
    "CA_TP1=df_merged[df_merged['SITE_ID']=='CA-TP1']#4\n",
    "CH_Cha=df_merged[df_merged['SITE_ID']=='CH-Cha']#5\n",
    "DE_Gri=df_merged[df_merged['SITE_ID']=='DE-Gri']#6\n",
    "FR_Pue=df_merged[df_merged['SITE_ID']=='FR-Pue']#7\n",
    "GF_Guy=df_merged[df_merged['SITE_ID']=='GF-Guy']#8\n",
    "IT_Col=df_merged[df_merged['SITE_ID']=='IT-Col']#9\n",
    "NL_Loo=df_merged[df_merged['SITE_ID']=='NL-Loo']#10\n",
    "RU_Cok=df_merged[df_merged['SITE_ID']=='RU-Cok']#11\n",
    "RU_Fyo=df_merged[df_merged['SITE_ID']=='RU-Fyo']#12\n",
    "US_PFa=df_merged[df_merged['SITE_ID']=='US-PFa']#13\n",
    "US_Var=df_merged[df_merged['SITE_ID']=='US-Var']#14\n",
    "ZA_Kru=df_merged[df_merged['SITE_ID']=='ZA-Kru']#15\n"
   ]
  },
  {
   "cell_type": "code",
   "execution_count": null,
   "id": "4a35524f",
   "metadata": {},
   "outputs": [],
   "source": [
    "### FLUXNET GPP were reintroduced as they seemed to have been lost for some sites during processing\n",
    "\n",
    "### RU_Cok\n",
    "\n",
    "ru_gpp=pd.read_csv('/Users/abigailbase/PROJECT FILES/FINAL DFs/additional gpps/ru.csv',index_col=0)"
   ]
  },
  {
   "cell_type": "code",
   "execution_count": null,
   "id": "e90aeb22",
   "metadata": {},
   "outputs": [],
   "source": [
    "gpp_rename={'TIMESTAMP':'date'}"
   ]
  },
  {
   "cell_type": "code",
   "execution_count": null,
   "id": "79e74223",
   "metadata": {},
   "outputs": [],
   "source": [
    "ru_gpp.rename(columns=gpp_rename,inplace=True) "
   ]
  },
  {
   "cell_type": "code",
   "execution_count": null,
   "id": "a64865ac",
   "metadata": {},
   "outputs": [],
   "source": [
    "ru_gpp['date'].dtypes"
   ]
  },
  {
   "cell_type": "code",
   "execution_count": null,
   "id": "23eedf7d",
   "metadata": {},
   "outputs": [],
   "source": [
    "ru_gpp.set_index('date',inplace=True)"
   ]
  },
  {
   "cell_type": "code",
   "execution_count": null,
   "id": "19e99823",
   "metadata": {},
   "outputs": [],
   "source": [
    "RU_Cok.set_index('date',inplace=True)"
   ]
  },
  {
   "cell_type": "code",
   "execution_count": null,
   "id": "4da0aae4",
   "metadata": {},
   "outputs": [],
   "source": [
    "# combine\n",
    "\n",
    "RU_Cok['GPP_DT_VUT_REF'] = RU_Cok['GPP_DT_VUT_REF'].combine_first(ru_gpp['GPP_DT_VUT_REF'])\n"
   ]
  },
  {
   "cell_type": "code",
   "execution_count": null,
   "id": "22059d88",
   "metadata": {},
   "outputs": [],
   "source": [
    "RU_Cok=RU_Cok.reset_index()"
   ]
  },
  {
   "cell_type": "code",
   "execution_count": null,
   "id": "69e955aa",
   "metadata": {},
   "outputs": [],
   "source": [
    "RU_Cok.isna().sum() #353"
   ]
  },
  {
   "cell_type": "code",
   "execution_count": null,
   "id": "f59078ad",
   "metadata": {},
   "outputs": [],
   "source": [
    "ru_na=(353/1814)*100\n",
    "ru_na #19.25"
   ]
  },
  {
   "cell_type": "code",
   "execution_count": null,
   "id": "3fe41ac7",
   "metadata": {},
   "outputs": [],
   "source": [
    "ru_na_df=RU_Cok[RU_Cok['GPP_DT_VUT_REF'].isna()]"
   ]
  },
  {
   "cell_type": "code",
   "execution_count": null,
   "id": "d8e26867",
   "metadata": {},
   "outputs": [],
   "source": [
    "### AR_Vir"
   ]
  },
  {
   "cell_type": "code",
   "execution_count": null,
   "id": "4171485e",
   "metadata": {},
   "outputs": [],
   "source": [
    "ar_gpp=pd.read_csv('/Users/abigailbase/PROJECT FILES/FINAL DFs/additional gpps/ar.csv')"
   ]
  },
  {
   "cell_type": "code",
   "execution_count": null,
   "id": "6e576ba7",
   "metadata": {},
   "outputs": [],
   "source": [
    "ar_gpp.rename(columns=gpp_rename,inplace=True) "
   ]
  },
  {
   "cell_type": "code",
   "execution_count": null,
   "id": "2f484231",
   "metadata": {},
   "outputs": [],
   "source": [
    "ar_gpp['date'].dtypes"
   ]
  },
  {
   "cell_type": "code",
   "execution_count": null,
   "id": "f59dd442",
   "metadata": {},
   "outputs": [],
   "source": [
    "ar_gpp.set_index('date',inplace=True)"
   ]
  },
  {
   "cell_type": "code",
   "execution_count": null,
   "id": "6599fa47",
   "metadata": {},
   "outputs": [],
   "source": [
    "AR_Vir.set_index('date',inplace=True)"
   ]
  },
  {
   "cell_type": "code",
   "execution_count": null,
   "id": "63de4dd8",
   "metadata": {},
   "outputs": [],
   "source": [
    "AR_Vir['GPP_DT_VUT_REF'] = AR_Vir['GPP_DT_VUT_REF'].combine_first(ar_gpp['GPP_DT_VUT_REF'])\n"
   ]
  },
  {
   "cell_type": "code",
   "execution_count": null,
   "id": "a1ad8195",
   "metadata": {
    "scrolled": true
   },
   "outputs": [],
   "source": [
    "AR_Vir.isna().sum() #718"
   ]
  },
  {
   "cell_type": "code",
   "execution_count": null,
   "id": "10aa4410",
   "metadata": {},
   "outputs": [],
   "source": [
    "# DROP MISSING\n",
    "\n",
    "AR_Vir_cleaned = AR_Vir.dropna()\n"
   ]
  },
  {
   "cell_type": "code",
   "execution_count": null,
   "id": "0c0b3c93",
   "metadata": {},
   "outputs": [],
   "source": [
    "AR_Vir_cleaned.isna().sum()"
   ]
  },
  {
   "cell_type": "code",
   "execution_count": null,
   "id": "65c2c477",
   "metadata": {},
   "outputs": [],
   "source": [
    "AR_Vir_cleaned=AR_Vir_cleaned.reset_index()"
   ]
  },
  {
   "cell_type": "code",
   "execution_count": null,
   "id": "560c7665",
   "metadata": {},
   "outputs": [],
   "source": [
    "ar_na=(718/1814)*100\n",
    "ar_na #39.58"
   ]
  },
  {
   "cell_type": "code",
   "execution_count": null,
   "id": "c7d05d4f",
   "metadata": {},
   "outputs": [],
   "source": [
    "#ZA_Kru\n",
    "\n",
    "za_gpp=pd.read_csv('/Users/abigailbase/PROJECT FILES/FINAL DFs/additional gpps/za.csv')"
   ]
  },
  {
   "cell_type": "code",
   "execution_count": null,
   "id": "d6dba29d",
   "metadata": {},
   "outputs": [],
   "source": [
    "za_gpp.rename(columns=gpp_rename,inplace=True) "
   ]
  },
  {
   "cell_type": "code",
   "execution_count": null,
   "id": "94bb37b2",
   "metadata": {},
   "outputs": [],
   "source": [
    "za_gpp.set_index('date',inplace=True)"
   ]
  },
  {
   "cell_type": "code",
   "execution_count": null,
   "id": "a52dfa22",
   "metadata": {},
   "outputs": [],
   "source": [
    "ZA_Kru.set_index('date',inplace=True)"
   ]
  },
  {
   "cell_type": "code",
   "execution_count": null,
   "id": "6c8b8a7c",
   "metadata": {},
   "outputs": [],
   "source": [
    "ZA_Kru['GPP_DT_VUT_REF'] = ZA_Kru['GPP_DT_VUT_REF'].combine_first(za_gpp['GPP_DT_VUT_REF'])\n"
   ]
  },
  {
   "cell_type": "code",
   "execution_count": null,
   "id": "3a1505fe",
   "metadata": {},
   "outputs": [],
   "source": [
    "ZA_Kru.isna().sum() #353"
   ]
  },
  {
   "cell_type": "code",
   "execution_count": null,
   "id": "a88cf812",
   "metadata": {
    "scrolled": true
   },
   "outputs": [],
   "source": [
    "ZA_Kru.shape"
   ]
  },
  {
   "cell_type": "code",
   "execution_count": null,
   "id": "4e7b5788",
   "metadata": {},
   "outputs": [],
   "source": [
    "za_na=(353/1814)*100\n",
    "za_na #19%"
   ]
  },
  {
   "cell_type": "code",
   "execution_count": null,
   "id": "9a441300",
   "metadata": {},
   "outputs": [],
   "source": [
    "ZA_Kru=ZA_Kru.reset_index()"
   ]
  },
  {
   "cell_type": "code",
   "execution_count": null,
   "id": "76d8f905",
   "metadata": {},
   "outputs": [],
   "source": [
    "AR_Vir['GPP_DT_VUT_REF'] = AR_Vir['GPP_DT_VUT_REF'].combine_first(missing_AR['GPP_DT_VUT_REF'])\n"
   ]
  },
  {
   "cell_type": "code",
   "execution_count": null,
   "id": "fcc0897c",
   "metadata": {},
   "outputs": [],
   "source": [
    "AR_Vir.isna().sum()"
   ]
  },
  {
   "cell_type": "code",
   "execution_count": null,
   "id": "4343bdd9",
   "metadata": {},
   "outputs": [],
   "source": [
    "ZA_Kru.isna().sum()"
   ]
  },
  {
   "cell_type": "code",
   "execution_count": null,
   "id": "a9d7c706",
   "metadata": {},
   "outputs": [],
   "source": [
    "# RU_Cok\n",
    "\n",
    "missing_RU = RU_Cok[RU_Cok['GPP_DT_VUT_REF'].isnull()]"
   ]
  },
  {
   "cell_type": "code",
   "execution_count": null,
   "id": "d933393a",
   "metadata": {},
   "outputs": [],
   "source": [
    "# DROP MISSING\n",
    "\n",
    "RU_Cok_cleaned = RU_Cok.dropna()\n"
   ]
  },
  {
   "cell_type": "code",
   "execution_count": null,
   "id": "ab07055b",
   "metadata": {},
   "outputs": [],
   "source": [
    "RU_Cok_cleaned.isna().sum()"
   ]
  },
  {
   "cell_type": "code",
   "execution_count": null,
   "id": "08e7333f",
   "metadata": {},
   "outputs": [],
   "source": [
    "# ZA-Kru\n"
   ]
  },
  {
   "cell_type": "code",
   "execution_count": null,
   "id": "ed8a5eea",
   "metadata": {},
   "outputs": [],
   "source": [
    "missing_ZA = ZA_Kru[ZA_Kru['GPP_DT_VUT_REF'].isnull()]"
   ]
  },
  {
   "cell_type": "code",
   "execution_count": null,
   "id": "a0c0e1b9",
   "metadata": {},
   "outputs": [],
   "source": [
    "# DROP MISSING\n",
    "\n",
    "ZA_Kru_cleaned = ZA_Kru.dropna()"
   ]
  },
  {
   "cell_type": "code",
   "execution_count": null,
   "id": "f9e757cd",
   "metadata": {
    "scrolled": true
   },
   "outputs": [],
   "source": [
    "ZA_Kru_cleaned.isna().sum()"
   ]
  },
  {
   "cell_type": "code",
   "execution_count": null,
   "id": "e219c34b",
   "metadata": {},
   "outputs": [],
   "source": [
    "### combine all the individual sites \n",
    "\n",
    "gpp_imputed=pd.concat([AR_Vir_cleaned,AU_Dry,BE_Vie,CA_TP1,CH_Cha,DE_Gri,FR_Pue,GF_Guy,IT_Col,NL_Loo,\n",
    "                   RU_Cok_cleaned,RU_Fyo,US_PFa,US_Var,ZA_Kru_cleaned])"
   ]
  },
  {
   "cell_type": "code",
   "execution_count": null,
   "id": "e77a0d05",
   "metadata": {},
   "outputs": [],
   "source": [
    "gpp_imputed.shape "
   ]
  },
  {
   "cell_type": "code",
   "execution_count": null,
   "id": "fecf9f13",
   "metadata": {},
   "outputs": [],
   "source": [
    "gpp_imputed.isna().sum() #now no missing values"
   ]
  },
  {
   "cell_type": "code",
   "execution_count": null,
   "id": "dc7ced00",
   "metadata": {},
   "outputs": [],
   "source": [
    "gpp_imputed.shape"
   ]
  },
  {
   "cell_type": "code",
   "execution_count": null,
   "id": "95e91a2d",
   "metadata": {},
   "outputs": [],
   "source": [
    "### create a copy of the gpp df ###\n",
    "\n",
    "eda_df=gpp_imputed.copy()"
   ]
  },
  {
   "cell_type": "code",
   "execution_count": null,
   "id": "e79616c2",
   "metadata": {},
   "outputs": [],
   "source": [
    "eda_df.shape #27210"
   ]
  },
  {
   "cell_type": "code",
   "execution_count": null,
   "id": "ba3ca313",
   "metadata": {},
   "outputs": [],
   "source": [
    "### OUTLIERS ###"
   ]
  },
  {
   "cell_type": "code",
   "execution_count": null,
   "id": "ff61f88a",
   "metadata": {},
   "outputs": [],
   "source": [
    "# pair plot"
   ]
  },
  {
   "cell_type": "code",
   "execution_count": null,
   "id": "3d55cda8",
   "metadata": {},
   "outputs": [],
   "source": [
    "var_ax_labs={'SITE_ID':'Site ID','TA_F':'Temperature (°C)','PA_F':'Surface Pressure (kPa)',\n",
    "             'VPD_F':'Vapor Pressure Deficit (hPa)','P_F':'Precipitation (mm)',\n",
    "            'WS_F':'Wind Speed (ms-1)','PPFD_IN':'PPFD (µmolPhoton m-2 s-1)',\n",
    "            'CO2_F_MDS':'CO2 Mole Fraction (µmolCO2 mol-1)','TS_F_MDS_1':'Soil Temperature (°C)',\n",
    "            'SWC_F_MDS_1':'Soil Water Content (%)',\n",
    "            'GPP_DT_VUT_REF':'GPP (µmolCO2 m-2 s-1)'}\n"
   ]
  },
  {
   "cell_type": "code",
   "execution_count": null,
   "id": "0c435ed9",
   "metadata": {},
   "outputs": [],
   "source": [
    "meteorological=eda_df[['TA_F','PA_F','VPD_F','P_F','WS_F','TS_F_MDS_1','SWC_F_MDS_1','CO2_F_MDS']]"
   ]
  },
  {
   "cell_type": "code",
   "execution_count": null,
   "id": "017cb3a9",
   "metadata": {},
   "outputs": [],
   "source": [
    "meteorological.shape"
   ]
  },
  {
   "cell_type": "code",
   "execution_count": null,
   "id": "d6544acc",
   "metadata": {},
   "outputs": [],
   "source": [
    "radiometric=eda_df[['NIRv','PPFD_IN','Daily_Averaged_SIF','fapar']]"
   ]
  },
  {
   "cell_type": "code",
   "execution_count": null,
   "id": "dac63a06",
   "metadata": {},
   "outputs": [],
   "source": [
    "target=eda_df[['GPP_DT_VUT_REF']]"
   ]
  },
  {
   "cell_type": "code",
   "execution_count": null,
   "id": "123ec451",
   "metadata": {},
   "outputs": [],
   "source": [
    "colors = sns.color_palette(\"husl\", len(meteorological.columns))\n",
    "\n",
    "# box plots for each variable \n",
    "plt.figure(figsize=(15, 10))\n",
    "for i, (col, color) in enumerate(zip(meteorological.columns, colors), 1):\n",
    "    plt.subplot(3, 3, i)\n",
    "    sns.boxplot(y=meteorological[col], width=0.3, color=color, linewidth=1.5, notch=True, showfliers=True,\n",
    "                flierprops=dict(marker='o', color='red', markersize=5))  # Adjust the width and set the color here\n",
    "    plt.title(var_ax_labs[col], fontsize=14, fontweight='bold')  # Use the dictionary to set labels\n",
    "    plt.ylabel(var_ax_labs[col], fontsize=12)  # Set y-axis label\n",
    "plt.tight_layout()\n",
    "plt.show()"
   ]
  },
  {
   "cell_type": "code",
   "execution_count": null,
   "id": "a1eddd09",
   "metadata": {},
   "outputs": [],
   "source": [
    "plt.figure(figsize=(15, 10))\n",
    "\n",
    "for i, (col, color) in enumerate(zip(meteorological.columns, colors), 1):\n",
    "    plt.subplot(3, 3, i)\n",
    "    \n",
    "    # plot KDE for each variable\n",
    "    sns.kdeplot(data=meteorological[col], color=color, linewidth=2, fill=True)\n",
    "    \n",
    "    plt.title(var_ax_labs[col], fontsize=14, fontweight='bold')\n",
    "    plt.xlabel(var_ax_labs[col], fontsize=12)\n",
    "    plt.ylabel('Density', fontsize=12)\n",
    "    \n",
    "plt.tight_layout()\n",
    "plt.show()\n",
    "\n"
   ]
  },
  {
   "cell_type": "code",
   "execution_count": null,
   "id": "a25ec1dd",
   "metadata": {},
   "outputs": [],
   "source": [
    "# identify outliers based on iqr"
   ]
  },
  {
   "cell_type": "code",
   "execution_count": null,
   "id": "faf3931a",
   "metadata": {},
   "outputs": [],
   "source": [
    "# temp, pressure,soil temp and swc outlier detection as these will be imputed with knn\n",
    "\n",
    "knn_eda_df=eda_df[['TA_F','PA_F','TS_F_MDS_1','SWC_F_MDS_1']]"
   ]
  },
  {
   "cell_type": "code",
   "execution_count": null,
   "id": "28cc0b38",
   "metadata": {},
   "outputs": [],
   "source": [
    "knn_eda_df.shape #25786"
   ]
  },
  {
   "cell_type": "code",
   "execution_count": null,
   "id": "81d28a87",
   "metadata": {},
   "outputs": [],
   "source": [
    "# plot of kde for all variables to compare \n",
    "\n",
    "plt.figure(figsize=(10, 6))\n",
    "\n",
    "sns.kdeplot(knn_eda_df['TA_F'], label='TA_F', fill=True)\n",
    "sns.kdeplot(knn_eda_df['PA_F'], label='PA_F', fill=True)\n",
    "sns.kdeplot(knn_eda_df['TS_F_MDS_1'], label='TS_F_MDS_1', fill=True)\n",
    "sns.kdeplot(knn_eda_df['SWC_F_MDS_1'], label='SWC_F_MDS_1', fill=True)\n",
    "\n",
    "plt.xlabel('Value', fontsize=12)\n",
    "plt.ylabel('Density', fontsize=12)\n",
    "\n",
    "plt.legend()\n",
    "\n",
    "plt.tight_layout()\n",
    "plt.show()"
   ]
  },
  {
   "cell_type": "code",
   "execution_count": null,
   "id": "86b6c1fb",
   "metadata": {},
   "outputs": [],
   "source": [
    "# temperature \n",
    "\n",
    "# calculate Q1 and Q3 \n",
    "Q1 = knn_eda_df['TA_F'].quantile(0.25)\n",
    "Q3 = knn_eda_df['TA_F'].quantile(0.75)\n",
    "\n",
    "\n",
    "# calculate IQR\n",
    "IQR = Q3 - Q1\n",
    "\n",
    "\n",
    "# define  thresholds for outliers\n",
    "lower_bound = Q1 - 1.5 * IQR\n",
    "upper_bound = Q3 + 1.5 * IQR\n",
    "\n",
    "# replace the outliers with NA\n",
    "knn_eda_df.loc[(knn_eda_df['TA_F'] < lower_bound) | (knn_eda_df['TA_F'] > upper_bound), 'TA_F'] = np.nan\n"
   ]
  },
  {
   "cell_type": "code",
   "execution_count": null,
   "id": "650c2a18",
   "metadata": {},
   "outputs": [],
   "source": [
    "knn_eda_df.isna().sum() #579 outliers"
   ]
  },
  {
   "cell_type": "code",
   "execution_count": null,
   "id": "c41127a2",
   "metadata": {},
   "outputs": [],
   "source": [
    "### surface pressure\n",
    "\n",
    "\n",
    "# calculate Q1 and Q3 \n",
    "Q1 = knn_eda_df['PA_F'].quantile(0.25)\n",
    "Q3 = knn_eda_df['PA_F'].quantile(0.75)\n",
    "\n",
    "\n",
    "# calculate IQR\n",
    "IQR = Q3 - Q1\n",
    "\n",
    "\n",
    "# define  thresholds for outliers\n",
    "lower_bound = Q1 - 1.5 * IQR\n",
    "upper_bound = Q3 + 1.5 * IQR\n",
    "\n",
    "# replace the outliers with NA\n",
    "knn_eda_df.loc[(knn_eda_df['PA_F'] < lower_bound) | (knn_eda_df['PA_F'] > upper_bound), 'PA_F'] = np.nan\n",
    "\n"
   ]
  },
  {
   "cell_type": "code",
   "execution_count": null,
   "id": "d79d06ae",
   "metadata": {},
   "outputs": [],
   "source": [
    "knn_eda_df.isna().sum() #1857 outliers"
   ]
  },
  {
   "cell_type": "code",
   "execution_count": null,
   "id": "08cd4fe5",
   "metadata": {},
   "outputs": [],
   "source": [
    "### soil temp\n",
    "\n",
    "# calculate Q1 and Q3 \n",
    "Q1 = knn_eda_df['TS_F_MDS_1'].quantile(0.25)\n",
    "Q3 = knn_eda_df['TS_F_MDS_1'].quantile(0.75)\n",
    "\n",
    "\n",
    "# calculate IQR\n",
    "IQR = Q3 - Q1\n",
    "\n",
    "\n",
    "# define  thresholds for outliers\n",
    "lower_bound = Q1 - 1.5 * IQR\n",
    "upper_bound = Q3 + 1.5 * IQR\n",
    "\n",
    "# replace the outliers with NA\n",
    "knn_eda_df.loc[(knn_eda_df['TS_F_MDS_1'] < lower_bound) | (knn_eda_df['TS_F_MDS_1'] > upper_bound), 'TS_F_MDS_1'] = np.nan\n"
   ]
  },
  {
   "cell_type": "code",
   "execution_count": null,
   "id": "8ed0fc4a",
   "metadata": {},
   "outputs": [],
   "source": [
    "knn_eda_df.isna().sum() #562"
   ]
  },
  {
   "cell_type": "code",
   "execution_count": null,
   "id": "51f8e77d",
   "metadata": {},
   "outputs": [],
   "source": [
    "# swc\n",
    "\n",
    "# calculate Q1 and Q3 \n",
    "Q1 = knn_eda_df['SWC_F_MDS_1'].quantile(0.25)\n",
    "Q3 = knn_eda_df['SWC_F_MDS_1'].quantile(0.75)\n",
    "\n",
    "\n",
    "# calculate IQR\n",
    "IQR = Q3 - Q1\n",
    "\n",
    "\n",
    "# define  thresholds for outliers\n",
    "lower_bound = Q1 - 1.5 * IQR\n",
    "upper_bound = Q3 + 1.5 * IQR\n",
    "\n",
    "# replace the outliers with NA\n",
    "knn_eda_df.loc[(knn_eda_df['SWC_F_MDS_1'] < lower_bound) | (knn_eda_df['SWC_F_MDS_1'] > upper_bound), 'SWC_F_MDS_1'] = np.nan\n",
    "\n"
   ]
  },
  {
   "cell_type": "code",
   "execution_count": null,
   "id": "bcae6e72",
   "metadata": {},
   "outputs": [],
   "source": [
    "knn_eda_df.isna().sum() #11"
   ]
  },
  {
   "cell_type": "code",
   "execution_count": null,
   "id": "cd169b03",
   "metadata": {},
   "outputs": [],
   "source": [
    "### apply KNN imputer algorithm"
   ]
  },
  {
   "cell_type": "code",
   "execution_count": null,
   "id": "e53500ff",
   "metadata": {},
   "outputs": [],
   "source": [
    "knn_imputer = KNNImputer(n_neighbors=5)"
   ]
  },
  {
   "cell_type": "code",
   "execution_count": null,
   "id": "aa40c508",
   "metadata": {},
   "outputs": [],
   "source": [
    "knn_imputed_df=pd.DataFrame(imputer.fit_transform(knn_eda_df), columns=knn_eda_df.columns)"
   ]
  },
  {
   "cell_type": "code",
   "execution_count": null,
   "id": "28c0606d",
   "metadata": {},
   "outputs": [],
   "source": [
    "knn_imputed_df.isna().sum() #all zero imputation successful "
   ]
  },
  {
   "cell_type": "code",
   "execution_count": null,
   "id": "4ca3a592",
   "metadata": {},
   "outputs": [],
   "source": [
    "# plot of kde for all variables to compare \n",
    "\n",
    "plt.figure(figsize=(10, 6))\n",
    "\n",
    "sns.kdeplot(knn_eda_df['TA_F'], label='TA_F', fill=True)\n",
    "sns.kdeplot(knn_eda_df['PA_F'], label='PA_F', fill=True)\n",
    "sns.kdeplot(knn_eda_df['TS_F_MDS_1'], label='TS_F_MDS_1', fill=True)\n",
    "sns.kdeplot(knn_eda_df['SWC_F_MDS_1'], label='SWC_F_MDS_1', fill=True)\n",
    "\n",
    "plt.xlabel('Value', fontsize=12)\n",
    "plt.ylabel('Density', fontsize=12)\n",
    "\n",
    "plt.legend()\n",
    "\n",
    "plt.tight_layout()\n",
    "plt.show()"
   ]
  },
  {
   "cell_type": "code",
   "execution_count": null,
   "id": "bab22825",
   "metadata": {},
   "outputs": [],
   "source": [
    "### create a copy of the eda df\n",
    "\n",
    "post_knn=eda_df.copy()"
   ]
  },
  {
   "cell_type": "code",
   "execution_count": null,
   "id": "2e754f80",
   "metadata": {},
   "outputs": [],
   "source": [
    "### drop the columns from post_knn that have had outliers removed\n",
    "\n",
    "post_knn=post_knn.drop(columns=['TA_F','PA_F','TS_F_MDS_1','SWC_F_MDS_1'])"
   ]
  },
  {
   "cell_type": "code",
   "execution_count": null,
   "id": "3b0896f0",
   "metadata": {},
   "outputs": [],
   "source": [
    "# reset index of both dfs to prepare for merging\n",
    "\n",
    "post_knn= post_knn.reset_index(drop=True)\n",
    "knn_imputed_df= knn_imputed_df.reset_index(drop=True)"
   ]
  },
  {
   "cell_type": "code",
   "execution_count": null,
   "id": "e33c6666",
   "metadata": {},
   "outputs": [],
   "source": [
    "# concat the post_knn (with vars removed) and knn_imputed_df with the outliers removed\n",
    "\n",
    "post_knn=pd.concat([post_knn,knn_imputed_df],axis=1)"
   ]
  },
  {
   "cell_type": "code",
   "execution_count": null,
   "id": "71af5fcb",
   "metadata": {},
   "outputs": [],
   "source": [
    "post_knn.shape #check shape = 25789"
   ]
  },
  {
   "cell_type": "code",
   "execution_count": null,
   "id": "17af8b8a",
   "metadata": {},
   "outputs": [],
   "source": [
    "# log transform VPD and precipitation "
   ]
  },
  {
   "cell_type": "code",
   "execution_count": null,
   "id": "e7dae68f",
   "metadata": {},
   "outputs": [],
   "source": [
    "post_knn['VPD_log']=np.log(post_knn['VPD_F']+1) #add 1 to avoid log(0) error"
   ]
  },
  {
   "cell_type": "code",
   "execution_count": null,
   "id": "044bf397",
   "metadata": {},
   "outputs": [],
   "source": [
    "post_knn=post_knn.drop(columns=['VPD_F']) #drop non-log col"
   ]
  },
  {
   "cell_type": "code",
   "execution_count": null,
   "id": "34e74763",
   "metadata": {},
   "outputs": [],
   "source": [
    "post_knn['PPT_log']=np.log(post_knn['P_F']+1) #add 1 to avoid log(0) error"
   ]
  },
  {
   "cell_type": "code",
   "execution_count": null,
   "id": "0247369e",
   "metadata": {},
   "outputs": [],
   "source": [
    "post_knn=post_knn.drop(columns=['P_F']) #drop non-log col"
   ]
  },
  {
   "cell_type": "code",
   "execution_count": null,
   "id": "9f1a5ea1",
   "metadata": {},
   "outputs": [],
   "source": [
    "post_knn['date']=pd.to_datetime(post_knn['date'])"
   ]
  },
  {
   "cell_type": "code",
   "execution_count": null,
   "id": "56dd30c7",
   "metadata": {},
   "outputs": [],
   "source": [
    "post_knn.dtypes"
   ]
  },
  {
   "cell_type": "code",
   "execution_count": null,
   "id": "65a57c93",
   "metadata": {},
   "outputs": [],
   "source": [
    "# impute wind speed with the median value\n",
    "\n",
    "#calculate median\n",
    "median_ws=post_knn['WS_F'].median()\n",
    "\n",
    "# calculate Q1 and Q3\n",
    "Q1 = post_knn['WS_F'].quantile(0.25)\n",
    "Q3 = post_knn['WS_F'].quantile(0.75)\n",
    "\n",
    "# calculate IQR \n",
    "IQR = Q3 - Q1\n",
    "\n",
    "# outlier thresholds \n",
    "lower_bound = Q1 - 1.5 * IQR\n",
    "upper_bound = Q3 + 1.5 * IQR\n",
    "\n",
    "# replace values outside the lower and upper bounds with NaN\n",
    "post_knn.loc[(post_knn['WS_F'] < lower_bound) | (post_knn['WS_F'] > upper_bound), 'WS_F'] = np.nan\n",
    "\n",
    "# impute missing value NA with  median\n",
    "post_knn['WS_F'].fillna(median_ws, inplace=True)\n",
    "\n"
   ]
  },
  {
   "cell_type": "code",
   "execution_count": null,
   "id": "b297ac69",
   "metadata": {},
   "outputs": [],
   "source": [
    "# impute CO2 with the mean value\n",
    "\n",
    "#calculate median\n",
    "mean_co2=post_knn['CO2_F_MDS'].mean()\n",
    "\n",
    "# calculate Q1 and Q3\n",
    "Q1 = post_knn['CO2_F_MDS'].quantile(0.25)\n",
    "Q3 = post_knn['CO2_F_MDS'].quantile(0.75)\n",
    "\n",
    "# calculate IQR \n",
    "IQR = Q3 - Q1\n",
    "\n",
    "# outlier thresholds \n",
    "lower_bound = Q1 - 1.5 * IQR\n",
    "upper_bound = Q3 + 1.5 * IQR\n",
    "\n",
    "# replace values outside the lower and upper bounds with NaN\n",
    "post_knn.loc[(post_knn['CO2_F_MDS'] < lower_bound) | (post_knn['CO2_F_MDS'] > upper_bound), 'CO2_F_MDS'] = np.nan\n",
    "\n",
    "# impute missing value NA with  mean\n",
    "post_knn['CO2_F_MDS'].fillna(mean_co2, inplace=True)\n"
   ]
  },
  {
   "cell_type": "code",
   "execution_count": null,
   "id": "786a6d1b",
   "metadata": {},
   "outputs": [],
   "source": [
    "###################################################################"
   ]
  },
  {
   "cell_type": "code",
   "execution_count": null,
   "id": "f69e0287",
   "metadata": {},
   "outputs": [],
   "source": [
    "# Radiometric (light-based) outliers "
   ]
  },
  {
   "cell_type": "code",
   "execution_count": null,
   "id": "161af877",
   "metadata": {},
   "outputs": [],
   "source": [
    "radiometric_df=eda_df[['date','SITE_ID','NIRv','PPFD_IN','Daily_Averaged_SIF','fapar']]"
   ]
  },
  {
   "cell_type": "code",
   "execution_count": null,
   "id": "b0e8b95d",
   "metadata": {},
   "outputs": [],
   "source": [
    "radiometric_df['date']=pd.to_datetime(radiometric_df['date'])"
   ]
  },
  {
   "cell_type": "code",
   "execution_count": null,
   "id": "c8baae58",
   "metadata": {},
   "outputs": [],
   "source": [
    "radiometric_df.shape #25786"
   ]
  },
  {
   "cell_type": "code",
   "execution_count": null,
   "id": "0cd44e3f",
   "metadata": {},
   "outputs": [],
   "source": [
    "radiometric_df = radiometric_df.sort_values(by='date')\n"
   ]
  },
  {
   "cell_type": "code",
   "execution_count": null,
   "id": "45c4efd8",
   "metadata": {},
   "outputs": [],
   "source": [
    "radiometric_df_box=radiometric_df[['NIRv','PPFD_IN','Daily_Averaged_SIF','fapar']]"
   ]
  },
  {
   "cell_type": "code",
   "execution_count": null,
   "id": "8b119112",
   "metadata": {},
   "outputs": [],
   "source": [
    "radiometric_labs={'NIRv':'NIRv','PPFD_IN':'PPFD','Daily_Averaged_SIF':'SIF','fapar':'fAPAR'}"
   ]
  },
  {
   "cell_type": "code",
   "execution_count": null,
   "id": "c82212db",
   "metadata": {},
   "outputs": [],
   "source": [
    "### box plots for radiometric"
   ]
  },
  {
   "cell_type": "code",
   "execution_count": null,
   "id": "90750886",
   "metadata": {},
   "outputs": [],
   "source": [
    "colors = sns.color_palette(\"husl\", len(radiometric_df_box.columns))\n",
    "\n",
    "# Create box plots for each variable with different colors and various customizations\n",
    "plt.figure(figsize=(15, 10))\n",
    "for i, (col, color) in enumerate(zip(radiometric_df_box.columns, colors), 1):\n",
    "    plt.subplot(3, 3, i)\n",
    "    sns.boxplot(y=radiometric_df[col], width=0.3, color=color, linewidth=1.5, notch=True, showfliers=True,\n",
    "                flierprops=dict(marker='o', color='red', markersize=5))  # Adjust the width and set the color here\n",
    "    plt.title(radiometric_labs[col], fontsize=14, fontweight='bold')  # Use the dictionary to set labels\n",
    "    plt.ylabel(radiometric_labs[col], fontsize=12)  # Set y-axis label\n",
    "plt.tight_layout()\n",
    "plt.show()"
   ]
  },
  {
   "cell_type": "code",
   "execution_count": null,
   "id": "16af66cb",
   "metadata": {
    "scrolled": true
   },
   "outputs": [],
   "source": [
    "plt.figure(figsize=(15, 10))\n",
    "\n",
    "# Iterate over each column and color\n",
    "for i, (col, color) in enumerate(zip(radiometric_df_box.columns, colors), 1):\n",
    "    plt.subplot(3, 3, i)\n",
    "    \n",
    "    # Plot KDE for each variable\n",
    "    sns.kdeplot(data=radiometric_df_box[col], color=color, linewidth=2, fill=True)\n",
    "    \n",
    "    # Set the title and labels using the dictionary\n",
    "    plt.title(radiometric_labs[col], fontsize=14, fontweight='bold')\n",
    "    plt.xlabel(radiometric_labs[col], fontsize=12)\n",
    "    plt.ylabel('Density', fontsize=12)\n",
    "    \n",
    "plt.tight_layout()\n",
    "plt.show()\n",
    "\n"
   ]
  },
  {
   "cell_type": "code",
   "execution_count": null,
   "id": "cf5f939f",
   "metadata": {},
   "outputs": [],
   "source": [
    "## kNN outlier imputation on NIRv and PPFD"
   ]
  },
  {
   "cell_type": "code",
   "execution_count": null,
   "id": "2729e07b",
   "metadata": {},
   "outputs": [],
   "source": [
    "radiometric_df.dtypes"
   ]
  },
  {
   "cell_type": "code",
   "execution_count": null,
   "id": "eb095335",
   "metadata": {},
   "outputs": [],
   "source": [
    "# NIRv\n",
    "\n",
    "# calculate Q1 and Q3 \n",
    "Q1 = radiometric_df['NIRv'].quantile(0.25)\n",
    "Q3 = radiometric_df['NIRv'].quantile(0.75)\n",
    "\n",
    "\n",
    "# calculate IQR\n",
    "IQR = Q3 - Q1\n",
    "\n",
    "\n",
    "# define  thresholds for outliers\n",
    "lower_bound = Q1 - 1.5 * IQR\n",
    "upper_bound = Q3 + 1.5 * IQR\n",
    "\n",
    "# replace the outliers with NA\n",
    "radiometric_df.loc[(radiometric_df['NIRv'] < lower_bound) | (radiometric_df['NIRv'] > upper_bound), 'NIRv'] = np.nan\n",
    "\n",
    "\n"
   ]
  },
  {
   "cell_type": "code",
   "execution_count": null,
   "id": "1e1d902d",
   "metadata": {
    "scrolled": true
   },
   "outputs": [],
   "source": [
    "radiometric_df.isna().sum() #580"
   ]
  },
  {
   "cell_type": "code",
   "execution_count": null,
   "id": "79867dc7",
   "metadata": {},
   "outputs": [],
   "source": [
    "# PPFD\n",
    "\n",
    "# calculate Q1 and Q3 \n",
    "Q1 = radiometric_df['PPFD_IN'].quantile(0.25)\n",
    "Q3 = radiometric_df['PPFD_IN'].quantile(0.75)\n",
    "\n",
    "\n",
    "# calculate IQR\n",
    "IQR = Q3 - Q1\n",
    "\n",
    "\n",
    "# define  thresholds for outliers\n",
    "lower_bound = Q1 - 1.5 * IQR\n",
    "upper_bound = Q3 + 1.5 * IQR\n",
    "\n",
    "# replace the outliers with NA\n",
    "radiometric_df.loc[(radiometric_df['PPFD_IN'] < lower_bound) | (radiometric_df['PPFD_IN'] > upper_bound), 'PPFD_IN'] = np.nan\n",
    "\n"
   ]
  },
  {
   "cell_type": "code",
   "execution_count": null,
   "id": "c7b2bbd5",
   "metadata": {},
   "outputs": [],
   "source": [
    "radiometric_df.isna().sum() #45"
   ]
  },
  {
   "cell_type": "code",
   "execution_count": null,
   "id": "63b97a32",
   "metadata": {},
   "outputs": [],
   "source": [
    "# sif\n",
    "\n",
    "# calculate Q1 and Q3 \n",
    "Q1 = radiometric_df['Daily_Averaged_SIF'].quantile(0.25)\n",
    "Q3 = radiometric_df['Daily_Averaged_SIF'].quantile(0.75)\n",
    "\n",
    "\n",
    "# calculate IQR\n",
    "IQR = Q3 - Q1\n",
    "\n",
    "\n",
    "# define  thresholds for outliers\n",
    "lower_bound = Q1 - 1.5 * IQR\n",
    "upper_bound = Q3 + 1.5 * IQR\n",
    "\n",
    "# replace the outliers with NA\n",
    "radiometric_df.loc[(radiometric_df['Daily_Averaged_SIF'] < lower_bound) | (radiometric_df['Daily_Averaged_SIF'] > upper_bound), 'Daily_Averaged_SIF'] = np.nan\n"
   ]
  },
  {
   "cell_type": "code",
   "execution_count": null,
   "id": "b5e7a215",
   "metadata": {},
   "outputs": [],
   "source": [
    "radiometric_df.isna().sum() #1505"
   ]
  },
  {
   "cell_type": "code",
   "execution_count": null,
   "id": "f147de00",
   "metadata": {},
   "outputs": [],
   "source": [
    "# fapar\n",
    "\n",
    "\n",
    "# calculate Q1 and Q3 \n",
    "Q1 = radiometric_df['fapar'].quantile(0.25)\n",
    "Q3 = radiometric_df['fapar'].quantile(0.75)\n",
    "\n",
    "\n",
    "# calculate IQR\n",
    "IQR = Q3 - Q1\n",
    "\n",
    "\n",
    "# define  thresholds for outliers\n",
    "lower_bound = Q1 - 1.5 * IQR\n",
    "upper_bound = Q3 + 1.5 * IQR\n",
    "\n",
    "# replace the outliers with NA\n",
    "radiometric_df.loc[(radiometric_df['fapar'] < lower_bound) | (radiometric_df['fapar'] > upper_bound), 'fapar'] = np.nan\n"
   ]
  },
  {
   "cell_type": "code",
   "execution_count": null,
   "id": "cb2555fa",
   "metadata": {},
   "outputs": [],
   "source": [
    "# apply knn imputation "
   ]
  },
  {
   "cell_type": "code",
   "execution_count": null,
   "id": "823f5801",
   "metadata": {},
   "outputs": [],
   "source": [
    "radiometric_df.set_index(['date','SITE_ID'],inplace=True)"
   ]
  },
  {
   "cell_type": "code",
   "execution_count": null,
   "id": "ae2407a0",
   "metadata": {},
   "outputs": [],
   "source": [
    "radiometric_imputed=pd.DataFrame(imputer.fit_transform(radiometric_df), columns=radiometric_df.columns)"
   ]
  },
  {
   "cell_type": "code",
   "execution_count": null,
   "id": "2bf4a621",
   "metadata": {},
   "outputs": [],
   "source": [
    "radiometric_imputed.isna().sum() #no NA values so was successful "
   ]
  },
  {
   "cell_type": "code",
   "execution_count": null,
   "id": "1f5e2f67",
   "metadata": {},
   "outputs": [],
   "source": [
    "radiometric_imputed_rename={'NIRv':'NIRv_imp','PPFD_IN':'PPFD_imp'}"
   ]
  },
  {
   "cell_type": "code",
   "execution_count": null,
   "id": "51f454ec",
   "metadata": {},
   "outputs": [],
   "source": [
    "radiometric_imputed.rename(columns=radiometric_imputed_rename,inplace=True)"
   ]
  },
  {
   "cell_type": "code",
   "execution_count": null,
   "id": "d030535e",
   "metadata": {},
   "outputs": [],
   "source": [
    "#replace with knn imputed values\n",
    "radiometric_df.loc[:, :] = radiometric_imputed.values\n"
   ]
  },
  {
   "cell_type": "code",
   "execution_count": null,
   "id": "e0232386",
   "metadata": {},
   "outputs": [],
   "source": [
    "### merge the post_knn (meterologcal) and radiometric for\n",
    "### local outlier analysis\n",
    "\n",
    "local_eda = pd.merge(post_knn, radiometric_df, on=['SITE_ID', 'date'], how='inner')\n"
   ]
  },
  {
   "cell_type": "code",
   "execution_count": null,
   "id": "4e8e33b6",
   "metadata": {
    "scrolled": true
   },
   "outputs": [],
   "source": [
    "local_eda.isna().sum()"
   ]
  },
  {
   "cell_type": "code",
   "execution_count": null,
   "id": "f986f213",
   "metadata": {},
   "outputs": [],
   "source": [
    "local_eda=local_eda.drop(columns=['PPFD_IN_x','NIRv_x','NDVI','Daily_Averaged_SIF_x','fapar_x'])"
   ]
  },
  {
   "cell_type": "code",
   "execution_count": null,
   "id": "5e044f90",
   "metadata": {},
   "outputs": [],
   "source": [
    "local_eda.shape #25786"
   ]
  },
  {
   "cell_type": "code",
   "execution_count": null,
   "id": "f913c70b",
   "metadata": {},
   "outputs": [],
   "source": [
    "# export the final dfs"
   ]
  },
  {
   "cell_type": "code",
   "execution_count": null,
   "id": "b2814115",
   "metadata": {},
   "outputs": [],
   "source": [
    "local_eda_2014_emit=local_eda[local_eda['YEAR']!=2014]"
   ]
  },
  {
   "cell_type": "code",
   "execution_count": null,
   "id": "699702a6",
   "metadata": {},
   "outputs": [],
   "source": [
    "### remove US-Var from the EDA to avoid data leakage\n",
    "\n",
    "local_eda_2014_emit=local_eda_2014_emit[local_eda_2014_emit['SITE_ID']!='US-Var']"
   ]
  },
  {
   "cell_type": "code",
   "execution_count": null,
   "id": "6fc2bd3c",
   "metadata": {},
   "outputs": [],
   "source": [
    "only_2014=local_eda[local_eda['YEAR']==2014]"
   ]
  },
  {
   "cell_type": "code",
   "execution_count": null,
   "id": "3c8ae8ee",
   "metadata": {},
   "outputs": [],
   "source": [
    "only_2014=only_2014[only_2014['SITE_ID']!='US-Var']"
   ]
  },
  {
   "cell_type": "code",
   "execution_count": null,
   "id": "fe3c8d87",
   "metadata": {},
   "outputs": [],
   "source": [
    "US_Var_validation=local_eda[local_eda['SITE_ID']=='US-Var']"
   ]
  },
  {
   "cell_type": "code",
   "execution_count": null,
   "id": "372db3dd",
   "metadata": {},
   "outputs": [],
   "source": [
    "# model training ds\n",
    "\n",
    "local_eda_2014_emit.to_csv('/Users/abigailbase/PROJECT FILES/FINAL DFs/Modelling dfs/training.csv')"
   ]
  },
  {
   "cell_type": "code",
   "execution_count": null,
   "id": "9c9cf54b",
   "metadata": {},
   "outputs": [],
   "source": [
    "# model testing ds\n",
    "\n",
    "only_2014.to_csv('/Users/abigailbase/PROJECT FILES/FINAL DFs/Modelling dfs/test.csv')"
   ]
  },
  {
   "cell_type": "code",
   "execution_count": null,
   "id": "3e1ab482",
   "metadata": {},
   "outputs": [],
   "source": [
    "# generalisation test ds\n",
    "\n",
    "US_Var_validation.to_csv('/Users/abigailbase/PROJECT FILES/FINAL DFs/Modelling dfs/US_Var_Validation.csv')"
   ]
  },
  {
   "cell_type": "code",
   "execution_count": null,
   "id": "fd83ca43",
   "metadata": {},
   "outputs": [],
   "source": []
  },
  {
   "cell_type": "code",
   "execution_count": null,
   "id": "647977bb",
   "metadata": {},
   "outputs": [],
   "source": [
    "## target variable analysis\n"
   ]
  },
  {
   "cell_type": "code",
   "execution_count": null,
   "id": "5018caee",
   "metadata": {},
   "outputs": [],
   "source": [
    "cat_eda=local_eda_2014_emit.copy()"
   ]
  },
  {
   "cell_type": "code",
   "execution_count": null,
   "id": "1aca274a",
   "metadata": {},
   "outputs": [],
   "source": [
    "cat_eda['SITE_ID'].unique()"
   ]
  },
  {
   "cell_type": "code",
   "execution_count": null,
   "id": "1d286533",
   "metadata": {},
   "outputs": [],
   "source": [
    "# historgram of gpp"
   ]
  },
  {
   "cell_type": "code",
   "execution_count": null,
   "id": "ba2dfc07",
   "metadata": {},
   "outputs": [],
   "source": [
    "mean_value =cat_eda['GPP_DT_VUT_REF'].mean()\n",
    "median_value = cat_eda['GPP_DT_VUT_REF'].median()\n",
    "mode_value = cat_eda['GPP_DT_VUT_REF'].mode()[0]  \n",
    "std_dev = cat_eda['GPP_DT_VUT_REF'].std()\n",
    "variance = cat_eda['GPP_DT_VUT_REF'].var()\n",
    "skewness = cat_eda['GPP_DT_VUT_REF'].skew()\n",
    "kurtosis =cat_eda['GPP_DT_VUT_REF'].kurtosis()\n",
    "\n",
    "print('Mean:',mean_value)\n",
    "print('Median:',median_value)\n",
    "print('Model:',mode_value)\n"
   ]
  },
  {
   "cell_type": "code",
   "execution_count": null,
   "id": "910d3ad6",
   "metadata": {},
   "outputs": [],
   "source": [
    "# optimal number of bins determined using the Freedman-Diaconis rule\n",
    "\n",
    "q75, q25 = np.percentile(cat_eda['GPP_DT_VUT_REF'], [75, 25])\n",
    "iqr = q75 - q25\n",
    "bin_width = 2 * iqr * len(cat_eda['GPP_DT_VUT_REF']) ** (-1/3)\n",
    "num_bins = int(np.ptp(cat_eda['GPP_DT_VUT_REF']) / bin_width)\n",
    "num_bins"
   ]
  },
  {
   "cell_type": "code",
   "execution_count": null,
   "id": "d2115a67",
   "metadata": {},
   "outputs": [],
   "source": [
    "# histogram of GPP distribution \n",
    "plt.figure(figsize=(10, 6))\n",
    "ax=sns.histplot(data=cat_eda,x='GPP_DT_VUT_REF', \n",
    "             bins=45,color='lightgray',\n",
    "             edgecolor='dimgrey',\n",
    "             alpha=0.6,\n",
    "             kde=True)\n",
    "\n",
    "\n",
    "ax.lines[0].set_color('red')\n",
    "ax.lines[0].set_lw(1)\n",
    "\n",
    "plt.xlabel('GPP (gC m$^{-2}$ d$^{-1}$)', fontsize=12)\n",
    "plt.ylabel('Frequency', fontsize=12)\n",
    "plt.show()\n"
   ]
  },
  {
   "cell_type": "code",
   "execution_count": null,
   "id": "733aaf2d",
   "metadata": {},
   "outputs": [],
   "source": [
    "cat_eda['GPP_DT_VUT_REF'].mean()"
   ]
  },
  {
   "cell_type": "code",
   "execution_count": null,
   "id": "972bd1a4",
   "metadata": {},
   "outputs": [],
   "source": [
    "### investigating the prevelance of zeros\n",
    "\n",
    "zero_gpp = cat_eda[cat_eda['GPP_DT_VUT_REF'] == 0]\n"
   ]
  },
  {
   "cell_type": "code",
   "execution_count": null,
   "id": "8d16f10c",
   "metadata": {},
   "outputs": [],
   "source": [
    "total_counts = cat_eda.groupby(['hemisphere', 'MONTH']).size().reset_index(name='total_count')\n"
   ]
  },
  {
   "cell_type": "code",
   "execution_count": null,
   "id": "4fb24b4c",
   "metadata": {},
   "outputs": [],
   "source": [
    "# split by hemisphere due to the opposite seasons\n",
    "\n",
    "zero_gpp_count = zero_gpp.groupby(['hemisphere', 'MONTH','IGBP']).size().reset_index(name='zero_count')\n",
    "zero_gpp_count_nh=zero_gpp_count[zero_gpp_count['hemisphere']=='NH']\n",
    "zero_gpp_count_sh=zero_gpp_count[zero_gpp_count['hemisphere']=='SH']"
   ]
  },
  {
   "cell_type": "code",
   "execution_count": null,
   "id": "ba61231f",
   "metadata": {},
   "outputs": [],
   "source": [
    "# merge the total and zero counts\n",
    "\n",
    "merged_counts = pd.merge(zero_gpp_count, total_counts, on=['hemisphere', 'MONTH'])\n"
   ]
  },
  {
   "cell_type": "code",
   "execution_count": null,
   "id": "5ed82d45",
   "metadata": {},
   "outputs": [],
   "source": [
    "# calculate percentage\n",
    "\n",
    "merged_counts['fraction_zero'] = merged_counts['zero_count'] / merged_counts['total_count']\n"
   ]
  },
  {
   "cell_type": "code",
   "execution_count": null,
   "id": "04e9934e",
   "metadata": {},
   "outputs": [],
   "source": [
    "zero_gpp_perc = zero_gpp.groupby(['hemisphere']).size().reset_index(name='zero_count')"
   ]
  },
  {
   "cell_type": "code",
   "execution_count": null,
   "id": "2f68fc23",
   "metadata": {},
   "outputs": [],
   "source": [
    "total_perc = cat_eda.groupby(['hemisphere']).size().reset_index(name='total_count')\n"
   ]
  },
  {
   "cell_type": "code",
   "execution_count": null,
   "id": "ec28f79e",
   "metadata": {},
   "outputs": [],
   "source": [
    "total_perc=pd.merge(zero_gpp_perc, total_perc, on=['hemisphere'])"
   ]
  },
  {
   "cell_type": "code",
   "execution_count": null,
   "id": "c29313da",
   "metadata": {},
   "outputs": [],
   "source": [
    "total_perc['percentage']=(total_perc['zero_count']/total_perc['total_count'])*100"
   ]
  },
  {
   "cell_type": "code",
   "execution_count": null,
   "id": "ebc42306",
   "metadata": {},
   "outputs": [],
   "source": [
    "merged_nh=merged_counts[merged_counts['hemisphere']=='NH']"
   ]
  },
  {
   "cell_type": "code",
   "execution_count": null,
   "id": "9e1dff46",
   "metadata": {},
   "outputs": [],
   "source": [
    "merged_sh=merged_counts[merged_counts['hemisphere']=='SH']"
   ]
  },
  {
   "cell_type": "code",
   "execution_count": null,
   "id": "ea1d905d",
   "metadata": {},
   "outputs": [],
   "source": [
    "# function to assign season based on hemisphere and month\n",
    "\n",
    "def assign_season(row):\n",
    "    hemisphere = row['hemisphere']\n",
    "    month = row['MONTH']\n",
    "    \n",
    "    if hemisphere == 'NH':\n",
    "        if month in [12, 1, 2]:  # December, January, February\n",
    "            return 'Winter'\n",
    "        elif month in [3, 4, 5]:  # March, April, May\n",
    "            return 'Spring'\n",
    "        elif month in [6, 7, 8]:  # June, July, August\n",
    "            return 'Summer'\n",
    "        elif month in [9, 10, 11]:  # September, October, November\n",
    "            return 'Autumn'\n",
    "    elif hemisphere == 'SH':\n",
    "        if month in [12, 1, 2]:  # December, January, February\n",
    "            return 'Summer'\n",
    "        elif month in [3, 4, 5]:  # March, April, May\n",
    "            return 'Autumn'\n",
    "        elif month in [6, 7, 8]:  # June, July, August\n",
    "            return 'Winter'\n",
    "        elif month in [9, 10, 11]:  # September, October, November\n",
    "            return 'Spring'\n",
    "    \n",
    "    return None  \n"
   ]
  },
  {
   "cell_type": "code",
   "execution_count": null,
   "id": "ab7431f4",
   "metadata": {},
   "outputs": [],
   "source": [
    "# apply the function \n",
    "merged_counts['season'] = merged_counts.apply(assign_season, axis=1)"
   ]
  },
  {
   "cell_type": "code",
   "execution_count": null,
   "id": "79f12267",
   "metadata": {},
   "outputs": [],
   "source": [
    "summer_rows = pd.DataFrame({\n",
    "    'season': ['Summer', 'Summer'],\n",
    "    'hemisphere': ['NH', 'SH'],\n",
    "    'zero_count': [0, 0]\n",
    "})"
   ]
  },
  {
   "cell_type": "code",
   "execution_count": null,
   "id": "6e5ffa79",
   "metadata": {},
   "outputs": [],
   "source": [
    "merged_counts_full = pd.concat([merged_counts, summer_rows], ignore_index=True)\n"
   ]
  },
  {
   "cell_type": "code",
   "execution_count": null,
   "id": "f2713692",
   "metadata": {},
   "outputs": [],
   "source": [
    "# plot of zero counts by hemisphere and season\n",
    "\n",
    "plt.figure(figsize=(15, 8))\n",
    "\n",
    "sns.barplot(x='season', y='zero_count', edgecolor='black', \n",
    "            data=merged_counts_full, hue='hemisphere', \n",
    "            palette={'NH': 'red', 'SH': 'deepskyblue'},\n",
    "            errorbar=None,\n",
    "            alpha=0.8)\n",
    "\n",
    "plt.xlabel('Season', fontsize=14)\n",
    "plt.ylabel('Count of GPP = 0 $\\mu$mol CO$_2$ m$^{-2}$ s$^{-1}$', fontsize=14)\n",
    "plt.xticks(fontsize=12)\n",
    "plt.legend(title='Hemisphere', fontsize=12)\n",
    "\n",
    "plt.show()"
   ]
  },
  {
   "cell_type": "code",
   "execution_count": null,
   "id": "e1a26e97",
   "metadata": {},
   "outputs": [],
   "source": [
    "### zero counts by IGBP "
   ]
  },
  {
   "cell_type": "code",
   "execution_count": null,
   "id": "43479cfc",
   "metadata": {},
   "outputs": [],
   "source": [
    "zero_gpp_IGBP = zero_gpp.groupby(['hemisphere', 'IGBP']).size().reset_index(name='zero_count')"
   ]
  },
  {
   "cell_type": "code",
   "execution_count": null,
   "id": "745d63a8",
   "metadata": {},
   "outputs": [],
   "source": [
    "zero_gpp_IGBP_nh=zero_gpp_IGBP[zero_gpp_IGBP['hemisphere']=='NH']"
   ]
  },
  {
   "cell_type": "code",
   "execution_count": null,
   "id": "e3691e36",
   "metadata": {},
   "outputs": [],
   "source": [
    "total_counts_IGBP = cat_eda.groupby(['hemisphere', 'IGBP']).size().reset_index(name='total_count')"
   ]
  },
  {
   "cell_type": "code",
   "execution_count": null,
   "id": "58f7250f",
   "metadata": {},
   "outputs": [],
   "source": [
    "merged_counts_igbp = pd.merge(zero_gpp_IGBP_nh, total_counts_IGBP, on=['hemisphere', 'IGBP'])\n"
   ]
  },
  {
   "cell_type": "code",
   "execution_count": null,
   "id": "cbf9462d",
   "metadata": {},
   "outputs": [],
   "source": [
    "merged_counts_igbp['fraction_zero'] = merged_counts_igbp['zero_count'] / merged_counts_igbp['total_count']\n"
   ]
  },
  {
   "cell_type": "code",
   "execution_count": null,
   "id": "98666913",
   "metadata": {},
   "outputs": [],
   "source": [
    "plt.figure(figsize=(15, 8))\n",
    "sns.barplot(x='IGBP', y='zero_count',edgecolor='black' ,color='lightsteelblue', data=zero_gpp_IGBP_nh)\n",
    "\n",
    "# Add the fraction of zero values as text above the bars\n",
    "for i in range(len(merged_counts_igbp)):\n",
    "    row = merged_counts_igbp.iloc[i]\n",
    "    plt.text(\n",
    "        x=i % 12,  # position horizontally based on the month (x-axis)\n",
    "        y=row['zero_count'] + 6,  # position slightly above the bar\n",
    "        s=f\"{row['fraction_zero']:.2%}\",  # format the text\n",
    "        ha='center',\n",
    "        fontweight='bold'\n",
    "    )\n",
    "\n",
    "plt.xlabel('IGBP', fontsize=14)\n",
    "plt.ylabel('Count of zero GPP values in the Northern Hemisphere', fontsize=14)\n",
    "\n",
    "plt.show()"
   ]
  },
  {
   "cell_type": "code",
   "execution_count": null,
   "id": "e12843c6",
   "metadata": {},
   "outputs": [],
   "source": [
    "### the only OSH site is RU-Cok which is in a unique location and may not represent\n",
    "### OSH types in reality. "
   ]
  },
  {
   "cell_type": "code",
   "execution_count": null,
   "id": "f4907dfd",
   "metadata": {},
   "outputs": [],
   "source": [
    "## Categorical variables ##"
   ]
  },
  {
   "cell_type": "code",
   "execution_count": null,
   "id": "237e6324",
   "metadata": {},
   "outputs": [],
   "source": [
    "# hemishpere and GPP "
   ]
  },
  {
   "cell_type": "code",
   "execution_count": null,
   "id": "cbfba0d7",
   "metadata": {},
   "outputs": [],
   "source": [
    "cat_eda=cat_eda[cat_eda['YEAR']!=2014]"
   ]
  },
  {
   "cell_type": "code",
   "execution_count": null,
   "id": "a39f0a85",
   "metadata": {},
   "outputs": [],
   "source": [
    "## decompose time series components "
   ]
  },
  {
   "cell_type": "code",
   "execution_count": null,
   "id": "9620ae15",
   "metadata": {},
   "outputs": [],
   "source": [
    "dec=cat_eda.copy()"
   ]
  },
  {
   "cell_type": "code",
   "execution_count": null,
   "id": "3cdae070",
   "metadata": {},
   "outputs": [],
   "source": [
    "dec['season'] = dec.apply(assign_season, axis=1)\n"
   ]
  },
  {
   "cell_type": "code",
   "execution_count": null,
   "id": "5b6020a1",
   "metadata": {},
   "outputs": [],
   "source": [
    "from statsmodels.tsa.seasonal import seasonal_decompose"
   ]
  },
  {
   "cell_type": "code",
   "execution_count": null,
   "id": "75ba2248",
   "metadata": {},
   "outputs": [],
   "source": [
    "dec.set_index('date',inplace=True)"
   ]
  },
  {
   "cell_type": "code",
   "execution_count": null,
   "id": "b4351927",
   "metadata": {},
   "outputs": [],
   "source": [
    "dec_NH=dec[dec['hemisphere']=='NH']\n",
    "dec_SH=dec[dec['hemisphere']=='SH']"
   ]
  },
  {
   "cell_type": "code",
   "execution_count": null,
   "id": "2f277cd5",
   "metadata": {},
   "outputs": [],
   "source": [
    "result_NH=seasonal_decompose(dec_NH['GPP_DT_VUT_REF'], model='additive',period=int(365),extrapolate_trend='freq')"
   ]
  },
  {
   "cell_type": "code",
   "execution_count": null,
   "id": "ff7e0af2",
   "metadata": {
    "scrolled": false
   },
   "outputs": [],
   "source": [
    "result_NH.plot()\n",
    "plt.show()"
   ]
  },
  {
   "cell_type": "code",
   "execution_count": null,
   "id": "458a974b",
   "metadata": {},
   "outputs": [],
   "source": [
    "trend_NH=result_NH.trend\n",
    "seasonal_NH=result_NH.seasonal\n",
    "residua_NH=result_NH.resid"
   ]
  },
  {
   "cell_type": "code",
   "execution_count": null,
   "id": "ebe58df8",
   "metadata": {},
   "outputs": [],
   "source": [
    "\n",
    "# two subplots\n",
    "\n",
    "fig, axes = plt.subplots(nrows=1, ncols=2, figsize=(15, 7), sharey=True)\n",
    "\n",
    "#plot NH\n",
    "axes[0].plot(residua_NH, color='gray', linewidth=1.5)\n",
    "axes[0].set_title('Northern Hemisphere', fontsize=14, fontweight='bold')\n",
    "axes[0].set_xlabel('Time', fontsize=12)\n",
    "axes[0].set_ylabel('GPP (gC m$^{-2}$ d$^{-1}$)', fontsize=12)\n",
    "\n",
    "#plot SH\n",
    "axes[1].plot(residua_SH, color='gray', linewidth=1.5)\n",
    "axes[1].set_title('Southern Hemisphere', fontsize=14, fontweight='bold')\n",
    "axes[1].set_xlabel('Time', fontsize=12)\n",
    "\n",
    "# Adjust layout to make space for the titles and labels\n",
    "plt.tight_layout()\n",
    "\n",
    "# Show the plots\n",
    "plt.show()\n"
   ]
  },
  {
   "cell_type": "code",
   "execution_count": null,
   "id": "4a8e1476",
   "metadata": {},
   "outputs": [],
   "source": [
    "result_SH=seasonal_decompose(dec_SH['GPP_DT_VUT_REF'], model='additive',period=int(365),extrapolate_trend='freq')"
   ]
  },
  {
   "cell_type": "code",
   "execution_count": null,
   "id": "2f7d4947",
   "metadata": {},
   "outputs": [],
   "source": [
    "# plot of GPP timeseries per site NH\n",
    "\n",
    "plt.figure(figsize=(16,8))\n",
    "\n",
    "palette = sns.color_palette(\"Set2\", len(dec_NH['SITE_ID'].unique()))\n",
    "\n",
    "sns.lineplot(x=dec_NH.index, y=dec_NH[\"GPP_DT_VUT_REF\"], hue=dec_NH['SITE_ID'], palette=palette)\n",
    "\n",
    "plt.xlabel('Date', fontsize=15)\n",
    "plt.ylabel('GPP (gC m$^{-2}$ d$^{-1}$)', fontsize=15)\n",
    "\n",
    "handles = [lines.Line2D([0], [0], color=palette[i], marker='o', linestyle='', markersize=10, label=site_id) \n",
    "           for i, site_id in enumerate(dec_NH['SITE_ID'].unique())]\n",
    "\n",
    "plt.legend(handles=handles, title='Site ID', fontsize=12, title_fontsize='13', \n",
    "           loc='center left', bbox_to_anchor=(1, 0.5))\n",
    "\n",
    "plt.tight_layout()  \n",
    "plt.show()\n"
   ]
  },
  {
   "cell_type": "code",
   "execution_count": null,
   "id": "e25cd857",
   "metadata": {},
   "outputs": [],
   "source": [
    "# plot of GPP timeseries per site SH\n",
    "\n",
    "plt.figure(figsize=(16,8))\n",
    "\n",
    "palette = {'AR-Vir': 'orange',\n",
    "           'AU-Dry': 'seagreen',\n",
    "           'ZA-Kru': 'mediumorchid'} \n",
    "\n",
    "sns.lineplot(x=dec_SH.index, y=dec_SH[\"GPP_DT_VUT_REF\"], \n",
    "             hue=dec_SH['SITE_ID'], palette=palette,alpha=0.7)\n",
    "\n",
    "plt.xlabel('Date', fontsize=15)\n",
    "plt.ylabel('GPP (gC m$^{-2}$ d$^{-1}$)', fontsize=15)\n",
    "\n",
    "handles = [lines.Line2D([0], [0], color=palette[site_id], marker='o', linestyle='', markersize=10, label=site_id) \n",
    "           for site_id in dec_SH['SITE_ID'].unique() if site_id in palette]\n",
    "\n",
    "plt.legend(handles=handles, title='Site ID', fontsize=12, title_fontsize='13', \n",
    "           loc='center left', bbox_to_anchor=(1, 0.5))\n",
    "\n",
    "plt.tight_layout()  \n",
    "plt.show()"
   ]
  },
  {
   "cell_type": "code",
   "execution_count": null,
   "id": "e21e77e2",
   "metadata": {},
   "outputs": [],
   "source": [
    "### investigating seasonality "
   ]
  },
  {
   "cell_type": "code",
   "execution_count": null,
   "id": "506a46ff",
   "metadata": {},
   "outputs": [],
   "source": [
    "eda_hem"
   ]
  },
  {
   "cell_type": "code",
   "execution_count": null,
   "id": "0038dc19",
   "metadata": {},
   "outputs": [],
   "source": [
    "### NH ### \n",
    "\n",
    "# winter = DJF (1,2,12)\n",
    "# spring = MAM (3,4,5)\n",
    "# summer = JJA (6,7,8)\n",
    "# autumn = SON (9,10,11)"
   ]
  },
  {
   "cell_type": "code",
   "execution_count": null,
   "id": "d4124e39",
   "metadata": {},
   "outputs": [],
   "source": [
    "eda_hem_NH=eda_hem[eda_hem['hemisphere']=='NH']\n",
    "eda_hem_SH=eda_hem[eda_hem['hemisphere']=='SH']"
   ]
  },
  {
   "cell_type": "code",
   "execution_count": null,
   "id": "dd42a6fc",
   "metadata": {},
   "outputs": [],
   "source": [
    "def assign_season(month):\n",
    "    if month in [12,1,2]:\n",
    "        return 'DJF'\n",
    "    elif month in [3,4,5]:\n",
    "        return 'MAM'\n",
    "    elif month in [6,7,8]:\n",
    "        return 'JJA'\n",
    "    elif month in [9,10,11]:\n",
    "        return 'SON'"
   ]
  },
  {
   "cell_type": "code",
   "execution_count": null,
   "id": "ffcfff0b",
   "metadata": {
    "scrolled": true
   },
   "outputs": [],
   "source": [
    "eda_hem_NH['season']=eda_hem_NH['month'].apply(assign_season)"
   ]
  },
  {
   "cell_type": "code",
   "execution_count": null,
   "id": "d5916666",
   "metadata": {},
   "outputs": [],
   "source": [
    "mon_average_gpp=eda_hem.groupby(['hemisphere', 'month'])['GPP_DT_VUT_REF'].mean().reset_index()\n"
   ]
  },
  {
   "cell_type": "code",
   "execution_count": null,
   "id": "7db39dd9",
   "metadata": {},
   "outputs": [],
   "source": [
    "mon_average_gpp_NH=mon_average_gpp[mon_average_gpp['hemisphere']=='NH']\n",
    "mon_average_gpp_SH=mon_average_gpp[mon_average_gpp['hemisphere']=='SH']"
   ]
  },
  {
   "cell_type": "code",
   "execution_count": null,
   "id": "d3d1114c",
   "metadata": {},
   "outputs": [],
   "source": [
    "mon_average_gpp_NH['season']=mon_average_gpp_NH['month'].apply(assign_season)\n",
    "mon_average_gpp_SH['season']=mon_average_gpp_SH['month'].apply(assign_season)"
   ]
  },
  {
   "cell_type": "code",
   "execution_count": null,
   "id": "5d1ed0ec",
   "metadata": {},
   "outputs": [],
   "source": [
    "mon_average_gpp_NH['month'] = pd.Categorical(mon_average_gpp_NH['month'], categories=month_order, ordered=True)\n",
    "mon_average_gpp_SH['month'] = pd.Categorical(mon_average_gpp_SH['month'], categories=month_order, ordered=True)\n"
   ]
  },
  {
   "cell_type": "code",
   "execution_count": null,
   "id": "67100213",
   "metadata": {},
   "outputs": [],
   "source": [
    "# GPP and IGBP \n",
    "\n",
    "# timeseries of mean gpp by IGBP\n",
    "\n",
    "#group by IBP and Month and calculate the mean GPP \n",
    "\n",
    "time_df=cat_eda.copy()\n",
    "\n",
    "\n",
    "time_df['DATE_combined'] = pd.to_datetime(time_df[['YEAR', 'MONTH']].assign(DAY=1))\n",
    "\n",
    "mean_gpp_per_month = time_df.groupby(['IGBP', 'DATE_combined'])['GPP_DT_VUT_REF'].mean().reset_index()\n",
    "\n"
   ]
  },
  {
   "cell_type": "code",
   "execution_count": null,
   "id": "e3fac8fe",
   "metadata": {},
   "outputs": [],
   "source": [
    "plt.figure(figsize=(16, 6))\n",
    "\n",
    "for igbp_type in mean_gpp_per_month['IGBP'].unique():\n",
    "    subset = mean_gpp_per_month[mean_gpp_per_month['IGBP'] == igbp_type]\n",
    "    plt.plot(subset['DATE_combined'], subset['GPP_DT_VUT_REF'], marker='o', label=igbp_type)\n",
    "\n",
    "plt.xlabel('Date',fontsize=16)\n",
    "plt.ylabel('Average GPP (gC m$^{-2}$ d$^{-1}$)',fontsize=16)\n",
    "plt.legend(title='IGBP Type')\n",
    "plt.xticks(fontsize=13)\n",
    "plt.yticks(fontsize=13)\n",
    "\n",
    "plt.legend(title='IGBP Type', bbox_to_anchor=(1.05, 1), \n",
    "           loc='upper left',fontsize=16,title_fontsize=16)\n",
    "\n",
    "plt.tight_layout()\n",
    "plt.show()"
   ]
  },
  {
   "cell_type": "code",
   "execution_count": null,
   "id": "f595a7d3",
   "metadata": {},
   "outputs": [],
   "source": [
    "# pair plot of met vars"
   ]
  },
  {
   "cell_type": "code",
   "execution_count": null,
   "id": "101ccca7",
   "metadata": {},
   "outputs": [],
   "source": [
    "par_plot_labs={'hemisphere':'Hemisphere',\n",
    "               'TA_F':'Temperature (°C)',\n",
    "               'VPD_log':'VPD (hPa)',\n",
    "               'GPP_DT_VUT_REF': 'GPP (gC m$^{-2}$ d$^{-1}$)',\n",
    "               'SWC_F_MDS_1':'SWC (%)',\n",
    "               'NIRv_y':'NIRv',\n",
    "               'PPFD_IN_y':'PPFD (µmol Photon m$^{-2}$ s$^{-1}$)',\n",
    "               'Daily_Averaged_SIF_y':'SIF (mW m$^{-2}$ nm$^{-1}$ sr$^{-1}$)'\n",
    "}"
   ]
  },
  {
   "cell_type": "code",
   "execution_count": null,
   "id": "1a880bc2",
   "metadata": {},
   "outputs": [],
   "source": [
    "pair_vars_renamed = pair_vars.rename(columns=par_plot_labs)\n"
   ]
  },
  {
   "cell_type": "code",
   "execution_count": null,
   "id": "f2a3c586",
   "metadata": {},
   "outputs": [],
   "source": [
    "pair_cols={'NH':'darkgray','SH':'darkorange'}"
   ]
  },
  {
   "cell_type": "code",
   "execution_count": null,
   "id": "bb9d44b2",
   "metadata": {},
   "outputs": [],
   "source": [
    "from matplotlib.lines import Line2D\n",
    "\n",
    "\n",
    "g=sns.pairplot(pair_vars_renamed, \n",
    "               hue='Hemisphere',\n",
    "               markers=['8','D'],\n",
    "               palette=pair_cols,\n",
    "               plot_kws={'s': 10,'alpha':0.5}\n",
    "              )\n",
    "\n",
    "                \n",
    "for ax in g.axes.flatten():\n",
    "    ax.set_xlabel(ax.get_xlabel(), fontsize=12)  \n",
    "    ax.set_ylabel(ax.get_ylabel(), fontsize=12)  \n",
    "\n",
    "legend = g._legend\n",
    "legend.set_title('Hemisphere', prop={'size': 13})  \n",
    "legend.set_bbox_to_anchor((1, 1))  \n",
    "for text in legend.get_texts():\n",
    "    text.set_fontsize(14)  \n",
    "\n",
    "# Add a box to the legend\n",
    "legend.get_frame().set_edgecolor('black')  \n",
    "legend.get_frame().set_linewidth(1.5)     \n",
    "\n",
    "            \n",
    "plt.show()"
   ]
  },
  {
   "cell_type": "code",
   "execution_count": null,
   "id": "a27e96e5",
   "metadata": {},
   "outputs": [],
   "source": [
    "# isolate SAV IGBP data\n",
    "\n",
    "sav=cat_eda[cat_eda['IGBP']=='SAV']"
   ]
  },
  {
   "cell_type": "code",
   "execution_count": null,
   "id": "e93599ac",
   "metadata": {},
   "outputs": [],
   "source": [
    "# histogram of temp in Savanna ecosystem\n",
    "plt.figure(figsize=(10, 6))\n",
    "\n",
    "sns.histplot(data=sav, x='TA_F', bins=30, kde=True, color='blue')\n",
    "\n",
    "plt.title('Savanna temperature distribution', fontsize=16)\n",
    "plt.xlabel('Temperature (°C)', fontsize=14)\n",
    "plt.ylabel('Frequency', fontsize=14)\n",
    "\n",
    "plt.show()\n"
   ]
  },
  {
   "cell_type": "code",
   "execution_count": null,
   "id": "025ec4f5",
   "metadata": {},
   "outputs": [],
   "source": [
    "# plot of different temp bins average GPP\n",
    "\n",
    "cat_eda['Temp_Bin'] = pd.cut(cat_eda['TA_F'], bins=bins, labels=labels, right=False)\n"
   ]
  },
  {
   "cell_type": "code",
   "execution_count": null,
   "id": "3dda27ef",
   "metadata": {},
   "outputs": [],
   "source": [
    "bins = [-45, -30, -15, 0, 15, 30, 45, 60]  \n",
    "labels = ['<-30°C', '-30°C to -15°C', '-15°C to 0°C', '0°C to 15°C', '15°C to 30°C', '30°C to 45°C', '>45°C']  # Corresponding labels for each bin\n",
    "colors = ['blue', 'lightcyan', 'turquoise', 'gold', 'limegreen', 'darkorange', 'red']\n",
    "\n"
   ]
  },
  {
   "cell_type": "code",
   "execution_count": null,
   "id": "f3807ef1",
   "metadata": {
    "scrolled": true
   },
   "outputs": [],
   "source": [
    "print(cat_eda['TA_F'].max()) #42.75\n",
    "print(cat_eda['TA_F'].min()) #-23.96"
   ]
  },
  {
   "cell_type": "code",
   "execution_count": null,
   "id": "ae04e20c",
   "metadata": {
    "scrolled": false
   },
   "outputs": [],
   "source": [
    "plt.figure(figsize=(14, 7))\n",
    "\n",
    "barplot=sns.barplot(x='IGBP', y='GPP_DT_VUT_REF', hue='Temp_Bin', data=cat_eda, edgecolor='black',\n",
    "            palette=colors, errorbar=None)  # Use the custom color palette\n",
    "\n",
    "plt.xlabel('IGBP', fontsize=14)\n",
    "plt.ylabel('Average GPP (gC m$^{-2}$ d$^{-1}$)', fontsize=14)\n",
    "plt.legend(title='Temperature Range', loc='upper right')\n",
    "\n",
    "\n",
    "mean_temp = cat_eda.groupby(['IGBP', 'Temp_Bin'])['TA_F'].mean().reset_index()\n",
    "\n",
    "\n",
    "# Show the plot\n",
    "plt.show()"
   ]
  },
  {
   "cell_type": "code",
   "execution_count": null,
   "id": "aae61d8c",
   "metadata": {},
   "outputs": [],
   "source": [
    "## SIF Uncertainty\n",
    "\n",
    "\n",
    "uncertainty=sif_uncertainty.copy()"
   ]
  },
  {
   "cell_type": "code",
   "execution_count": null,
   "id": "0c9eb7f7",
   "metadata": {},
   "outputs": [],
   "source": [
    "uncertainty.reset_index(inplace=True)"
   ]
  },
  {
   "cell_type": "code",
   "execution_count": null,
   "id": "b7d0046c",
   "metadata": {},
   "outputs": [],
   "source": [
    "uncertainty['date']=pd.to_datetime(uncertainty['date'])"
   ]
  },
  {
   "cell_type": "code",
   "execution_count": null,
   "id": "96a99bb3",
   "metadata": {},
   "outputs": [],
   "source": [
    "uncertainty['year']=uncertainty['date'].dt.year"
   ]
  },
  {
   "cell_type": "code",
   "execution_count": null,
   "id": "39644243",
   "metadata": {},
   "outputs": [],
   "source": [
    "uncertainty=uncertainty[uncertainty['year']==2014]"
   ]
  },
  {
   "cell_type": "code",
   "execution_count": null,
   "id": "83dd4fef",
   "metadata": {
    "scrolled": true
   },
   "outputs": [],
   "source": [
    "uncertainty.dtypes"
   ]
  },
  {
   "cell_type": "code",
   "execution_count": null,
   "id": "1e854003",
   "metadata": {},
   "outputs": [],
   "source": [
    "uncertainty.set_index('date', inplace=True)\n"
   ]
  },
  {
   "cell_type": "code",
   "execution_count": null,
   "id": "45a477dc",
   "metadata": {},
   "outputs": [],
   "source": [
    "numeric_columns = [ 'SIF_Uncertainty', 'Cloud_Fraction']\n"
   ]
  },
  {
   "cell_type": "code",
   "execution_count": null,
   "id": "45c5324e",
   "metadata": {},
   "outputs": [],
   "source": [
    "daily_avg = uncertainty[numeric_columns].groupby('date').mean()\n"
   ]
  },
  {
   "cell_type": "code",
   "execution_count": null,
   "id": "cdaddb20",
   "metadata": {},
   "outputs": [],
   "source": [
    "# plot of SIF uncertainty and cloud fraction \n",
    "\n",
    "plt.figure(figsize=(12, 8))\n",
    "\n",
    "# Plot Daily Averaged SIF\n",
    "\n",
    "# Plot SIF Uncertainty\n",
    "plt.plot(daily_avg.index, daily_avg['SIF_Uncertainty'], label='SIF Uncertainty', color='orange')\n",
    "\n",
    "# Plot Cloud Fraction\n",
    "plt.plot(daily_avg.index, daily_avg['Cloud_Fraction'], label='Cloud Fraction', color='skyblue')\n",
    "\n",
    "# Formatting the plot\n",
    "plt.xlabel('Date',fontsize=14)\n",
    "plt.ylabel('Average Values',fontsize=14)\n",
    "plt.legend(fontsize=12)\n",
    "plt.grid(True)\n",
    "plt.xticks(rotation=0)  # Rotate x-axis labels for better readability\n",
    "plt.tight_layout()\n",
    "\n",
    "# Show plot\n",
    "plt.show()"
   ]
  },
  {
   "cell_type": "code",
   "execution_count": null,
   "id": "3cad6f9d",
   "metadata": {},
   "outputs": [],
   "source": []
  },
  {
   "cell_type": "code",
   "execution_count": null,
   "id": "91f79769",
   "metadata": {},
   "outputs": [],
   "source": []
  }
 ],
 "metadata": {
  "kernelspec": {
   "display_name": "Python 3 (ipykernel)",
   "language": "python",
   "name": "python3"
  },
  "language_info": {
   "codemirror_mode": {
    "name": "ipython",
    "version": 3
   },
   "file_extension": ".py",
   "mimetype": "text/x-python",
   "name": "python",
   "nbconvert_exporter": "python",
   "pygments_lexer": "ipython3",
   "version": "3.11.5"
  }
 },
 "nbformat": 4,
 "nbformat_minor": 5
}
