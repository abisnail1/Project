{
 "cells": [
  {
   "cell_type": "code",
   "execution_count": null,
   "id": "11150fd2",
   "metadata": {},
   "outputs": [],
   "source": [
    "import pandas as pd\n",
    "import os"
   ]
  },
  {
   "cell_type": "code",
   "execution_count": null,
   "id": "209eaa26",
   "metadata": {},
   "outputs": [],
   "source": [
    "### This file will concat all of the daily fluxnet files for all of the sites"
   ]
  },
  {
   "cell_type": "code",
   "execution_count": null,
   "id": "487a5c12",
   "metadata": {},
   "outputs": [],
   "source": [
    "directory='/Users/abigailbase/PROJECT FILES/RP Code Files'"
   ]
  },
  {
   "cell_type": "code",
   "execution_count": null,
   "id": "dd6ddbdd",
   "metadata": {},
   "outputs": [],
   "source": [
    "def combine_files_by_timestamp(directory, final_output_directory):\n",
    "    files_with_timestamp = []\n",
    "    files_without_timestamp = []\n",
    "\n",
    "    # Walk through all files in the output directory\n",
    "    for dirpath, _, filenames in os.walk(directory):\n",
    "        for filename in filenames:\n",
    "            if filename.endswith('.csv'):\n",
    "                file_path = os.path.join(dirpath, filename)\n",
    "                \n",
    "                # Read the CSV file\n",
    "                try:\n",
    "                    df = pd.read_csv(file_path)\n",
    "                except Exception as e:\n",
    "                    print(f\"Error reading {file_path}: {e}\")\n",
    "                    continue\n",
    "                \n",
    "                # Check for timestamp column\n",
    "                if 'TIMESTAMP' in df.columns:\n",
    "                    files_with_timestamp.append(df)\n",
    "                else:\n",
    "                    files_without_timestamp.append(df)\n",
    "    \n",
    "    \n",
    "    # Create the final output directory if it doesn't exist\n",
    "    if not os.path.exists(final_output_directory):\n",
    "        os.makedirs(final_output_directory)\n",
    "        \n",
    "\n",
    "    # Combine files with timestamp\n",
    "    if files_with_timestamp:\n",
    "        combined_df_with_timestamp = pd.concat(files_with_timestamp, ignore_index=True)\n",
    "        combined_with_timestamp_path = os.path.join(final_output_directory, 'combined_with_timestamp2.csv')\n",
    "        combined_df_with_timestamp.to_csv(combined_with_timestamp_path, index=False)\n",
    "        print(f\"Combined files with timestamp saved to {combined_with_timestamp_path}\")\n",
    "    \n",
    "  \n",
    "\n",
    "\n",
    "final_output_directory = '/Users/abigailbase/PROJECT FILES/Final2'\n",
    "\n",
    "\n",
    "# Combine the processed files by timestamp\n",
    "\n",
    "combine_files_by_timestamp(directory, final_output_directory)\n",
    "\n",
    "\n",
    "\n"
   ]
  },
  {
   "cell_type": "code",
   "execution_count": null,
   "id": "8e844e59",
   "metadata": {},
   "outputs": [],
   "source": [
    "def combine_files_by_timestamp(directory, final_output_directory):\n",
    "    files_with_timestamp = []\n",
    "\n",
    "    # all files in the output directory\n",
    "    for dirpath, _, filenames in os.walk(directory):\n",
    "        for filename in filenames:\n",
    "            if filename.endswith('.csv'):\n",
    "                file_path = os.path.join(dirpath, filename)\n",
    "                \n",
    "                # extractsite name from the filename\n",
    "                site_name = filename.split('_')[1]\n",
    "                \n",
    "                try:\n",
    "                    df = pd.read_csv(file_path)\n",
    "                except Exception as e:\n",
    "                    print(f\"Error reading {file_path}: {e}\")\n",
    "                    continue\n",
    "                \n",
    "                # add SITE_ID column\n",
    "                df['SITE_ID'] = site_name\n",
    "                \n",
    "                # check for timestamp column\n",
    "                if 'TIMESTAMP' in df.columns:\n",
    "                    files_with_timestamp.append(df)\n",
    "    \n",
    "    #  final output directory if it doesn't exist\n",
    "    if not os.path.exists(final_output_directory):\n",
    "        os.makedirs(final_output_directory)\n",
    "        \n",
    "    # combine files with timestamp\n",
    "    if files_with_timestamp:\n",
    "        combined_df_with_timestamp = pd.concat(files_with_timestamp, ignore_index=True)\n",
    "        combined_with_timestamp_path = os.path.join(final_output_directory, 'combined_with_timestamp3.csv')\n",
    "        combined_df_with_timestamp.to_csv(combined_with_timestamp_path, index=False)\n",
    "        print(f\"Combined files with timestamp saved to {combined_with_timestamp_path}\")\n",
    "\n",
    "\n",
    "final_output_directory = '/Users/abigailbase/PROJECT FILES/Final3'\n",
    "\n",
    "combine_files_by_timestamp(directory, final_output_directory)"
   ]
  },
  {
   "cell_type": "code",
   "execution_count": null,
   "id": "c975cd36",
   "metadata": {},
   "outputs": [],
   "source": [
    "dtype = {\n",
    "    75: 'str',  # or 'float', 'int', etc., based on your data\n",
    "    76: 'str'   # or 'float', 'int', etc., based on your data\n",
    "}\n"
   ]
  },
  {
   "cell_type": "code",
   "execution_count": null,
   "id": "3c52bc33",
   "metadata": {},
   "outputs": [],
   "source": [
    "see=pd.read_csv('/Users/abigailbase/PROJECT FILES/Final3/combined_with_timestamp3.csv',dtype=dtype)"
   ]
  },
  {
   "cell_type": "code",
   "execution_count": null,
   "id": "3abe5999",
   "metadata": {
    "scrolled": true
   },
   "outputs": [],
   "source": [
    "see['SITE_ID'].unique()"
   ]
  },
  {
   "cell_type": "code",
   "execution_count": null,
   "id": "b33d5753",
   "metadata": {},
   "outputs": [],
   "source": [
    "see=see.drop(columns=['TA_F_QC','SW_IN_POT','LW_IN_F_QC','SW_IN_F_QC','LW_IN_F_QC','VPD_F_QC'])"
   ]
  },
  {
   "cell_type": "code",
   "execution_count": null,
   "id": "633ebe34",
   "metadata": {},
   "outputs": [],
   "source": [
    "see.head()"
   ]
  },
  {
   "cell_type": "code",
   "execution_count": null,
   "id": "425d405f",
   "metadata": {},
   "outputs": [],
   "source": [
    "see=see.drop(columns=['PA_F_QC','P_F_QC'])"
   ]
  },
  {
   "cell_type": "code",
   "execution_count": null,
   "id": "6d83fdf3",
   "metadata": {},
   "outputs": [],
   "source": [
    "print(see.columns)"
   ]
  },
  {
   "cell_type": "code",
   "execution_count": null,
   "id": "80a79d47",
   "metadata": {},
   "outputs": [],
   "source": [
    "var_list=df.columns.tolist()"
   ]
  },
  {
   "cell_type": "code",
   "execution_count": null,
   "id": "de0c1216",
   "metadata": {},
   "outputs": [],
   "source": [
    "see=see.drop(columns=['TS_F_MDS_1_QC','SWC_F_MDS_1_QC'])"
   ]
  },
  {
   "cell_type": "code",
   "execution_count": null,
   "id": "6c627706",
   "metadata": {},
   "outputs": [],
   "source": [
    "columns_to_drop = [col for col in see.columns if col.endswith('QC')]"
   ]
  },
  {
   "cell_type": "code",
   "execution_count": null,
   "id": "2a085751",
   "metadata": {},
   "outputs": [],
   "source": [
    "df=see.drop(columns=columns_to_drop)"
   ]
  },
  {
   "cell_type": "code",
   "execution_count": null,
   "id": "1414dc9b",
   "metadata": {},
   "outputs": [],
   "source": [
    "print(var_list)"
   ]
  },
  {
   "cell_type": "code",
   "execution_count": null,
   "id": "af141a94",
   "metadata": {},
   "outputs": [],
   "source": [
    "need_to_drop=['LE_F_MDS','LE_CORR','LE_RANDUNC','H_F_MDS','H_CORR','H_RANDUNC','NEE_VUT_REF_RANDUNC',\n",
    "             'NEE_VUT_25','NEE_VUT_50','NEE_VUT_75','RECO_NT_VUT_REF','RECO_NT_VUT_25','RECO_NT_VUT_50',\n",
    "             'RECO_NT_VUT_75','GPP_NT_VUT_25','GPP_NT_VUT_50','GPP_NT_VUT_75','RECO_DT_VUT_REF','RECO_DT_VUT_25',\n",
    "             'RECO_DT_VUT_50','RECO_DT_VUT_75','GPP_DT_VUT_25','GPP_DT_VUT_50','GPP_DT_VUT_75','RECO_SR',\n",
    "             'RECO_SR_N','LE_CORR_25','LE_CORR_75','H_CORR_25','H_CORR_75','ID','VARIABLE','PARAMETER',\n",
    "             'VALUE','TA_ERA_DAY_SD','EBC_CF_N','EBC_CF_METHOD','NIGHT_RANDUNC_N','DAY_RANDUNC_N','NEE_CUT_REF_RANDUNC',\n",
    "             'NEE_CUT_REF_JOINTUNC','NEE_VUT_REF_JOINTUNC','NEE_CUT_USTAR50_RANDUNC','NEE_VUT_USTAR50_RANDUNC',\n",
    "             'NEE_CUT_USTAR50_JOINTUNC','NEE_VUT_USTAR50_JOINTUNC','NEE_CUT_MEAN','NEE_VUT_MEAN','NEE_CUT_SE',\n",
    "             'NEE_VUT_SE','NEE_CUT_05','NEE_CUT_16','NEE_CUT_25','NEE_CUT_50','NEE_CUT_75','NEE_CUT_84','NEE_CUT_95',\n",
    "             'NEE_CUT_REF_NIGHT_SD', 'NEE_VUT_REF_NIGHT_SD', 'NEE_CUT_REF_NIGHT_RANDUNC', 'NEE_VUT_REF_NIGHT_RANDUNC',\n",
    "             'NEE_CUT_REF_NIGHT_JOINTUNC', 'NEE_VUT_REF_NIGHT_JOINTUNC','NEE_CUT_REF_DAY_SD', 'NEE_VUT_REF_DAY_SD',\n",
    "              'NEE_CUT_REF_DAY_RANDUNC', 'NEE_VUT_REF_DAY_RANDUNC', 'NEE_CUT_REF_DAY_JOINTUNC', 'NEE_VUT_REF_DAY_JOINTUNC',\n",
    "             'NEE_CUT_USTAR50_NIGHT_SD', 'NEE_VUT_USTAR50_NIGHT_SD', 'NEE_CUT_USTAR50_NIGHT_RANDUNC', 'NEE_VUT_USTAR50_NIGHT_RANDUNC',\n",
    "              'NEE_CUT_USTAR50_NIGHT_JOINTUNC', 'NEE_VUT_USTAR50_NIGHT_JOINTUNC','NEE_CUT_USTAR50_DAY_SD', 'NEE_VUT_USTAR50_DAY_SD', \n",
    "              'NEE_CUT_USTAR50_DAY_RANDUNC', 'NEE_VUT_USTAR50_DAY_RANDUNC', 'NEE_CUT_USTAR50_DAY_JOINTUNC', 'NEE_VUT_USTAR50_DAY_JOINTUNC',\n",
    "             'NEE_CUT_05_NIGHT', 'NEE_CUT_16_NIGHT', 'NEE_CUT_25_NIGHT', 'NEE_CUT_50_NIGHT', 'NEE_CUT_75_NIGHT', 'NEE_CUT_84_NIGHT', 'NEE_CUT_95_NIGHT', \n",
    "              'NEE_VUT_05_NIGHT', 'NEE_VUT_16_NIGHT', 'NEE_VUT_25_NIGHT', 'NEE_VUT_50_NIGHT', 'NEE_VUT_75_NIGHT', 'NEE_VUT_84_NIGHT', 'NEE_VUT_95_NIGHT',\n",
    "              'NEE_CUT_05_DAY', 'NEE_CUT_16_DAY', 'NEE_CUT_25_DAY', 'NEE_CUT_50_DAY', 'NEE_CUT_75_DAY', 'NEE_CUT_84_DAY', 'NEE_CUT_95_DAY', 'NEE_VUT_05_DAY',\n",
    "              'NEE_VUT_16_DAY', 'NEE_VUT_25_DAY', 'NEE_VUT_50_DAY', 'NEE_VUT_75_DAY', 'NEE_VUT_84_DAY', 'NEE_VUT_95_DAY', 'RECO_NT_VUT_USTAR50', 'RECO_NT_VUT_MEAN', \n",
    "              'RECO_NT_VUT_SE', 'RECO_NT_VUT_05', 'RECO_NT_VUT_16', 'RECO_NT_VUT_84', 'RECO_NT_VUT_95', 'RECO_NT_CUT_REF', 'RECO_NT_CUT_USTAR50', 'RECO_NT_CUT_MEAN', \n",
    "              'RECO_NT_CUT_SE', 'RECO_NT_CUT_05', 'RECO_NT_CUT_16', 'RECO_NT_CUT_25', 'RECO_NT_CUT_50', 'RECO_NT_CUT_75', 'RECO_NT_CUT_84', 'RECO_NT_CUT_95', \n",
    "             'GPP_NT_VUT_SE', 'GPP_NT_VUT_05', 'GPP_NT_VUT_16', 'GPP_NT_VUT_84', 'GPP_NT_VUT_95', 'GPP_NT_CUT_SE', 'GPP_NT_CUT_05', 'GPP_NT_CUT_16', 'GPP_NT_CUT_25', \n",
    "              'GPP_NT_CUT_50', 'GPP_NT_CUT_75', 'GPP_NT_CUT_84', 'GPP_NT_CUT_95', 'RECO_DT_VUT_USTAR50', 'RECO_DT_VUT_MEAN', 'RECO_DT_VUT_SE', 'RECO_DT_VUT_05', 'RECO_DT_VUT_16', \n",
    "              'RECO_DT_VUT_84', 'RECO_DT_VUT_95', 'RECO_DT_CUT_REF', 'RECO_DT_CUT_USTAR50', 'RECO_DT_CUT_MEAN', 'RECO_DT_CUT_SE', 'RECO_DT_CUT_05', 'RECO_DT_CUT_16', 'RECO_DT_CUT_25', \n",
    "              'RECO_DT_CUT_50', 'RECO_DT_CUT_75', 'RECO_DT_CUT_84', 'RECO_DT_CUT_95','GPP_DT_VUT_SE', 'GPP_DT_VUT_05', 'GPP_DT_VUT_16', 'GPP_DT_VUT_84', 'GPP_DT_VUT_95', 'GPP_DT_CUT_REF',\n",
    "             'GPP_DT_CUT_SE', 'GPP_DT_CUT_05', 'GPP_DT_CUT_16', 'GPP_DT_CUT_25', 'GPP_DT_CUT_50', 'GPP_DT_CUT_75', 'GPP_DT_CUT_84', 'GPP_DT_CUT_95',\n",
    "             'LE_CORR_JOINTUNC', 'H_CORR_JOINTUNC', 'NIGHT_D', 'DAY_D', 'TS_F_MDS_5', 'TS_F_MDS_6', 'SWC_F_MDS_4', 'TS_F_MDS_7', 'SWC_F_MDS_5', 'SWC_F_MDS_6', 'SWC_F_MDS_7', 'TS_F_MDS_8', 'TS_F_MDS_9']"
   ]
  },
  {
   "cell_type": "code",
   "execution_count": null,
   "id": "a660b79f",
   "metadata": {},
   "outputs": [],
   "source": [
    "df=df.drop(columns=need_to_drop)"
   ]
  },
  {
   "cell_type": "code",
   "execution_count": null,
   "id": "1deaa74b",
   "metadata": {
    "scrolled": true
   },
   "outputs": [],
   "source": [
    "df.head()"
   ]
  },
  {
   "cell_type": "code",
   "execution_count": null,
   "id": "8844f667",
   "metadata": {},
   "outputs": [],
   "source": [
    "df.to_csv('/Users/abigailbase/PROJECT FILES/FINAL DF/final_df.csv')"
   ]
  }
 ],
 "metadata": {
  "kernelspec": {
   "display_name": "Python 3 (ipykernel)",
   "language": "python",
   "name": "python3"
  },
  "language_info": {
   "codemirror_mode": {
    "name": "ipython",
    "version": 3
   },
   "file_extension": ".py",
   "mimetype": "text/x-python",
   "name": "python",
   "nbconvert_exporter": "python",
   "pygments_lexer": "ipython3",
   "version": "3.11.5"
  }
 },
 "nbformat": 4,
 "nbformat_minor": 5
}
