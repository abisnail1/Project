{
 "cells": [
  {
   "cell_type": "code",
   "execution_count": null,
   "id": "c831ef49",
   "metadata": {},
   "outputs": [],
   "source": [
    "# This processing step was required as the files from MODIS for the NDVI data were in hdf (Hierarchical Data Format)\n",
    "\n",
    "# Source for MODIS vegetation indicies data (MOD13A2): https://search.earthdata.nasa.gov/search/granules?p=C2565788905-LPCLOUD!C2565788905-LPCLOUD&pg[1][v]=t&pg[1][m]=download&pg[1][cd]=f&g=G2597482949-LPCLOUD&q=MOD13A2&sp[0]=147.4943%2C70.8291&qt=2010-01-01T00%3A00%3A00.000Z%2C2014-12-31T23%3A59%3A59.999Z&tl=1722677886!3!!&lat=70.12127515262577&long=143.9384765625&zoom=5"
   ]
  },
  {
   "cell_type": "code",
   "execution_count": null,
   "id": "b32773b1-cf2a-4243-80fc-433c5c827111",
   "metadata": {},
   "outputs": [],
   "source": [
    "import os\n",
    "import re\n",
    "import numpy as np\n",
    "import pandas as pd\n",
    "from scipy.interpolate import griddata\n",
    "from pyhdf.SD import SD, SDC\n",
    "from datetime import datetime, timedelta"
   ]
  },
  {
   "cell_type": "code",
   "execution_count": null,
   "id": "db046eac-3d46-46d9-990c-852d94c7f252",
   "metadata": {},
   "outputs": [],
   "source": [
    "# Function for extracting MODIS data from hdf file format and process the data\n",
    "\n",
    "\n",
    "def extract_info(filepath):\n",
    "    filename = os.path.basename(filepath)\n",
    "    \n",
    "    #extract date from the title\n",
    "    pattern = r\"(?P<product>MOD13A2)\\.A(?P<year>\\d{4})(?P<day_of_year>\\d{3})\\.h(?P<h_tile>\\d{2})v(?P<v_tile>\\d{2})\\.(?P<version>\\d{3})\\.(?P<timestamp>\\d+)\\.hdf\"\n",
    "    \n",
    "    match = re.match(pattern, filename)\n",
    "    if match:\n",
    "        return match.groupdict()\n",
    "    else:\n",
    "        return None\n",
    "\n",
    "    \n",
    "#impute the missing data with nearest point (geographical data so the nearest point spatially is likely most accurate)\n",
    "\n",
    "def impute_values(df, error_value, method='nearest'):\n",
    "    df = df.where(df != error_value, np.nan)\n",
    "    x, y = np.meshgrid(np.arange(df.shape[1]), np.arange(df.shape[0]))\n",
    "    x_flat = x.flatten()\n",
    "    y_flat = y.flatten()\n",
    "    z_flat = df.values.flatten()\n",
    "    mask = ~np.isnan(z_flat)\n",
    "    z_interpolated = griddata((x_flat[mask], y_flat[mask]), z_flat[mask], (x_flat, y_flat), method=method)\n",
    "    interpolated_df = pd.DataFrame(z_interpolated.reshape(df.shape), columns=df.columns)\n",
    "    return interpolated_df\n",
    "\n",
    "\n",
    "# match the location of the towers to location in MODIS data\n",
    "\n",
    "def latlon_to_modis_sinusoidal(lat, lon):\n",
    "    \n",
    "    R = 6371007.181 #radius of earth in m \n",
    "    \n",
    "    # calculate x and y coords\n",
    "    \n",
    "    x = R * np.radians(lon)\n",
    "    y = R * np.log(np.tan((np.pi / 4) + (np.radians(lat) / 2)))\n",
    "    return x, y\n",
    "\n",
    "# calculate the modis tile coordinates from the x,y coords\n",
    "\n",
    "def find_modis_tile(x, y):\n",
    "    tile_size = 1200000\n",
    "    h = int((x / tile_size) + 18)\n",
    "    v = int(9 - (y / tile_size))\n",
    "    return h, v\n",
    "\n",
    "#find the spot on the tile that corrosponds to the x,y coords\n",
    "\n",
    "def find_modis_pixel(x, y, h, v):\n",
    "    tile_size = 1200000\n",
    "    pixel_size = 1000\n",
    "    x0 = (h - 18) * tile_size\n",
    "    y0 = (9 - v) * tile_size\n",
    "    i = int((x - x0) / pixel_size)\n",
    "    j = int((y0 - y) / pixel_size)\n",
    "    return i, j\n",
    "\n",
    "def locate_modis_data(lat, lon):\n",
    "    x, y = latlon_to_modis_sinusoidal(lat, lon)\n",
    "    h, v = find_modis_tile(x, y)\n",
    "    i, j = find_modis_pixel(x, y, h, v)\n",
    "    return h, v, i, j\n",
    "\n",
    "\n",
    "# extract 'day_of_year','year','1 km 16 days NDVI','1 km 16 days NIR reflectance'\n",
    "\n",
    "def process_hdf_file(filepath, lat, lon):\n",
    "    info = extract_info(filepath)\n",
    "    if not info:\n",
    "        return None\n",
    "\n",
    "    year = int(info['year'])\n",
    "    day_of_year = int(info['day_of_year'])\n",
    "\n",
    "    hdf = SD(filepath, SDC.READ)\n",
    "    NDVI = hdf.select('1 km 16 days NDVI')\n",
    "    NDVI_ds = pd.DataFrame(NDVI.get())\n",
    "\n",
    "    NIR = hdf.select('1 km 16 days NIR reflectance')\n",
    "    NIR_ds = pd.DataFrame(NIR.get())\n",
    "\n",
    "    NDVI_imp = impute_values(NDVI_ds, error_value=-3000, method='nearest')\n",
    "    NIR_imp = impute_values(NIR_ds, error_value=-1000, method='nearest')\n",
    "\n",
    "    h, v, i, j = locate_modis_data(lat, lon)\n",
    "    NDVI_point = NDVI_imp.iloc[j, i]\n",
    "    NIR_point = NIR_imp.iloc[j, i]\n",
    "\n",
    "    data = {\n",
    "        'year': [year],\n",
    "        'day_of_year': [day_of_year],\n",
    "        'NDVI_point': [NDVI_point],\n",
    "        'NIR_point': [NIR_point]\n",
    "    }\n",
    "    df = pd.DataFrame(data)\n",
    "    return df\n",
    "\n",
    "\n",
    "# function to process all the files at once in a directory\n",
    "\n",
    "def process_directory(directory, lat, lon):\n",
    "    data_frames = []\n",
    "    for root, dirs, files in os.walk(directory):\n",
    "        for file in files:\n",
    "            if file.endswith('.hdf'):\n",
    "                filepath = os.path.join(root, file)\n",
    "                df = process_hdf_file(filepath, lat, lon)\n",
    "                if df is not None:\n",
    "                    data_frames.append(df)\n",
    "    \n",
    "    if data_frames:\n",
    "        result_df = pd.concat(data_frames, ignore_index=True)\n",
    "        return result_df\n",
    "    else:\n",
    "        return pd.DataFrame()\n"
   ]
  },
  {
   "cell_type": "code",
   "execution_count": null,
   "id": "4c7550e6-5ead-4985-ac36-1669d6895226",
   "metadata": {},
   "outputs": [],
   "source": [
    "# test usage\n",
    "\n",
    "directory = '/Users/abigailbase/PROJECT FILES/MODIS /MOD13A2- AR_Vir'\n",
    "\n",
    "lat, lon = -28.2395, -56.1886 #lat,lon of the site\n",
    "\n",
    "AR_Vir = process_directory(directory, lat, lon)\n",
    "\n",
    "print(AR_Vir)\n"
   ]
  },
  {
   "cell_type": "code",
   "execution_count": null,
   "id": "8fce04e9-2df8-4781-b0a7-4ad500376977",
   "metadata": {},
   "outputs": [],
   "source": [
    "#AR-Vir\n",
    "\n",
    "directory = '/Users/abigailbase/PROJECT FILES/MODIS /MOD13A2- AR_Vir'\n",
    "lat, lon = -28.2395, -56.1886\n",
    "\n",
    "result_df = process_directory(directory, lat, lon)\n",
    "\n",
    "print(\"\\nResulting DataFrame:\")\n",
    "print(result_df)\n"
   ]
  },
  {
   "cell_type": "code",
   "execution_count": null,
   "id": "e1e5b9d9-c8e3-4489-8d94-b4152051dcb6",
   "metadata": {},
   "outputs": [],
   "source": [
    "# AU-Dry\n",
    "\n",
    "directory = '/Users/abigailbase/Downloads/AU-Dry'\n",
    "lat,lon=-15.2588,132.3706\n",
    "\n",
    "AU_Dry=process_directory(directory, lat, lon)"
   ]
  },
  {
   "cell_type": "code",
   "execution_count": null,
   "id": "adc86cc3-1f67-430f-a925-68a97731f28c",
   "metadata": {},
   "outputs": [],
   "source": [
    "# BE-Vie\n",
    "\n",
    "directory='/Users/abigailbase/Downloads/BE-Vie'\n",
    "lat,lon=50.3049,5.9981"
   ]
  },
  {
   "cell_type": "code",
   "execution_count": null,
   "id": "04bf2fc6-f241-4e86-85ba-d9c2f6172f91",
   "metadata": {},
   "outputs": [],
   "source": [
    "BE_Vie=process_directory(directory, lat,lon)"
   ]
  },
  {
   "cell_type": "code",
   "execution_count": null,
   "id": "cfee04ed-1d07-4483-8ace-4121e4643e4b",
   "metadata": {},
   "outputs": [],
   "source": [
    "#CA-TP1\n",
    "\n",
    "directory='/Users/abigailbase/Downloads/CA-TP1'\n",
    "lat,lon=42.6609,80.5595\n"
   ]
  },
  {
   "cell_type": "code",
   "execution_count": null,
   "id": "a6290e57-1337-4468-b043-00cd89d41081",
   "metadata": {},
   "outputs": [],
   "source": [
    "CA_TP1=process_directory(directory,lat,lon)"
   ]
  },
  {
   "cell_type": "code",
   "execution_count": null,
   "id": "b19c5b6c-96b4-4fd4-8c8e-e19c13fd0f56",
   "metadata": {},
   "outputs": [],
   "source": [
    "#CH-Cha\n",
    "\n",
    "directory='/Users/abigailbase/Downloads/CH-Cha'\n",
    "lat,lon=47.2102,8.4104\n"
   ]
  },
  {
   "cell_type": "code",
   "execution_count": null,
   "id": "dd6e290c-95fb-44f2-a514-4f1cf8290ce7",
   "metadata": {},
   "outputs": [],
   "source": [
    "CH_Cha=process_directory(directory,lat,lon)"
   ]
  },
  {
   "cell_type": "code",
   "execution_count": null,
   "id": "d6cb025f-75b4-47ca-8b8f-8a2b63c467c6",
   "metadata": {},
   "outputs": [],
   "source": [
    "#DE-Gri\n",
    "\n",
    "directory='/Users/abigailbase/Downloads/DE-Gri'\n",
    "lat,lon=50.9500,13.5126"
   ]
  },
  {
   "cell_type": "code",
   "execution_count": null,
   "id": "abe3466d-08b8-4dd4-ad58-3d2d9dda9248",
   "metadata": {},
   "outputs": [],
   "source": [
    "DE_Gri=process_directory(directory,lat,lon)"
   ]
  },
  {
   "cell_type": "code",
   "execution_count": null,
   "id": "8426e582-7bde-4078-ad70-03fda153c3ea",
   "metadata": {},
   "outputs": [],
   "source": [
    "# FR_Pue\n",
    "\n",
    "directory='/Users/abigailbase/Downloads/FR_Pue'\n",
    "lat,lon=43.7413,3.5957"
   ]
  },
  {
   "cell_type": "code",
   "execution_count": null,
   "id": "59634452-1d6c-417a-8d11-4b72adb5c8b7",
   "metadata": {},
   "outputs": [],
   "source": [
    "FR_Pue=process_directory(directory,lat,lon)"
   ]
  },
  {
   "cell_type": "code",
   "execution_count": null,
   "id": "8f860734-f16d-42cf-96d2-32bc961023e8",
   "metadata": {},
   "outputs": [],
   "source": [
    "#GF_Guy\n",
    "\n",
    "directory='/Users/abigailbase/Downloads/GF-Guy'\n",
    "lat,lon=5.2788,-52.9249"
   ]
  },
  {
   "cell_type": "code",
   "execution_count": null,
   "id": "3e9ca34b-179e-4639-930f-98e384a3b2ae",
   "metadata": {},
   "outputs": [],
   "source": [
    "GF_Guy=process_directory(directory,lat,lon)"
   ]
  },
  {
   "cell_type": "code",
   "execution_count": null,
   "id": "24ef8a8d-a5d1-474d-87b0-64a76215f676",
   "metadata": {},
   "outputs": [],
   "source": [
    "# IT-Col\n",
    "\n",
    "directory='/Users/abigailbase/Downloads/IT-Col'\n",
    "lat,lon=41.8494,-52.9249"
   ]
  },
  {
   "cell_type": "code",
   "execution_count": null,
   "id": "b1772a9c-c7a4-42fc-b41a-5506d5126fed",
   "metadata": {},
   "outputs": [],
   "source": [
    "IT_Col=process_directory(directory,lat,lon)"
   ]
  },
  {
   "cell_type": "code",
   "execution_count": null,
   "id": "8e6ae898-9dcd-4d70-83a0-55722f66159e",
   "metadata": {},
   "outputs": [],
   "source": [
    "#NL-Loo\n",
    "\n",
    "directory='/Users/abigailbase/Downloads/NL-Loo'\n",
    "lat,lon=52.1666,5.7436"
   ]
  },
  {
   "cell_type": "code",
   "execution_count": null,
   "id": "4493e425-854e-4768-8476-90401ce21536",
   "metadata": {},
   "outputs": [],
   "source": [
    "NL_Loo=process_directory(directory,lat,lon)"
   ]
  },
  {
   "cell_type": "code",
   "execution_count": null,
   "id": "7bf93bd6-ecdb-495a-8e8f-8195127fb75e",
   "metadata": {},
   "outputs": [],
   "source": [
    "#RU-Cok\n",
    "\n",
    "directory='/Users/abigailbase/Downloads/RU-Cok'\n",
    "lat,lon=70.8291,147.4943"
   ]
  },
  {
   "cell_type": "code",
   "execution_count": null,
   "id": "f181bb59-423a-4a07-9b06-7cd2652a7342",
   "metadata": {},
   "outputs": [],
   "source": [
    "RU_Cok=process_directory(directory,lat,lon)"
   ]
  },
  {
   "cell_type": "code",
   "execution_count": null,
   "id": "8db75409-8af2-486d-9cf4-00997455bfed",
   "metadata": {},
   "outputs": [],
   "source": [
    "#RU-Fyo\n",
    "\n",
    "directory='/Users/abigailbase/Downloads/RU-Fyo'\n",
    "lat,lon=56.4615,32.9221"
   ]
  },
  {
   "cell_type": "code",
   "execution_count": null,
   "id": "bdb6d5ea-4d51-41a9-a864-839106ed5eae",
   "metadata": {},
   "outputs": [],
   "source": [
    "RU_Fyo=process_directory(directory,lat,lon)"
   ]
  },
  {
   "cell_type": "code",
   "execution_count": null,
   "id": "704acab9-4812-402c-a580-4d52c55e5239",
   "metadata": {},
   "outputs": [],
   "source": [
    "#US-PFa\n",
    "\n",
    "directory='/Users/abigailbase/Downloads/US-PFa'\n",
    "lat,lon=45.9459,-90.2723"
   ]
  },
  {
   "cell_type": "code",
   "execution_count": null,
   "id": "3ac8d970-1ef2-4941-9cf7-544b6a48566c",
   "metadata": {},
   "outputs": [],
   "source": [
    "US_PFa=process_directory(directory,lat,lon)"
   ]
  },
  {
   "cell_type": "code",
   "execution_count": null,
   "id": "3ee8b8a5-f800-481b-a644-4ec3914ebb06",
   "metadata": {},
   "outputs": [],
   "source": [
    "#US-Var\n",
    "\n",
    "directory='/Users/abigailbase/Downloads/US-Var'\n",
    "lat,lon=38.4133,-120.9508"
   ]
  },
  {
   "cell_type": "code",
   "execution_count": null,
   "id": "31f8b18a-80f2-477b-b523-096d4a6d5ee4",
   "metadata": {},
   "outputs": [],
   "source": [
    "US_Var=process_directory(directory,lat,lon)"
   ]
  },
  {
   "cell_type": "code",
   "execution_count": null,
   "id": "077d2b50-b8e8-4435-b2b8-d14a8c490b1a",
   "metadata": {},
   "outputs": [],
   "source": [
    "#ZA-Kru\n",
    "\n",
    "directory='/Users/abigailbase/Downloads/ZA-Kru'\n",
    "lat,lon=-25.0197,31.4969"
   ]
  },
  {
   "cell_type": "code",
   "execution_count": null,
   "id": "e6bfd57d-6f54-4c2a-bf2c-3d25008d1303",
   "metadata": {},
   "outputs": [],
   "source": [
    "ZA_Kru=process_directory(directory,lat,lon)"
   ]
  },
  {
   "cell_type": "code",
   "execution_count": null,
   "id": "273ef775-a7e0-4cd5-888d-f9ebc2589202",
   "metadata": {},
   "outputs": [],
   "source": [
    "## processing AR-Vir\n",
    "\n",
    "#convert to datetime \n",
    "\n",
    "AR_Vir=result_df.copy()"
   ]
  },
  {
   "cell_type": "code",
   "execution_count": null,
   "id": "bffeb9d6-0f82-41d9-a1fd-03c13d0e142c",
   "metadata": {},
   "outputs": [],
   "source": [
    "AR_Vir['date'] = pd.to_datetime(AR_Vir['year'].astype(str) + AR_Vir['day_of_year'].astype(str), format='%Y%j')\n"
   ]
  },
  {
   "cell_type": "code",
   "execution_count": null,
   "id": "a46f4d6f-c0fd-4343-a74f-4fde6a9fa94e",
   "metadata": {},
   "outputs": [],
   "source": [
    "AR_Vir=AR_Vir.sort_values(by='date')"
   ]
  },
  {
   "cell_type": "code",
   "execution_count": null,
   "id": "f76533f2-2e4c-4c74-b028-228c5193afac",
   "metadata": {},
   "outputs": [],
   "source": [
    "def process_df(df):\n",
    "    # Convert year and day_of_year to datetime\n",
    "    df['date'] = pd.to_datetime(df['year'].astype(str) + df['day_of_year'].astype(str), format='%Y%j')\n",
    "    \n",
    "    # Calculate NIRv\n",
    "    df['NIRv'] = (df['NDVI_point'] / 10000) * (df['NIR_point'] / 10000)\n",
    "\n",
    "    # Sort the DataFrame by date\n",
    "    df = df.sort_values(by='date')\n",
    "    \n",
    "    return df\n"
   ]
  },
  {
   "cell_type": "code",
   "execution_count": null,
   "id": "04dbcebc-c7b2-4ba3-8222-3c4482192acd",
   "metadata": {},
   "outputs": [],
   "source": [
    "AR_Vir=process_df(AR_Vir)"
   ]
  },
  {
   "cell_type": "code",
   "execution_count": null,
   "id": "d6e3cd81-80e8-4ead-8d15-79e7da41bac9",
   "metadata": {},
   "outputs": [],
   "source": [
    "#vcalculate NIRv for all other dfs\n",
    "\n",
    "AU_Dry_NIRv=process_df(AU_Dry)\n",
    "BE_Vie_NIRv=process_df(BE_Vie)\n",
    "CA_TP1_NIRv=process_df(CA_TP1)\n",
    "CH_Cha_NIRv=process_df(CH_Cha)\n",
    "DE_Gri_NIRv=process_df(DE_Gri)\n",
    "FR_Pue_NIRv=process_df(FR_Pue)\n",
    "GF_Guy_NIRv=process_df(GF_Guy)\n",
    "IT_Col_NIRv=process_df(IT_Col)\n",
    "NL_Loo_NIRv=process_df(NL_Loo)\n",
    "RU_Cok_NIRv=process_df(RU_Cok)\n",
    "RU_Fyo_NIRv=process_df(RU_Fyo)\n",
    "US_PFa_NIRv=process_df(US_PFa)\n",
    "US_Var_NIRv=process_df(US_Var)\n",
    "ZA_Kru_NIRv=process_df(ZA_Kru)\n"
   ]
  },
  {
   "cell_type": "code",
   "execution_count": null,
   "id": "84f921fd-fee3-4a5f-82b7-ac948da8327a",
   "metadata": {},
   "outputs": [],
   "source": [
    "# export all of the dfs to CSVs"
   ]
  },
  {
   "cell_type": "code",
   "execution_count": null,
   "id": "564c8be5-c292-47f4-883d-23eee25f1962",
   "metadata": {},
   "outputs": [],
   "source": [
    "AR_Vir.to_csv('/Users/abigailbase/PROJECT FILES/NIRv DFs/AR_Vir_NIR.csv',index=False)"
   ]
  },
  {
   "cell_type": "code",
   "execution_count": null,
   "id": "ce98d1f1-c107-4be6-87e7-d1f617931714",
   "metadata": {},
   "outputs": [],
   "source": [
    "AU_Dry_NIRv.to_csv('/Users/abigailbase/PROJECT FILES/NIRv DFs/AU_Dry_NIRv.csv',index=False)"
   ]
  },
  {
   "cell_type": "code",
   "execution_count": null,
   "id": "0465aef5-10bc-4684-9ec9-49c619588c4c",
   "metadata": {},
   "outputs": [],
   "source": [
    "BE_Vie_NIRv.to_csv('/Users/abigailbase/PROJECT FILES/NIRv DFs/BE_Vie_NIR.csv',index=False)"
   ]
  },
  {
   "cell_type": "code",
   "execution_count": null,
   "id": "af83de10-e739-4c76-8deb-896cebb4d1da",
   "metadata": {},
   "outputs": [],
   "source": [
    "CA_TP1_NIRv.to_csv('/Users/abigailbase/PROJECT FILES/NIRv DFs/CA_TP1_NIR.csv',index=False)"
   ]
  },
  {
   "cell_type": "code",
   "execution_count": null,
   "id": "d4ddacb4-6c78-48af-8642-8aa9920f5a3b",
   "metadata": {},
   "outputs": [],
   "source": [
    "CH_Cha_NIRv.to_csv('/Users/abigailbase/PROJECT FILES/NIRv DFs/CH_Cha_NIR.csv',index=False)"
   ]
  },
  {
   "cell_type": "code",
   "execution_count": null,
   "id": "b12aba0e-2ee0-4d2b-9f35-24638096d310",
   "metadata": {},
   "outputs": [],
   "source": [
    "DE_Gri_NIRv.to_csv('/Users/abigailbase/PROJECT FILES/NIRv DFs/DE_Gri_NIR.csv',index=False)"
   ]
  },
  {
   "cell_type": "code",
   "execution_count": null,
   "id": "d3b8a9ca-f8ee-4d0a-aa4b-e129d73647f6",
   "metadata": {},
   "outputs": [],
   "source": [
    "FR_Pue_NIRv.to_csv('/Users/abigailbase/PROJECT FILES/NIRv DFs/FR_Pue_NIR.csv',index=False)"
   ]
  },
  {
   "cell_type": "code",
   "execution_count": null,
   "id": "2a4a3ad1-5e4f-4168-8a4a-c286236828b8",
   "metadata": {},
   "outputs": [],
   "source": [
    "GF_Guy_NIRv.to_csv('/Users/abigailbase/PROJECT FILES/NIRv DFs/GF_Guy_NIR.csv',index=False)"
   ]
  },
  {
   "cell_type": "code",
   "execution_count": null,
   "id": "a8ac7550-24b4-4ffc-a817-b19a9736fa5b",
   "metadata": {},
   "outputs": [],
   "source": [
    "IT_Col_NIRv.to_csv('/Users/abigailbase/PROJECT FILES/NIRv DFs/IT_Col_NIR.csv',index=False)"
   ]
  },
  {
   "cell_type": "code",
   "execution_count": null,
   "id": "892159bd-ffc0-4336-b1f4-64ab33191c12",
   "metadata": {},
   "outputs": [],
   "source": [
    "RU_Cok_NIRv.to_csv('/Users/abigailbase/PROJECT FILES/NIRv DFs/RU_CokNIR.csv',index=False)"
   ]
  },
  {
   "cell_type": "code",
   "execution_count": null,
   "id": "a99870e3-f0e6-4844-baee-8b8bc7e55b2f",
   "metadata": {},
   "outputs": [],
   "source": [
    "RU_Fyo_NIRv.to_csv('/Users/abigailbase/PROJECT FILES/NIRv DFs/RU_Fyo_NIR.csv',index=False)"
   ]
  },
  {
   "cell_type": "code",
   "execution_count": null,
   "id": "7b95504d-278e-4c9a-bb4a-b3aa114e5688",
   "metadata": {},
   "outputs": [],
   "source": [
    "US_PFa_NIRv.to_csv('/Users/abigailbase/PROJECT FILES/NIRv DFs/US_PFa_NIR.csv',index=False)"
   ]
  },
  {
   "cell_type": "code",
   "execution_count": null,
   "id": "cab8760e-5de5-4d63-9c5f-ec1b249778f1",
   "metadata": {},
   "outputs": [],
   "source": [
    "US_Var_NIRv.to_csv('/Users/abigailbase/PROJECT FILES/NIRv DFs/US_Var_NIR.csv',index=False)"
   ]
  },
  {
   "cell_type": "code",
   "execution_count": null,
   "id": "e67b3405-9e65-486b-b84c-05ceeed985ff",
   "metadata": {},
   "outputs": [],
   "source": [
    "ZA_Kru_NIRv.to_csv('/Users/abigailbase/PROJECT FILES/NIRv DFs/ZA_Kru_NIR.csv',index=False)"
   ]
  },
  {
   "cell_type": "code",
   "execution_count": null,
   "id": "c6c9596f-0d31-4b60-890d-590099cab15e",
   "metadata": {},
   "outputs": [],
   "source": [
    "NL_Loo_NIRv.to_csv('/Users/abigailbase/PROJECT FILES/NIRv DFs/NL_Loo_NIR.csv',index=False)"
   ]
  }
 ],
 "metadata": {
  "kernelspec": {
   "display_name": "Python 3 (ipykernel)",
   "language": "python",
   "name": "python3"
  },
  "language_info": {
   "codemirror_mode": {
    "name": "ipython",
    "version": 3
   },
   "file_extension": ".py",
   "mimetype": "text/x-python",
   "name": "python",
   "nbconvert_exporter": "python",
   "pygments_lexer": "ipython3",
   "version": "3.11.5"
  }
 },
 "nbformat": 4,
 "nbformat_minor": 5
}
