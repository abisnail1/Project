{
 "cells": [
  {
   "cell_type": "code",
   "execution_count": null,
   "id": "e8e0ec67",
   "metadata": {},
   "outputs": [],
   "source": [
    "### This file was used to add the downloaded ERA5 data to impute the missing FLUXNET data\n",
    "\n",
    "# ERA5 data was sourced in file 3 and processed in file 4"
   ]
  },
  {
   "cell_type": "code",
   "execution_count": null,
   "id": "2bf257ea",
   "metadata": {},
   "outputs": [],
   "source": [
    "import pandas as pd\n",
    "import numpy as np\n",
    "import matplotlib.pyplot as plt\n",
    "from scipy.interpolate import CubicSpline\n",
    " \n"
   ]
  },
  {
   "cell_type": "code",
   "execution_count": null,
   "id": "c9f76b6b",
   "metadata": {},
   "outputs": [],
   "source": [
    "### fill in the missing data with ERA5 land ###"
   ]
  },
  {
   "cell_type": "code",
   "execution_count": null,
   "id": "db3013ac",
   "metadata": {},
   "outputs": [],
   "source": [
    "# import the df from  2.missing_data_exploration\n",
    "\n",
    "df=pd.read_csv('/Users/abigailbase/PROJECT FILES/Pre imputation data/pre_imp.csv',index_col=0,parse_dates=['date'])"
   ]
  },
  {
   "cell_type": "code",
   "execution_count": null,
   "id": "e7e58a01",
   "metadata": {},
   "outputs": [],
   "source": [
    "#import csvs\n",
    "\n",
    "ERA5_AR_Vir=pd.read_csv('/Users/abigailbase/PROJECT FILES/ERA5 CSVs/AR-Vir.csv',parse_dates=['valid_time'])\n",
    "ERA5_AU_Dry=pd.read_csv('/Users/abigailbase/PROJECT FILES/ERA5 CSVs/AU-Dry.csv',parse_dates=['valid_time'])\n",
    "ERA5_BE_Vie=pd.read_csv('/Users/abigailbase/PROJECT FILES/ERA5 CSVs/BE-Vie.csv',parse_dates=['valid_time'])\n",
    "ERA5_CA_TP1=pd.read_csv('/Users/abigailbase/PROJECT FILES/ERA5 CSVs/CA-TP1.csv',parse_dates=['valid_time'])\n",
    "ERA5_CH_Cha=pd.read_csv('/Users/abigailbase/PROJECT FILES/ERA5 CSVs/CH-Cha.csv',parse_dates=['valid_time'])\n",
    "ERA5_DE_Gri=pd.read_csv('/Users/abigailbase/PROJECT FILES/ERA5 CSVs/DE-Gri.csv',parse_dates=['valid_time'])\n",
    "ERA5_FR_Pue=pd.read_csv('/Users/abigailbase/PROJECT FILES/ERA5 CSVs/FR-Pue.csv',parse_dates=['valid_time'])\n",
    "ERA5_GF_Guy=pd.read_csv('/Users/abigailbase/PROJECT FILES/ERA5 CSVs/GF-Guy.csv',parse_dates=['valid_time'])\n",
    "ERA5_IT_Col=pd.read_csv('/Users/abigailbase/PROJECT FILES/ERA5 CSVs/IT-Col.csv',parse_dates=['valid_time'])\n",
    "ERA5_NL_Loo=pd.read_csv('/Users/abigailbase/PROJECT FILES/ERA5 CSVs/NL-Loo.csv',parse_dates=['valid_time'])\n",
    "ERA5_RU_Cok=pd.read_csv('/Users/abigailbase/PROJECT FILES/ERA5 CSVs/RU-Cok.csv',parse_dates=['valid_time'])\n",
    "ERA5_RU_Fyo=pd.read_csv('/Users/abigailbase/PROJECT FILES/ERA5 CSVs/RU-Fyo.csv',parse_dates=['valid_time'])\n",
    "ERA5_US_PFa=pd.read_csv('/Users/abigailbase/PROJECT FILES/ERA5 CSVs/US-PFa.csv',parse_dates=['valid_time'])\n",
    "ERA5_US_Var=pd.read_csv('/Users/abigailbase/PROJECT FILES/ERA5 CSVs/US-Var.csv',parse_dates=['valid_time'])\n",
    "ERA5_ZA_Kru=pd.read_csv('/Users/abigailbase/PROJECT FILES/ERA5 CSVs/ZA-Kru.csv',parse_dates=['valid_time'])\n"
   ]
  },
  {
   "cell_type": "code",
   "execution_count": null,
   "id": "38e75f7f",
   "metadata": {},
   "outputs": [],
   "source": [
    "# prepare the ERA5 data for imputing by converting the units \n",
    "# and creating required variables"
   ]
  },
  {
   "cell_type": "code",
   "execution_count": null,
   "id": "6b54f3b7",
   "metadata": {},
   "outputs": [],
   "source": [
    "def process_era5_data(df):\n",
    "    \n",
    "    # Convert temperatures to Celsius from Kelvin\n",
    "    df['t2m'] = df['t2m'] - 273.15  # temp\n",
    "    df['d2m'] = df['d2m'] - 273.15  # dpt\n",
    "    \n",
    "    # Convert pressure to kPa from Pa\n",
    "    df['sp'] = df['sp'] / 1000\n",
    "    \n",
    "    # Calculate Saturation Vapor Pressure (svp) in kPa\n",
    "    def svp(T): \n",
    "        return 0.6112 * np.exp((17.67 * T) / (T + 243.5))\n",
    "    \n",
    "    # Calculate VPD in hPa\n",
    "    def calc_vpd(temp, DPT):\n",
    "        svp_temp = svp(temp)\n",
    "        svp_dpt = svp(DPT)\n",
    "        vpd_kPa = svp_temp - svp_dpt\n",
    "        vpd_hPa = vpd_kPa * 10  # convert to hPa\n",
    "        return vpd_hPa\n",
    "    \n",
    "    df['VPD'] = df.apply(lambda row: calc_vpd(row['t2m'], row['d2m']), axis=1)\n",
    "    \n",
    "    # Convert SSRD from J/m² to W/m²\n",
    "    df['ssrd'] = df['ssrd'] / 86400\n",
    "    \n",
    "    # Convert SSRD to PPFD\n",
    "    kEC = 2.04  # conversion factor\n",
    "    df['PPFD'] = df['ssrd'] * kEC\n",
    "    \n",
    "    # Convert precipitation from m to mm\n",
    "    df['tp'] = df['tp'] * 1000\n",
    "    \n",
    "    # Calculate wind speed\n",
    "    df['wind_speed'] = np.sqrt(df['u10']**2 + df['v10']**2)\n",
    "    \n",
    "    # Convert soil water content to percentage\n",
    "    df['swvl1'] = df['swvl1'] * 100\n",
    "    \n",
    "    # Convert soil temp (tsn) to Celcius\n",
    "    df['tsn']=df['tsn']- 273.15\n",
    "    \n",
    "    return df\n"
   ]
  },
  {
   "cell_type": "code",
   "execution_count": null,
   "id": "840342bf",
   "metadata": {},
   "outputs": [],
   "source": [
    "def ppfd_process(df):\n",
    "    \n",
    "    # Convert SSRD from J/m² to W/m²\n",
    "    df['ssrd'] = df['ssrd'] / 86400\n",
    "    \n",
    "    # Convert SSRD to PPFD\n",
    "    kEC = 2.04  # conversion factor\n",
    "    \n",
    "    return df"
   ]
  },
  {
   "cell_type": "code",
   "execution_count": null,
   "id": "84c37e64",
   "metadata": {},
   "outputs": [],
   "source": [
    "def swc_process(df):\n",
    "    # Convert soil water content to percentage\n",
    "    df['swvl1'] = df['swvl1'] * 100\n",
    "    \n",
    "    return df"
   ]
  },
  {
   "cell_type": "code",
   "execution_count": null,
   "id": "8a3a8182",
   "metadata": {},
   "outputs": [],
   "source": [
    "def st_process(df):\n",
    "    # Convert soil temp to deg c\n",
    "    df['tsn']=df['tsn']- 273.15 \n",
    "    \n",
    "    return df\n",
    "    "
   ]
  },
  {
   "cell_type": "code",
   "execution_count": null,
   "id": "c36ece9b",
   "metadata": {},
   "outputs": [],
   "source": [
    "# apply the required processing (See report appendix)"
   ]
  },
  {
   "cell_type": "code",
   "execution_count": null,
   "id": "ebe5b4ff",
   "metadata": {},
   "outputs": [],
   "source": [
    "ERA5_AR_Vir = process_era5_data(ERA5_AR_Vir) #all variables"
   ]
  },
  {
   "cell_type": "code",
   "execution_count": null,
   "id": "9c11bc00",
   "metadata": {},
   "outputs": [],
   "source": [
    "ERA5_AU_Dry=ppfd_process(ERA5_AU_Dry) #ppfd only"
   ]
  },
  {
   "cell_type": "code",
   "execution_count": null,
   "id": "92234c16",
   "metadata": {},
   "outputs": [],
   "source": [
    "ERA5_BE_Vie=ppfd_process(ERA5_BE_Vie) #ppfd only"
   ]
  },
  {
   "cell_type": "code",
   "execution_count": null,
   "id": "e7c6e5a2",
   "metadata": {},
   "outputs": [],
   "source": [
    "ERA5_CA_TP1=ppfd_process(ERA5_CA_TP1) #ppfd only"
   ]
  },
  {
   "cell_type": "code",
   "execution_count": null,
   "id": "c0095e84",
   "metadata": {},
   "outputs": [],
   "source": [
    "ERA5_CH_Cha=ppfd_process(ERA5_CH_Cha) #ppfd only"
   ]
  },
  {
   "cell_type": "code",
   "execution_count": null,
   "id": "f3eae8a4",
   "metadata": {},
   "outputs": [],
   "source": [
    "ERA5_DE_Gri=ppfd_process(ERA5_DE_Gri) #ppfd only"
   ]
  },
  {
   "cell_type": "code",
   "execution_count": null,
   "id": "8343d8a2",
   "metadata": {},
   "outputs": [],
   "source": [
    "ERA5_FR_Pue=ppfd_process(ERA5_FR_Pue) \n",
    "ERA5_FR_Pue=swc_process(ERA5_FR_Pue) #ppfd and swc"
   ]
  },
  {
   "cell_type": "code",
   "execution_count": null,
   "id": "3b259446",
   "metadata": {},
   "outputs": [],
   "source": [
    "ERA5_GF_Guy=ppfd_process(ERA5_GF_Guy)\n",
    "ERA5_GF_Guy=st_process(ERA5_GF_Guy) #soil temp and ppfd"
   ]
  },
  {
   "cell_type": "code",
   "execution_count": null,
   "id": "c82d9c05",
   "metadata": {},
   "outputs": [],
   "source": [
    "ERA5_IT_Col=ppfd_process(ERA5_IT_Col)\n",
    "ERA5_IT_Col=swc_process(ERA5_IT_Col) #ppfd and swc"
   ]
  },
  {
   "cell_type": "code",
   "execution_count": null,
   "id": "095c493b",
   "metadata": {},
   "outputs": [],
   "source": [
    "ERA5_NL_Loo=ppfd_process(ERA5_NL_Loo) #ppfd"
   ]
  },
  {
   "cell_type": "code",
   "execution_count": null,
   "id": "ffdb9d88",
   "metadata": {},
   "outputs": [],
   "source": [
    "ERA5_RU_Cok=ppfd_process(ERA5_RU_Cok)\n",
    "ERA5_RU_Cok=swc_process(ERA5_RU_Cok)\n",
    "ERA5_RU_Cok=st_process(ERA5_RU_Cok) #ppfd, swc st"
   ]
  },
  {
   "cell_type": "code",
   "execution_count": null,
   "id": "2d43e4c2",
   "metadata": {},
   "outputs": [],
   "source": [
    "ERA5_RU_Fyo=ppfd_process(ERA5_RU_Fyo)"
   ]
  },
  {
   "cell_type": "code",
   "execution_count": null,
   "id": "2e2f3b08",
   "metadata": {},
   "outputs": [],
   "source": [
    "ERA5_US_PFa=ppfd_process(ERA5_US_PFa) \n",
    "ERA5_US_PFa=st_process(ERA5_US_PFa) #ppfd, st"
   ]
  },
  {
   "cell_type": "code",
   "execution_count": null,
   "id": "21fe02cc",
   "metadata": {},
   "outputs": [],
   "source": [
    "ERA5_US_Var=ppfd_process(ERA5_US_Var) #ppfd only\n"
   ]
  },
  {
   "cell_type": "code",
   "execution_count": null,
   "id": "6490cd83",
   "metadata": {},
   "outputs": [],
   "source": [
    "ERA5_ZA_Kru = process_era5_data(ERA5_ZA_Kru) #all variables"
   ]
  },
  {
   "cell_type": "code",
   "execution_count": null,
   "id": "af3db4e4",
   "metadata": {},
   "outputs": [],
   "source": [
    "#seperate out the data frames by site_id\n",
    "\n",
    "AR_Vir=df[df['SITE_ID']=='AR-Vir']#1\n",
    "AU_Dry=df[df['SITE_ID']=='AU-Dry']#2\n",
    "BE_Vie=df[df['SITE_ID']=='BE-Vie']#3\n",
    "CA_TP1=df[df['SITE_ID']=='CA-TP1']#4\n",
    "CH_Cha=df[df['SITE_ID']=='CH-Cha']#5\n",
    "DE_Gri=df[df['SITE_ID']=='DE-Gri']#6\n",
    "FR_Pue=df[df['SITE_ID']=='FR-Pue']#7\n",
    "GF_Guy=df[df['SITE_ID']=='GF-Guy']#8\n",
    "IT_Col=df[df['SITE_ID']=='IT-Col']#9\n",
    "NL_Loo=df[df['SITE_ID']=='NL-Loo']#10\n",
    "RU_Cok=df[df['SITE_ID']=='RU-Cok']#11\n",
    "RU_Fyo=df[df['SITE_ID']=='RU-Fyo']#12\n",
    "US_PFa=df[df['SITE_ID']=='US-PFa']#13\n",
    "US_Var=df[df['SITE_ID']=='US-Var']#14\n",
    "ZA_Kru=df[df['SITE_ID']=='ZA-Kru']#15\n",
    "\n"
   ]
  },
  {
   "cell_type": "code",
   "execution_count": null,
   "id": "f62f379e",
   "metadata": {},
   "outputs": [],
   "source": [
    "### now fill in the missing data from each site ###"
   ]
  },
  {
   "cell_type": "code",
   "execution_count": null,
   "id": "05aaf10a",
   "metadata": {},
   "outputs": [],
   "source": [
    "# AR-Vir"
   ]
  },
  {
   "cell_type": "code",
   "execution_count": null,
   "id": "bb0f2b15",
   "metadata": {},
   "outputs": [],
   "source": [
    "# want to impute, TA_F, PA_F,VPD_F,P_F,WS_F,TS_F_MDS_1,SWC_F_MDS_1\n"
   ]
  },
  {
   "cell_type": "code",
   "execution_count": null,
   "id": "3dc0d94f",
   "metadata": {},
   "outputs": [],
   "source": [
    "ERA5_AR_Vir=ERA5_AR_Vir.sort_values(by='valid_time') # sort date"
   ]
  },
  {
   "cell_type": "code",
   "execution_count": null,
   "id": "327d0026",
   "metadata": {},
   "outputs": [],
   "source": [
    "ERA5_AR_Vir.set_index('valid_time',inplace=True) # set index "
   ]
  },
  {
   "cell_type": "code",
   "execution_count": null,
   "id": "52ead273",
   "metadata": {},
   "outputs": [],
   "source": [
    "AR_Vir.set_index('date',inplace=True)# set index "
   ]
  },
  {
   "cell_type": "code",
   "execution_count": null,
   "id": "23bdcfe7",
   "metadata": {},
   "outputs": [],
   "source": [
    "# dictionary for renaming the columns to have same names\n",
    "\n",
    "ERA5_renames={'t2m':'TA_F','sp':'PA_F','ssrd':'PPFD_IN','tp':'P_F',\n",
    "              'tsn':'TS_F_MDS_1','swvl1':'SWC_F_MDS_1','wind_speed':'WS_F',\n",
    "             'VPD':'VPD_F'}"
   ]
  },
  {
   "cell_type": "code",
   "execution_count": null,
   "id": "d55cc976",
   "metadata": {},
   "outputs": [],
   "source": [
    "ERA5_AR_Vir.rename(columns=ERA5_renames,inplace=True)"
   ]
  },
  {
   "cell_type": "code",
   "execution_count": null,
   "id": "5cfcac62",
   "metadata": {},
   "outputs": [],
   "source": [
    "## from this need to drop Co2 GPP, NEE as this data needs to come from\n",
    "## somewhere else from AR_Vir"
   ]
  },
  {
   "cell_type": "code",
   "execution_count": null,
   "id": "2c7c499b",
   "metadata": {},
   "outputs": [],
   "source": [
    "AR_Vir_drop=['CO2_F_MDS','CO2_F_MDS','GPP_DT_VUT_REF','NEE_VUT_REF']"
   ]
  },
  {
   "cell_type": "code",
   "execution_count": null,
   "id": "8d5d90fb",
   "metadata": {},
   "outputs": [],
   "source": [
    "AR_Vir=AR_Vir.drop(columns=AR_Vir_drop)"
   ]
  },
  {
   "cell_type": "code",
   "execution_count": null,
   "id": "b472d0c2",
   "metadata": {},
   "outputs": [],
   "source": [
    "# now impute with ERA5 land data\n",
    "\n",
    "for column in AR_Vir.columns:\n",
    "    \n",
    "    # iterate  rows\n",
    "    \n",
    "    for index, value in AR_Vir[column].items():\n",
    "        \n",
    "        # check for NA values\n",
    "        \n",
    "        if pd.isna(value):\n",
    "            \n",
    "            # Impute the missing value with the corresponding value from ERA_AR_Vir\n",
    "            AR_Vir.at[index, column] = ERA5_AR_Vir.at[index, column]\n",
    "\n",
    "\n"
   ]
  },
  {
   "cell_type": "code",
   "execution_count": null,
   "id": "37d0ebb5",
   "metadata": {},
   "outputs": [],
   "source": [
    "AR_Vir.shape"
   ]
  },
  {
   "cell_type": "code",
   "execution_count": null,
   "id": "13127fb1",
   "metadata": {},
   "outputs": [],
   "source": [
    "AR_Vir.isna().sum()"
   ]
  },
  {
   "cell_type": "code",
   "execution_count": null,
   "id": "11bc0d37",
   "metadata": {},
   "outputs": [],
   "source": [
    "### AU-Dry (PPFD) ###"
   ]
  },
  {
   "cell_type": "code",
   "execution_count": null,
   "id": "c43f1d50",
   "metadata": {},
   "outputs": [],
   "source": [
    "ERA5_AU_Dry=ERA5_AU_Dry.sort_values(by='valid_time') # sort date"
   ]
  },
  {
   "cell_type": "code",
   "execution_count": null,
   "id": "2cbf1e2c",
   "metadata": {},
   "outputs": [],
   "source": [
    "ERA5_AU_Dry.set_index('valid_time',inplace=True) # set index "
   ]
  },
  {
   "cell_type": "code",
   "execution_count": null,
   "id": "6e69a5c0",
   "metadata": {},
   "outputs": [],
   "source": [
    "AU_Dry.set_index('date',inplace=True) # set index "
   ]
  },
  {
   "cell_type": "code",
   "execution_count": null,
   "id": "92194ef5",
   "metadata": {},
   "outputs": [],
   "source": [
    "ERA5_AU_Dry.rename(columns=ERA5_renames,inplace=True) # rename cols"
   ]
  },
  {
   "cell_type": "code",
   "execution_count": null,
   "id": "fccc7abb",
   "metadata": {},
   "outputs": [],
   "source": [
    "for column in AU_Dry.columns:\n",
    "    \n",
    "    # iterate  rows\n",
    "    \n",
    "    for index, value in AU_Dry[column].items():\n",
    "        \n",
    "        # check for NA values\n",
    "        \n",
    "        if pd.isna(value):\n",
    "            \n",
    "            AU_Dry.at[index, column] = ERA5_AU_Dry.at[index, column]\n",
    "\n"
   ]
  },
  {
   "cell_type": "code",
   "execution_count": null,
   "id": "97a97fb4",
   "metadata": {},
   "outputs": [],
   "source": [
    "AU_Dry.isna().sum()"
   ]
  },
  {
   "cell_type": "code",
   "execution_count": null,
   "id": "1691d70c",
   "metadata": {},
   "outputs": [],
   "source": [
    "### BE-Vie (PPFD) ###\n",
    "\n",
    "ERA5_BE_Vie=ERA5_BE_Vie.sort_values(by='valid_time') # sort date"
   ]
  },
  {
   "cell_type": "code",
   "execution_count": null,
   "id": "a5f96840",
   "metadata": {},
   "outputs": [],
   "source": [
    "ERA5_BE_Vie.set_index('valid_time',inplace=True) # set index "
   ]
  },
  {
   "cell_type": "code",
   "execution_count": null,
   "id": "add15042",
   "metadata": {},
   "outputs": [],
   "source": [
    "BE_Vie.set_index('date',inplace=True) # set index "
   ]
  },
  {
   "cell_type": "code",
   "execution_count": null,
   "id": "dc9a6bf1",
   "metadata": {},
   "outputs": [],
   "source": [
    "ERA5_BE_Vie.rename(columns=ERA5_renames,inplace=True) # rename cols"
   ]
  },
  {
   "cell_type": "code",
   "execution_count": null,
   "id": "c2ccedaa",
   "metadata": {},
   "outputs": [],
   "source": [
    "for column in BE_Vie.columns:\n",
    "    \n",
    "    # iterate  rows\n",
    "    \n",
    "    for index, value in BE_Vie[column].items():\n",
    "        \n",
    "        # check for NA values\n",
    "        \n",
    "        if pd.isna(value):\n",
    "            \n",
    "            BE_Vie.at[index, column] = ERA5_BE_Vie.at[index, column]\n"
   ]
  },
  {
   "cell_type": "code",
   "execution_count": null,
   "id": "94570350",
   "metadata": {},
   "outputs": [],
   "source": [
    "BE_Vie.isna().sum()"
   ]
  },
  {
   "cell_type": "code",
   "execution_count": null,
   "id": "41b717ec",
   "metadata": {},
   "outputs": [],
   "source": [
    "BE_Vie.shape"
   ]
  },
  {
   "cell_type": "code",
   "execution_count": null,
   "id": "f7b16f4c",
   "metadata": {},
   "outputs": [],
   "source": [
    "### CA-TP1 (PPFD) ###\n",
    "\n",
    "ERA5_CA_TP1=ERA5_CA_TP1.sort_values(by='valid_time') # sort date"
   ]
  },
  {
   "cell_type": "code",
   "execution_count": null,
   "id": "44fc415d",
   "metadata": {},
   "outputs": [],
   "source": [
    "ERA5_CA_TP1.set_index('valid_time',inplace=True) # set index "
   ]
  },
  {
   "cell_type": "code",
   "execution_count": null,
   "id": "da4fc520",
   "metadata": {},
   "outputs": [],
   "source": [
    "CA_TP1.set_index('date',inplace=True) # set index "
   ]
  },
  {
   "cell_type": "code",
   "execution_count": null,
   "id": "4629e0ca",
   "metadata": {},
   "outputs": [],
   "source": [
    "ERA5_CA_TP1.rename(columns=ERA5_renames,inplace=True) # rename cols"
   ]
  },
  {
   "cell_type": "code",
   "execution_count": null,
   "id": "1cbd7321",
   "metadata": {},
   "outputs": [],
   "source": [
    "for column in CA_TP1.columns:\n",
    "    \n",
    "    # iterate  rows\n",
    "    \n",
    "    for index, value in CA_TP1[column].items():\n",
    "        \n",
    "        # check for NA values\n",
    "        \n",
    "        if pd.isna(value):\n",
    "            \n",
    "            CA_TP1.at[index, column] = ERA5_CA_TP1.at[index, column]\n"
   ]
  },
  {
   "cell_type": "code",
   "execution_count": null,
   "id": "bc6e28ce",
   "metadata": {},
   "outputs": [],
   "source": [
    "CA_TP1.isna().sum()"
   ]
  },
  {
   "cell_type": "code",
   "execution_count": null,
   "id": "e6d55fdc",
   "metadata": {},
   "outputs": [],
   "source": [
    "### CH-Cha (PPFD) ###\n",
    "\n",
    "ERA5_CH_Cha=ERA5_CH_Cha.sort_values(by='valid_time') # sort date\n"
   ]
  },
  {
   "cell_type": "code",
   "execution_count": null,
   "id": "ce65c100",
   "metadata": {},
   "outputs": [],
   "source": [
    "ERA5_CH_Cha.set_index('valid_time',inplace=True)"
   ]
  },
  {
   "cell_type": "code",
   "execution_count": null,
   "id": "c7a346d5",
   "metadata": {},
   "outputs": [],
   "source": [
    "CH_Cha.set_index('date',inplace=True) # set index "
   ]
  },
  {
   "cell_type": "code",
   "execution_count": null,
   "id": "89462418",
   "metadata": {},
   "outputs": [],
   "source": [
    "ERA5_CH_Cha.rename(columns=ERA5_renames,inplace=True) # rename cols\n"
   ]
  },
  {
   "cell_type": "code",
   "execution_count": null,
   "id": "3fc7d11a",
   "metadata": {},
   "outputs": [],
   "source": []
  },
  {
   "cell_type": "code",
   "execution_count": null,
   "id": "a743b22c",
   "metadata": {},
   "outputs": [],
   "source": [
    "for column in CH_Cha.columns:\n",
    "    \n",
    "    # iterate  rows\n",
    "    \n",
    "    for index, value in CH_Cha[column].items():\n",
    "        \n",
    "        # check for NA values\n",
    "        \n",
    "        if pd.isna(value):\n",
    "            \n",
    "            CH_Cha.at[index, column] = ERA5_CH_Cha.at[index, column]\n"
   ]
  },
  {
   "cell_type": "code",
   "execution_count": null,
   "id": "48d35354",
   "metadata": {
    "scrolled": true
   },
   "outputs": [],
   "source": [
    "CH_Cha.isna().sum()"
   ]
  },
  {
   "cell_type": "code",
   "execution_count": null,
   "id": "7a3d1157",
   "metadata": {},
   "outputs": [],
   "source": [
    "### DE-Gri (PPFD) ###\n",
    "\n",
    "ERA5_DE_Gri=ERA5_DE_Gri.sort_values(by='valid_time') # sort date\n"
   ]
  },
  {
   "cell_type": "code",
   "execution_count": null,
   "id": "41a775c7",
   "metadata": {},
   "outputs": [],
   "source": [
    "ERA5_DE_Gri.set_index('valid_time',inplace=True) #set index"
   ]
  },
  {
   "cell_type": "code",
   "execution_count": null,
   "id": "856544c9",
   "metadata": {},
   "outputs": [],
   "source": [
    "DE_Gri.set_index('date',inplace=True) #set index"
   ]
  },
  {
   "cell_type": "code",
   "execution_count": null,
   "id": "996fad86",
   "metadata": {},
   "outputs": [],
   "source": [
    "ERA5_DE_Gri.rename(columns=ERA5_renames,inplace=True) # rename cols\n"
   ]
  },
  {
   "cell_type": "code",
   "execution_count": null,
   "id": "8c5de676",
   "metadata": {},
   "outputs": [],
   "source": [
    "for column in DE_Gri.columns:\n",
    "    \n",
    "    # iterate  rows\n",
    "    \n",
    "    for index, value in DE_Gri[column].items():\n",
    "        \n",
    "        # check for NA values\n",
    "        \n",
    "        if pd.isna(value):\n",
    "            \n",
    "            DE_Gri.at[index, column] = ERA5_DE_Gri.at[index, column]\n"
   ]
  },
  {
   "cell_type": "code",
   "execution_count": null,
   "id": "f3c7159f",
   "metadata": {},
   "outputs": [],
   "source": [
    "DE_Gri.isna().sum()"
   ]
  },
  {
   "cell_type": "code",
   "execution_count": null,
   "id": "fdc3f3b3",
   "metadata": {},
   "outputs": [],
   "source": [
    "### FR-Pue (PPFD, SWC)"
   ]
  },
  {
   "cell_type": "code",
   "execution_count": null,
   "id": "22f4540c",
   "metadata": {},
   "outputs": [],
   "source": [
    "ERA5_FR_Pue=ERA5_FR_Pue.sort_values(by='valid_time') # sort date"
   ]
  },
  {
   "cell_type": "code",
   "execution_count": null,
   "id": "78225fd7",
   "metadata": {},
   "outputs": [],
   "source": [
    "ERA5_FR_Pue.set_index('valid_time',inplace=True) #set index"
   ]
  },
  {
   "cell_type": "code",
   "execution_count": null,
   "id": "be7449c0",
   "metadata": {},
   "outputs": [],
   "source": [
    "FR_Pue.set_index('date',inplace=True) #set index"
   ]
  },
  {
   "cell_type": "code",
   "execution_count": null,
   "id": "c17e3edc",
   "metadata": {},
   "outputs": [],
   "source": [
    "ERA5_FR_Pue.rename(columns=ERA5_renames,inplace=True) # rename cols"
   ]
  },
  {
   "cell_type": "code",
   "execution_count": null,
   "id": "c3162587",
   "metadata": {},
   "outputs": [],
   "source": [
    "for column in FR_Pue.columns:\n",
    "    \n",
    "    # iterate  rows\n",
    "    \n",
    "    for index, value in FR_Pue[column].items():\n",
    "        \n",
    "        # check for NA values\n",
    "        \n",
    "        if pd.isna(value):\n",
    "            \n",
    "            FR_Pue.at[index, column] = ERA5_FR_Pue.at[index, column]\n"
   ]
  },
  {
   "cell_type": "code",
   "execution_count": null,
   "id": "23dc0178",
   "metadata": {},
   "outputs": [],
   "source": []
  },
  {
   "cell_type": "code",
   "execution_count": null,
   "id": "52448323",
   "metadata": {},
   "outputs": [],
   "source": [
    "FR_Pue.isna().sum()"
   ]
  },
  {
   "cell_type": "code",
   "execution_count": null,
   "id": "d54bfdbf",
   "metadata": {},
   "outputs": [],
   "source": [
    "### GF-Guy ###"
   ]
  },
  {
   "cell_type": "code",
   "execution_count": null,
   "id": "307dd051",
   "metadata": {},
   "outputs": [],
   "source": [
    "ERA5_GF_Guy=ERA5_GF_Guy.sort_values(by='valid_time') # sort date"
   ]
  },
  {
   "cell_type": "code",
   "execution_count": null,
   "id": "ba31c050",
   "metadata": {},
   "outputs": [],
   "source": [
    "ERA5_GF_Guy.set_index('valid_time',inplace=True) #set index"
   ]
  },
  {
   "cell_type": "code",
   "execution_count": null,
   "id": "7fa0fc89",
   "metadata": {},
   "outputs": [],
   "source": [
    "GF_Guy.set_index('date',inplace=True) #set index"
   ]
  },
  {
   "cell_type": "code",
   "execution_count": null,
   "id": "6ca05d00",
   "metadata": {},
   "outputs": [],
   "source": [
    "ERA5_GF_Guy.rename(columns=ERA5_renames,inplace=True) # rename cols"
   ]
  },
  {
   "cell_type": "code",
   "execution_count": null,
   "id": "b753d10b",
   "metadata": {},
   "outputs": [],
   "source": [
    "for column in GF_Guy.columns:\n",
    "    \n",
    "    # iterate  rows\n",
    "    \n",
    "    for index, value in GF_Guy[column].items():\n",
    "        \n",
    "        # check for NA values\n",
    "        \n",
    "        if pd.isna(value):\n",
    "            \n",
    "            GF_Guy.at[index, column] = ERA5_GF_Guy.at[index, column]\n"
   ]
  },
  {
   "cell_type": "code",
   "execution_count": null,
   "id": "02711975",
   "metadata": {},
   "outputs": [],
   "source": [
    "### IT-Col ###"
   ]
  },
  {
   "cell_type": "code",
   "execution_count": null,
   "id": "4fa5c0a2",
   "metadata": {},
   "outputs": [],
   "source": [
    "ERA5_IT_Col=ERA5_GF_Guy.sort_values(by='valid_time') # sort date"
   ]
  },
  {
   "cell_type": "code",
   "execution_count": null,
   "id": "e82bd136",
   "metadata": {},
   "outputs": [],
   "source": [
    "ERA5_IT_Col.set_index('valid_time',inplace=True) #set index"
   ]
  },
  {
   "cell_type": "code",
   "execution_count": null,
   "id": "4d9c108e",
   "metadata": {},
   "outputs": [],
   "source": [
    "IT_Col.set_index('date',inplace=True) #set index"
   ]
  },
  {
   "cell_type": "code",
   "execution_count": null,
   "id": "79ad5894",
   "metadata": {},
   "outputs": [],
   "source": [
    "ERA5_IT_Col.rename(columns=ERA5_renames,inplace=True) # rename cols"
   ]
  },
  {
   "cell_type": "code",
   "execution_count": null,
   "id": "3cf65354",
   "metadata": {},
   "outputs": [],
   "source": [
    "for column in IT_Col.columns:\n",
    "    \n",
    "    # iterate  rows\n",
    "    \n",
    "    for index, value in IT_Col[column].items():\n",
    "        \n",
    "        # check for NA values\n",
    "        \n",
    "        if pd.isna(value):\n",
    "            \n",
    "            IT_Col.at[index, column] = ERA5_IT_Col.at[index, column]\n"
   ]
  },
  {
   "cell_type": "code",
   "execution_count": null,
   "id": "95d58162",
   "metadata": {},
   "outputs": [],
   "source": [
    "IT_Col.isna().sum()"
   ]
  },
  {
   "cell_type": "code",
   "execution_count": null,
   "id": "183ff513",
   "metadata": {},
   "outputs": [],
   "source": [
    "### NL-Loo ###"
   ]
  },
  {
   "cell_type": "code",
   "execution_count": null,
   "id": "0f50793b",
   "metadata": {},
   "outputs": [],
   "source": [
    "ERA5_NL_Loo=ERA5_GF_Guy.sort_values(by='valid_time') # sort date"
   ]
  },
  {
   "cell_type": "code",
   "execution_count": null,
   "id": "eda241b9",
   "metadata": {},
   "outputs": [],
   "source": [
    "NL_Loo.set_index('date',inplace=True) #set index"
   ]
  },
  {
   "cell_type": "code",
   "execution_count": null,
   "id": "511a7b07",
   "metadata": {},
   "outputs": [],
   "source": [
    "ERA5_NL_Loo.rename(columns=ERA5_renames,inplace=True) # rename cols"
   ]
  },
  {
   "cell_type": "code",
   "execution_count": null,
   "id": "9892bb7e",
   "metadata": {},
   "outputs": [],
   "source": [
    "NL_Loo.isna().sum()"
   ]
  },
  {
   "cell_type": "code",
   "execution_count": null,
   "id": "6213706e",
   "metadata": {},
   "outputs": [],
   "source": [
    "NL_Loo=NL_Loo.drop(columns='CO2_F_MDS')"
   ]
  },
  {
   "cell_type": "code",
   "execution_count": null,
   "id": "4b9fcd1b",
   "metadata": {},
   "outputs": [],
   "source": [
    "for column in NL_Loo.columns:\n",
    "    \n",
    "    # iterate  rows\n",
    "    \n",
    "    for index, value in NL_Loo[column].items():\n",
    "        \n",
    "        # check for NA values\n",
    "        \n",
    "        if pd.isna(value):\n",
    "            \n",
    "            NL_Loo.at[index, column] = ERA5_NL_Loo.at[index, column]\n"
   ]
  },
  {
   "cell_type": "code",
   "execution_count": null,
   "id": "5a3f2203",
   "metadata": {},
   "outputs": [],
   "source": [
    "NL_Loo.isna().sum()"
   ]
  },
  {
   "cell_type": "code",
   "execution_count": null,
   "id": "ef4345ff",
   "metadata": {},
   "outputs": [],
   "source": [
    "### RU-Cok ###"
   ]
  },
  {
   "cell_type": "code",
   "execution_count": null,
   "id": "22ea3c34",
   "metadata": {},
   "outputs": [],
   "source": [
    "ERA5_RU_Cok=ERA5_RU_Cok.sort_values(by='valid_time') # sort date"
   ]
  },
  {
   "cell_type": "code",
   "execution_count": null,
   "id": "18526708",
   "metadata": {},
   "outputs": [],
   "source": [
    "ERA5_RU_Cok.set_index('valid_time',inplace=True) # set index "
   ]
  },
  {
   "cell_type": "code",
   "execution_count": null,
   "id": "6247bc6d",
   "metadata": {},
   "outputs": [],
   "source": [
    "RU_Cok.set_index('date',inplace=True)# set index "
   ]
  },
  {
   "cell_type": "code",
   "execution_count": null,
   "id": "c3c7dc43",
   "metadata": {},
   "outputs": [],
   "source": [
    "ERA5_RU_Cok.rename(columns=ERA5_renames,inplace=True)"
   ]
  },
  {
   "cell_type": "code",
   "execution_count": null,
   "id": "a37df344",
   "metadata": {},
   "outputs": [],
   "source": [
    "## from this need to drop Co2 GPP, NEE as this data needs to come from\n",
    "## somewhere else from AR_Vir"
   ]
  },
  {
   "cell_type": "code",
   "execution_count": null,
   "id": "793ab5bd",
   "metadata": {},
   "outputs": [],
   "source": [
    "AR_Vir_drop=['CO2_F_MDS','CO2_F_MDS','GPP_DT_VUT_REF','NEE_VUT_REF']"
   ]
  },
  {
   "cell_type": "code",
   "execution_count": null,
   "id": "c43c14b7",
   "metadata": {},
   "outputs": [],
   "source": [
    "RU_Cok=RU_Cok.drop(columns=AR_Vir_drop)"
   ]
  },
  {
   "cell_type": "code",
   "execution_count": null,
   "id": "ca90a361",
   "metadata": {},
   "outputs": [],
   "source": [
    "# now impute with ERA5 land data\n",
    "\n",
    "for column in RU_Cok.columns:\n",
    "    \n",
    "    # iterate  rows\n",
    "    \n",
    "    for index, value in RU_Cok[column].items():\n",
    "        \n",
    "        # check for NA values\n",
    "        \n",
    "        if pd.isna(value):\n",
    "            \n",
    "            # Impute the missing value with the corresponding value from ERA_AR_Vir\n",
    "            RU_Cok.at[index, column] = ERA5_RU_Cok.at[index, column]\n",
    "\n",
    "\n"
   ]
  },
  {
   "cell_type": "code",
   "execution_count": null,
   "id": "fe88e648",
   "metadata": {},
   "outputs": [],
   "source": [
    "RU_Cok.isna().sum()"
   ]
  },
  {
   "cell_type": "code",
   "execution_count": null,
   "id": "b83ba65b",
   "metadata": {},
   "outputs": [],
   "source": [
    "## RU-Fyo ###"
   ]
  },
  {
   "cell_type": "code",
   "execution_count": null,
   "id": "d3e7e89f",
   "metadata": {},
   "outputs": [],
   "source": [
    "ERA5_RU_Fyo=ERA5_RU_Fyo.sort_values(by='valid_time') # sort date"
   ]
  },
  {
   "cell_type": "code",
   "execution_count": null,
   "id": "2aa21479",
   "metadata": {},
   "outputs": [],
   "source": [
    "ERA5_RU_Fyo.set_index('valid_time',inplace=True) #set index"
   ]
  },
  {
   "cell_type": "code",
   "execution_count": null,
   "id": "9cfbb5cf",
   "metadata": {},
   "outputs": [],
   "source": [
    "RU_Fyo.set_index('date',inplace=True) #set index"
   ]
  },
  {
   "cell_type": "code",
   "execution_count": null,
   "id": "8b22642c",
   "metadata": {},
   "outputs": [],
   "source": [
    "ERA5_RU_Fyo.rename(columns=ERA5_renames,inplace=True) # rename cols"
   ]
  },
  {
   "cell_type": "code",
   "execution_count": null,
   "id": "4f1a32cd",
   "metadata": {},
   "outputs": [],
   "source": [
    "for column in RU_Fyo.columns:\n",
    "    \n",
    "    # iterate  rows\n",
    "    \n",
    "    for index, value in RU_Fyo[column].items():\n",
    "        \n",
    "        # check for NA values\n",
    "        \n",
    "        if pd.isna(value):\n",
    "            \n",
    "            RU_Fyo.at[index, column] = ERA5_RU_Fyo.at[index, column]\n"
   ]
  },
  {
   "cell_type": "code",
   "execution_count": null,
   "id": "27492ee3",
   "metadata": {},
   "outputs": [],
   "source": [
    "RU_Fyo.isna().sum()"
   ]
  },
  {
   "cell_type": "code",
   "execution_count": null,
   "id": "a66ec8c1",
   "metadata": {},
   "outputs": [],
   "source": [
    "### US-PFa ###"
   ]
  },
  {
   "cell_type": "code",
   "execution_count": null,
   "id": "d02427c5",
   "metadata": {},
   "outputs": [],
   "source": [
    "ERA5_US_PFa"
   ]
  },
  {
   "cell_type": "code",
   "execution_count": null,
   "id": "ffcf1bea",
   "metadata": {},
   "outputs": [],
   "source": [
    "ERA5_US_PFa=ERA5_US_PFa.sort_values(by='valid_time') # sort date"
   ]
  },
  {
   "cell_type": "code",
   "execution_count": null,
   "id": "afef1400",
   "metadata": {},
   "outputs": [],
   "source": [
    "ERA5_US_PFa.set_index('valid_time',inplace=True) #set index"
   ]
  },
  {
   "cell_type": "code",
   "execution_count": null,
   "id": "f08b1df5",
   "metadata": {},
   "outputs": [],
   "source": [
    "US_PFa.set_index('date',inplace=True) #set index"
   ]
  },
  {
   "cell_type": "code",
   "execution_count": null,
   "id": "04f299dc",
   "metadata": {},
   "outputs": [],
   "source": [
    "ERA5_US_PFa.rename(columns=ERA5_renames,inplace=True) # rename cols"
   ]
  },
  {
   "cell_type": "code",
   "execution_count": null,
   "id": "69634ff1",
   "metadata": {},
   "outputs": [],
   "source": [
    "for column in US_PFa.columns:\n",
    "    \n",
    "    # iterate  rows\n",
    "    \n",
    "    for index, value in US_PFa[column].items():\n",
    "        \n",
    "        # check for NA values\n",
    "        \n",
    "        if pd.isna(value):\n",
    "            \n",
    "            US_PFa.at[index, column] = ERA5_US_PFa.at[index, column]\n"
   ]
  },
  {
   "cell_type": "code",
   "execution_count": null,
   "id": "c4cb742d",
   "metadata": {},
   "outputs": [],
   "source": [
    "US_PFa.isna()"
   ]
  },
  {
   "cell_type": "code",
   "execution_count": null,
   "id": "72a79f5b",
   "metadata": {},
   "outputs": [],
   "source": [
    "### US-Var ###"
   ]
  },
  {
   "cell_type": "code",
   "execution_count": null,
   "id": "21173d0d",
   "metadata": {},
   "outputs": [],
   "source": [
    "ERA5_US_Var=ERA5_US_Var.sort_values(by='valid_time') # sort date"
   ]
  },
  {
   "cell_type": "code",
   "execution_count": null,
   "id": "affee217",
   "metadata": {},
   "outputs": [],
   "source": [
    "ERA5_US_Var.set_index('valid_time',inplace=True) #set index"
   ]
  },
  {
   "cell_type": "code",
   "execution_count": null,
   "id": "392f679a",
   "metadata": {},
   "outputs": [],
   "source": [
    "US_Var.set_index('date',inplace=True) #set index"
   ]
  },
  {
   "cell_type": "code",
   "execution_count": null,
   "id": "7f829e99",
   "metadata": {},
   "outputs": [],
   "source": [
    "ERA5_US_Var.rename(columns=ERA5_renames,inplace=True) # rename cols"
   ]
  },
  {
   "cell_type": "code",
   "execution_count": null,
   "id": "8c6a77f0",
   "metadata": {},
   "outputs": [],
   "source": [
    "for column in US_Var.columns:\n",
    "    \n",
    "    # iterate  rows\n",
    "    \n",
    "    for index, value in US_Var[column].items():\n",
    "        \n",
    "        # check for NA values\n",
    "        \n",
    "        if pd.isna(value):\n",
    "            \n",
    "            US_Var.at[index, column] = ERA5_US_Var.at[index, column]\n"
   ]
  },
  {
   "cell_type": "code",
   "execution_count": null,
   "id": "8e0ef655",
   "metadata": {},
   "outputs": [],
   "source": [
    "US_Var.isna().sum()"
   ]
  },
  {
   "cell_type": "code",
   "execution_count": null,
   "id": "5b8eed33",
   "metadata": {},
   "outputs": [],
   "source": [
    "### ZA-Kru ###"
   ]
  },
  {
   "cell_type": "code",
   "execution_count": null,
   "id": "4c8accc7",
   "metadata": {},
   "outputs": [],
   "source": [
    "ERA5_ZA_Kru=ERA5_ZA_Kru.sort_values(by='valid_time') # sort date"
   ]
  },
  {
   "cell_type": "code",
   "execution_count": null,
   "id": "7594d3bf",
   "metadata": {},
   "outputs": [],
   "source": [
    "ERA5_ZA_Kru.set_index('valid_time',inplace=True) # set index "
   ]
  },
  {
   "cell_type": "code",
   "execution_count": null,
   "id": "6ff24779",
   "metadata": {},
   "outputs": [],
   "source": [
    "ZA_Kru.set_index('date',inplace=True)# set index "
   ]
  },
  {
   "cell_type": "code",
   "execution_count": null,
   "id": "b7dbe701",
   "metadata": {},
   "outputs": [],
   "source": [
    "ERA5_ZA_Kru.rename(columns=ERA5_renames,inplace=True)"
   ]
  },
  {
   "cell_type": "code",
   "execution_count": null,
   "id": "305d1a3a",
   "metadata": {},
   "outputs": [],
   "source": [
    "## from this need to drop Co2 GPP, NEE as this data needs to come from\n",
    "## somewhere else from AR_Vir"
   ]
  },
  {
   "cell_type": "code",
   "execution_count": null,
   "id": "52b0c356",
   "metadata": {},
   "outputs": [],
   "source": [
    "ZA_Kru=ZA_Kru.drop(columns=AR_Vir_drop)"
   ]
  },
  {
   "cell_type": "code",
   "execution_count": null,
   "id": "a2b820b0",
   "metadata": {},
   "outputs": [],
   "source": [
    "# now impute with ERA5 land data\n",
    "\n",
    "for column in ZA_Kru.columns:\n",
    "    \n",
    "    # iterate  rows\n",
    "    \n",
    "    for index, value in ZA_Kru[column].items():\n",
    "        \n",
    "        # check for NA values\n",
    "        \n",
    "        if pd.isna(value):\n",
    "            \n",
    "            # Impute the missing value with the corresponding value from ERA_AR_Vir\n",
    "            ZA_Kru.at[index, column] = ERA5_ZA_Kru.at[index, column]\n",
    "\n",
    "\n"
   ]
  },
  {
   "cell_type": "code",
   "execution_count": null,
   "id": "e8751b18",
   "metadata": {},
   "outputs": [],
   "source": [
    "ZA_Kru.isna().sum()"
   ]
  },
  {
   "cell_type": "code",
   "execution_count": null,
   "id": "fdf03164",
   "metadata": {},
   "outputs": [],
   "source": [
    "### i think for the dropped columns i will reseperate the DFs \n",
    "### and keep the date to impute them and then join right at the end\n",
    "### on the date column"
   ]
  },
  {
   "cell_type": "code",
   "execution_count": null,
   "id": "f5ae60c4",
   "metadata": {},
   "outputs": [],
   "source": [
    "### import co2 data"
   ]
  },
  {
   "cell_type": "code",
   "execution_count": null,
   "id": "4834291c",
   "metadata": {},
   "outputs": [],
   "source": [
    "co2_2010=pd.read_csv('/Users/abigailbase/PROJECT FILES/CO2 CSVs/co2_2010.csv',index_col=0)\n",
    "co2_2011=pd.read_csv('/Users/abigailbase/PROJECT FILES/CO2 CSVs/co2_2011.csv',index_col=0)\n",
    "co2_2012=pd.read_csv('/Users/abigailbase/PROJECT FILES/CO2 CSVs/co2_2012.csv',index_col=0)\n",
    "co2_2013=pd.read_csv('/Users/abigailbase/PROJECT FILES/CO2 CSVs/co2_2013.csv',index_col=0)\n",
    "co2_2014=pd.read_csv('/Users/abigailbase/PROJECT FILES/CO2 CSVs/co2_2014.csv',index_col=0)\n",
    "\n"
   ]
  },
  {
   "cell_type": "code",
   "execution_count": null,
   "id": "e961562d",
   "metadata": {},
   "outputs": [],
   "source": [
    "co2_2010['time']=pd.to_datetime(co2_2010['time']).dt.date\n",
    "co2_2011['time']=pd.to_datetime(co2_2011['time']).dt.date\n",
    "co2_2012['time']=pd.to_datetime(co2_2012['time']).dt.date\n",
    "co2_2013['time']=pd.to_datetime(co2_2013['time']).dt.date\n",
    "co2_2014['time']=pd.to_datetime(co2_2014['time']).dt.date"
   ]
  },
  {
   "cell_type": "code",
   "execution_count": null,
   "id": "8e212115",
   "metadata": {},
   "outputs": [],
   "source": [
    "co2_drop=['level','LAT','LON']"
   ]
  },
  {
   "cell_type": "code",
   "execution_count": null,
   "id": "a6a9811b",
   "metadata": {},
   "outputs": [],
   "source": [
    "co2_2010=co2_2010.drop(columns=co2_drop)\n",
    "co2_2011=co2_2011.drop(columns=co2_drop)\n",
    "co2_2012=co2_2012.drop(columns=co2_drop)\n",
    "co2_2013=co2_2013.drop(columns=co2_drop)\n",
    "co2_2014=co2_2014.drop(columns=co2_drop)"
   ]
  },
  {
   "cell_type": "code",
   "execution_count": null,
   "id": "d21047d6",
   "metadata": {},
   "outputs": [],
   "source": [
    "#combine the years into one\n",
    "\n",
    "\n",
    "co2=pd.concat([co2_2010,co2_2011,co2_2012,co2_2013,co2_2014],ignore_index=True)"
   ]
  },
  {
   "cell_type": "code",
   "execution_count": null,
   "id": "f5a73875",
   "metadata": {},
   "outputs": [],
   "source": [
    "AR_Vir_co2=co2[co2['site_id']=='AR-Vir']\n",
    "RU_Cok_co2=co2[co2['site_id']=='RU-Cok']\n",
    "NL_Loo_co2=co2[co2['site_id']=='NL-Loo']\n",
    "ZA_Kru_co2=co2[co2['site_id']=='ZA-Kru']"
   ]
  },
  {
   "cell_type": "code",
   "execution_count": null,
   "id": "5f05ac1f",
   "metadata": {},
   "outputs": [],
   "source": [
    "NL_Loo_co2=co2[co2['site_id']=='NL-Loo']"
   ]
  },
  {
   "cell_type": "code",
   "execution_count": null,
   "id": "1633cc08",
   "metadata": {},
   "outputs": [],
   "source": [
    "AR_Vir_co2"
   ]
  },
  {
   "cell_type": "code",
   "execution_count": null,
   "id": "692b84ac",
   "metadata": {},
   "outputs": [],
   "source": [
    "co2_rename={'co2':'CO2_F_MDS'}"
   ]
  },
  {
   "cell_type": "code",
   "execution_count": null,
   "id": "0822812b",
   "metadata": {},
   "outputs": [],
   "source": [
    "AR_Vir_co2=AR_Vir_co2.set_index('time')"
   ]
  },
  {
   "cell_type": "code",
   "execution_count": null,
   "id": "336be94c",
   "metadata": {},
   "outputs": [],
   "source": [
    "AR_Vir_co2.rename(columns=co2_rename,inplace=True)"
   ]
  },
  {
   "cell_type": "code",
   "execution_count": null,
   "id": "a1b4d301",
   "metadata": {},
   "outputs": [],
   "source": [
    "AR_Vir_co2"
   ]
  },
  {
   "cell_type": "code",
   "execution_count": null,
   "id": "8ebe24ea",
   "metadata": {
    "scrolled": true
   },
   "outputs": [],
   "source": [
    "### need to impute co2 for RU-Cok, AR-Vir and ZA_Kru\n",
    "\n",
    "AR_Vir"
   ]
  },
  {
   "cell_type": "code",
   "execution_count": null,
   "id": "9526f0db",
   "metadata": {},
   "outputs": [],
   "source": [
    "### AR-Vir ###"
   ]
  },
  {
   "cell_type": "code",
   "execution_count": null,
   "id": "b021079b",
   "metadata": {},
   "outputs": [],
   "source": [
    "# want to join AR_Vir_co2 and AR_Vir"
   ]
  },
  {
   "cell_type": "code",
   "execution_count": null,
   "id": "bb7ec77a",
   "metadata": {},
   "outputs": [],
   "source": [
    "AR_Vir_imp=AR_Vir.join(AR_Vir_co2)"
   ]
  },
  {
   "cell_type": "code",
   "execution_count": null,
   "id": "876d9137",
   "metadata": {},
   "outputs": [],
   "source": [
    "AR_Vir_imp=AR_Vir_imp.drop(columns='site_id')"
   ]
  },
  {
   "cell_type": "code",
   "execution_count": null,
   "id": "aa43441e",
   "metadata": {},
   "outputs": [],
   "source": [
    "AR_Vir_imp.isna().sum()"
   ]
  },
  {
   "cell_type": "code",
   "execution_count": null,
   "id": "df162569",
   "metadata": {},
   "outputs": [],
   "source": [
    "## fill missing 12 with mean DELETE THIS"
   ]
  },
  {
   "cell_type": "code",
   "execution_count": null,
   "id": "8e5e1bd2",
   "metadata": {},
   "outputs": [],
   "source": [
    "AR_Vir_imp['CO2_F_MDS']=AR_Vir_imp['CO2_F_MDS'].fillna(AR_Vir_imp['CO2_F_MDS'].mean())"
   ]
  },
  {
   "cell_type": "code",
   "execution_count": null,
   "id": "240b3735",
   "metadata": {},
   "outputs": [],
   "source": [
    "AR_Vir_imp.isna().sum()"
   ]
  },
  {
   "cell_type": "code",
   "execution_count": null,
   "id": "b409c25f",
   "metadata": {},
   "outputs": [],
   "source": [
    "### RU-Cok ###"
   ]
  },
  {
   "cell_type": "code",
   "execution_count": null,
   "id": "e875f0cc",
   "metadata": {},
   "outputs": [],
   "source": [
    "RU_Cok_co2=RU_Cok_co2.set_index('time')"
   ]
  },
  {
   "cell_type": "code",
   "execution_count": null,
   "id": "2a5ad098",
   "metadata": {},
   "outputs": [],
   "source": [
    "RU_Cok_co2.rename(columns=co2_rename,inplace=True)"
   ]
  },
  {
   "cell_type": "code",
   "execution_count": null,
   "id": "815acd29",
   "metadata": {},
   "outputs": [],
   "source": [
    "RU_Cok_imp=RU_Cok.join(RU_Cok_co2)"
   ]
  },
  {
   "cell_type": "code",
   "execution_count": null,
   "id": "7fb80dfb",
   "metadata": {},
   "outputs": [],
   "source": [
    "RU_Cok_imp['CO2_F_MDS']=RU_Cok_imp['CO2_F_MDS'].fillna(RU_Cok_imp['CO2_F_MDS'].mean())"
   ]
  },
  {
   "cell_type": "code",
   "execution_count": null,
   "id": "eaba488e",
   "metadata": {},
   "outputs": [],
   "source": [
    "### NL_Loo ###"
   ]
  },
  {
   "cell_type": "code",
   "execution_count": null,
   "id": "3cb297b7",
   "metadata": {},
   "outputs": [],
   "source": [
    "NL_Loo_original=df[df['SITE_ID']=='NL-Loo']"
   ]
  },
  {
   "cell_type": "code",
   "execution_count": null,
   "id": "b7851ec8",
   "metadata": {},
   "outputs": [],
   "source": [
    "NL_Loo_original=NL_Loo_original[['CO2_F_MDS','date']]"
   ]
  },
  {
   "cell_type": "code",
   "execution_count": null,
   "id": "242a9ba6",
   "metadata": {},
   "outputs": [],
   "source": [
    "NL_Loo_original=NL_Loo_original.set_index('date')"
   ]
  },
  {
   "cell_type": "code",
   "execution_count": null,
   "id": "8f4bcaa3",
   "metadata": {},
   "outputs": [],
   "source": [
    "NL_Loo_original.isna().sum()"
   ]
  },
  {
   "cell_type": "code",
   "execution_count": null,
   "id": "6e59e9f1",
   "metadata": {},
   "outputs": [],
   "source": [
    "NL_Loo_original['CO2_F_MDS']=NL_Loo_original['CO2_F_MDS'].fillna(NL_Loo_original['CO2_F_MDS'].mean())"
   ]
  },
  {
   "cell_type": "code",
   "execution_count": null,
   "id": "a8dc94c4",
   "metadata": {},
   "outputs": [],
   "source": [
    "NL_Loo_original.isna().sum()"
   ]
  },
  {
   "cell_type": "code",
   "execution_count": null,
   "id": "0c184cf8",
   "metadata": {},
   "outputs": [],
   "source": [
    "NL_Loo_imp=NL_Loo.join(NL_Loo_original)"
   ]
  },
  {
   "cell_type": "code",
   "execution_count": null,
   "id": "be288b82",
   "metadata": {},
   "outputs": [],
   "source": [
    "NL_Loo_imp.isna().sum()"
   ]
  },
  {
   "cell_type": "code",
   "execution_count": null,
   "id": "ccd0a4d6",
   "metadata": {},
   "outputs": [],
   "source": [
    "NL_Loo_imp.head()"
   ]
  },
  {
   "cell_type": "code",
   "execution_count": null,
   "id": "ca97a3ff",
   "metadata": {},
   "outputs": [],
   "source": [
    "NL_Loo_imp.isna().sum()"
   ]
  },
  {
   "cell_type": "code",
   "execution_count": null,
   "id": "093037de",
   "metadata": {},
   "outputs": [],
   "source": [
    "### ZA-Kru ###"
   ]
  },
  {
   "cell_type": "code",
   "execution_count": null,
   "id": "456585e8",
   "metadata": {},
   "outputs": [],
   "source": [
    "ZA_Kru_co2=ZA_Kru_co2.set_index('time')"
   ]
  },
  {
   "cell_type": "code",
   "execution_count": null,
   "id": "3bb28162",
   "metadata": {},
   "outputs": [],
   "source": [
    "ZA_Kru_co2.rename(columns=co2_rename,inplace=True)"
   ]
  },
  {
   "cell_type": "code",
   "execution_count": null,
   "id": "804b6995",
   "metadata": {},
   "outputs": [],
   "source": [
    "ZA_Kru_imp=ZA_Kru.join(AR_Vir_co2)"
   ]
  },
  {
   "cell_type": "code",
   "execution_count": null,
   "id": "c9a5a7f6",
   "metadata": {},
   "outputs": [],
   "source": [
    "ZA_Kru_imp.isna().sum()"
   ]
  },
  {
   "cell_type": "code",
   "execution_count": null,
   "id": "a98ed21d",
   "metadata": {},
   "outputs": [],
   "source": [
    "ZA_Kru_imp['CO2_F_MDS']=ZA_Kru_imp['CO2_F_MDS'].fillna(ZA_Kru_imp['CO2_F_MDS'].mean())"
   ]
  },
  {
   "cell_type": "code",
   "execution_count": null,
   "id": "9364514d",
   "metadata": {},
   "outputs": [],
   "source": [
    "ZA_Kru_imp=ZA_Kru_imp.drop(columns='site_id')"
   ]
  },
  {
   "cell_type": "markdown",
   "id": "f7e1aa79",
   "metadata": {},
   "source": [
    "---"
   ]
  },
  {
   "cell_type": "code",
   "execution_count": null,
   "id": "ee81d690",
   "metadata": {},
   "outputs": [],
   "source": [
    "### NIRv data from file 5 (hdf process) was also added here"
   ]
  },
  {
   "cell_type": "code",
   "execution_count": null,
   "id": "1e5e3dee",
   "metadata": {},
   "outputs": [],
   "source": [
    "#import "
   ]
  },
  {
   "cell_type": "code",
   "execution_count": null,
   "id": "dfaa7b66",
   "metadata": {},
   "outputs": [],
   "source": [
    "AR_Vir_NIRv=pd.read_csv('/Users/abigailbase/PROJECT FILES/NIRv DFs/AR_Vir_NIR.csv')\n",
    "AU_Dry_NIRv=pd.read_csv('/Users/abigailbase/PROJECT FILES/NIRv DFs/AU_Dry_NIRv.csv')\n",
    "BE_Vie_NIRv=pd.read_csv('/Users/abigailbase/PROJECT FILES/NIRv DFs/BE_Vie_NIR.csv')\n",
    "CA_TP1_NIRv=pd.read_csv('/Users/abigailbase/PROJECT FILES/NIRv DFs/CA_TP1_NIR.csv')\n",
    "CH_Cha_NIRv=pd.read_csv('/Users/abigailbase/PROJECT FILES/NIRv DFs/CH_Cha_NIR.csv')\n",
    "DE_Gri_NIRv=pd.read_csv('/Users/abigailbase/PROJECT FILES/NIRv DFs/DE_Gri_NIR.csv')\n",
    "FR_Pue_NIRv=pd.read_csv('/Users/abigailbase/PROJECT FILES/NIRv DFs/FR_Pue_NIR.csv')\n",
    "GF_Guy_NIRv=pd.read_csv('/Users/abigailbase/PROJECT FILES/NIRv DFs/GF_Guy_NIR.csv')\n",
    "\n",
    "NL_Loo_NIRv=pd.read_csv('/Users/abigailbase/PROJECT FILES/NIRv DFs/NL_Loo_NIR.csv')\n",
    "RU_Cok_NIRv=pd.read_csv('/Users/abigailbase/PROJECT FILES/NIRv DFs/RU_CokNIR.csv')\n",
    "RU_Fyo_NIRv=pd.read_csv('/Users/abigailbase/PROJECT FILES/NIRv DFs/RU_Fyo_NIR.csv')\n",
    "US_PFa_NIRv=pd.read_csv('/Users/abigailbase/PROJECT FILES/NIRv DFs/US_PFa_NIR.csv')\n",
    "US_Var_NIRv=pd.read_csv('/Users/abigailbase/PROJECT FILES/NIRv DFs/US_Var_NIR.csv')\n",
    "ZA_Kru_NIRv=pd.read_csv('/Users/abigailbase/PROJECT FILES/NIRv DFs/ZA_Kru_NIR.csv')\n",
    "\n"
   ]
  },
  {
   "cell_type": "code",
   "execution_count": null,
   "id": "e402f502",
   "metadata": {},
   "outputs": [],
   "source": [
    "file_paths = [\n",
    "    '/Users/abigailbase/PROJECT FILES/NIRv DFs/AR_Vir_NIR.csv',\n",
    "    '/Users/abigailbase/PROJECT FILES/NIRv DFs/AU_Dry_NIRv.csv',\n",
    "    '/Users/abigailbase/PROJECT FILES/NIRv DFs/BE_Vie_NIR.csv',\n",
    "    '/Users/abigailbase/PROJECT FILES/NIRv DFs/CA_TP1_NIR.csv',\n",
    "    '/Users/abigailbase/PROJECT FILES/NIRv DFs/CH_Cha_NIR.csv',\n",
    "    '/Users/abigailbase/PROJECT FILES/NIRv DFs/DE_Gri_NIR.csv',\n",
    "    '/Users/abigailbase/PROJECT FILES/NIRv DFs/FR_Pue_NIR.csv',\n",
    "    '/Users/abigailbase/PROJECT FILES/NIRv DFs/GF_Guy_NIR.csv',\n",
    "    '/Users/abigailbase/PROJECT FILES/NIRv DFs/IT_Col_NIR.csv',\n",
    "    '/Users/abigailbase/PROJECT FILES/NIRv DFs/NL_Loo_NIR.csv',\n",
    "    '/Users/abigailbase/PROJECT FILES/NIRv DFs/RU_CokNIR.csv',\n",
    "    '/Users/abigailbase/PROJECT FILES/NIRv DFs/RU_Fyo_NIR.csv',\n",
    "    '/Users/abigailbase/PROJECT FILES/NIRv DFs/US_PFa_NIR.csv',\n",
    "    '/Users/abigailbase/PROJECT FILES/NIRv DFs/US_Var_NIR.csv',\n",
    "    '/Users/abigailbase/PROJECT FILES/NIRv DFs/ZA_Kru_NIR.csv'\n",
    "]\n"
   ]
  },
  {
   "cell_type": "code",
   "execution_count": null,
   "id": "ed0fa2d1",
   "metadata": {},
   "outputs": [],
   "source": [
    "keys = [\n",
    "    'AR_Vir_NIRv', 'AU_Dry_NIRv', 'BE_Vie_NIRv', 'CA_TP1_NIRv', 'CH_Cha_NIRv',\n",
    "    'DE_Gri_NIRv', 'FR_Pue_NIRv', 'GF_Guy_NIRv','IT_Col_NIRv', 'NL_Loo_NIRv', 'RU_Cok_NIRv',\n",
    "    'RU_Fyo_NIRv', 'US_PFa_NIRv', 'US_Var_NIRv', 'ZA_Kru_NIRv'\n",
    "]\n"
   ]
  },
  {
   "cell_type": "code",
   "execution_count": null,
   "id": "b54a1be3",
   "metadata": {},
   "outputs": [],
   "source": [
    "nirv_dict = {}"
   ]
  },
  {
   "cell_type": "code",
   "execution_count": null,
   "id": "9f340411",
   "metadata": {},
   "outputs": [],
   "source": [
    "for key, file_path in zip(keys, file_paths):\n",
    "    # Read the CSV file into a DataFrame\n",
    "    df = pd.read_csv(file_path)\n",
    "    # Add the site_id column\n",
    "    df['site_id'] = key\n",
    "    # Store the DataFrame in the dictionary\n",
    "    nirv_dict[key] = df\n"
   ]
  },
  {
   "cell_type": "code",
   "execution_count": null,
   "id": "5e353001",
   "metadata": {},
   "outputs": [],
   "source": [
    "### analyse trend to see which interpolation most ideal\n",
    "\n",
    "dfs_to_concat = [nirv_dict[key] for key in keys]"
   ]
  },
  {
   "cell_type": "code",
   "execution_count": null,
   "id": "add56f9c",
   "metadata": {},
   "outputs": [],
   "source": [
    "combined_nirv_df = pd.concat(dfs_to_concat, ignore_index=True)\n"
   ]
  },
  {
   "cell_type": "code",
   "execution_count": null,
   "id": "f20bf2ac",
   "metadata": {},
   "outputs": [],
   "source": [
    "combined_nirv_df['date'] = pd.to_datetime(combined_nirv_df['date'])\n"
   ]
  },
  {
   "cell_type": "code",
   "execution_count": null,
   "id": "d37a1648",
   "metadata": {},
   "outputs": [],
   "source": [
    "combined_nirv_df = combined_nirv_df.sort_values(by='date')\n"
   ]
  },
  {
   "cell_type": "code",
   "execution_count": null,
   "id": "7119f5ba",
   "metadata": {},
   "outputs": [],
   "source": [
    "sites = combined_nirv_df['site_id'].unique()\n"
   ]
  },
  {
   "cell_type": "code",
   "execution_count": null,
   "id": "edbbce7b",
   "metadata": {},
   "outputs": [],
   "source": [
    "#  time series of each site revealed seasonality so a cubic spline interpolator was appropriate\n",
    "\n",
    "plt.figure(figsize=(14, 7))\n",
    "\n",
    "for site in combined_nirv_df['site_id'].unique():\n",
    "    site_data = combined_nirv_df[combined_nirv_df['site_id'] == site]\n",
    "    plt.plot(site_data['date'], site_data['NIRv'], marker='o', linestyle='-', label=site)\n",
    "\n",
    "plt.xlabel('Date')\n",
    "plt.ylabel('NIRv')\n",
    "plt.title('NIRv Time Series for All Sites')\n",
    "plt.legend(title='Site ID')\n",
    "plt.grid(True)\n",
    "plt.tight_layout()\n",
    "\n",
    "plt.show()"
   ]
  },
  {
   "cell_type": "code",
   "execution_count": null,
   "id": "77317585",
   "metadata": {},
   "outputs": [],
   "source": [
    "AR_Vir_NIRv=nirv_dict['AR_Vir_NIRv']"
   ]
  },
  {
   "cell_type": "code",
   "execution_count": null,
   "id": "adc75f00",
   "metadata": {},
   "outputs": [],
   "source": [
    "AR_Vir_NIRv"
   ]
  },
  {
   "cell_type": "code",
   "execution_count": null,
   "id": "3f4cfd56",
   "metadata": {},
   "outputs": [],
   "source": [
    "NIRV_drop=['year','day_of_year','day_of_year','NIR_point','NDVI_point','site_id']"
   ]
  },
  {
   "cell_type": "code",
   "execution_count": null,
   "id": "a968e606",
   "metadata": {},
   "outputs": [],
   "source": [
    "AR_Vir_NIRv=AR_Vir_NIRv.drop(columns=NIRV_drop)"
   ]
  },
  {
   "cell_type": "code",
   "execution_count": null,
   "id": "007986b0",
   "metadata": {},
   "outputs": [],
   "source": [
    "AR_Vir_NIRv['date']=pd.to_datetime(AR_Vir_NIRv['date'])"
   ]
  },
  {
   "cell_type": "code",
   "execution_count": null,
   "id": "cf5adf89",
   "metadata": {},
   "outputs": [],
   "source": [
    "AR_Vir_NIRv.set_index('date', inplace=True)"
   ]
  },
  {
   "cell_type": "code",
   "execution_count": null,
   "id": "ff584b72",
   "metadata": {
    "scrolled": false
   },
   "outputs": [],
   "source": [
    "#create the missing days\n",
    "\n",
    "AR_Vir_NIRv_daily = AR_Vir_NIRv.resample('D').asfreq()\n"
   ]
  },
  {
   "cell_type": "code",
   "execution_count": null,
   "id": "f5047e28",
   "metadata": {},
   "outputs": [],
   "source": [
    "## apply the spine interpolator ###\n",
    "\n",
    "valid_data = AR_Vir_NIRv_daily.dropna(subset=['NIRv'])\n",
    "\n",
    "# convert dates to ordinal for interpolation\n",
    "dates = valid_data.index.map(pd.Timestamp.toordinal).values\n",
    "nirv_values = valid_data['NIRv'].values\n",
    "\n",
    "cs = CubicSpline(dates, nirv_values, extrapolate=True)\n",
    "\n",
    "full_dates = AR_Vir_NIRv_daily.index.map(pd.Timestamp.toordinal)\n",
    "AR_Vir_NIRv_daily['NIRv'] = cs(full_dates)\n",
    "\n",
    "\n",
    "\n"
   ]
  },
  {
   "cell_type": "code",
   "execution_count": null,
   "id": "561d62dd",
   "metadata": {},
   "outputs": [],
   "source": [
    "\n",
    "def interpolate_nirv(nirv_dict, key, NIRV_drop):\n",
    "    AR_Vir_NIRv = nirv_dict[key]\n",
    "    \n",
    "    AR_Vir_NIRv = AR_Vir_NIRv.drop(columns=NIRV_drop)\n",
    "    \n",
    "    #  to datetime and set as index\n",
    "    AR_Vir_NIRv['date'] = pd.to_datetime(AR_Vir_NIRv['date'])\n",
    "    AR_Vir_NIRv.set_index('date', inplace=True)\n",
    "    \n",
    "    # drop data from before 2010\n",
    "    AR_Vir_NIRv = AR_Vir_NIRv[AR_Vir_NIRv.index >= '2010-01-01']\n",
    "    \n",
    "    \n",
    "    # daily frequency\n",
    "    AR_Vir_NIRv_daily = AR_Vir_NIRv.resample('D').asfreq()\n",
    "    \n",
    "    valid_data = AR_Vir_NIRv_daily.dropna(subset=['NIRv'])\n",
    "    \n",
    "    # convert dates to ordinal for interpolation\n",
    "    dates = valid_data.index.map(pd.Timestamp.toordinal).values\n",
    "    nirv_values = valid_data['NIRv'].values\n",
    "    \n",
    "    # cubic spline interpolator\n",
    "    cs = CubicSpline(dates, nirv_values, extrapolate=True)\n",
    "    \n",
    "    full_dates = AR_Vir_NIRv_daily.index.map(pd.Timestamp.toordinal)\n",
    "    AR_Vir_NIRv_daily['NIRv'] = cs(full_dates)\n",
    "    \n",
    "    return AR_Vir_NIRv_daily\n",
    "\n"
   ]
  },
  {
   "cell_type": "code",
   "execution_count": null,
   "id": "c36f179b",
   "metadata": {},
   "outputs": [],
   "source": [
    "#AR-Vir\n",
    "\n",
    "AR_Vir_NIRv=nirv_dict['AR_Vir_NIRv']"
   ]
  },
  {
   "cell_type": "code",
   "execution_count": null,
   "id": "64dbaddc",
   "metadata": {},
   "outputs": [],
   "source": [
    "AR_Vir_NIRv_daily=interpolate_nirv(nirv_dict,'AR_Vir_NIRv',NIRV_drop)"
   ]
  },
  {
   "cell_type": "code",
   "execution_count": null,
   "id": "d289444e",
   "metadata": {},
   "outputs": [],
   "source": [
    "#AU-Dry\n",
    "\n",
    "AU_Dry_NIRv=nirv_dict['AU_Dry_NIRv']"
   ]
  },
  {
   "cell_type": "code",
   "execution_count": null,
   "id": "4bd5e56e",
   "metadata": {},
   "outputs": [],
   "source": [
    "AU_Dry_NIRv_daily=interpolate_nirv(nirv_dict,'AU_Dry_NIRv',NIRV_drop)"
   ]
  },
  {
   "cell_type": "code",
   "execution_count": null,
   "id": "684449e2",
   "metadata": {},
   "outputs": [],
   "source": [
    "#BE-Vie\n",
    "\n",
    "BE_Vie_NIRv=nirv_dict['BE_Vie_NIRv']"
   ]
  },
  {
   "cell_type": "code",
   "execution_count": null,
   "id": "89fbd452",
   "metadata": {},
   "outputs": [],
   "source": [
    "BE_Vie_NIRv_daily=interpolate_nirv(nirv_dict,'BE_Vie_NIRv',NIRV_drop)"
   ]
  },
  {
   "cell_type": "code",
   "execution_count": null,
   "id": "f1d6a54e",
   "metadata": {},
   "outputs": [],
   "source": [
    "# CA-TP1\n",
    "\n",
    "CA_TP1_NIRv=nirv_dict['CA_TP1_NIRv']"
   ]
  },
  {
   "cell_type": "code",
   "execution_count": null,
   "id": "bc592dbd",
   "metadata": {},
   "outputs": [],
   "source": [
    "CA_TP1_NIRv_daily=interpolate_nirv(nirv_dict,'CA_TP1_NIRv',NIRV_drop)"
   ]
  },
  {
   "cell_type": "code",
   "execution_count": null,
   "id": "dec00446",
   "metadata": {},
   "outputs": [],
   "source": [
    "# CH-Cha\n",
    "\n",
    "CH_Cha_NIRv=nirv_dict['CH_Cha_NIRv']"
   ]
  },
  {
   "cell_type": "code",
   "execution_count": null,
   "id": "4a88db6e",
   "metadata": {},
   "outputs": [],
   "source": [
    "CH_Cha_NIRv_daily=interpolate_nirv(nirv_dict,'CH_Cha_NIRv',NIRV_drop)"
   ]
  },
  {
   "cell_type": "code",
   "execution_count": null,
   "id": "fa1dccb2",
   "metadata": {},
   "outputs": [],
   "source": [
    "#DE-Gri\n",
    "\n",
    "DE_Gri_NIRv=nirv_dict['DE_Gri_NIRv']"
   ]
  },
  {
   "cell_type": "code",
   "execution_count": null,
   "id": "2c918e2f",
   "metadata": {},
   "outputs": [],
   "source": [
    "DE_Gri_NIRv_daily=interpolate_nirv(nirv_dict,'DE_Gri_NIRv',NIRV_drop)"
   ]
  },
  {
   "cell_type": "code",
   "execution_count": null,
   "id": "1802243e",
   "metadata": {},
   "outputs": [],
   "source": [
    "#FR-Pue\n",
    "\n",
    "FR_Pue_NIRv=nirv_dict['FR_Pue_NIRv']"
   ]
  },
  {
   "cell_type": "code",
   "execution_count": null,
   "id": "14cb1c3c",
   "metadata": {},
   "outputs": [],
   "source": [
    "FR_Pue_NIRv_daily=interpolate_nirv(nirv_dict,'FR_Pue_NIRv',NIRV_drop)"
   ]
  },
  {
   "cell_type": "code",
   "execution_count": null,
   "id": "95e072d2",
   "metadata": {},
   "outputs": [],
   "source": [
    "#GF-Guy\n",
    "\n",
    "GF_Guy_NIRv=nirv_dict['GF_Guy_NIRv']"
   ]
  },
  {
   "cell_type": "code",
   "execution_count": null,
   "id": "c0370abe",
   "metadata": {},
   "outputs": [],
   "source": [
    "GF_Guy_NIRv_daily=interpolate_nirv(nirv_dict,'GF_Guy_NIRv',NIRV_drop)"
   ]
  },
  {
   "cell_type": "code",
   "execution_count": null,
   "id": "58d6a5d1",
   "metadata": {},
   "outputs": [],
   "source": [
    "#IT-Col\n",
    "\n",
    "IT_Col_NIRv=nirv_dict['IT_Col_NIRv']"
   ]
  },
  {
   "cell_type": "code",
   "execution_count": null,
   "id": "bd83e345",
   "metadata": {},
   "outputs": [],
   "source": [
    "IT_Col_NIRv_daily=interpolate_nirv(nirv_dict,'IT_Col_NIRv',NIRV_drop)"
   ]
  },
  {
   "cell_type": "code",
   "execution_count": null,
   "id": "858b123e",
   "metadata": {},
   "outputs": [],
   "source": [
    "# NL-Loo"
   ]
  },
  {
   "cell_type": "code",
   "execution_count": null,
   "id": "a4bf740f",
   "metadata": {},
   "outputs": [],
   "source": [
    "NL_Loo_NIRv=nirv_dict['NL_Loo_NIRv']"
   ]
  },
  {
   "cell_type": "code",
   "execution_count": null,
   "id": "d2463759",
   "metadata": {},
   "outputs": [],
   "source": [
    "NL_Loo_NIRv_daily=interpolate_nirv(nirv_dict,'NL_Loo_NIRv',NIRV_drop)"
   ]
  },
  {
   "cell_type": "code",
   "execution_count": null,
   "id": "6e50401a",
   "metadata": {},
   "outputs": [],
   "source": [
    "NL_Loo_NIRv_daily.isna().sum()"
   ]
  },
  {
   "cell_type": "code",
   "execution_count": null,
   "id": "885593fb",
   "metadata": {},
   "outputs": [],
   "source": [
    "#RU-Cok\n",
    "\n",
    "RU_Cok_NIRv=nirv_dict['RU_Cok_NIRv']"
   ]
  },
  {
   "cell_type": "code",
   "execution_count": null,
   "id": "3ebe5e53",
   "metadata": {},
   "outputs": [],
   "source": [
    "RU_Cok_NIRv"
   ]
  },
  {
   "cell_type": "code",
   "execution_count": null,
   "id": "686626a3",
   "metadata": {},
   "outputs": [],
   "source": [
    "RU_Cok_NIRv['date']=pd.to_datetime(RU_Cok_NIRv['date'])"
   ]
  },
  {
   "cell_type": "code",
   "execution_count": null,
   "id": "7a9f79c7",
   "metadata": {},
   "outputs": [],
   "source": [
    "RU_Cok_NIRv= RU_Cok_NIRv.sort_values(by='date')\n"
   ]
  },
  {
   "cell_type": "code",
   "execution_count": null,
   "id": "161fa22d",
   "metadata": {},
   "outputs": [],
   "source": [
    "RU_Cok_NIRv=RU_Cok_NIRv.dropna()"
   ]
  },
  {
   "cell_type": "code",
   "execution_count": null,
   "id": "610e24a7",
   "metadata": {},
   "outputs": [],
   "source": [
    "RU_Cok_NIRv=RU_Cok_NIRv.drop_duplicates(subset='date',keep='last')"
   ]
  },
  {
   "cell_type": "code",
   "execution_count": null,
   "id": "11b4f865",
   "metadata": {},
   "outputs": [],
   "source": [
    "RU_Cok_NIRv.set_index('date', inplace=True)\n"
   ]
  },
  {
   "cell_type": "code",
   "execution_count": null,
   "id": "d61e9601",
   "metadata": {},
   "outputs": [],
   "source": [
    "RU_Cok_NIRv = RU_Cok_NIRv[RU_Cok_NIRv.index >= '2010-01-01']\n",
    "    "
   ]
  },
  {
   "cell_type": "code",
   "execution_count": null,
   "id": "c9d615a8",
   "metadata": {},
   "outputs": [],
   "source": [
    "RU_Cok_NIRv_daily = RU_Cok_NIRv.resample('D').asfreq()"
   ]
  },
  {
   "cell_type": "code",
   "execution_count": null,
   "id": "56e5d210",
   "metadata": {},
   "outputs": [],
   "source": [
    "valid_data = RU_Cok_NIRv_daily.dropna(subset=['NIRv'])\n",
    "\n",
    "dates = valid_data.index.map(pd.Timestamp.toordinal).values\n",
    "nirv_values = valid_data['NIRv'].values\n",
    "\n",
    "cs = CubicSpline(dates, nirv_values, extrapolate=True)\n",
    "    \n",
    "full_dates = RU_Cok_NIRv_daily.index.map(pd.Timestamp.toordinal)\n",
    "RU_Cok_NIRv_daily['NIRv'] = cs(full_dates)\n",
    "    \n",
    "RU_Cok_NIRv_daily\n"
   ]
  },
  {
   "cell_type": "code",
   "execution_count": null,
   "id": "b7f722c7",
   "metadata": {},
   "outputs": [],
   "source": [
    "RU_Cok_imp"
   ]
  },
  {
   "cell_type": "code",
   "execution_count": null,
   "id": "3561b545",
   "metadata": {},
   "outputs": [],
   "source": [
    "RU_Cok_NIRv_daily.isna().sum()"
   ]
  },
  {
   "cell_type": "code",
   "execution_count": null,
   "id": "22a41d52",
   "metadata": {},
   "outputs": [],
   "source": [
    "### RU-Fyo ###"
   ]
  },
  {
   "cell_type": "code",
   "execution_count": null,
   "id": "37712b95",
   "metadata": {},
   "outputs": [],
   "source": [
    "RU_Fyo_NIRv=nirv_dict['RU_Fyo_NIRv']"
   ]
  },
  {
   "cell_type": "code",
   "execution_count": null,
   "id": "30eb4c79",
   "metadata": {},
   "outputs": [],
   "source": [
    "RU_Fyo_NIRv_daily=interpolate_nirv(nirv_dict,'RU_Fyo_NIRv',NIRV_drop)"
   ]
  },
  {
   "cell_type": "code",
   "execution_count": null,
   "id": "664f0d92",
   "metadata": {},
   "outputs": [],
   "source": [
    "### US-PFa ###"
   ]
  },
  {
   "cell_type": "code",
   "execution_count": null,
   "id": "19c8ef53",
   "metadata": {},
   "outputs": [],
   "source": [
    "US_PFa_NIRv=nirv_dict['US_PFa_NIRv']"
   ]
  },
  {
   "cell_type": "code",
   "execution_count": null,
   "id": "b92874bf",
   "metadata": {},
   "outputs": [],
   "source": [
    "US_PFa_NIRv_daily=interpolate_nirv(nirv_dict,'RU_Fyo_NIRv',NIRV_drop)"
   ]
  },
  {
   "cell_type": "code",
   "execution_count": null,
   "id": "8bd27a2f",
   "metadata": {},
   "outputs": [],
   "source": [
    "### US-Var ###"
   ]
  },
  {
   "cell_type": "code",
   "execution_count": null,
   "id": "547f4ff9",
   "metadata": {},
   "outputs": [],
   "source": [
    "US_Var_NIRv=nirv_dict['US_Var_NIRv']"
   ]
  },
  {
   "cell_type": "code",
   "execution_count": null,
   "id": "1873777d",
   "metadata": {},
   "outputs": [],
   "source": [
    "US_Var_NIRv_daily=interpolate_nirv(nirv_dict,'US_Var_NIRv',NIRV_drop)"
   ]
  },
  {
   "cell_type": "code",
   "execution_count": null,
   "id": "3e0ced8c",
   "metadata": {},
   "outputs": [],
   "source": [
    "### ZA-Kru ###"
   ]
  },
  {
   "cell_type": "code",
   "execution_count": null,
   "id": "3513a3d6",
   "metadata": {},
   "outputs": [],
   "source": [
    "ZA_Kru_NIRv=nirv_dict['ZA_Kru_NIRv']"
   ]
  },
  {
   "cell_type": "code",
   "execution_count": null,
   "id": "63726d4e",
   "metadata": {},
   "outputs": [],
   "source": [
    "ZA_Kru_NIRv_daily=interpolate_nirv(nirv_dict,'ZA_Kru_NIRv',NIRV_drop)"
   ]
  },
  {
   "cell_type": "code",
   "execution_count": null,
   "id": "5d2ef72f",
   "metadata": {},
   "outputs": [],
   "source": [
    "### now add the NIRv data to the final df"
   ]
  },
  {
   "cell_type": "code",
   "execution_count": null,
   "id": "4edfc196",
   "metadata": {},
   "outputs": [],
   "source": [
    "test=AR_Vir_imp.copy()"
   ]
  },
  {
   "cell_type": "code",
   "execution_count": null,
   "id": "d35c5da4",
   "metadata": {},
   "outputs": [],
   "source": [
    "test"
   ]
  },
  {
   "cell_type": "code",
   "execution_count": null,
   "id": "fdff43a3",
   "metadata": {},
   "outputs": [],
   "source": [
    "AR_Vir_imp['NIRv']=AR_Vir_NIRv_daily['NIRv']"
   ]
  },
  {
   "cell_type": "code",
   "execution_count": null,
   "id": "6338d47b",
   "metadata": {},
   "outputs": [],
   "source": [
    "cutoff=pd.to_datetime('2014-12-19')"
   ]
  },
  {
   "cell_type": "code",
   "execution_count": null,
   "id": "efabe240",
   "metadata": {},
   "outputs": [],
   "source": [
    "# AR-Vir\n",
    "\n",
    "AR_Vir_imp=AR_Vir[AR_Vir.index<=cutoff]"
   ]
  },
  {
   "cell_type": "code",
   "execution_count": null,
   "id": "cb837266",
   "metadata": {},
   "outputs": [],
   "source": [
    "AR_Vir_imp"
   ]
  },
  {
   "cell_type": "code",
   "execution_count": null,
   "id": "8b23d918",
   "metadata": {},
   "outputs": [],
   "source": [
    "# AU_Dry\n",
    "\n",
    "AU_Dry['NIRv']=AU_Dry_NIRv_daily['NIRv']"
   ]
  },
  {
   "cell_type": "code",
   "execution_count": null,
   "id": "c475535c",
   "metadata": {},
   "outputs": [],
   "source": [
    "AU_Dry=AU_Dry[AU_Dry.index<=cutoff]"
   ]
  },
  {
   "cell_type": "code",
   "execution_count": null,
   "id": "41cdc2a3",
   "metadata": {},
   "outputs": [],
   "source": [
    "# BE-Vie\n",
    "\n",
    "BE_Vie['NIRv']=BE_Vie_NIRv_daily['NIRv']"
   ]
  },
  {
   "cell_type": "code",
   "execution_count": null,
   "id": "dd008475",
   "metadata": {},
   "outputs": [],
   "source": [
    "BE_Vie=BE_Vie[BE_Vie.index<=cutoff]"
   ]
  },
  {
   "cell_type": "code",
   "execution_count": null,
   "id": "9cf89484",
   "metadata": {},
   "outputs": [],
   "source": [
    "# CA-TP1"
   ]
  },
  {
   "cell_type": "code",
   "execution_count": null,
   "id": "37989888",
   "metadata": {},
   "outputs": [],
   "source": [
    "CA_TP1['NIRv']=CA_TP1_NIRv_daily['NIRv']"
   ]
  },
  {
   "cell_type": "code",
   "execution_count": null,
   "id": "f3344407",
   "metadata": {},
   "outputs": [],
   "source": [
    "CA_TP1=CA_TP1[CA_TP1.index<=cutoff]"
   ]
  },
  {
   "cell_type": "code",
   "execution_count": null,
   "id": "d31c1424",
   "metadata": {},
   "outputs": [],
   "source": [
    "# CH-CHa"
   ]
  },
  {
   "cell_type": "code",
   "execution_count": null,
   "id": "7d79cfd1",
   "metadata": {},
   "outputs": [],
   "source": [
    "CH_Cha['NIRv']=CH_Cha_NIRv_daily['NIRv']"
   ]
  },
  {
   "cell_type": "code",
   "execution_count": null,
   "id": "b2c68d54",
   "metadata": {},
   "outputs": [],
   "source": [
    "CH_Cha=CH_Cha[CH_Cha.index<=cutoff]"
   ]
  },
  {
   "cell_type": "code",
   "execution_count": null,
   "id": "0249200f",
   "metadata": {},
   "outputs": [],
   "source": [
    "# DE-Gri"
   ]
  },
  {
   "cell_type": "code",
   "execution_count": null,
   "id": "687be2ad",
   "metadata": {},
   "outputs": [],
   "source": [
    "DE_Gri['NIRv']=DE_Gri_NIRv_daily['NIRv']"
   ]
  },
  {
   "cell_type": "code",
   "execution_count": null,
   "id": "860d4000",
   "metadata": {},
   "outputs": [],
   "source": [
    "DE_Gri=DE_Gri[DE_Gri.index<=cutoff]"
   ]
  },
  {
   "cell_type": "code",
   "execution_count": null,
   "id": "3e7d48c5",
   "metadata": {},
   "outputs": [],
   "source": [
    "# FR_Pue"
   ]
  },
  {
   "cell_type": "code",
   "execution_count": null,
   "id": "ba73b8b4",
   "metadata": {},
   "outputs": [],
   "source": [
    "FR_Pue['NIRv']=FR_Pue_NIRv_daily['NIRv']"
   ]
  },
  {
   "cell_type": "code",
   "execution_count": null,
   "id": "dfd2c59a",
   "metadata": {},
   "outputs": [],
   "source": [
    "FR_Pue=FR_Pue[FR_Pue.index<=cutoff]"
   ]
  },
  {
   "cell_type": "code",
   "execution_count": null,
   "id": "21d93d9b",
   "metadata": {},
   "outputs": [],
   "source": [
    "#GF_Guy\n",
    "\n",
    "GF_Guy['NIRv']=GF_Guy_NIRv_daily['NIRv']"
   ]
  },
  {
   "cell_type": "code",
   "execution_count": null,
   "id": "f4da60f1",
   "metadata": {},
   "outputs": [],
   "source": [
    "GF_Guy=GF_Guy[GF_Guy.index<=cutoff]"
   ]
  },
  {
   "cell_type": "code",
   "execution_count": null,
   "id": "57ae6f74",
   "metadata": {
    "scrolled": true
   },
   "outputs": [],
   "source": [
    "GF_Guy.isna().sum()"
   ]
  },
  {
   "cell_type": "code",
   "execution_count": null,
   "id": "3b914e38",
   "metadata": {},
   "outputs": [],
   "source": [
    "# IT-Col"
   ]
  },
  {
   "cell_type": "code",
   "execution_count": null,
   "id": "ce91b662",
   "metadata": {},
   "outputs": [],
   "source": [
    "IT_Col['NIRv']=IT_Col_NIRv_daily['NIRv']"
   ]
  },
  {
   "cell_type": "code",
   "execution_count": null,
   "id": "98e4c552",
   "metadata": {},
   "outputs": [],
   "source": [
    "IT_Col=IT_Col[IT_Col.index<=cutoff]"
   ]
  },
  {
   "cell_type": "code",
   "execution_count": null,
   "id": "4dd3755d",
   "metadata": {},
   "outputs": [],
   "source": [
    "IT_Col.isna().sum()"
   ]
  },
  {
   "cell_type": "code",
   "execution_count": null,
   "id": "77dd559d",
   "metadata": {},
   "outputs": [],
   "source": [
    "# NL-Loo"
   ]
  },
  {
   "cell_type": "code",
   "execution_count": null,
   "id": "3921b2f0",
   "metadata": {},
   "outputs": [],
   "source": [
    "NL_Loo"
   ]
  },
  {
   "cell_type": "code",
   "execution_count": null,
   "id": "ad0d2a94",
   "metadata": {},
   "outputs": [],
   "source": [
    "NL_Loo_imp['NIRv']=NL_Loo_NIRv_daily['NIRv']"
   ]
  },
  {
   "cell_type": "code",
   "execution_count": null,
   "id": "fef2e259",
   "metadata": {},
   "outputs": [],
   "source": [
    "NL_Loo_imp=NL_Loo[NL_Loo.index<=cutoff]"
   ]
  },
  {
   "cell_type": "code",
   "execution_count": null,
   "id": "fbf9b140",
   "metadata": {},
   "outputs": [],
   "source": [
    "NL_Loo_imp.isna().sum()"
   ]
  },
  {
   "cell_type": "code",
   "execution_count": null,
   "id": "d1a79d59",
   "metadata": {},
   "outputs": [],
   "source": [
    "# RU-Cok"
   ]
  },
  {
   "cell_type": "code",
   "execution_count": null,
   "id": "c9d1d40c",
   "metadata": {},
   "outputs": [],
   "source": [
    "RU_Cok_imp['NIRv']=RU_Cok_NIRv_daily['NIRv']"
   ]
  },
  {
   "cell_type": "code",
   "execution_count": null,
   "id": "a3b480f2",
   "metadata": {},
   "outputs": [],
   "source": [
    "RU_Cok_imp=RU_Cok_imp[RU_Cok_imp.index<=cutoff]"
   ]
  },
  {
   "cell_type": "code",
   "execution_count": null,
   "id": "515240ec",
   "metadata": {},
   "outputs": [],
   "source": [
    "RU_Cok_imp.isna().sum()"
   ]
  },
  {
   "cell_type": "code",
   "execution_count": null,
   "id": "776fd0e6",
   "metadata": {},
   "outputs": [],
   "source": [
    "# RU_Fyo"
   ]
  },
  {
   "cell_type": "code",
   "execution_count": null,
   "id": "c7999b0e",
   "metadata": {},
   "outputs": [],
   "source": [
    "RU_Fyo['NIRv']=RU_Fyo_NIRv_daily['NIRv']"
   ]
  },
  {
   "cell_type": "code",
   "execution_count": null,
   "id": "e3235f3e",
   "metadata": {},
   "outputs": [],
   "source": [
    "RU_Fyo=RU_Fyo[RU_Fyo.index<=cutoff]"
   ]
  },
  {
   "cell_type": "code",
   "execution_count": null,
   "id": "89fdcbab",
   "metadata": {},
   "outputs": [],
   "source": [
    "# US-PFA"
   ]
  },
  {
   "cell_type": "code",
   "execution_count": null,
   "id": "f8df1cc8",
   "metadata": {},
   "outputs": [],
   "source": [
    "US_PFa['NIRv']=US_PFa_NIRv_daily['NIRv']"
   ]
  },
  {
   "cell_type": "code",
   "execution_count": null,
   "id": "e2e00469",
   "metadata": {},
   "outputs": [],
   "source": [
    "US_PFa=US_PFa[US_PFa.index<=cutoff]"
   ]
  },
  {
   "cell_type": "code",
   "execution_count": null,
   "id": "ff64d35a",
   "metadata": {},
   "outputs": [],
   "source": [
    "# US-Var"
   ]
  },
  {
   "cell_type": "code",
   "execution_count": null,
   "id": "0464640d",
   "metadata": {},
   "outputs": [],
   "source": [
    "US_Var['NIRv']=US_Var_NIRv_daily['NIRv']"
   ]
  },
  {
   "cell_type": "code",
   "execution_count": null,
   "id": "dd90e614",
   "metadata": {},
   "outputs": [],
   "source": [
    "US_Var=US_Var[US_Var.index<=cutoff]"
   ]
  },
  {
   "cell_type": "code",
   "execution_count": null,
   "id": "7e6b1f60",
   "metadata": {},
   "outputs": [],
   "source": [
    "# ZA-Kru"
   ]
  },
  {
   "cell_type": "code",
   "execution_count": null,
   "id": "2fbfd09c",
   "metadata": {},
   "outputs": [],
   "source": [
    "ZA_Kru_imp['NIRv']=ZA_Kru_NIRv_daily['NIRv']"
   ]
  },
  {
   "cell_type": "code",
   "execution_count": null,
   "id": "47be489b",
   "metadata": {},
   "outputs": [],
   "source": [
    "ZA_Kru_imp=ZA_Kru[ZA_Kru.index<=cutoff]"
   ]
  },
  {
   "cell_type": "code",
   "execution_count": null,
   "id": "1e985ed1",
   "metadata": {},
   "outputs": [],
   "source": [
    "RU_Cok_imp=RU_Cok_imp.drop(columns='site_id')"
   ]
  },
  {
   "cell_type": "code",
   "execution_count": null,
   "id": "00e0a606",
   "metadata": {
    "scrolled": true
   },
   "outputs": [],
   "source": [
    "US_Var.shape"
   ]
  },
  {
   "cell_type": "code",
   "execution_count": null,
   "id": "e4bc31b5",
   "metadata": {},
   "outputs": [],
   "source": [
    "# COMBINE INTO THE FINAL DF\n",
    "\n",
    "\n",
    "final_df=pd.concat([AR_Vir_imp,AU_Dry,BE_Vie,CA_TP1,CH_Cha,DE_Gri,FR_Pue,GF_Guy,IT_Col,NL_Loo_imp,\n",
    "                   RU_Cok_imp,RU_Fyo,US_PFa,US_Var,ZA_Kru_imp])"
   ]
  },
  {
   "cell_type": "code",
   "execution_count": null,
   "id": "272af597",
   "metadata": {},
   "outputs": [],
   "source": [
    "RU_Fyo['NIRv']=RU_Fyo['NIRv'].fillna(RU_Fyo['NIRv'].mean())"
   ]
  },
  {
   "cell_type": "code",
   "execution_count": null,
   "id": "1294b5f0",
   "metadata": {},
   "outputs": [],
   "source": [
    "final_df.to_csv('/Users/abigailbase/PROJECT FILES/FINAL DFs/FINAL_FINAL_DF.csv',index=True)"
   ]
  }
 ],
 "metadata": {
  "kernelspec": {
   "display_name": "Python 3 (ipykernel)",
   "language": "python",
   "name": "python3"
  },
  "language_info": {
   "codemirror_mode": {
    "name": "ipython",
    "version": 3
   },
   "file_extension": ".py",
   "mimetype": "text/x-python",
   "name": "python",
   "nbconvert_exporter": "python",
   "pygments_lexer": "ipython3",
   "version": "3.11.5"
  }
 },
 "nbformat": 4,
 "nbformat_minor": 5
}
