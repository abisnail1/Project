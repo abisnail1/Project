{
 "cells": [
  {
   "cell_type": "code",
   "execution_count": null,
   "id": "23fbc66e",
   "metadata": {},
   "outputs": [],
   "source": [
    "# This file contains the processing steps for generating NIRv MODIS data"
   ]
  },
  {
   "cell_type": "code",
   "execution_count": null,
   "id": "86926350",
   "metadata": {},
   "outputs": [],
   "source": [
    "import pandas as pd\n",
    "import numpy as np\n",
    "import matplotlib.pyplot as plt\n",
    "from scipy.interpolate import CubicSpline "
   ]
  },
  {
   "cell_type": "code",
   "execution_count": null,
   "id": "cb36007d",
   "metadata": {},
   "outputs": [],
   "source": [
    "# these CSVs were generated from the raw HDF MODIS downloads that can be found in file 5\n",
    "\n",
    "\n",
    "file_paths = [\n",
    "    '/Users/abigailbase/PROJECT FILES/NIRv DFs/AR_Vir_NIR.csv',\n",
    "    '/Users/abigailbase/PROJECT FILES/NIRv DFs/AU_Dry_NIRv.csv',\n",
    "    '/Users/abigailbase/PROJECT FILES/NIRv DFs/BE_Vie_NIR.csv',\n",
    "    '/Users/abigailbase/PROJECT FILES/NIRv DFs/CA_TP1_NIR.csv',\n",
    "    '/Users/abigailbase/PROJECT FILES/NIRv DFs/CH_Cha_NIR.csv',\n",
    "    '/Users/abigailbase/PROJECT FILES/NIRv DFs/DE_Gri_NIR.csv',\n",
    "    '/Users/abigailbase/PROJECT FILES/NIRv DFs/FR_Pue_NIR.csv',\n",
    "    '/Users/abigailbase/PROJECT FILES/NIRv DFs/GF_Guy_NIR.csv',\n",
    "    '/Users/abigailbase/PROJECT FILES/NIRv DFs/IT_Col_NIR.csv',\n",
    "    '/Users/abigailbase/PROJECT FILES/NIRv DFs/NL_Loo_NIR.csv',\n",
    "    '/Users/abigailbase/PROJECT FILES/NIRv DFs/RU_CokNIR.csv',\n",
    "    '/Users/abigailbase/PROJECT FILES/NIRv DFs/RU_Fyo_NIR.csv',\n",
    "    '/Users/abigailbase/PROJECT FILES/NIRv DFs/US_PFa_NIR.csv',\n",
    "    '/Users/abigailbase/PROJECT FILES/NIRv DFs/US_Var_NIR.csv',\n",
    "    '/Users/abigailbase/PROJECT FILES/NIRv DFs/ZA_Kru_NIR.csv'\n",
    "]\n"
   ]
  },
  {
   "cell_type": "code",
   "execution_count": null,
   "id": "9c8d9fc3",
   "metadata": {},
   "outputs": [],
   "source": [
    "keys = [\n",
    "    'AR_Vir_NIRv', 'AU_Dry_NIRv', 'BE_Vie_NIRv', 'CA_TP1_NIRv', 'CH_Cha_NIRv',\n",
    "    'DE_Gri_NIRv', 'FR_Pue_NIRv', 'GF_Guy_NIRv','IT_Col_NIRv', 'NL_Loo_NIRv', 'RU_Cok_NIRv',\n",
    "    'RU_Fyo_NIRv', 'US_PFa_NIRv', 'US_Var_NIRv', 'ZA_Kru_NIRv'\n",
    "]\n"
   ]
  },
  {
   "cell_type": "code",
   "execution_count": null,
   "id": "62b0922a",
   "metadata": {},
   "outputs": [],
   "source": [
    "ndvi_dict = {}"
   ]
  },
  {
   "cell_type": "code",
   "execution_count": null,
   "id": "cb9f178d",
   "metadata": {},
   "outputs": [],
   "source": [
    "# function for reading the csvs and turning them to dfs\n",
    "\n",
    "for key, file_path in zip(keys, file_paths):\n",
    "    df = pd.read_csv(file_path)\n",
    "    df['site_id'] = key\n",
    "    ndvi_dict[key] = df\n"
   ]
  },
  {
   "cell_type": "code",
   "execution_count": null,
   "id": "3549af42",
   "metadata": {},
   "outputs": [],
   "source": [
    "dfs_to_concat = [ndvi_dict[key] for key in keys]"
   ]
  },
  {
   "cell_type": "code",
   "execution_count": null,
   "id": "6cf7e6eb",
   "metadata": {},
   "outputs": [],
   "source": [
    "#combine all of the sites into one df\n",
    "\n",
    "combined_ndvi_df = pd.concat(dfs_to_concat, ignore_index=True)\n"
   ]
  },
  {
   "cell_type": "code",
   "execution_count": null,
   "id": "720da590",
   "metadata": {},
   "outputs": [],
   "source": [
    "# convert and sort the date col\n",
    "\n",
    "combined_ndvi_df['date'] = pd.to_datetime(combined_ndvi_df['date'])\n",
    "combined_ndvi_df = combined_ndvi_df.sort_values(by='date')\n"
   ]
  },
  {
   "cell_type": "code",
   "execution_count": null,
   "id": "b5b3b227",
   "metadata": {},
   "outputs": [],
   "source": [
    "# investigate sites to check theyre all there\n",
    "\n",
    "sites = combined_ndvi_df['site_id'].unique()"
   ]
  },
  {
   "cell_type": "code",
   "execution_count": null,
   "id": "8fba3a3c",
   "metadata": {},
   "outputs": [],
   "source": [
    "#  time series for each site to determine best interpolator for converting the data to daily\n",
    "\n",
    "plt.figure(figsize=(14, 7))\n",
    "\n",
    "# plot each site\n",
    "for site in combined_ndvi_df['site_id'].unique():\n",
    "    site_data = combined_ndvi_df[combined_ndvi_df['site_id'] == site]\n",
    "    plt.plot(site_data['date'], site_data['NIRv'], marker='o', linestyle='-', label=site)\n",
    "\n",
    "plt.xlabel('Date')\n",
    "plt.ylabel('NDVI')\n",
    "plt.title('NDVI Time Series for All Sites')\n",
    "plt.legend(title='Site ID')\n",
    "plt.tight_layout()\n",
    "\n",
    "plt.show()"
   ]
  },
  {
   "cell_type": "code",
   "execution_count": null,
   "id": "837c688a",
   "metadata": {},
   "outputs": [],
   "source": [
    "NIRV_drop=['year','day_of_year','day_of_year','NIR_point','NIRv','site_id']"
   ]
  },
  {
   "cell_type": "code",
   "execution_count": null,
   "id": "3d7af1b6",
   "metadata": {},
   "outputs": [],
   "source": [
    "# function for applying spline interpolator to convert to daily obs\n",
    "\n",
    "\n",
    "def interpolate_ndvi(ndvi_dict, key, NDVI_drop):\n",
    "\n",
    "    AR_Vir_NDVI = ndvi_dict[key]\n",
    "    \n",
    "    # drop specified columns\n",
    "    AR_Vir_NDVI = AR_Vir_NDVI.drop(columns=NDVI_drop)\n",
    "    \n",
    "    # convert date and set as index\n",
    "    AR_Vir_NDVI['date'] = pd.to_datetime(AR_Vir_NDVI['date'])\n",
    "    AR_Vir_NDVI.set_index('date', inplace=True)\n",
    "    \n",
    "    # drop data from before 2010\n",
    "    AR_Vir_NDVI = AR_Vir_NDVI[AR_Vir_NDVI.index >= '2010-01-01']\n",
    "    \n",
    "    # resample df to daily \n",
    "    AR_Vir_NDVI_daily = AR_Vir_NDVI.resample('D').asfreq()\n",
    "    \n",
    "    # drop  rows where NDVI_point is missing \n",
    "    valid_data = AR_Vir_NDVI_daily.dropna(subset=['NDVI_point'])\n",
    "    \n",
    "    # convert dates to ordinal for interpolation\n",
    "    dates = valid_data.index.map(pd.Timestamp.toordinal).values\n",
    "    ndvi_values = valid_data['NDVI_point'].values\n",
    "    \n",
    "    # cubic spline interpolator\n",
    "    cs = CubicSpline(dates, ndvi_values, extrapolate=True)\n",
    "    \n",
    "    full_dates = AR_Vir_NDVI_daily.index.map(pd.Timestamp.toordinal)\n",
    "    AR_Vir_NDVI_daily['NDVI_point'] = cs(full_dates)\n",
    "    \n",
    "    return AR_Vir_NDVI_daily\n"
   ]
  },
  {
   "cell_type": "code",
   "execution_count": null,
   "id": "0f2f0b56",
   "metadata": {},
   "outputs": [],
   "source": [
    "# apply to all the sites"
   ]
  },
  {
   "cell_type": "code",
   "execution_count": null,
   "id": "5849a9ca",
   "metadata": {},
   "outputs": [],
   "source": [
    "#AR-Vir\n",
    "\n",
    "AR_Vir_NDVI=ndvi_dict['AR_Vir_NIRv']"
   ]
  },
  {
   "cell_type": "code",
   "execution_count": null,
   "id": "4e9c155f",
   "metadata": {},
   "outputs": [],
   "source": [
    "AR_Vir_NDVI_daily=interpolate_ndvi(ndvi_dict,'AR_Vir_NIRv',NIRV_drop)"
   ]
  },
  {
   "cell_type": "code",
   "execution_count": null,
   "id": "5a4e4a55",
   "metadata": {},
   "outputs": [],
   "source": [
    "AR_Vir_NDVI_daily.isna().sum()"
   ]
  },
  {
   "cell_type": "code",
   "execution_count": null,
   "id": "5128658c",
   "metadata": {},
   "outputs": [],
   "source": [
    "AR_Vir_NDVI_daily"
   ]
  },
  {
   "cell_type": "code",
   "execution_count": null,
   "id": "9623555e",
   "metadata": {},
   "outputs": [],
   "source": [
    "AR_Vir_NDVI_daily['site_id']='AR-Vir'"
   ]
  },
  {
   "cell_type": "code",
   "execution_count": null,
   "id": "bdf03509",
   "metadata": {},
   "outputs": [],
   "source": [
    "AU_Dry_NDVI_daily=interpolate_ndvi(ndvi_dict,'AU_Dry_NIRv',NIRV_drop)"
   ]
  },
  {
   "cell_type": "code",
   "execution_count": null,
   "id": "09e5116e",
   "metadata": {},
   "outputs": [],
   "source": [
    "AU_Dry_NDVI_daily.isna().sum()"
   ]
  },
  {
   "cell_type": "code",
   "execution_count": null,
   "id": "83dd750e",
   "metadata": {},
   "outputs": [],
   "source": [
    "AU_Dry_NDVI_daily['site_id']='AU-Dry'"
   ]
  },
  {
   "cell_type": "code",
   "execution_count": null,
   "id": "84c16416",
   "metadata": {},
   "outputs": [],
   "source": [
    "BE_Vie_NDVI_daily=interpolate_ndvi(ndvi_dict,'BE_Vie_NIRv',NIRV_drop)"
   ]
  },
  {
   "cell_type": "code",
   "execution_count": null,
   "id": "f0e320ff",
   "metadata": {},
   "outputs": [],
   "source": [
    "BE_Vie_NDVI_daily.isna().sum()"
   ]
  },
  {
   "cell_type": "code",
   "execution_count": null,
   "id": "ffdd241f",
   "metadata": {},
   "outputs": [],
   "source": [
    "BE_Vie_NDVI_daily['site_id']='BE-Vie'"
   ]
  },
  {
   "cell_type": "code",
   "execution_count": null,
   "id": "9c3956b4",
   "metadata": {},
   "outputs": [],
   "source": [
    "CA_TP1_NDVI_daily=interpolate_ndvi(ndvi_dict,'CA_TP1_NIRv',NIRV_drop)"
   ]
  },
  {
   "cell_type": "code",
   "execution_count": null,
   "id": "37d683bc",
   "metadata": {},
   "outputs": [],
   "source": [
    "CA_TP1_NDVI_daily.isna().sum()"
   ]
  },
  {
   "cell_type": "code",
   "execution_count": null,
   "id": "4fa87c81",
   "metadata": {},
   "outputs": [],
   "source": [
    "CA_TP1_NDVI_daily['site_id']='CA-TP1'"
   ]
  },
  {
   "cell_type": "code",
   "execution_count": null,
   "id": "395015a9",
   "metadata": {},
   "outputs": [],
   "source": [
    "CH_Cha_NDVI_daily=interpolate_ndvi(ndvi_dict,'CH_Cha_NIRv',NIRV_drop)"
   ]
  },
  {
   "cell_type": "code",
   "execution_count": null,
   "id": "6b5e3f3c",
   "metadata": {},
   "outputs": [],
   "source": [
    "CH_Cha_NDVI_daily.isna().sum()"
   ]
  },
  {
   "cell_type": "code",
   "execution_count": null,
   "id": "4f872802",
   "metadata": {},
   "outputs": [],
   "source": [
    "CH_Cha_NDVI_daily['site_id']='CH-Cha'"
   ]
  },
  {
   "cell_type": "code",
   "execution_count": null,
   "id": "464ec095",
   "metadata": {},
   "outputs": [],
   "source": [
    "DE_Gri_NDVI_daily=interpolate_ndvi(ndvi_dict,'DE_Gri_NIRv',NIRV_drop)"
   ]
  },
  {
   "cell_type": "code",
   "execution_count": null,
   "id": "99570038",
   "metadata": {},
   "outputs": [],
   "source": [
    "DE_Gri_NDVI_daily.isna().sum()"
   ]
  },
  {
   "cell_type": "code",
   "execution_count": null,
   "id": "2d790ebd",
   "metadata": {},
   "outputs": [],
   "source": [
    "DE_Gri_NDVI_daily['site_id']='DE-Gri'"
   ]
  },
  {
   "cell_type": "code",
   "execution_count": null,
   "id": "184d0366",
   "metadata": {},
   "outputs": [],
   "source": [
    "FR_Pue_NDVI_daily=interpolate_ndvi(ndvi_dict,'FR_Pue_NIRv',NIRV_drop)"
   ]
  },
  {
   "cell_type": "code",
   "execution_count": null,
   "id": "6cc88e82",
   "metadata": {},
   "outputs": [],
   "source": [
    "FR_Pue_NDVI_daily.isna().sum()"
   ]
  },
  {
   "cell_type": "code",
   "execution_count": null,
   "id": "d4511332",
   "metadata": {},
   "outputs": [],
   "source": [
    "FR_Pue_NDVI_daily['site_id']='FR-Pue'"
   ]
  },
  {
   "cell_type": "code",
   "execution_count": null,
   "id": "725f2798",
   "metadata": {},
   "outputs": [],
   "source": [
    "GF_Guy_NDVI_daily=interpolate_ndvi(ndvi_dict,'GF_Guy_NIRv',NIRV_drop)"
   ]
  },
  {
   "cell_type": "code",
   "execution_count": null,
   "id": "01fc584a",
   "metadata": {},
   "outputs": [],
   "source": [
    "GF_Guy_NDVI_daily.isna().sum()"
   ]
  },
  {
   "cell_type": "code",
   "execution_count": null,
   "id": "5224a2e7",
   "metadata": {},
   "outputs": [],
   "source": [
    "GF_Guy_NDVI_daily['site_id']='GF-Guy'"
   ]
  },
  {
   "cell_type": "code",
   "execution_count": null,
   "id": "98a95218",
   "metadata": {},
   "outputs": [],
   "source": [
    "IT_Col_NDVI_daily=interpolate_ndvi(ndvi_dict,'IT_Col_NIRv',NIRV_drop)"
   ]
  },
  {
   "cell_type": "code",
   "execution_count": null,
   "id": "36fa352a",
   "metadata": {},
   "outputs": [],
   "source": [
    "IT_Col_NDVI_daily.isna().sum()"
   ]
  },
  {
   "cell_type": "code",
   "execution_count": null,
   "id": "9fa17c03",
   "metadata": {},
   "outputs": [],
   "source": [
    "IT_Col_NDVI_daily['site_id']='IT-Col'"
   ]
  },
  {
   "cell_type": "code",
   "execution_count": null,
   "id": "8f7785c6",
   "metadata": {},
   "outputs": [],
   "source": [
    "NL_Loo_NDVI_daily=interpolate_ndvi(ndvi_dict,'NL_Loo_NIRv',NIRV_drop)"
   ]
  },
  {
   "cell_type": "code",
   "execution_count": null,
   "id": "209092c3",
   "metadata": {},
   "outputs": [],
   "source": [
    "NL_Loo_NDVI_daily.isna().sum()"
   ]
  },
  {
   "cell_type": "code",
   "execution_count": null,
   "id": "da4faf50",
   "metadata": {},
   "outputs": [],
   "source": [
    "NL_Loo_NDVI_daily['site_id']='NL-Loo'"
   ]
  },
  {
   "cell_type": "code",
   "execution_count": null,
   "id": "1523e158",
   "metadata": {},
   "outputs": [],
   "source": [
    "RU_Cok_NDVI=ndvi_dict['RU_Cok_NIRv']"
   ]
  },
  {
   "cell_type": "code",
   "execution_count": null,
   "id": "9c54c5e6",
   "metadata": {},
   "outputs": [],
   "source": [
    "RU_Cok_NDVI['date']=pd.to_datetime(RU_Cok_NDVI['date'])"
   ]
  },
  {
   "cell_type": "code",
   "execution_count": null,
   "id": "cef104c9",
   "metadata": {},
   "outputs": [],
   "source": [
    "RU_Cok_NDVI= RU_Cok_NDVI.sort_values(by='date')\n"
   ]
  },
  {
   "cell_type": "code",
   "execution_count": null,
   "id": "67da2d75",
   "metadata": {},
   "outputs": [],
   "source": [
    "RU_Cok_NDVI=RU_Cok_NDVI.dropna()"
   ]
  },
  {
   "cell_type": "code",
   "execution_count": null,
   "id": "0cd56857",
   "metadata": {},
   "outputs": [],
   "source": [
    "RU_Cok_NDVI=RU_Cok_NDVI.drop_duplicates(subset='date',keep='last')"
   ]
  },
  {
   "cell_type": "code",
   "execution_count": null,
   "id": "a439dae3",
   "metadata": {},
   "outputs": [],
   "source": [
    "RU_Cok_NDVI.set_index('date', inplace=True)\n"
   ]
  },
  {
   "cell_type": "code",
   "execution_count": null,
   "id": "327761cf",
   "metadata": {},
   "outputs": [],
   "source": [
    "RU_Cok_NDVI = RU_Cok_NDVI[RU_Cok_NDVI.index >= '2010-01-01']\n"
   ]
  },
  {
   "cell_type": "code",
   "execution_count": null,
   "id": "eaeda048",
   "metadata": {},
   "outputs": [],
   "source": [
    "RU_Cok_NDVI_daily = RU_Cok_NDVI.resample('D').asfreq()"
   ]
  },
  {
   "cell_type": "code",
   "execution_count": null,
   "id": "65ecc6fa",
   "metadata": {},
   "outputs": [],
   "source": [
    "valid_data = RU_Cok_NDVI_daily.dropna(subset=['NDVI_point'])\n",
    "\n",
    "dates = valid_data.index.map(pd.Timestamp.toordinal).values\n",
    "nirv_values = valid_data['NDVI_point'].values\n",
    "\n",
    "cs = CubicSpline(dates, nirv_values, extrapolate=True)\n",
    "    \n",
    "full_dates = RU_Cok_NDVI_daily.index.map(pd.Timestamp.toordinal)\n",
    "RU_Cok_NDVI_daily['NDVI_point'] = cs(full_dates)\n",
    "    \n",
    "RU_Cok_NDVI_daily\n"
   ]
  },
  {
   "cell_type": "code",
   "execution_count": null,
   "id": "a0e80a68",
   "metadata": {},
   "outputs": [],
   "source": [
    "RU_Cok_NDVI_daily.isna().sum()"
   ]
  },
  {
   "cell_type": "code",
   "execution_count": null,
   "id": "88cfc714",
   "metadata": {},
   "outputs": [],
   "source": [
    "RU_Cok_NDVI_daily=RU_Cok_NDVI_daily.drop(columns=['year','day_of_year',\n",
    "                                                 'NIR_point','NIRv','site_id'])"
   ]
  },
  {
   "cell_type": "code",
   "execution_count": null,
   "id": "c8993219",
   "metadata": {},
   "outputs": [],
   "source": [
    "RU_Cok_NDVI_daily['site_id']='RU-Cok'"
   ]
  },
  {
   "cell_type": "code",
   "execution_count": null,
   "id": "2c85d85a",
   "metadata": {},
   "outputs": [],
   "source": [
    "RU_Fyo_NDVI_daily=interpolate_ndvi(ndvi_dict,'RU_Fyo_NIRv',NIRV_drop)"
   ]
  },
  {
   "cell_type": "code",
   "execution_count": null,
   "id": "9b6f212a",
   "metadata": {},
   "outputs": [],
   "source": [
    "RU_Fyo_NDVI_daily"
   ]
  },
  {
   "cell_type": "code",
   "execution_count": null,
   "id": "375d412a",
   "metadata": {},
   "outputs": [],
   "source": [
    "RU_Fyo_NDVI.isna().sum()"
   ]
  },
  {
   "cell_type": "code",
   "execution_count": null,
   "id": "f8ebb9b4",
   "metadata": {},
   "outputs": [],
   "source": [
    "full_date_range = pd.date_range(start='2010-01-01', end='2014-12-19', freq='D')\n"
   ]
  },
  {
   "cell_type": "code",
   "execution_count": null,
   "id": "d2634ac8",
   "metadata": {},
   "outputs": [],
   "source": [
    "RU_Fyo_NDVI_daily = RU_Fyo_NDVI_daily.reindex(full_date_range)\n"
   ]
  },
  {
   "cell_type": "code",
   "execution_count": null,
   "id": "f6e6c1b9",
   "metadata": {},
   "outputs": [],
   "source": [
    "RU_Fyo_NDVI_daily.isna().sum()"
   ]
  },
  {
   "cell_type": "code",
   "execution_count": null,
   "id": "4f1658e8",
   "metadata": {},
   "outputs": [],
   "source": [
    "RU_Fyo_NDVI_daily"
   ]
  },
  {
   "cell_type": "code",
   "execution_count": null,
   "id": "353982ed",
   "metadata": {},
   "outputs": [],
   "source": [
    "knn_imputer = KNNImputer(n_neighbors=5)\n",
    "\n",
    "RU_Fyo_NDVI_daily_imp = pd.DataFrame(knn_imputer.fit_transform(RU_Fyo_NDVI_daily), columns=RU_Fyo_NDVI_daily.columns)\n"
   ]
  },
  {
   "cell_type": "code",
   "execution_count": null,
   "id": "deec0bac",
   "metadata": {},
   "outputs": [],
   "source": [
    "RU_Fyo_NDVI_daily_imp.index = RU_Fyo_NDVI_daily.index\n"
   ]
  },
  {
   "cell_type": "code",
   "execution_count": null,
   "id": "1bf9795c",
   "metadata": {},
   "outputs": [],
   "source": [
    "RU_Fyo_NDVI_daily_imp"
   ]
  },
  {
   "cell_type": "code",
   "execution_count": null,
   "id": "08297936",
   "metadata": {},
   "outputs": [],
   "source": [
    "RU_Fyo_NDVI_daily_imp.isna().sum()"
   ]
  },
  {
   "cell_type": "code",
   "execution_count": null,
   "id": "f0cae41a",
   "metadata": {},
   "outputs": [],
   "source": [
    "RU_Fyo_NDVI_daily_imp['site_id']='RU-Fyo'"
   ]
  },
  {
   "cell_type": "code",
   "execution_count": null,
   "id": "d8849ecb",
   "metadata": {},
   "outputs": [],
   "source": [
    "US_PFa_NDVI_daily=interpolate_ndvi(ndvi_dict,'US_PFa_NIRv',NIRV_drop)"
   ]
  },
  {
   "cell_type": "code",
   "execution_count": null,
   "id": "068a4ea4",
   "metadata": {},
   "outputs": [],
   "source": [
    "US_PFa_NDVI_daily.isna().sum()"
   ]
  },
  {
   "cell_type": "code",
   "execution_count": null,
   "id": "ca70787f",
   "metadata": {},
   "outputs": [],
   "source": [
    "US_PFa_NDVI_daily['site_id']='US-PFa'"
   ]
  },
  {
   "cell_type": "code",
   "execution_count": null,
   "id": "c2e72b15",
   "metadata": {},
   "outputs": [],
   "source": [
    "US_Var_NDVI_daily=interpolate_ndvi(ndvi_dict,'US_Var_NIRv',NIRV_drop)"
   ]
  },
  {
   "cell_type": "code",
   "execution_count": null,
   "id": "eac67c5e",
   "metadata": {},
   "outputs": [],
   "source": [
    "US_Var_NDVI_daily.isna().sum()"
   ]
  },
  {
   "cell_type": "code",
   "execution_count": null,
   "id": "cc9da0f4",
   "metadata": {},
   "outputs": [],
   "source": [
    "US_Var_NDVI_daily"
   ]
  },
  {
   "cell_type": "code",
   "execution_count": null,
   "id": "edaa2170",
   "metadata": {},
   "outputs": [],
   "source": [
    "US_Var_NDVI_daily['site_id']='US-Var'"
   ]
  },
  {
   "cell_type": "code",
   "execution_count": null,
   "id": "317f3d1b",
   "metadata": {},
   "outputs": [],
   "source": [
    "ZA_Kru_NDVI_daily=interpolate_ndvi(ndvi_dict,'ZA_Kru_NIRv',NIRV_drop)"
   ]
  },
  {
   "cell_type": "code",
   "execution_count": null,
   "id": "4f234f9d",
   "metadata": {},
   "outputs": [],
   "source": [
    "ZA_Kru_NDVI_daily.isna().sum()"
   ]
  },
  {
   "cell_type": "code",
   "execution_count": null,
   "id": "129718a8",
   "metadata": {},
   "outputs": [],
   "source": [
    "ZA_Kru_NDVI_daily['site_id']='ZA-Kru'"
   ]
  },
  {
   "cell_type": "code",
   "execution_count": null,
   "id": "8ffa1a71",
   "metadata": {},
   "outputs": [],
   "source": [
    "# merge them all \n",
    "\n",
    "NDVI_merge=pd.concat([AR_Vir_NDVI_daily,AU_Dry_NDVI_daily,BE_Vie_NDVI_daily,\n",
    "                    CA_TP1_NDVI_daily,CH_Cha_NDVI_daily,DE_Gri_NDVI_daily,\n",
    "                    FR_Pue_NDVI_daily,GF_Guy_NDVI_daily,IT_Col_NDVI_daily,\n",
    "                    NL_Loo_NDVI_daily,RU_Cok_NDVI_daily,RU_Fyo_NDVI_daily_imp,\n",
    "                    US_PFa_NDVI_daily,US_Var_NDVI_daily,ZA_Kru_NDVI_daily])"
   ]
  },
  {
   "cell_type": "code",
   "execution_count": null,
   "id": "5eff30e8",
   "metadata": {},
   "outputs": [],
   "source": [
    "NDVI_merge.to_csv('/Users/abigailbase/PROJECT FILES/FINAL DFs/NDVI.csv')"
   ]
  },
  {
   "cell_type": "code",
   "execution_count": null,
   "id": "77fbe20e",
   "metadata": {},
   "outputs": [],
   "source": [
    "df_merged=pd.read_csv('/Users/abigailbase/PROJECT FILES/FINAL DFs/FINAL_FINAL_DF.csv',index_col=0)"
   ]
  },
  {
   "cell_type": "code",
   "execution_count": null,
   "id": "0990d7c6",
   "metadata": {},
   "outputs": [],
   "source": [
    "AR_Vir=df_merged[df_merged['SITE_ID']=='AR-Vir']#1\n",
    "AU_Dry=df_merged[df_merged['SITE_ID']=='AU-Dry']#2\n",
    "BE_Vie=df_merged[df_merged['SITE_ID']=='BE-Vie']#3\n",
    "CA_TP1=df_merged[df_merged['SITE_ID']=='CA-TP1']#4\n",
    "CH_Cha=df_merged[df_merged['SITE_ID']=='CH-Cha']#5\n",
    "DE_Gri=df_merged[df_merged['SITE_ID']=='DE-Gri']#6\n",
    "FR_Pue=df_merged[df_merged['SITE_ID']=='FR-Pue']#7\n",
    "GF_Guy=df_merged[df_merged['SITE_ID']=='GF-Guy']#8\n",
    "IT_Col=df_merged[df_merged['SITE_ID']=='IT-Col']#9\n",
    "NL_Loo=df_merged[df_merged['SITE_ID']=='NL-Loo']#10\n",
    "RU_Cok=df_merged[df_merged['SITE_ID']=='RU-Cok']#11\n",
    "RU_Fyo=df_merged[df_merged['SITE_ID']=='RU-Fyo']#12\n",
    "US_PFa=df_merged[df_merged['SITE_ID']=='US-PFa']#13\n",
    "US_Var=df_merged[df_merged['SITE_ID']=='US-Var']#14\n",
    "ZA_Kru=df_merged[df_merged['SITE_ID']=='ZA-Kru']#15"
   ]
  },
  {
   "cell_type": "code",
   "execution_count": null,
   "id": "846acb4c",
   "metadata": {},
   "outputs": [],
   "source": [
    "AR_Vir['NDVI']=AR_Vir_NDVI_daily['NDVI_point']"
   ]
  },
  {
   "cell_type": "code",
   "execution_count": null,
   "id": "c3d004c9",
   "metadata": {},
   "outputs": [],
   "source": [
    "AU_Dry['NDVI']=AU_Dry_NDVI_daily['NDVI_point']"
   ]
  },
  {
   "cell_type": "code",
   "execution_count": null,
   "id": "8b406eb5",
   "metadata": {},
   "outputs": [],
   "source": [
    "BE_Vie['NDVI']=BE_Vie_NDVI_daily['NDVI_point']"
   ]
  },
  {
   "cell_type": "code",
   "execution_count": null,
   "id": "f23eb494",
   "metadata": {},
   "outputs": [],
   "source": [
    "CA_TP1['NDVI']=CA_TP1_NDVI_daily['NDVI_point']"
   ]
  },
  {
   "cell_type": "code",
   "execution_count": null,
   "id": "7d402b1f",
   "metadata": {},
   "outputs": [],
   "source": [
    "CH_Cha['NDVI']=CH_Cha_NDVI_daily['NDVI_point']"
   ]
  },
  {
   "cell_type": "code",
   "execution_count": null,
   "id": "ba438ed2",
   "metadata": {},
   "outputs": [],
   "source": [
    "DE_Gri['NDVI']=DE_Gri_NDVI_daily['NDVI_point']"
   ]
  },
  {
   "cell_type": "code",
   "execution_count": null,
   "id": "ba444c22",
   "metadata": {},
   "outputs": [],
   "source": [
    "FR_Pue['NDVI']=FR_Pue_NDVI_daily['NDVI_point']"
   ]
  },
  {
   "cell_type": "code",
   "execution_count": null,
   "id": "7f953db2",
   "metadata": {},
   "outputs": [],
   "source": [
    "GF_Guy['NDVI']=GF_Guy_NDVI_daily['NDVI_point']"
   ]
  },
  {
   "cell_type": "code",
   "execution_count": null,
   "id": "2abe9c8d",
   "metadata": {},
   "outputs": [],
   "source": [
    "IT_Col['NDVI']=IT_Col_NDVI_daily['NDVI_point']"
   ]
  },
  {
   "cell_type": "code",
   "execution_count": null,
   "id": "a752ace5",
   "metadata": {},
   "outputs": [],
   "source": [
    "NL_Loo['NDVI']=NL_Loo_NDVI_daily['NDVI_point']"
   ]
  },
  {
   "cell_type": "code",
   "execution_count": null,
   "id": "3e11d8ae",
   "metadata": {},
   "outputs": [],
   "source": [
    "RU_Cok['NDVI']=RU_Cok_NDVI_daily['NDVI_point']"
   ]
  },
  {
   "cell_type": "code",
   "execution_count": null,
   "id": "c1768a00",
   "metadata": {},
   "outputs": [],
   "source": [
    "RU_Fyo_NDVI_daily_imp"
   ]
  },
  {
   "cell_type": "code",
   "execution_count": null,
   "id": "1c9d64df",
   "metadata": {},
   "outputs": [],
   "source": [
    "RU_Fyo"
   ]
  },
  {
   "cell_type": "code",
   "execution_count": null,
   "id": "8910bfb0",
   "metadata": {},
   "outputs": [],
   "source": [
    "RU_Fyo['NDVI']=RU_Fyo_NDVI_daily_imp['NDVI_point']"
   ]
  },
  {
   "cell_type": "code",
   "execution_count": null,
   "id": "e04dc122",
   "metadata": {},
   "outputs": [],
   "source": [
    "RU_Fyo.isna().sum()"
   ]
  },
  {
   "cell_type": "code",
   "execution_count": null,
   "id": "73e660ef",
   "metadata": {},
   "outputs": [],
   "source": [
    "from sklearn.impute import KNNImputer\n"
   ]
  },
  {
   "cell_type": "code",
   "execution_count": null,
   "id": "f40b6132",
   "metadata": {},
   "outputs": [],
   "source": []
  },
  {
   "cell_type": "code",
   "execution_count": null,
   "id": "e252c6e6",
   "metadata": {},
   "outputs": [],
   "source": [
    "US_PFa['NDVI']=US_PFa_NDVI_daily['NDVI_point']"
   ]
  },
  {
   "cell_type": "code",
   "execution_count": null,
   "id": "91a82f52",
   "metadata": {},
   "outputs": [],
   "source": [
    "US_PFa.isna().sum()"
   ]
  },
  {
   "cell_type": "code",
   "execution_count": null,
   "id": "13d96166",
   "metadata": {},
   "outputs": [],
   "source": [
    "US_Var['NDVI']=US_Var_NDVI_daily['NDVI_point']"
   ]
  },
  {
   "cell_type": "code",
   "execution_count": null,
   "id": "acf00c11",
   "metadata": {},
   "outputs": [],
   "source": [
    "US_Var.isna().sum()"
   ]
  },
  {
   "cell_type": "code",
   "execution_count": null,
   "id": "4852073b",
   "metadata": {},
   "outputs": [],
   "source": [
    "ZA_Kru['NDVI']=ZA_Kru_NDVI_daily['NDVI_point']"
   ]
  },
  {
   "cell_type": "code",
   "execution_count": null,
   "id": "d03df308",
   "metadata": {},
   "outputs": [],
   "source": [
    "ZA_Kru.isna().sum()"
   ]
  },
  {
   "cell_type": "code",
   "execution_count": null,
   "id": "9332ac80",
   "metadata": {},
   "outputs": [],
   "source": [
    "final_df=pd.concat([AR_Vir,AU_Dry,BE_Vie,CA_TP1,CH_Cha,DE_Gri,FR_Pue,GF_Guy,IT_Col,NL_Loo,\n",
    "                   RU_Cok,RU_Fyo,US_PFa,US_Var,ZA_Kru])"
   ]
  },
  {
   "cell_type": "code",
   "execution_count": null,
   "id": "7dcc59ed",
   "metadata": {},
   "outputs": [],
   "source": [
    "final_df.isna().sum()"
   ]
  },
  {
   "cell_type": "code",
   "execution_count": null,
   "id": "691898e5",
   "metadata": {},
   "outputs": [],
   "source": [
    "final_df"
   ]
  },
  {
   "cell_type": "code",
   "execution_count": null,
   "id": "9f55da5a",
   "metadata": {},
   "outputs": [],
   "source": [
    "final_df.to_csv('/Users/abigailbase/PROJECT FILES/FINAL DFs/FINAL_FINAL_DF.csv',index=True)"
   ]
  },
  {
   "cell_type": "code",
   "execution_count": null,
   "id": "358806e8",
   "metadata": {},
   "outputs": [],
   "source": [
    "final_df.isna().sum()"
   ]
  },
  {
   "cell_type": "code",
   "execution_count": null,
   "id": "66b396cb",
   "metadata": {},
   "outputs": [],
   "source": [
    "## Import the ssrd data\n",
    "\n",
    "ERA5_AR_Vir=pd.read_csv('/Users/abigailbase/PROJECT FILES/ERA5 CSVs/AR-Vir.csv',parse_dates=['valid_time'])\n",
    "ERA5_AU_Dry=pd.read_csv('/Users/abigailbase/PROJECT FILES/ERA5 CSVs/AU-Dry.csv',parse_dates=['valid_time'])\n",
    "ERA5_BE_Vie=pd.read_csv('/Users/abigailbase/PROJECT FILES/ERA5 CSVs/BE-Vie.csv',parse_dates=['valid_time'])\n",
    "ERA5_CA_TP1=pd.read_csv('/Users/abigailbase/PROJECT FILES/ERA5 CSVs/CA-TP1.csv',parse_dates=['valid_time'])\n",
    "ERA5_CH_Cha=pd.read_csv('/Users/abigailbase/PROJECT FILES/ERA5 CSVs/CH-Cha.csv',parse_dates=['valid_time'])\n",
    "ERA5_DE_Gri=pd.read_csv('/Users/abigailbase/PROJECT FILES/ERA5 CSVs/DE-Gri.csv',parse_dates=['valid_time'])\n",
    "ERA5_FR_Pue=pd.read_csv('/Users/abigailbase/PROJECT FILES/ERA5 CSVs/FR-Pue.csv',parse_dates=['valid_time'])\n",
    "ERA5_GF_Guy=pd.read_csv('/Users/abigailbase/PROJECT FILES/ERA5 CSVs/GF-Guy.csv',parse_dates=['valid_time'])\n",
    "ERA5_IT_Col=pd.read_csv('/Users/abigailbase/PROJECT FILES/ERA5 CSVs/IT-Col.csv',parse_dates=['valid_time'])\n",
    "ERA5_NL_Loo=pd.read_csv('/Users/abigailbase/PROJECT FILES/ERA5 CSVs/NL-Loo.csv',parse_dates=['valid_time'])\n",
    "ERA5_RU_Cok=pd.read_csv('/Users/abigailbase/PROJECT FILES/ERA5 CSVs/RU-Cok.csv',parse_dates=['valid_time'])\n",
    "ERA5_RU_Fyo=pd.read_csv('/Users/abigailbase/PROJECT FILES/ERA5 CSVs/RU-Fyo.csv',parse_dates=['valid_time'])\n",
    "ERA5_US_PFa=pd.read_csv('/Users/abigailbase/PROJECT FILES/ERA5 CSVs/US-PFa.csv',parse_dates=['valid_time'])\n",
    "ERA5_US_Var=pd.read_csv('/Users/abigailbase/PROJECT FILES/ERA5 CSVs/US-Var.csv',parse_dates=['valid_time'])\n",
    "ERA5_ZA_Kru=pd.read_csv('/Users/abigailbase/PROJECT FILES/ERA5 CSVs/ZA-Kru.csv',parse_dates=['valid_time'])\n"
   ]
  }
 ],
 "metadata": {
  "kernelspec": {
   "display_name": "Python 3 (ipykernel)",
   "language": "python",
   "name": "python3"
  },
  "language_info": {
   "codemirror_mode": {
    "name": "ipython",
    "version": 3
   },
   "file_extension": ".py",
   "mimetype": "text/x-python",
   "name": "python",
   "nbconvert_exporter": "python",
   "pygments_lexer": "ipython3",
   "version": "3.11.5"
  }
 },
 "nbformat": 4,
 "nbformat_minor": 5
}
