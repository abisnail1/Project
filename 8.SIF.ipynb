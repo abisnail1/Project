{
 "cells": [
  {
   "cell_type": "code",
   "execution_count": null,
   "id": "d41da1ce",
   "metadata": {},
   "outputs": [],
   "source": [
    "# This file contains the code for extracting and processing the SIF data \n",
    "\n",
    "\n",
    "# SOURCE: https://daac.ornl.gov/SIF-ESDR/guides/MetOpA_GOME2_SIF.html"
   ]
  },
  {
   "cell_type": "code",
   "execution_count": null,
   "id": "5aa798ec",
   "metadata": {},
   "outputs": [],
   "source": [
    "import os\n",
    "import pandas as pd\n",
    "import numpy as np\n",
    "import xarray as xr\n",
    "from tqdm import tqdm\n",
    "from sklearn.impute import KNNImputer\n"
   ]
  },
  {
   "cell_type": "code",
   "execution_count": null,
   "id": "ed3e0bcd",
   "metadata": {},
   "outputs": [],
   "source": [
    "file='/Users/abigailbase/Downloads/2010/NSIFv2.6.2.GOME-2A.20100105_all.nc'"
   ]
  },
  {
   "cell_type": "code",
   "execution_count": null,
   "id": "46a7ec9c",
   "metadata": {},
   "outputs": [],
   "source": [
    "dataset=xr.open_dataset(file)"
   ]
  },
  {
   "cell_type": "code",
   "execution_count": null,
   "id": "d5b54d27",
   "metadata": {},
   "outputs": [],
   "source": [
    "variables_of_interest = ['Daily_Averaged_SIF', \n",
    "                         'SIF_Uncertainty', \n",
    "                         'Cloud_Fraction', \n",
    "                         'Latitude', \n",
    "                         'Longitude']"
   ]
  },
  {
   "cell_type": "code",
   "execution_count": null,
   "id": "82a47a27",
   "metadata": {},
   "outputs": [],
   "source": [
    "selected_data = dataset[variables_of_interest]\n"
   ]
  },
  {
   "cell_type": "code",
   "execution_count": null,
   "id": "14a6762f",
   "metadata": {},
   "outputs": [],
   "source": [
    "df = selected_data.to_dataframe().reset_index()"
   ]
  },
  {
   "cell_type": "code",
   "execution_count": null,
   "id": "44918a46",
   "metadata": {},
   "outputs": [],
   "source": [
    "# import site info df\n",
    "\n",
    "sites=pd.read_csv('/Users/abigailbase/PROJECT FILES/selected_sites.csv',index_col=0)"
   ]
  },
  {
   "cell_type": "code",
   "execution_count": null,
   "id": "2f00112c",
   "metadata": {},
   "outputs": [],
   "source": [
    "lat_lon=sites[['LAT','LONG']]"
   ]
  },
  {
   "cell_type": "code",
   "execution_count": null,
   "id": "25f2dcde",
   "metadata": {},
   "outputs": [],
   "source": [
    "# create bounding box to filter df further \n",
    "\n",
    "min_lat = lat_lon['LAT'].min()\n",
    "max_lat = lat_lon['LAT'].max()\n",
    "min_lon = lat_lon['LONG'].min()\n",
    "max_lon = lat_lon['LONG'].max()\n",
    "\n",
    "bounding_box = {\n",
    "    'min_lat': min_lat,\n",
    "    'max_lat': max_lat,\n",
    "    'min_lon': min_lon,\n",
    "    'max_lon': max_lon\n",
    "}"
   ]
  },
  {
   "cell_type": "code",
   "execution_count": null,
   "id": "6fb8893a",
   "metadata": {},
   "outputs": [],
   "source": [
    "filtered_df = df[\n",
    "    (df['Latitude'] >= bounding_box['min_lat']) &\n",
    "    (df['Latitude'] <= bounding_box['max_lat']) &\n",
    "    (df['Longitude'] >= bounding_box['min_lon']) &\n",
    "    (df['Longitude'] <= bounding_box['max_lon'])\n",
    "] \n"
   ]
  },
  {
   "cell_type": "code",
   "execution_count": null,
   "id": "aa2fef83",
   "metadata": {},
   "outputs": [],
   "source": [
    "# functions to find points in SIF df that are closest to FLUXNET tower locations\n",
    "\n",
    "def haversine(lat1, lon1, lat2, lon2):\n",
    "    lat1, lon1, lat2, lon2 = map(np.radians, [lat1, lon1, lat2, lon2])\n",
    "    dlat = lat2 - lat1\n",
    "    dlon = lon2 - lon1\n",
    "    a = np.sin(dlat/2.0)**2 + np.cos(lat1) * np.cos(lat2) * np.sin(dlon/2.0)**2\n",
    "    c = 2 * np.arcsin(np.sqrt(a))\n",
    "    r = 6371  # radius of Earth in kilometers\n",
    "    return c * r\n",
    "\n",
    "def find_closest(df, sites):\n",
    "    closest_points = []\n",
    "    \n",
    "    for i, site_row in sites.iterrows():\n",
    "        site_lat = site_row['LAT']\n",
    "        site_lon = site_row['LONG']\n",
    "        \n",
    "        distances = df.apply(lambda row: haversine(site_lat, site_lon, row['Latitude'], row['Longitude']), axis=1)\n",
    "        min_index = distances.idxmin()\n",
    "        closest_points.append(df.loc[min_index])\n",
    "    \n",
    "    return pd.DataFrame(closest_points).reset_index(drop=True)\n"
   ]
  },
  {
   "cell_type": "code",
   "execution_count": null,
   "id": "621959ad",
   "metadata": {},
   "outputs": [],
   "source": [
    "closest_points_df = find_closest(filtered_df, lat_lon)"
   ]
  },
  {
   "cell_type": "code",
   "execution_count": null,
   "id": "908de3eb",
   "metadata": {},
   "outputs": [],
   "source": [
    "site_ids=sites.index.to_numpy()"
   ]
  },
  {
   "cell_type": "code",
   "execution_count": null,
   "id": "1d887abf",
   "metadata": {},
   "outputs": [],
   "source": [
    "closest_points_df['site_id']=site_ids"
   ]
  },
  {
   "cell_type": "code",
   "execution_count": null,
   "id": "245bf7f2",
   "metadata": {},
   "outputs": [],
   "source": [
    "closest_points_df=closest_points_df.drop(columns='obs')"
   ]
  },
  {
   "cell_type": "code",
   "execution_count": null,
   "id": "af538303",
   "metadata": {},
   "outputs": [],
   "source": [
    "# process each year of data and export to CSV"
   ]
  },
  {
   "cell_type": "code",
   "execution_count": null,
   "id": "3225b0be",
   "metadata": {},
   "outputs": [],
   "source": [
    "final_df = pd.DataFrame()\n",
    "\n",
    "directory = '/Users/abigailbase/Downloads/2011'\n",
    "\n",
    "# Get the list of all .nc files in the directory and its subdirectories\n",
    "files_to_process = [os.path.join(root, file)\n",
    "                    for root, dirs, files in os.walk(directory)\n",
    "                    for file in files if file.endswith('.nc')]\n",
    "\n",
    "# Iterate over the files with a progress bar\n",
    "for file_path in tqdm(files_to_process, desc=\"Processing files\"):\n",
    "    # Load the NetCDF file\n",
    "    ds = xr.open_dataset(file_path)\n",
    "    \n",
    "    # Select the variables of interest\n",
    "    variables_of_interest = ['Daily_Averaged_SIF', 'SIF_Uncertainty', 'Cloud_Fraction', 'Latitude', 'Longitude']\n",
    "    selected_data = ds[variables_of_interest]\n",
    "    \n",
    "    # Convert to a pandas DataFrame\n",
    "    df = selected_data.to_dataframe().reset_index()\n",
    "\n",
    "    # Filter the DataFrame using the bounding box\n",
    "    filtered_df = df[\n",
    "        (df['Latitude'] >= bounding_box['min_lat']) &\n",
    "        (df['Latitude'] <= bounding_box['max_lat']) &\n",
    "        (df['Longitude'] >= bounding_box['min_lon']) &\n",
    "        (df['Longitude'] <= bounding_box['max_lon'])\n",
    "    ]\n",
    "    \n",
    "    # Find the closest points\n",
    "    closest_points_df = find_closest(filtered_df, sites)\n",
    "\n",
    "    # Add site IDs if needed\n",
    "    closest_points_df['site_id'] = sites.index.to_numpy()\n",
    "\n",
    "    # Drop unnecessary columns if needed\n",
    "    closest_points_df = closest_points_df.drop(columns='obs', errors='ignore')  # 'obs' column removed if exists\n",
    "\n",
    "    # Concatenate to the final DataFrame\n",
    "    final_df = pd.concat([final_df, closest_points_df], ignore_index=True)"
   ]
  },
  {
   "cell_type": "code",
   "execution_count": null,
   "id": "bb77575f",
   "metadata": {},
   "outputs": [],
   "source": [
    "final_df.to_csv('/Users/abigailbase/PROJECT FILES/SIF/SIF_2011.csv')"
   ]
  },
  {
   "cell_type": "code",
   "execution_count": null,
   "id": "f187202f",
   "metadata": {},
   "outputs": [],
   "source": [
    "final_df = pd.DataFrame()\n",
    "\n",
    "directory = '/Users/abigailbase/Downloads/2012'\n",
    "\n",
    "# Get the list of all .nc files in the directory and its subdirectories\n",
    "files_to_process = [os.path.join(root, file)\n",
    "                    for root, dirs, files in os.walk(directory)\n",
    "                    for file in files if file.endswith('.nc')]\n",
    "\n",
    "# Iterate over the files with a progress bar\n",
    "for file_path in tqdm(files_to_process, desc=\"Processing files\"):\n",
    "    # Load the NetCDF file\n",
    "    ds = xr.open_dataset(file_path)\n",
    "    \n",
    "    # Select the variables of interest\n",
    "    variables_of_interest = ['Daily_Averaged_SIF', 'SIF_Uncertainty', 'Cloud_Fraction', 'Latitude', 'Longitude']\n",
    "    selected_data = ds[variables_of_interest]\n",
    "    \n",
    "    # Convert to a pandas DataFrame\n",
    "    df = selected_data.to_dataframe().reset_index()\n",
    "\n",
    "    # Filter the DataFrame using the bounding box\n",
    "    filtered_df = df[\n",
    "        (df['Latitude'] >= bounding_box['min_lat']) &\n",
    "        (df['Latitude'] <= bounding_box['max_lat']) &\n",
    "        (df['Longitude'] >= bounding_box['min_lon']) &\n",
    "        (df['Longitude'] <= bounding_box['max_lon'])\n",
    "    ]\n",
    "    \n",
    "    # Find the closest points\n",
    "    closest_points_df = find_closest(filtered_df, sites)\n",
    "\n",
    "    # Add site IDs if needed\n",
    "    closest_points_df['site_id'] = sites.index.to_numpy()\n",
    "\n",
    "    # Drop unnecessary columns if needed\n",
    "    closest_points_df = closest_points_df.drop(columns='obs', errors='ignore')  # 'obs' column removed if exists\n",
    "\n",
    "    # Concatenate to the final DataFrame\n",
    "    final_df = pd.concat([final_df, closest_points_df], ignore_index=True)"
   ]
  },
  {
   "cell_type": "code",
   "execution_count": null,
   "id": "d70e3bc6",
   "metadata": {},
   "outputs": [],
   "source": [
    "final_df.to_csv('/Users/abigailbase/PROJECT FILES/SIF/SIF_2012.csv')"
   ]
  },
  {
   "cell_type": "code",
   "execution_count": null,
   "id": "a92f3abc",
   "metadata": {},
   "outputs": [],
   "source": [
    "final_df = pd.DataFrame()\n",
    "\n",
    "directory = '/Users/abigailbase/Downloads/201'\n",
    "\n",
    "# Get the list of all .nc files in the directory and its subdirectories\n",
    "files_to_process = [os.path.join(root, file)\n",
    "                    for root, dirs, files in os.walk(directory)\n",
    "                    for file in files if file.endswith('.nc')]\n",
    "\n",
    "# Iterate over the files with a progress bar\n",
    "for file_path in tqdm(files_to_process, desc=\"Processing files\"):\n",
    "    # Load the NetCDF file\n",
    "    ds = xr.open_dataset(file_path)\n",
    "    \n",
    "    # Select the variables of interest\n",
    "    variables_of_interest = ['Daily_Averaged_SIF', 'SIF_Uncertainty', 'Cloud_Fraction', 'Latitude', 'Longitude']\n",
    "    selected_data = ds[variables_of_interest]\n",
    "    \n",
    "    # Convert to a pandas DataFrame\n",
    "    df = selected_data.to_dataframe().reset_index()\n",
    "\n",
    "    # Filter the DataFrame using the bounding box\n",
    "    filtered_df = df[\n",
    "        (df['Latitude'] >= bounding_box['min_lat']) &\n",
    "        (df['Latitude'] <= bounding_box['max_lat']) &\n",
    "        (df['Longitude'] >= bounding_box['min_lon']) &\n",
    "        (df['Longitude'] <= bounding_box['max_lon'])\n",
    "    ]\n",
    "    \n",
    "    # Find the closest points\n",
    "    closest_points_df = find_closest(filtered_df, sites)\n",
    "\n",
    "    # Add site IDs if needed\n",
    "    closest_points_df['site_id'] = sites.index.to_numpy()\n",
    "\n",
    "    # Drop unnecessary columns if needed\n",
    "    closest_points_df = closest_points_df.drop(columns='obs', errors='ignore')  # 'obs' column removed if exists\n",
    "\n",
    "    # Concatenate to the final DataFrame\n",
    "    final_df = pd.concat([final_df, closest_points_df], ignore_index=True)"
   ]
  },
  {
   "cell_type": "code",
   "execution_count": null,
   "id": "1dcfed9b",
   "metadata": {},
   "outputs": [],
   "source": [
    "final_df.to_csv('/Users/abigailbase/PROJECT FILES/SIF/SIF_2013.csv')"
   ]
  },
  {
   "cell_type": "code",
   "execution_count": null,
   "id": "2eaccc05",
   "metadata": {},
   "outputs": [],
   "source": [
    "import os\n",
    "import pandas as pd\n",
    "import xarray as xr\n",
    "from tqdm import tqdm\n",
    "\n",
    "final_df = pd.DataFrame()\n",
    "\n",
    "directory = '/Users/abigailbase/Downloads/2014'\n",
    "\n",
    "# Get the list of all .nc files in the directory and its subdirectories\n",
    "files_to_process = [os.path.join(root, file)\n",
    "                    for root, dirs, files in os.walk(directory)\n",
    "                    for file in files if file.endswith('.nc')]\n",
    "\n",
    "# Iterate over the files with a progress bar\n",
    "for file_path in tqdm(files_to_process, desc=\"Processing files\"):\n",
    "    # Print the current file being processed\n",
    "    print(f\"Processing file: {file_path}\")\n",
    "    \n",
    "    # Load the NetCDF file\n",
    "    ds = xr.open_dataset(file_path)\n",
    "    \n",
    "    # Select the variables of interest\n",
    "    variables_of_interest = ['Daily_Averaged_SIF', 'SIF_Uncertainty', 'Cloud_Fraction', 'Latitude', 'Longitude']\n",
    "    selected_data = ds[variables_of_interest]\n",
    "    \n",
    "    # Convert to a pandas DataFrame\n",
    "    df = selected_data.to_dataframe().reset_index()\n",
    "\n",
    "    # Filter the DataFrame using the bounding box\n",
    "    filtered_df = df[\n",
    "        (df['Latitude'] >= bounding_box['min_lat']) &\n",
    "        (df['Latitude'] <= bounding_box['max_lat']) &\n",
    "        (df['Longitude'] >= bounding_box['min_lon']) &\n",
    "        (df['Longitude'] <= bounding_box['max_lon'])\n",
    "    ]\n",
    "    \n",
    "    # Find the closest points\n",
    "    closest_points_df = find_closest(filtered_df, sites)\n",
    "\n",
    "    # Add site IDs if needed\n",
    "    closest_points_df['site_id'] = sites.index.to_numpy()\n",
    "\n",
    "    # Drop unnecessary columns if needed\n",
    "    closest_points_df = closest_points_df.drop(columns='obs', errors='ignore')  # 'obs' column removed if exists\n",
    "\n",
    "    # Concatenate to the final DataFrame\n",
    "    final_df = pd.concat([final_df, closest_points_df], ignore_index=True)\n"
   ]
  },
  {
   "cell_type": "code",
   "execution_count": null,
   "id": "6e31ddc2",
   "metadata": {},
   "outputs": [],
   "source": [
    "final_df.to_csv('/Users/abigailbase/PROJECT FILES/SIF/SIF_2014.csv')"
   ]
  },
  {
   "cell_type": "code",
   "execution_count": null,
   "id": "74754ed6",
   "metadata": {},
   "outputs": [],
   "source": [
    "### import the csvs"
   ]
  },
  {
   "cell_type": "code",
   "execution_count": null,
   "id": "1961572e",
   "metadata": {},
   "outputs": [],
   "source": [
    "df_2010=pd.read_csv('/Users/abigailbase/PROJECT FILES/SIF/SIF_2010.csv',index_col=0)\n",
    "df_2011=pd.read_csv('/Users/abigailbase/PROJECT FILES/SIF/SIF_2011.csv',index_col=0)\n",
    "df_2012=pd.read_csv('/Users/abigailbase/PROJECT FILES/SIF/SIF_2012.csv',index_col=0)\n",
    "df_2013=pd.read_csv('/Users/abigailbase/PROJECT FILES/SIF/SIF_2013.csv',index_col=0)\n",
    "df_2014=pd.read_csv('/Users/abigailbase/PROJECT FILES/SIF/SIF_2014.csv',index_col=0)"
   ]
  },
  {
   "cell_type": "code",
   "execution_count": null,
   "id": "bb030501",
   "metadata": {},
   "outputs": [],
   "source": [
    "# convert dates to datetime\n",
    "\n",
    "df_2010['Delta_Time']=pd.to_datetime(df_2010['Delta_Time'].dt.date)\n",
    "df_2011['Delta_Time']=pd.to_datetime(df_2011['Delta_Time'].dt.date)\n",
    "df_2012['Delta_Time']=pd.to_datetime(df_2012['Delta_Time'])\n",
    "df_2012['Delta_Time']=df_2012['Delta_Time'].dt.date\n",
    "df_2013['Delta_Time']=pd.to_datetime(df_2013['Delta_Time'])\n",
    "df_2013['Delta_Time']=df_2013['Delta_Time'].dt.date\n",
    "df_2014['Delta_Time']=pd.to_datetime(df_2014['Delta_Time'])\n",
    "df_2014['Delta_Time']=df_2014['Delta_Time'].dt.date\n"
   ]
  },
  {
   "cell_type": "code",
   "execution_count": null,
   "id": "505c0c22",
   "metadata": {},
   "outputs": [],
   "source": [
    "# concat all the years into final df\n",
    "\n",
    "df=pd.concat([df_2010,df_2011,df_2012,df_2013,df_2014],axis=0)"
   ]
  },
  {
   "cell_type": "code",
   "execution_count": null,
   "id": "a15e8aca",
   "metadata": {},
   "outputs": [],
   "source": [
    "df['Delta_Time']=pd.to_datetime(df['Delta_Time']) #convert date"
   ]
  },
  {
   "cell_type": "code",
   "execution_count": null,
   "id": "6d0dbb92",
   "metadata": {},
   "outputs": [],
   "source": [
    "#need to end SIF on 2014-12-19\n",
    "cutoff=pd.to_datetime('2014-12-19') "
   ]
  },
  {
   "cell_type": "code",
   "execution_count": null,
   "id": "c3fa9343",
   "metadata": {},
   "outputs": [],
   "source": [
    "df['Delta_Time'] = pd.to_datetime(df['Delta_Time'])"
   ]
  },
  {
   "cell_type": "code",
   "execution_count": null,
   "id": "02469253",
   "metadata": {},
   "outputs": [],
   "source": [
    "df=df[df['Delta_Time']<=cutoff] #cut off data at 2014-12-19"
   ]
  },
  {
   "cell_type": "code",
   "execution_count": null,
   "id": "817f3a9e",
   "metadata": {},
   "outputs": [],
   "source": [
    "all_dates = pd.date_range(start='2010-01-01', end='2014-12-19')"
   ]
  },
  {
   "cell_type": "code",
   "execution_count": null,
   "id": "ac1e8d2b",
   "metadata": {},
   "outputs": [],
   "source": [
    "all_sites = df['site_id'].unique() \n"
   ]
  },
  {
   "cell_type": "code",
   "execution_count": null,
   "id": "3b6c264a",
   "metadata": {},
   "outputs": [],
   "source": [
    "# identify any dates with missing values\n",
    "\n",
    "missing_dates = {}\n",
    "for site in df['site_id'].unique():\n",
    "    site_dates = df[df['site_id'] == site]['Delta_Time']\n",
    "    missing = all_dates.difference(site_dates)\n",
    "    if not missing.empty:\n",
    "        missing_dates[site] = missing\n",
    "\n",
    "missing_dates"
   ]
  },
  {
   "cell_type": "code",
   "execution_count": null,
   "id": "d0f613e6",
   "metadata": {},
   "outputs": [],
   "source": [
    "#identify any duplicate rows\n",
    "\n",
    "duplicates = merged_df[merged_df.duplicated(['site_id', 'Delta_Time'], keep=False)]"
   ]
  },
  {
   "cell_type": "code",
   "execution_count": null,
   "id": "a79d476b",
   "metadata": {},
   "outputs": [],
   "source": [
    "lat_target=-15.2588"
   ]
  },
  {
   "cell_type": "code",
   "execution_count": null,
   "id": "020a355f",
   "metadata": {},
   "outputs": [],
   "source": [
    "lon_target=132.3706"
   ]
  },
  {
   "cell_type": "code",
   "execution_count": null,
   "id": "fe1858e2",
   "metadata": {},
   "outputs": [],
   "source": [
    "duplicates['lat_diff'] = np.abs(duplicates['Latitude'] - lat_target)\n",
    "duplicates['lon_diff'] = np.abs(duplicates['Longitude'] - lon_target)\n"
   ]
  },
  {
   "cell_type": "code",
   "execution_count": null,
   "id": "8c0cb35a",
   "metadata": {},
   "outputs": [],
   "source": [
    "duplicates['total_diff'] = duplicates['lat_diff'] + duplicates['lon_diff']\n"
   ]
  },
  {
   "cell_type": "code",
   "execution_count": null,
   "id": "0250607d",
   "metadata": {},
   "outputs": [],
   "source": [
    "dup_sorted=duplicates.sort_values(by='Delta_Time')"
   ]
  },
  {
   "cell_type": "code",
   "execution_count": null,
   "id": "2266c7e7",
   "metadata": {},
   "outputs": [],
   "source": [
    "dup_sorted = dup_sorted.sort_values(by=['Delta_Time', 'total_diff'])\n"
   ]
  },
  {
   "cell_type": "code",
   "execution_count": null,
   "id": "f71d4f33",
   "metadata": {},
   "outputs": [],
   "source": [
    "df_closest = dup_sorted.drop_duplicates(subset=['Delta_Time'], keep='first')\n"
   ]
  },
  {
   "cell_type": "code",
   "execution_count": null,
   "id": "309d4b1d",
   "metadata": {},
   "outputs": [],
   "source": [
    "indices_to_keep = df_closest.index\n"
   ]
  },
  {
   "cell_type": "code",
   "execution_count": null,
   "id": "4365b54b",
   "metadata": {},
   "outputs": [],
   "source": [
    "indices_to_drop = dup_sorted.index.difference(indices_to_keep)"
   ]
  },
  {
   "cell_type": "code",
   "execution_count": null,
   "id": "2b527e42",
   "metadata": {},
   "outputs": [],
   "source": [
    "df_cleaned_test = merged_df.drop(index=indices_to_drop[0])\n"
   ]
  },
  {
   "cell_type": "code",
   "execution_count": null,
   "id": "3c7ad521",
   "metadata": {},
   "outputs": [],
   "source": [
    "## drop the duplicates\n",
    "\n",
    "df_cleaned = merged_df.drop(index=indices_to_drop)\n"
   ]
  },
  {
   "cell_type": "code",
   "execution_count": null,
   "id": "d9d35ca4",
   "metadata": {},
   "outputs": [],
   "source": [
    "df_cleaned = merged_df.copy()\n"
   ]
  },
  {
   "cell_type": "code",
   "execution_count": null,
   "id": "86b28da5",
   "metadata": {},
   "outputs": [],
   "source": [
    "for idx in indices_to_drop:\n",
    "    df_cleaned = df_cleaned.drop(index=idx)\n"
   ]
  },
  {
   "cell_type": "code",
   "execution_count": null,
   "id": "cef2063e",
   "metadata": {},
   "outputs": [],
   "source": [
    "all_combinations = pd.MultiIndex.from_product([all_dates, all_sites], names=['Delta_Time', 'site_id'])\n"
   ]
  },
  {
   "cell_type": "code",
   "execution_count": null,
   "id": "615df283",
   "metadata": {},
   "outputs": [],
   "source": [
    "all_combinations_df = pd.DataFrame(index=all_combinations).reset_index()\n"
   ]
  },
  {
   "cell_type": "code",
   "execution_count": null,
   "id": "a85ef3ff",
   "metadata": {},
   "outputs": [],
   "source": [
    "merged_df = pd.merge(all_combinations_df, df_cleaned, on=['site_id', 'Delta_Time'], how='left')\n"
   ]
  },
  {
   "cell_type": "code",
   "execution_count": null,
   "id": "ada639d9",
   "metadata": {},
   "outputs": [],
   "source": [
    "merged_df.shape"
   ]
  },
  {
   "cell_type": "code",
   "execution_count": null,
   "id": "3466c993",
   "metadata": {},
   "outputs": [],
   "source": [
    "merged_df=merged_df.drop(columns=['Latitude','Longitude'])"
   ]
  },
  {
   "cell_type": "code",
   "execution_count": null,
   "id": "fe4f85ea",
   "metadata": {},
   "outputs": [],
   "source": [
    "# impute missing with knn imputer\n",
    "\n",
    "knn_imputer = KNNImputer(n_neighbors=10)"
   ]
  },
  {
   "cell_type": "code",
   "execution_count": null,
   "id": "ee4d4f64",
   "metadata": {},
   "outputs": [],
   "source": [
    "columns_to_impute = merged_df.columns[[2, 3, 4]]\n"
   ]
  },
  {
   "cell_type": "code",
   "execution_count": null,
   "id": "25323b9c",
   "metadata": {},
   "outputs": [],
   "source": [
    "imputed_columns = pd.DataFrame(knn_imputer.fit_transform(merged_df[columns_to_impute]), columns=columns_to_impute, index=merged_df.index)\n"
   ]
  },
  {
   "cell_type": "code",
   "execution_count": null,
   "id": "4225f50f",
   "metadata": {},
   "outputs": [],
   "source": [
    "merged_df_imp=merged_df[columns_to_impute] = imputed_columns\n"
   ]
  },
  {
   "cell_type": "code",
   "execution_count": null,
   "id": "afb2b984",
   "metadata": {},
   "outputs": [],
   "source": [
    "merged_df_split=merged_df.reset_index()"
   ]
  },
  {
   "cell_type": "code",
   "execution_count": null,
   "id": "50f27542",
   "metadata": {},
   "outputs": [],
   "source": [
    "AR_Vir=merged_df_split[merged_df_split['site_id']=='AR-Vir']#1\n",
    "AU_Dry=merged_df_split[merged_df_split['site_id']=='AU-Dry']#2\n",
    "BE_Vie=merged_df_split[merged_df_split['site_id']=='BE-Vie']#3\n",
    "CA_TP1=merged_df_split[merged_df_split['site_id']=='CA-TP1']#4\n",
    "CH_Cha=merged_df_split[merged_df_split['site_id']=='CH-Cha']#5\n",
    "DE_Gri=merged_df_split[merged_df_split['site_id']=='DE-Gri']#6\n",
    "FR_Pue=merged_df_split[merged_df_split['site_id']=='FR-Pue']#7\n",
    "GF_Guy=merged_df_split[merged_df_split['site_id']=='GF-Guy']#8\n",
    "IT_Col=merged_df_split[merged_df_split['site_id']=='IT-Col']#9\n",
    "NL_Loo=merged_df_split[merged_df_split['site_id']=='NL-Loo']#10\n",
    "RU_Cok=merged_df_split[merged_df_split['site_id']=='RU-Cok']#11\n",
    "RU_Fyo=merged_df_split[merged_df_split['site_id']=='RU-Fyo']#12\n",
    "US_PFa=merged_df_split[merged_df_split['site_id']=='US-PFa']#13\n",
    "US_Var=merged_df_split[merged_df_split['site_id']=='US-Var']#14\n",
    "ZA_Kru=merged_df_split[merged_df_split['site_id']=='ZA-Kru']#15\n"
   ]
  },
  {
   "cell_type": "code",
   "execution_count": null,
   "id": "b9c503be",
   "metadata": {},
   "outputs": [],
   "source": [
    "AR_Vir_knn=AR_Vir.set_index(['Delta_Time','site_id'])"
   ]
  },
  {
   "cell_type": "code",
   "execution_count": null,
   "id": "802ec376",
   "metadata": {},
   "outputs": [],
   "source": [
    "AR_Vir_knn_index=AR_Vir_knn.index"
   ]
  },
  {
   "cell_type": "code",
   "execution_count": null,
   "id": "219a285a",
   "metadata": {},
   "outputs": [],
   "source": [
    "AR_Vir_knn=pd.DataFrame(knn_imputer.fit_transform(AR_Vir_knn), columns=AR_Vir_knn.columns)"
   ]
  },
  {
   "cell_type": "code",
   "execution_count": null,
   "id": "b3339807",
   "metadata": {},
   "outputs": [],
   "source": [
    "AR_Vir_knn=AR_Vir_knn.set_index(AR_Vir_knn.index,inplace=True)"
   ]
  },
  {
   "cell_type": "code",
   "execution_count": null,
   "id": "571e322c",
   "metadata": {},
   "outputs": [],
   "source": [
    "knn_imputed_df=pd.DataFrame(knn_imputer.fit_transform(merged_df), columns=merged_df.columns)"
   ]
  },
  {
   "cell_type": "code",
   "execution_count": null,
   "id": "fe9fc595",
   "metadata": {},
   "outputs": [],
   "source": [
    "# export final to df\n",
    "\n",
    "df_cleaned.to_csv('/Users/abigailbase/PROJECT FILES/SIF/sif_df.csv')"
   ]
  }
 ],
 "metadata": {
  "kernelspec": {
   "display_name": "Python 3 (ipykernel)",
   "language": "python",
   "name": "python3"
  },
  "language_info": {
   "codemirror_mode": {
    "name": "ipython",
    "version": 3
   },
   "file_extension": ".py",
   "mimetype": "text/x-python",
   "name": "python",
   "nbconvert_exporter": "python",
   "pygments_lexer": "ipython3",
   "version": "3.11.5"
  }
 },
 "nbformat": 4,
 "nbformat_minor": 5
}
